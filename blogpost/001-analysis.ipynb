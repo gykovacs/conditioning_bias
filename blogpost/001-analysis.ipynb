{
 "cells": [
  {
   "cell_type": "markdown",
   "metadata": {},
   "source": [
    "# Demo notebook for the conditioning bias in decision trees\n",
    "\n",
    "## Requirements:\n",
    "\n",
    "* install: `numpy`, `sklearn`, `scipy`, `common-datasets`"
   ]
  },
  {
   "cell_type": "code",
   "execution_count": 30,
   "metadata": {},
   "outputs": [],
   "source": [
    "import numpy as np\n",
    "\n",
    "from sklearn.ensemble import RandomForestRegressor\n",
    "from sklearn.model_selection import RepeatedKFold, cross_validate\n",
    "from scipy.stats import wilcoxon\n",
    "\n",
    "from common_datasets.regression import load_cpu_performance"
   ]
  },
  {
   "cell_type": "code",
   "execution_count": 31,
   "metadata": {},
   "outputs": [],
   "source": [
    "def wilcoxon_p(arg0, arg1, **kwargs):\n",
    "    return wilcoxon(arg0, arg1, **kwargs, zero_method='zsplit').pvalue"
   ]
  },
  {
   "cell_type": "code",
   "execution_count": 32,
   "metadata": {},
   "outputs": [],
   "source": [
    "dataset = load_cpu_performance()\n",
    "X = dataset['data']\n",
    "y = dataset['target']\n",
    "\n",
    "# a cross-validation wrapper to simplify the code\n",
    "def cv_rf(X, y, regressor=RandomForestRegressor):\n",
    "    return cross_validate(\n",
    "        estimator=regressor(max_depth=11, random_state=5),\n",
    "        X=X, y=y,\n",
    "        cv=RepeatedKFold(n_splits=5, n_repeats=400, random_state=5),\n",
    "        scoring='r2'\n",
    "    )['test_score']\n",
    "\n",
    "r2_original = cv_rf(X, y)\n",
    "r2_mirrored = cv_rf(-X, y)"
   ]
  },
  {
   "cell_type": "code",
   "execution_count": 48,
   "metadata": {},
   "outputs": [
    {
     "name": "stdout",
     "output_type": "stream",
     "text": [
      "original r2: 0.8611\n",
      "mirrored r2: 0.8595\n",
      "p-value: 6.2667e-04\n"
     ]
    }
   ],
   "source": [
    "print(f'original r2: {np.mean(r2_original):.4f}')\n",
    "print(f'mirrored r2: {np.mean(r2_mirrored):.4f}')\n",
    "print(f'p-value: {wilcoxon_p(r2_original, r2_mirrored):.4e}')"
   ]
  },
  {
   "cell_type": "code",
   "execution_count": 34,
   "metadata": {},
   "outputs": [],
   "source": [
    "from sklearn.base import RegressorMixin\n",
    "\n",
    "class UnbiasedRandomForestRegressor(RegressorMixin):\n",
    "\n",
    "    def __init__(self, **kwargs):\n",
    "        # determining the number of estimators used in the\n",
    "        # two subforests (with the same overall number of trees)\n",
    "        self.n_estimators = kwargs.get('n_estimators', 100)\n",
    "\n",
    "        n_leq = int(self.n_estimators / 2) # conditioning with <= (leq)\n",
    "        n_l = self.n_estimators - n_leq # conditioning with < (less)\n",
    "\n",
    "        # instantiating the subforests\n",
    "        self.rf_leq = RandomForestRegressor(**(kwargs | {'n_estimators': n_leq}))\n",
    "        self.rf_l = RandomForestRegressor(**(kwargs | {'n_estimators': n_l}))\n",
    "\n",
    "    def fit(self, X, y, sample_weight=None):\n",
    "        # fitting both subforests\n",
    "        self.rf_leq.fit(X, y, sample_weight)\n",
    "        self.rf_l.fit(-X, y, sample_weight)\n",
    "\n",
    "        return self\n",
    "\n",
    "    def predict(self, X):\n",
    "        # taking the average of the predictions\n",
    "        return np.mean([self.rf_leq.predict(X), self.rf_l.predict(-X)], axis=0)\n",
    "\n",
    "    def get_params(self, deep=False):\n",
    "        # returning the parameters\n",
    "        return self.rf_leq.get_params(deep) | {'n_estimators': self.n_estimators}"
   ]
  },
  {
   "cell_type": "code",
   "execution_count": 35,
   "metadata": {},
   "outputs": [],
   "source": [
    "r2_unbiased = cv_rf(X, y, UnbiasedRandomForestRegressor)"
   ]
  },
  {
   "cell_type": "code",
   "execution_count": 36,
   "metadata": {},
   "outputs": [
    {
     "name": "stdout",
     "output_type": "stream",
     "text": [
      "original r2: 0.8611\n",
      "mirrored r2: 0.8595\n",
      "unbiased r2: 0.8608\n"
     ]
    }
   ],
   "source": [
    "print(f'original r2: {np.mean(r2_original):.4f}')\n",
    "print(f'mirrored r2: {np.mean(r2_mirrored):.4f}')\n",
    "print(f'unbiased r2: {np.mean(r2_unbiased):.4f}')"
   ]
  },
  {
   "cell_type": "code",
   "execution_count": 45,
   "metadata": {},
   "outputs": [
    {
     "data": {
      "text/plain": [
       "(0.5743498351031389, 0.4256501648968612)"
      ]
     },
     "execution_count": 45,
     "metadata": {},
     "output_type": "execute_result"
    }
   ],
   "source": [
    "p_less = wilcoxon(r2_unbiased, r2_original, alternative='less', zero_method='zsplit').pvalue\n",
    "p_greater = wilcoxon(r2_unbiased, r2_original, alternative='greater', zero_method='zsplit').pvalue\n",
    "p_less, p_greater"
   ]
  },
  {
   "cell_type": "code",
   "execution_count": 47,
   "metadata": {},
   "outputs": [
    {
     "data": {
      "text/plain": [
       "(0.9999212953780328, 7.870462196726495e-05)"
      ]
     },
     "execution_count": 47,
     "metadata": {},
     "output_type": "execute_result"
    }
   ],
   "source": [
    "p_less = wilcoxon(r2_unbiased, r2_mirrored, alternative='less', zero_method='zsplit').pvalue\n",
    "p_greater = wilcoxon(r2_unbiased, r2_mirrored, alternative='greater', zero_method='zsplit').pvalue\n",
    "p_less, p_greater"
   ]
  },
  {
   "cell_type": "code",
   "execution_count": 46,
   "metadata": {},
   "outputs": [
    {
     "name": "stdout",
     "output_type": "stream",
     "text": [
      "0.5743, 0.4257\n"
     ]
    }
   ],
   "source": [
    "p_unb_orig_less = wilcoxon_p(r2_unbiased, r2_original, alternative=\"less\")\n",
    "p_unb_orig_great = wilcoxon_p(r2_unbiased, r2_original, alternative=\"greater\")\n",
    "\n",
    "print(f'{p_unb_orig_less:.4f}, {p_unb_orig_great:.4f}')"
   ]
  },
  {
   "cell_type": "code",
   "execution_count": 41,
   "metadata": {},
   "outputs": [
    {
     "data": {
      "text/plain": [
       "(0.5743498351031389, 0.4256501648968612)"
      ]
     },
     "execution_count": 41,
     "metadata": {},
     "output_type": "execute_result"
    }
   ],
   "source": [
    "p_unb_orig_less, p_unb_orig_great"
   ]
  },
  {
   "cell_type": "code",
   "execution_count": 39,
   "metadata": {},
   "outputs": [
    {
     "name": "stdout",
     "output_type": "stream",
     "text": [
      "p-value: 0.9999\n",
      "p-value: 0.0001\n"
     ]
    }
   ],
   "source": [
    "print(f'p-value: {wilcoxon_p(r2_unbiased, r2_mirrored, alternative=\"less\"):.4f}')\n",
    "print(f'p-value: {wilcoxon_p(r2_unbiased, r2_mirrored, alternative=\"greater\"):.4f}')"
   ]
  },
  {
   "cell_type": "code",
   "execution_count": null,
   "metadata": {},
   "outputs": [],
   "source": []
  }
 ],
 "metadata": {
  "kernelspec": {
   "display_name": "drafts",
   "language": "python",
   "name": "python3"
  },
  "language_info": {
   "codemirror_mode": {
    "name": "ipython",
    "version": 3
   },
   "file_extension": ".py",
   "mimetype": "text/x-python",
   "name": "python",
   "nbconvert_exporter": "python",
   "pygments_lexer": "ipython3",
   "version": "3.10.0"
  }
 },
 "nbformat": 4,
 "nbformat_minor": 2
}
