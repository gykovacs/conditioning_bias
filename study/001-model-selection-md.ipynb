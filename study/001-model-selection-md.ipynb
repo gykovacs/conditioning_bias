{
 "cells": [
  {
   "cell_type": "markdown",
   "metadata": {},
   "source": [
    "# Model selection for the maximum depth"
   ]
  },
  {
   "cell_type": "code",
   "execution_count": 1,
   "metadata": {},
   "outputs": [
    {
     "name": "stderr",
     "output_type": "stream",
     "text": [
      "2023-12-11 16:52:11 INFO     querying the filtered classification datasets\n",
      "2023-12-11 16:52:11 INFO     ranking the datasets\n",
      "2023-12-11 16:52:11 INFO     binary classification datasets prepared\n",
      "2023-12-11 16:52:11 INFO     querying the filtered regression datasets\n",
      "2023-12-11 16:52:11 INFO     ranking the datasets\n",
      "2023-12-11 16:52:11 INFO     regression datasets prepared\n"
     ]
    }
   ],
   "source": [
    "import os\n",
    "\n",
    "import numpy as np\n",
    "\n",
    "from conditioning_bias import (OperatorDecisionTreeClassifier,\n",
    "                                OperatorDecisionTreeRegressor,\n",
    "                                OperatorRandomForestClassifier,\n",
    "                                OperatorRandomForestRegressor)\n",
    "\n",
    "from datasets import binclas_datasets, regr_datasets\n",
    "\n",
    "from evaluation import evaluate_classification, evaluate_regression\n",
    "from config import dataset_map, data_dir, random_seed, n_splits_ms, n_repeats_ms"
   ]
  },
  {
   "cell_type": "code",
   "execution_count": 2,
   "metadata": {},
   "outputs": [],
   "source": [
    "max_depth = [None] + list(range(2, 16))\n",
    "\n",
    "postfix = '_md'"
   ]
  },
  {
   "cell_type": "code",
   "execution_count": 3,
   "metadata": {},
   "outputs": [],
   "source": [
    "configurations = [\n",
    "    {\n",
    "        'datasets': binclas_datasets,\n",
    "        'estimator': OperatorDecisionTreeClassifier,\n",
    "        'function': evaluate_classification,\n",
    "        'label': 'dtc'\n",
    "    },\n",
    "    {\n",
    "        'datasets': binclas_datasets,\n",
    "        'estimator': OperatorRandomForestClassifier,\n",
    "        'function': evaluate_classification,\n",
    "        'label': 'rfc'\n",
    "    },\n",
    "    {\n",
    "        'datasets': regr_datasets,\n",
    "        'estimator': OperatorDecisionTreeRegressor,\n",
    "        'function': evaluate_regression,\n",
    "        'label': 'dtr'\n",
    "    },\n",
    "    {\n",
    "        'datasets': regr_datasets,\n",
    "        'estimator': OperatorRandomForestRegressor,\n",
    "        'function': evaluate_regression,\n",
    "        'label': 'rfr'\n",
    "    }\n",
    "]"
   ]
  },
  {
   "cell_type": "code",
   "execution_count": 4,
   "metadata": {},
   "outputs": [
    {
     "name": "stdout",
     "output_type": "stream",
     "text": [
      "2023-12-11 16:52:11.358867 appendicitis\n",
      "2023-12-11 16:52:15.172419 haberman\n",
      "2023-12-11 16:52:19.809464 new_thyroid1\n",
      "2023-12-11 16:52:23.985686 glass0\n",
      "2023-12-11 16:52:28.700926 shuttle-6_vs_2-3\n",
      "2023-12-11 16:52:32.765841 bupa\n",
      "2023-12-11 16:52:39.097109 cleveland-0_vs_4\n",
      "2023-12-11 16:52:44.815493 ecoli1\n",
      "2023-12-11 16:52:49.911229 poker-9_vs_7\n",
      "2023-12-11 16:52:54.243098 monk-2\n",
      "2023-12-11 16:52:59.332854 hepatitis\n",
      "2023-12-11 16:53:04.441671 yeast-0-3-5-9_vs_7-8\n",
      "2023-12-11 16:53:12.204678 mammographic\n",
      "2023-12-11 16:53:18.444724 saheart\n",
      "2023-12-11 16:53:26.342439 page-blocks-1-3_vs_4\n",
      "2023-12-11 16:53:32.028843 lymphography-normal-fibrosis\n",
      "2023-12-11 16:53:36.845942 pima\n",
      "2023-12-11 16:53:45.113280 wisconsin\n",
      "2023-12-11 16:53:50.693087 abalone9_18\n",
      "2023-12-11 16:53:59.829412 winequality-red-3_vs_5\n",
      "2023-12-11 16:54:08.197563 appendicitis\n",
      "2023-12-11 16:58:59.421330 haberman\n",
      "2023-12-11 17:04:12.655673 new_thyroid1\n",
      "2023-12-11 17:09:09.021230 glass0\n",
      "2023-12-11 17:13:38.264285 shuttle-6_vs_2-3\n",
      "2023-12-11 17:19:08.391455 bupa\n",
      "2023-12-11 17:24:08.580601 cleveland-0_vs_4\n",
      "2023-12-11 17:28:10.566137 ecoli1\n",
      "2023-12-11 17:33:06.397196 poker-9_vs_7\n",
      "2023-12-11 17:37:43.364949 monk-2\n",
      "2023-12-11 17:42:37.772669 hepatitis\n",
      "2023-12-11 17:47:15.911204 yeast-0-3-5-9_vs_7-8\n",
      "2023-12-11 17:51:56.903124 mammographic\n",
      "2023-12-11 17:57:13.186786 saheart\n",
      "2023-12-11 18:02:55.942819 page-blocks-1-3_vs_4\n",
      "2023-12-11 18:07:24.365844 lymphography-normal-fibrosis\n",
      "2023-12-11 18:11:26.833154 pima\n",
      "2023-12-11 18:18:35.966795 wisconsin\n",
      "2023-12-11 18:24:14.087750 abalone9_18\n",
      "2023-12-11 18:30:45.588426 winequality-red-3_vs_5\n",
      "2023-12-11 18:36:28.959325 diabetes\n",
      "2023-12-11 18:36:31.496653 o-ring\n",
      "2023-12-11 18:36:33.976340 stock_portfolio_performance\n",
      "2023-12-11 18:36:36.443560 wsn-ale\n",
      "2023-12-11 18:36:39.106111 daily-demand\n",
      "2023-12-11 18:36:41.930782 slump_test\n",
      "2023-12-11 18:36:44.900980 servo\n",
      "2023-12-11 18:36:47.537595 yacht_hydrodynamics\n",
      "2023-12-11 18:36:50.781088 autoMPG6\n",
      "2023-12-11 18:36:54.460930 excitation_current\n",
      "2023-12-11 18:36:58.362248 real_estate_valuation\n",
      "2023-12-11 18:37:02.601489 wankara\n",
      "2023-12-11 18:37:07.006695 plastic\n",
      "2023-12-11 18:37:11.516349 laser\n",
      "2023-12-11 18:37:17.119515 qsar-aquatic-toxicity\n",
      "2023-12-11 18:37:22.422785 baseball\n",
      "2023-12-11 18:37:27.761251 maternal_health_risk\n",
      "2023-12-11 18:37:31.747444 cpu_performance\n",
      "2023-12-11 18:37:35.322960 airfoil\n",
      "2023-12-11 18:37:41.190511 medical_cost\n",
      "2023-12-11 18:37:46.420290 diabetes\n",
      "2023-12-11 18:41:07.404141 o-ring\n",
      "2023-12-11 18:44:25.279256 stock_portfolio_performance\n",
      "2023-12-11 18:47:42.462109 wsn-ale\n",
      "2023-12-11 18:51:20.479087 daily-demand\n",
      "2023-12-11 18:54:56.050683 slump_test\n",
      "2023-12-11 18:58:46.229982 servo\n",
      "2023-12-11 19:02:21.322500 yacht_hydrodynamics\n",
      "2023-12-11 19:06:33.278078 autoMPG6\n",
      "2023-12-11 19:11:20.846847 excitation_current\n",
      "2023-12-11 19:16:13.690431 real_estate_valuation\n",
      "2023-12-11 19:21:33.245385 wankara\n",
      "2023-12-11 19:26:58.455040 plastic\n",
      "2023-12-11 19:33:21.230881 laser\n",
      "2023-12-11 19:42:03.466599 qsar-aquatic-toxicity\n",
      "2023-12-11 19:52:54.119901 baseball\n",
      "2023-12-11 20:01:06.642640 maternal_health_risk\n",
      "2023-12-11 20:06:21.598370 cpu_performance\n",
      "2023-12-11 20:10:27.518172 airfoil\n",
      "2023-12-11 20:17:34.436611 medical_cost\n"
     ]
    }
   ],
   "source": [
    "for conf in configurations:\n",
    "    results = conf['function'](\n",
    "        datasets=conf['datasets'],\n",
    "        estimator=conf['estimator'],\n",
    "        params=[{'random_state': random_seed, 'mode': '<=', 'max_depth': md} for md in max_depth],\n",
    "        validator_params={'n_splits': n_splits_ms, 'n_repeats': n_repeats_ms, 'random_state': random_seed},\n",
    "        random_seed=random_seed,\n",
    "        modes=['<=']\n",
    "    )\n",
    "    results['name'] = results['name'].apply(lambda x: dataset_map.get(x, x))\n",
    "    label = conf['label']\n",
    "    results.to_csv(os.path.join(data_dir, f'model_selection_{label}{postfix}.csv'))"
   ]
  }
 ],
 "metadata": {
  "kernelspec": {
   "display_name": "splitting-bias",
   "language": "python",
   "name": "python3"
  },
  "language_info": {
   "codemirror_mode": {
    "name": "ipython",
    "version": 3
   },
   "file_extension": ".py",
   "mimetype": "text/x-python",
   "name": "python",
   "nbconvert_exporter": "python",
   "pygments_lexer": "ipython3",
   "version": "3.10.13"
  }
 },
 "nbformat": 4,
 "nbformat_minor": 2
}
