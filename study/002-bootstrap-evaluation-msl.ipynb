{
 "cells": [
  {
   "cell_type": "markdown",
   "metadata": {},
   "source": [
    "# Model selection for the minimum number of samples on leaves"
   ]
  },
  {
   "cell_type": "code",
   "execution_count": 1,
   "metadata": {},
   "outputs": [
    {
     "name": "stderr",
     "output_type": "stream",
     "text": [
      "2023-12-11 16:52:18 INFO     querying the filtered classification datasets\n",
      "2023-12-11 16:52:18 INFO     ranking the datasets\n",
      "2023-12-11 16:52:18 INFO     binary classification datasets prepared\n",
      "2023-12-11 16:52:18 INFO     querying the filtered regression datasets\n",
      "2023-12-11 16:52:18 INFO     ranking the datasets\n",
      "2023-12-11 16:52:18 INFO     regression datasets prepared\n"
     ]
    }
   ],
   "source": [
    "import os\n",
    "\n",
    "import numpy as np\n",
    "\n",
    "from conditioning_bias import (OperatorDecisionTreeClassifier,\n",
    "                                OperatorDecisionTreeRegressor,\n",
    "                                OperatorRandomForestClassifier,\n",
    "                                OperatorRandomForestRegressor)\n",
    "\n",
    "from datasets import binclas_datasets, regr_datasets\n",
    "\n",
    "from evaluation import evaluate_classification, evaluate_regression\n",
    "from config import dataset_map, data_dir, random_seed, n_splits_ms, n_repeats_ms"
   ]
  },
  {
   "cell_type": "code",
   "execution_count": 2,
   "metadata": {},
   "outputs": [],
   "source": [
    "min_samples_leaf = np.round(np.logspace(np.log10(0.005), np.log10(0.2), 15), 3)\n",
    "\n",
    "postfix = '_bs_msl'"
   ]
  },
  {
   "cell_type": "code",
   "execution_count": 3,
   "metadata": {},
   "outputs": [],
   "source": [
    "configurations = [\n",
    "    {\n",
    "        'datasets': binclas_datasets,\n",
    "        'estimator': OperatorDecisionTreeClassifier,\n",
    "        'function': evaluate_classification,\n",
    "        'label': 'dtc'\n",
    "    },\n",
    "    {\n",
    "        'datasets': binclas_datasets,\n",
    "        'estimator': OperatorRandomForestClassifier,\n",
    "        'function': evaluate_classification,\n",
    "        'label': 'rfc'\n",
    "    },\n",
    "    {\n",
    "        'datasets': regr_datasets,\n",
    "        'estimator': OperatorDecisionTreeRegressor,\n",
    "        'function': evaluate_regression,\n",
    "        'label': 'dtr'\n",
    "    },\n",
    "    {\n",
    "        'datasets': regr_datasets,\n",
    "        'estimator': OperatorRandomForestRegressor,\n",
    "        'function': evaluate_regression,\n",
    "        'label': 'rfr'\n",
    "    }\n",
    "]"
   ]
  },
  {
   "cell_type": "code",
   "execution_count": 4,
   "metadata": {},
   "outputs": [
    {
     "name": "stdout",
     "output_type": "stream",
     "text": [
      "2023-12-11 16:52:18.420328 appendicitis\n",
      "2023-12-11 16:52:22.791834 haberman\n",
      "2023-12-11 16:52:27.051307 new_thyroid1\n",
      "2023-12-11 16:52:31.031749 glass0\n",
      "2023-12-11 16:52:36.635475 shuttle-6_vs_2-3\n",
      "2023-12-11 16:52:41.564518 bupa\n",
      "2023-12-11 16:52:47.537052 cleveland-0_vs_4\n",
      "2023-12-11 16:52:52.022905 ecoli1\n",
      "2023-12-11 16:52:56.749187 poker-9_vs_7\n",
      "2023-12-11 16:53:01.829776 monk-2\n",
      "2023-12-11 16:53:06.735893 hepatitis\n",
      "2023-12-11 16:53:13.612560 yeast-0-3-5-9_vs_7-8\n",
      "2023-12-11 16:53:19.068668 mammographic\n",
      "2023-12-11 16:53:25.016630 saheart\n",
      "2023-12-11 16:53:31.397906 page-blocks-1-3_vs_4\n",
      "2023-12-11 16:53:37.388250 lymphography-normal-fibrosis\n",
      "2023-12-11 16:53:41.678235 pima\n",
      "2023-12-11 16:53:48.929478 wisconsin\n",
      "2023-12-11 16:53:54.099257 abalone9_18\n",
      "2023-12-11 16:54:02.198637 winequality-red-3_vs_5\n",
      "2023-12-11 16:54:09.208459 appendicitis\n",
      "2023-12-11 16:58:56.904110 haberman\n",
      "2023-12-11 17:03:54.838556 new_thyroid1\n"
     ]
    }
   ],
   "source": [
    "for conf in configurations:\n",
    "    results = conf['function'](\n",
    "        datasets=conf['datasets'],\n",
    "        estimator=conf['estimator'],\n",
    "        params=[{'random_state': random_seed, 'mode': '<=', 'min_samples_leaf': msl} for msl in min_samples_leaf],\n",
    "        validator_params={'n_splits': n_splits_ms, 'n_repeats': n_repeats_ms, 'random_state': random_seed},\n",
    "        random_seed=random_seed,\n",
    "        modes=['<=']\n",
    "    )\n",
    "    results['name'] = results['name'].apply(lambda x: dataset_map.get(x, x))\n",
    "    label = conf['label']\n",
    "    results.to_csv(os.path.join(data_dir, f'bootstrap_{label}{postfix}.csv'))"
   ]
  }
 ],
 "metadata": {
  "kernelspec": {
   "display_name": "splitting-bias",
   "language": "python",
   "name": "python3"
  },
  "language_info": {
   "codemirror_mode": {
    "name": "ipython",
    "version": 3
   },
   "file_extension": ".py",
   "mimetype": "text/x-python",
   "name": "python",
   "nbconvert_exporter": "python",
   "pygments_lexer": "ipython3",
   "version": "3.10.13"
  }
 },
 "nbformat": 4,
 "nbformat_minor": 2
}
