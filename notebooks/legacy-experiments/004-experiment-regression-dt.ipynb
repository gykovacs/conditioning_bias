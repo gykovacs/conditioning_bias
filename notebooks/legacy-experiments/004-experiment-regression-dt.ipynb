{
 "cells": [
  {
   "cell_type": "code",
   "execution_count": 1,
   "metadata": {},
   "outputs": [
    {
     "name": "stderr",
     "output_type": "stream",
     "text": [
      "2023-02-15 12:13:48 INFO     querying the filtered classification datasets\n",
      "2023-02-15 12:13:48 INFO     ranking the datasets\n",
      "2023-02-15 12:13:48 INFO     binary classification datasets prepared\n",
      "2023-02-15 12:13:48 INFO     querying the filtered regression datasets\n",
      "2023-02-15 12:13:48 INFO     ranking the datasets\n",
      "2023-02-15 12:13:48 INFO     regression datasets prepared\n"
     ]
    }
   ],
   "source": [
    "import pandas as pd\n",
    "\n",
    "pd.set_option('display.width', 200)\n",
    "\n",
    "from sklearn.tree import DecisionTreeRegressor\n",
    "\n",
    "from flipping_random_forest import FlippingDecisionTreeRegressor\n",
    "\n",
    "from datasets import regr_datasets\n",
    "from core import evaluate"
   ]
  },
  {
   "cell_type": "code",
   "execution_count": 2,
   "metadata": {},
   "outputs": [],
   "source": [
    "data_loaders = regr_datasets['data_loader_function'].values.tolist()"
   ]
  },
  {
   "cell_type": "code",
   "execution_count": 3,
   "metadata": {},
   "outputs": [],
   "source": [
    "scenarios=[{'name': 'original',\n",
    "            'estimator': DecisionTreeRegressor,\n",
    "            'estimator_params': {},\n",
    "            'multiplier': 1},\n",
    "            \n",
    "            {'name': 'flipping',\n",
    "            'estimator': FlippingDecisionTreeRegressor,\n",
    "            'estimator_params': {},\n",
    "            'multiplier': 1}]\n",
    "            \n",
    "compare=[('original', 'flipping')]\n",
    "\n",
    "validator_params = {'n_repeats': 2000,\n",
    "                    'n_splits': 5,\n",
    "                    'random_state': 5}"
   ]
  },
  {
   "cell_type": "code",
   "execution_count": 4,
   "metadata": {},
   "outputs": [
    {
     "name": "stderr",
     "output_type": "stream",
     "text": [
      "10000it [00:28, 346.66it/s]\n"
     ]
    },
    {
     "name": "stdout",
     "output_type": "stream",
     "text": [
      "     name  r2_mean_original  r2_mean_flipping  p_original_flipping\n",
      "0  o-ring          0.106521          0.182097         2.901922e-76\n"
     ]
    },
    {
     "name": "stderr",
     "output_type": "stream",
     "text": [
      "10000it [00:32, 307.94it/s]\n"
     ]
    },
    {
     "name": "stdout",
     "output_type": "stream",
     "text": [
      "                          name  r2_mean_original  r2_mean_flipping  p_original_flipping\n",
      "0  stock_portfolio_performance          0.986498          0.986717             0.104394\n"
     ]
    },
    {
     "name": "stderr",
     "output_type": "stream",
     "text": [
      "10000it [01:00, 166.19it/s]\n"
     ]
    },
    {
     "name": "stdout",
     "output_type": "stream",
     "text": [
      "      name  r2_mean_original  r2_mean_flipping  p_original_flipping\n",
      "0  wsn-ale         -0.047719         -0.033945         1.534985e-13\n"
     ]
    },
    {
     "name": "stderr",
     "output_type": "stream",
     "text": [
      "10000it [00:51, 193.65it/s]\n"
     ]
    },
    {
     "name": "stdout",
     "output_type": "stream",
     "text": [
      "           name  r2_mean_original  r2_mean_flipping  p_original_flipping\n",
      "0  daily-demand          0.661985          0.660936             0.511063\n"
     ]
    },
    {
     "name": "stderr",
     "output_type": "stream",
     "text": [
      "10000it [00:49, 201.38it/s]\n"
     ]
    },
    {
     "name": "stdout",
     "output_type": "stream",
     "text": [
      "    name  r2_mean_original  r2_mean_flipping  p_original_flipping\n",
      "0  servo          0.478735          0.479917             0.012463\n"
     ]
    },
    {
     "name": "stderr",
     "output_type": "stream",
     "text": [
      "10000it [01:22, 121.60it/s]\n"
     ]
    },
    {
     "name": "stdout",
     "output_type": "stream",
     "text": [
      "                  name  r2_mean_original  r2_mean_flipping  p_original_flipping\n",
      "0  yacht_hydrodynamics           0.99216           0.99216             0.388023\n"
     ]
    },
    {
     "name": "stderr",
     "output_type": "stream",
     "text": [
      "10000it [01:22, 121.14it/s]\n"
     ]
    },
    {
     "name": "stdout",
     "output_type": "stream",
     "text": [
      "       name  r2_mean_original  r2_mean_flipping  p_original_flipping\n",
      "0  autoMPG6          0.765435          0.768843         1.980712e-47\n"
     ]
    },
    {
     "name": "stderr",
     "output_type": "stream",
     "text": [
      "10000it [01:40, 99.74it/s]\n"
     ]
    },
    {
     "name": "stdout",
     "output_type": "stream",
     "text": [
      "                 name  r2_mean_original  r2_mean_flipping  p_original_flipping\n",
      "0  excitation_current          0.999821          0.999829         4.107147e-88\n"
     ]
    },
    {
     "name": "stderr",
     "output_type": "stream",
     "text": [
      "10000it [01:38, 101.29it/s]\n"
     ]
    },
    {
     "name": "stdout",
     "output_type": "stream",
     "text": [
      "                    name  r2_mean_original  r2_mean_flipping  p_original_flipping\n",
      "0  real_estate_valuation          0.459067          0.459385             0.014191\n"
     ]
    },
    {
     "name": "stderr",
     "output_type": "stream",
     "text": [
      "10000it [02:12, 75.66it/s]\n"
     ]
    },
    {
     "name": "stdout",
     "output_type": "stream",
     "text": [
      "      name  r2_mean_original  r2_mean_flipping  p_original_flipping\n",
      "0  wankara          0.969425          0.969577             0.000019\n"
     ]
    },
    {
     "name": "stderr",
     "output_type": "stream",
     "text": [
      "10000it [04:15, 39.13it/s]\n"
     ]
    },
    {
     "name": "stdout",
     "output_type": "stream",
     "text": [
      "      name  r2_mean_original  r2_mean_flipping  p_original_flipping\n",
      "0  plastic          0.648344          0.646114                  1.0\n"
     ]
    },
    {
     "name": "stderr",
     "output_type": "stream",
     "text": [
      "10000it [03:33, 46.89it/s]\n"
     ]
    },
    {
     "name": "stdout",
     "output_type": "stream",
     "text": [
      "    name  r2_mean_original  r2_mean_flipping  p_original_flipping\n",
      "0  laser          0.921833          0.924559         3.303014e-41\n"
     ]
    },
    {
     "name": "stderr",
     "output_type": "stream",
     "text": [
      "10000it [02:52, 58.09it/s]\n"
     ]
    },
    {
     "name": "stdout",
     "output_type": "stream",
     "text": [
      "                    name  r2_mean_original  r2_mean_flipping  p_original_flipping\n",
      "0  qsar-aquatic-toxicity          0.128062          0.129259             0.078761\n"
     ]
    },
    {
     "name": "stderr",
     "output_type": "stream",
     "text": [
      "10000it [02:23, 69.46it/s]\n"
     ]
    },
    {
     "name": "stdout",
     "output_type": "stream",
     "text": [
      "       name  r2_mean_original  r2_mean_flipping  p_original_flipping\n",
      "0  baseball          0.400226          0.405248         4.982028e-10\n"
     ]
    },
    {
     "name": "stderr",
     "output_type": "stream",
     "text": [
      "10000it [01:40, 99.44it/s]\n"
     ]
    },
    {
     "name": "stdout",
     "output_type": "stream",
     "text": [
      "                   name  r2_mean_original  r2_mean_flipping  p_original_flipping\n",
      "0  maternal_health_risk          0.713936          0.714156             0.439279\n"
     ]
    },
    {
     "name": "stderr",
     "output_type": "stream",
     "text": [
      "10000it [04:45, 35.05it/s]\n"
     ]
    },
    {
     "name": "stdout",
     "output_type": "stream",
     "text": [
      "           name  r2_mean_original  r2_mean_flipping  p_original_flipping\n",
      "0  medical_cost          0.527757          0.529956         4.667621e-60\n"
     ]
    },
    {
     "name": "stderr",
     "output_type": "stream",
     "text": [
      "10000it [04:35, 36.34it/s]\n"
     ]
    },
    {
     "name": "stdout",
     "output_type": "stream",
     "text": [
      "         name  r2_mean_original  r2_mean_flipping  p_original_flipping\n",
      "0  boom_bikes          0.987071          0.987108             0.050701\n"
     ]
    },
    {
     "name": "stderr",
     "output_type": "stream",
     "text": [
      "10000it [07:37, 21.87it/s]\n"
     ]
    },
    {
     "name": "stdout",
     "output_type": "stream",
     "text": [
      "     name  r2_mean_original  r2_mean_flipping  p_original_flipping\n",
      "0  wizmir           0.98434          0.984422         1.111232e-18\n"
     ]
    },
    {
     "name": "stderr",
     "output_type": "stream",
     "text": [
      "10000it [03:17, 50.51it/s]\n"
     ]
    },
    {
     "name": "stdout",
     "output_type": "stream",
     "text": [
      "          name  r2_mean_original  r2_mean_flipping  p_original_flipping\n",
      "0  forestfires         -5.963776         -6.746475                  1.0\n"
     ]
    },
    {
     "name": "stderr",
     "output_type": "stream",
     "text": [
      "10000it [08:01, 20.77it/s]\n"
     ]
    },
    {
     "name": "stdout",
     "output_type": "stream",
     "text": [
      "              name  r2_mean_original  r2_mean_flipping  p_original_flipping\n",
      "0  winequality_red          0.037639          0.045005         7.451135e-31\n"
     ]
    }
   ],
   "source": [
    "results_pdf = evaluate(scenarios=scenarios, \n",
    "                        compare=compare, \n",
    "                        data_loaders=data_loaders,\n",
    "                        validator_params=validator_params,\n",
    "                        score='r2')"
   ]
  },
  {
   "cell_type": "code",
   "execution_count": 5,
   "metadata": {},
   "outputs": [
    {
     "data": {
      "text/html": [
       "<div>\n",
       "<style scoped>\n",
       "    .dataframe tbody tr th:only-of-type {\n",
       "        vertical-align: middle;\n",
       "    }\n",
       "\n",
       "    .dataframe tbody tr th {\n",
       "        vertical-align: top;\n",
       "    }\n",
       "\n",
       "    .dataframe thead th {\n",
       "        text-align: right;\n",
       "    }\n",
       "</style>\n",
       "<table border=\"1\" class=\"dataframe\">\n",
       "  <thead>\n",
       "    <tr style=\"text-align: right;\">\n",
       "      <th></th>\n",
       "      <th>name</th>\n",
       "      <th>r2_mean_original</th>\n",
       "      <th>r2_mean_flipping</th>\n",
       "      <th>p_original_flipping</th>\n",
       "    </tr>\n",
       "  </thead>\n",
       "  <tbody>\n",
       "    <tr>\n",
       "      <th>0</th>\n",
       "      <td>o-ring</td>\n",
       "      <td>0.106521</td>\n",
       "      <td>0.182097</td>\n",
       "      <td>2.901922e-76</td>\n",
       "    </tr>\n",
       "    <tr>\n",
       "      <th>1</th>\n",
       "      <td>stock_portfolio_performance</td>\n",
       "      <td>0.986498</td>\n",
       "      <td>0.986717</td>\n",
       "      <td>1.043940e-01</td>\n",
       "    </tr>\n",
       "    <tr>\n",
       "      <th>2</th>\n",
       "      <td>wsn-ale</td>\n",
       "      <td>-0.047719</td>\n",
       "      <td>-0.033945</td>\n",
       "      <td>1.534985e-13</td>\n",
       "    </tr>\n",
       "    <tr>\n",
       "      <th>3</th>\n",
       "      <td>daily-demand</td>\n",
       "      <td>0.661985</td>\n",
       "      <td>0.660936</td>\n",
       "      <td>5.110625e-01</td>\n",
       "    </tr>\n",
       "    <tr>\n",
       "      <th>4</th>\n",
       "      <td>servo</td>\n",
       "      <td>0.478735</td>\n",
       "      <td>0.479917</td>\n",
       "      <td>1.246309e-02</td>\n",
       "    </tr>\n",
       "    <tr>\n",
       "      <th>5</th>\n",
       "      <td>yacht_hydrodynamics</td>\n",
       "      <td>0.992160</td>\n",
       "      <td>0.992160</td>\n",
       "      <td>3.880232e-01</td>\n",
       "    </tr>\n",
       "    <tr>\n",
       "      <th>6</th>\n",
       "      <td>autoMPG6</td>\n",
       "      <td>0.765435</td>\n",
       "      <td>0.768843</td>\n",
       "      <td>1.980712e-47</td>\n",
       "    </tr>\n",
       "    <tr>\n",
       "      <th>7</th>\n",
       "      <td>excitation_current</td>\n",
       "      <td>0.999821</td>\n",
       "      <td>0.999829</td>\n",
       "      <td>4.107147e-88</td>\n",
       "    </tr>\n",
       "    <tr>\n",
       "      <th>8</th>\n",
       "      <td>real_estate_valuation</td>\n",
       "      <td>0.459067</td>\n",
       "      <td>0.459385</td>\n",
       "      <td>1.419142e-02</td>\n",
       "    </tr>\n",
       "    <tr>\n",
       "      <th>9</th>\n",
       "      <td>wankara</td>\n",
       "      <td>0.969425</td>\n",
       "      <td>0.969577</td>\n",
       "      <td>1.896692e-05</td>\n",
       "    </tr>\n",
       "    <tr>\n",
       "      <th>10</th>\n",
       "      <td>plastic</td>\n",
       "      <td>0.648344</td>\n",
       "      <td>0.646114</td>\n",
       "      <td>1.000000e+00</td>\n",
       "    </tr>\n",
       "    <tr>\n",
       "      <th>11</th>\n",
       "      <td>laser</td>\n",
       "      <td>0.921833</td>\n",
       "      <td>0.924559</td>\n",
       "      <td>3.303014e-41</td>\n",
       "    </tr>\n",
       "    <tr>\n",
       "      <th>12</th>\n",
       "      <td>qsar-aquatic-toxicity</td>\n",
       "      <td>0.128062</td>\n",
       "      <td>0.129259</td>\n",
       "      <td>7.876146e-02</td>\n",
       "    </tr>\n",
       "    <tr>\n",
       "      <th>13</th>\n",
       "      <td>baseball</td>\n",
       "      <td>0.400226</td>\n",
       "      <td>0.405248</td>\n",
       "      <td>4.982028e-10</td>\n",
       "    </tr>\n",
       "    <tr>\n",
       "      <th>14</th>\n",
       "      <td>maternal_health_risk</td>\n",
       "      <td>0.713936</td>\n",
       "      <td>0.714156</td>\n",
       "      <td>4.392789e-01</td>\n",
       "    </tr>\n",
       "    <tr>\n",
       "      <th>15</th>\n",
       "      <td>medical_cost</td>\n",
       "      <td>0.527757</td>\n",
       "      <td>0.529956</td>\n",
       "      <td>4.667621e-60</td>\n",
       "    </tr>\n",
       "    <tr>\n",
       "      <th>16</th>\n",
       "      <td>boom_bikes</td>\n",
       "      <td>0.987071</td>\n",
       "      <td>0.987108</td>\n",
       "      <td>5.070121e-02</td>\n",
       "    </tr>\n",
       "    <tr>\n",
       "      <th>17</th>\n",
       "      <td>wizmir</td>\n",
       "      <td>0.984340</td>\n",
       "      <td>0.984422</td>\n",
       "      <td>1.111232e-18</td>\n",
       "    </tr>\n",
       "    <tr>\n",
       "      <th>18</th>\n",
       "      <td>forestfires</td>\n",
       "      <td>-5.963776</td>\n",
       "      <td>-6.746475</td>\n",
       "      <td>1.000000e+00</td>\n",
       "    </tr>\n",
       "    <tr>\n",
       "      <th>19</th>\n",
       "      <td>winequality_red</td>\n",
       "      <td>0.037639</td>\n",
       "      <td>0.045005</td>\n",
       "      <td>7.451135e-31</td>\n",
       "    </tr>\n",
       "  </tbody>\n",
       "</table>\n",
       "</div>"
      ],
      "text/plain": [
       "                           name  r2_mean_original  r2_mean_flipping  p_original_flipping\n",
       "0                        o-ring          0.106521          0.182097         2.901922e-76\n",
       "1   stock_portfolio_performance          0.986498          0.986717         1.043940e-01\n",
       "2                       wsn-ale         -0.047719         -0.033945         1.534985e-13\n",
       "3                  daily-demand          0.661985          0.660936         5.110625e-01\n",
       "4                         servo          0.478735          0.479917         1.246309e-02\n",
       "5           yacht_hydrodynamics          0.992160          0.992160         3.880232e-01\n",
       "6                      autoMPG6          0.765435          0.768843         1.980712e-47\n",
       "7            excitation_current          0.999821          0.999829         4.107147e-88\n",
       "8         real_estate_valuation          0.459067          0.459385         1.419142e-02\n",
       "9                       wankara          0.969425          0.969577         1.896692e-05\n",
       "10                      plastic          0.648344          0.646114         1.000000e+00\n",
       "11                        laser          0.921833          0.924559         3.303014e-41\n",
       "12        qsar-aquatic-toxicity          0.128062          0.129259         7.876146e-02\n",
       "13                     baseball          0.400226          0.405248         4.982028e-10\n",
       "14         maternal_health_risk          0.713936          0.714156         4.392789e-01\n",
       "15                 medical_cost          0.527757          0.529956         4.667621e-60\n",
       "16                   boom_bikes          0.987071          0.987108         5.070121e-02\n",
       "17                       wizmir          0.984340          0.984422         1.111232e-18\n",
       "18                  forestfires         -5.963776         -6.746475         1.000000e+00\n",
       "19              winequality_red          0.037639          0.045005         7.451135e-31"
      ]
     },
     "execution_count": 5,
     "metadata": {},
     "output_type": "execute_result"
    }
   ],
   "source": [
    "results_pdf[['name', 'r2_mean_original', 'r2_mean_flipping', 'p_original_flipping']]"
   ]
  },
  {
   "cell_type": "code",
   "execution_count": 6,
   "metadata": {},
   "outputs": [],
   "source": [
    "results_pdf.to_csv('experiment-regression-dt.csv')"
   ]
  }
 ],
 "metadata": {
  "kernelspec": {
   "display_name": "smote_clean",
   "language": "python",
   "name": "python3"
  },
  "language_info": {
   "codemirror_mode": {
    "name": "ipython",
    "version": 3
   },
   "file_extension": ".py",
   "mimetype": "text/x-python",
   "name": "python",
   "nbconvert_exporter": "python",
   "pygments_lexer": "ipython3",
   "version": "3.10.0"
  },
  "orig_nbformat": 4,
  "vscode": {
   "interpreter": {
    "hash": "499044d5ebe425087106556eea30a149e28227c692f9b3f42bc5fd0f94503385"
   }
  }
 },
 "nbformat": 4,
 "nbformat_minor": 2
}
