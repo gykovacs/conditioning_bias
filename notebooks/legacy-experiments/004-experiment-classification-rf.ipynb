{
 "cells": [
  {
   "cell_type": "code",
   "execution_count": 1,
   "metadata": {},
   "outputs": [
    {
     "name": "stderr",
     "output_type": "stream",
     "text": [
      "2023-02-16 08:03:47 INFO     querying the filtered classification datasets\n",
      "2023-02-16 08:03:47 INFO     ranking the datasets\n",
      "2023-02-16 08:03:47 INFO     binary classification datasets prepared\n",
      "2023-02-16 08:03:47 INFO     querying the filtered regression datasets\n",
      "2023-02-16 08:03:47 INFO     ranking the datasets\n",
      "2023-02-16 08:03:47 INFO     regression datasets prepared\n"
     ]
    }
   ],
   "source": [
    "import pandas as pd\n",
    "\n",
    "pd.set_option('display.width', 200)\n",
    "\n",
    "from sklearn.ensemble import RandomForestClassifier\n",
    "\n",
    "from flipping_random_forest import FlippingRandomForestClassifier\n",
    "\n",
    "from datasets import binclas_datasets\n",
    "from core import evaluate"
   ]
  },
  {
   "cell_type": "code",
   "execution_count": 2,
   "metadata": {},
   "outputs": [],
   "source": [
    "data_loaders = binclas_datasets['data_loader_function'].values.tolist()"
   ]
  },
  {
   "cell_type": "code",
   "execution_count": 3,
   "metadata": {},
   "outputs": [],
   "source": [
    "scenarios=[{'name': 'original',\n",
    "            'estimator': RandomForestClassifier,\n",
    "            'estimator_params': {'n_jobs': 2},\n",
    "            'multiplier': 1},\n",
    "            \n",
    "            {'name': 'flipping',\n",
    "            'estimator': FlippingRandomForestClassifier,\n",
    "            'estimator_params': {'n_jobs': 2},\n",
    "            'multiplier': 1}]\n",
    "            \n",
    "compare=[('original', 'flipping')]\n",
    "\n",
    "validator_params = {'n_repeats': 200,\n",
    "                    'n_splits': 5,\n",
    "                    'random_state': 5}"
   ]
  },
  {
   "cell_type": "code",
   "execution_count": 4,
   "metadata": {},
   "outputs": [
    {
     "name": "stderr",
     "output_type": "stream",
     "text": [
      "1000it [12:31,  1.33it/s]\n"
     ]
    },
    {
     "name": "stdout",
     "output_type": "stream",
     "text": [
      "       name  auc_mean_original  auc_mean_flipping  p_original_flipping\n",
      "0  haberman           0.668847           0.671914         3.348969e-08\n"
     ]
    },
    {
     "name": "stderr",
     "output_type": "stream",
     "text": [
      "1000it [13:08,  1.27it/s]\n"
     ]
    },
    {
     "name": "stdout",
     "output_type": "stream",
     "text": [
      "           name  auc_mean_original  auc_mean_flipping  p_original_flipping\n",
      "0  new_thyroid1           0.999401           0.999373             0.751555\n"
     ]
    },
    {
     "name": "stderr",
     "output_type": "stream",
     "text": [
      "1000it [10:55,  1.53it/s]\n"
     ]
    },
    {
     "name": "stdout",
     "output_type": "stream",
     "text": [
      "               name  auc_mean_original  auc_mean_flipping  p_original_flipping\n",
      "0  shuttle-6_vs_2-3                1.0                1.0              0.45044\n"
     ]
    },
    {
     "name": "stderr",
     "output_type": "stream",
     "text": [
      "435it [05:42,  1.12it/s]"
     ]
    }
   ],
   "source": [
    "results_pdf = evaluate(scenarios=scenarios, \n",
    "                        compare=compare, \n",
    "                        data_loaders=data_loaders,\n",
    "                        validator_params=validator_params,\n",
    "                        score='auc',\n",
    "                        random_state=5)"
   ]
  },
  {
   "cell_type": "code",
   "execution_count": null,
   "metadata": {},
   "outputs": [],
   "source": [
    "results_pdf.to_csv('existance-classification-rf.csv')"
   ]
  },
  {
   "cell_type": "code",
   "execution_count": null,
   "metadata": {},
   "outputs": [],
   "source": []
  }
 ],
 "metadata": {
  "kernelspec": {
   "display_name": "smote_clean",
   "language": "python",
   "name": "python3"
  },
  "language_info": {
   "codemirror_mode": {
    "name": "ipython",
    "version": 3
   },
   "file_extension": ".py",
   "mimetype": "text/x-python",
   "name": "python",
   "nbconvert_exporter": "python",
   "pygments_lexer": "ipython3",
   "version": "3.10.0"
  },
  "orig_nbformat": 4,
  "vscode": {
   "interpreter": {
    "hash": "499044d5ebe425087106556eea30a149e28227c692f9b3f42bc5fd0f94503385"
   }
  }
 },
 "nbformat": 4,
 "nbformat_minor": 2
}
