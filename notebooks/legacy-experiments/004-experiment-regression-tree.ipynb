{
 "cells": [
  {
   "cell_type": "code",
   "execution_count": 1,
   "metadata": {},
   "outputs": [],
   "source": [
    "import numpy as np\n",
    "import pandas as pd\n",
    "\n",
    "import tqdm\n",
    "\n",
    "from scipy.stats import wilcoxon\n",
    "\n",
    "from sklearn.tree import DecisionTreeRegressor\n",
    "from sklearn.model_selection import RepeatedKFold\n",
    "from sklearn.metrics import r2_score\n",
    "\n",
    "from flipping_random_forest import FlippingDecisionTreeRegressor\n",
    "\n",
    "from datasets import regr_datasets"
   ]
  },
  {
   "cell_type": "code",
   "execution_count": 2,
   "metadata": {},
   "outputs": [],
   "source": [
    "data_loaders = regr_datasets['data_loader_function'].values.tolist()"
   ]
  },
  {
   "cell_type": "code",
   "execution_count": 3,
   "metadata": {},
   "outputs": [
    {
     "name": "stderr",
     "output_type": "stream",
     "text": [
      "10000it [00:35, 280.60it/s]\n"
     ]
    },
    {
     "name": "stdout",
     "output_type": "stream",
     "text": [
      "     name   r2_orig  r2_baseline  r2_flipping_full  r2_flipping_coord  \\\n",
      "0  o-ring  0.106878     0.185584               0.0                0.0   \n",
      "\n",
      "         p_full  \n",
      "0  9.098317e-79  \n"
     ]
    },
    {
     "name": "stderr",
     "output_type": "stream",
     "text": [
      "10000it [00:24, 407.72it/s]\n"
     ]
    },
    {
     "name": "stdout",
     "output_type": "stream",
     "text": [
      "                          name   r2_orig  r2_baseline  r2_flipping_full  \\\n",
      "0                       o-ring  0.106878     0.185584               0.0   \n",
      "1  stock_portfolio_performance  0.986690     0.986694               0.0   \n",
      "\n",
      "   r2_flipping_coord        p_full  \n",
      "0                0.0  9.098317e-79  \n",
      "1                0.0  3.736719e-01  \n"
     ]
    },
    {
     "name": "stderr",
     "output_type": "stream",
     "text": [
      "10000it [00:33, 300.06it/s]\n"
     ]
    },
    {
     "name": "stdout",
     "output_type": "stream",
     "text": [
      "                          name   r2_orig  r2_baseline  r2_flipping_full  \\\n",
      "0                       o-ring  0.106878     0.185584               0.0   \n",
      "1  stock_portfolio_performance  0.986690     0.986694               0.0   \n",
      "2                      wsn-ale -0.054752    -0.034139               0.0   \n",
      "\n",
      "   r2_flipping_coord        p_full  \n",
      "0                0.0  9.098317e-79  \n",
      "1                0.0  3.736719e-01  \n",
      "2                0.0  4.435895e-18  \n"
     ]
    },
    {
     "name": "stderr",
     "output_type": "stream",
     "text": [
      "10000it [00:31, 320.18it/s]\n"
     ]
    },
    {
     "name": "stdout",
     "output_type": "stream",
     "text": [
      "                          name   r2_orig  r2_baseline  r2_flipping_full  \\\n",
      "0                       o-ring  0.106878     0.185584               0.0   \n",
      "1  stock_portfolio_performance  0.986690     0.986694               0.0   \n",
      "2                      wsn-ale -0.054752    -0.034139               0.0   \n",
      "3                 daily-demand  0.660337     0.659757               0.0   \n",
      "\n",
      "   r2_flipping_coord        p_full  \n",
      "0                0.0  9.098317e-79  \n",
      "1                0.0  3.736719e-01  \n",
      "2                0.0  4.435895e-18  \n",
      "3                0.0  6.568351e-01  \n"
     ]
    },
    {
     "name": "stderr",
     "output_type": "stream",
     "text": [
      "10000it [00:31, 313.02it/s]\n"
     ]
    },
    {
     "name": "stdout",
     "output_type": "stream",
     "text": [
      "                          name   r2_orig  r2_baseline  r2_flipping_full  \\\n",
      "0                       o-ring  0.106878     0.185584               0.0   \n",
      "1  stock_portfolio_performance  0.986690     0.986694               0.0   \n",
      "2                      wsn-ale -0.054752    -0.034139               0.0   \n",
      "3                 daily-demand  0.660337     0.659757               0.0   \n",
      "4                        servo  0.480690     0.481034               0.0   \n",
      "\n",
      "   r2_flipping_coord        p_full  \n",
      "0                0.0  9.098317e-79  \n",
      "1                0.0  3.736719e-01  \n",
      "2                0.0  4.435895e-18  \n",
      "3                0.0  6.568351e-01  \n",
      "4                0.0  1.502409e-04  \n"
     ]
    },
    {
     "name": "stderr",
     "output_type": "stream",
     "text": [
      "10000it [00:48, 208.06it/s]\n"
     ]
    },
    {
     "name": "stdout",
     "output_type": "stream",
     "text": [
      "                          name   r2_orig  r2_baseline  r2_flipping_full  \\\n",
      "0                       o-ring  0.106878     0.185584               0.0   \n",
      "1  stock_portfolio_performance  0.986690     0.986694               0.0   \n",
      "2                      wsn-ale -0.054752    -0.034139               0.0   \n",
      "3                 daily-demand  0.660337     0.659757               0.0   \n",
      "4                        servo  0.480690     0.481034               0.0   \n",
      "5          yacht_hydrodynamics  0.992117     0.992129               0.0   \n",
      "\n",
      "   r2_flipping_coord        p_full  \n",
      "0                0.0  9.098317e-79  \n",
      "1                0.0  3.736719e-01  \n",
      "2                0.0  4.435895e-18  \n",
      "3                0.0  6.568351e-01  \n",
      "4                0.0  1.502409e-04  \n",
      "5                0.0  4.343179e-01  \n"
     ]
    },
    {
     "name": "stderr",
     "output_type": "stream",
     "text": [
      "10000it [00:48, 207.19it/s]\n"
     ]
    },
    {
     "name": "stdout",
     "output_type": "stream",
     "text": [
      "                          name   r2_orig  r2_baseline  r2_flipping_full  \\\n",
      "0                       o-ring  0.106878     0.185584               0.0   \n",
      "1  stock_portfolio_performance  0.986690     0.986694               0.0   \n",
      "2                      wsn-ale -0.054752    -0.034139               0.0   \n",
      "3                 daily-demand  0.660337     0.659757               0.0   \n",
      "4                        servo  0.480690     0.481034               0.0   \n",
      "5          yacht_hydrodynamics  0.992117     0.992129               0.0   \n",
      "6                     autoMPG6  0.765998     0.768365               0.0   \n",
      "\n",
      "   r2_flipping_coord        p_full  \n",
      "0                0.0  9.098317e-79  \n",
      "1                0.0  3.736719e-01  \n",
      "2                0.0  4.435895e-18  \n",
      "3                0.0  6.568351e-01  \n",
      "4                0.0  1.502409e-04  \n",
      "5                0.0  4.343179e-01  \n",
      "6                0.0  2.545674e-26  \n"
     ]
    },
    {
     "name": "stderr",
     "output_type": "stream",
     "text": [
      "10000it [00:50, 196.19it/s]\n"
     ]
    },
    {
     "name": "stdout",
     "output_type": "stream",
     "text": [
      "                          name   r2_orig  r2_baseline  r2_flipping_full  \\\n",
      "0                       o-ring  0.106878     0.185584               0.0   \n",
      "1  stock_portfolio_performance  0.986690     0.986694               0.0   \n",
      "2                      wsn-ale -0.054752    -0.034139               0.0   \n",
      "3                 daily-demand  0.660337     0.659757               0.0   \n",
      "4                        servo  0.480690     0.481034               0.0   \n",
      "5          yacht_hydrodynamics  0.992117     0.992129               0.0   \n",
      "6                     autoMPG6  0.765998     0.768365               0.0   \n",
      "7           excitation_current  0.999822     0.999829               0.0   \n",
      "\n",
      "   r2_flipping_coord        p_full  \n",
      "0                0.0  9.098317e-79  \n",
      "1                0.0  3.736719e-01  \n",
      "2                0.0  4.435895e-18  \n",
      "3                0.0  6.568351e-01  \n",
      "4                0.0  1.502409e-04  \n",
      "5                0.0  4.343179e-01  \n",
      "6                0.0  2.545674e-26  \n",
      "7                0.0  1.420716e-85  \n"
     ]
    },
    {
     "name": "stderr",
     "output_type": "stream",
     "text": [
      "10000it [00:55, 180.38it/s]\n"
     ]
    },
    {
     "name": "stdout",
     "output_type": "stream",
     "text": [
      "                          name   r2_orig  r2_baseline  r2_flipping_full  \\\n",
      "0                       o-ring  0.106878     0.185584               0.0   \n",
      "1  stock_portfolio_performance  0.986690     0.986694               0.0   \n",
      "2                      wsn-ale -0.054752    -0.034139               0.0   \n",
      "3                 daily-demand  0.660337     0.659757               0.0   \n",
      "4                        servo  0.480690     0.481034               0.0   \n",
      "5          yacht_hydrodynamics  0.992117     0.992129               0.0   \n",
      "6                     autoMPG6  0.765998     0.768365               0.0   \n",
      "7           excitation_current  0.999822     0.999829               0.0   \n",
      "8        real_estate_valuation  0.459110     0.460785               0.0   \n",
      "\n",
      "   r2_flipping_coord        p_full  \n",
      "0                0.0  9.098317e-79  \n",
      "1                0.0  3.736719e-01  \n",
      "2                0.0  4.435895e-18  \n",
      "3                0.0  6.568351e-01  \n",
      "4                0.0  1.502409e-04  \n",
      "5                0.0  4.343179e-01  \n",
      "6                0.0  2.545674e-26  \n",
      "7                0.0  1.420716e-85  \n",
      "8                0.0  2.598095e-04  \n"
     ]
    },
    {
     "name": "stderr",
     "output_type": "stream",
     "text": [
      "10000it [00:53, 185.97it/s]\n"
     ]
    },
    {
     "name": "stdout",
     "output_type": "stream",
     "text": [
      "                          name   r2_orig  r2_baseline  r2_flipping_full  \\\n",
      "0                       o-ring  0.106878     0.185584               0.0   \n",
      "1  stock_portfolio_performance  0.986690     0.986694               0.0   \n",
      "2                      wsn-ale -0.054752    -0.034139               0.0   \n",
      "3                 daily-demand  0.660337     0.659757               0.0   \n",
      "4                        servo  0.480690     0.481034               0.0   \n",
      "5          yacht_hydrodynamics  0.992117     0.992129               0.0   \n",
      "6                     autoMPG6  0.765998     0.768365               0.0   \n",
      "7           excitation_current  0.999822     0.999829               0.0   \n",
      "8        real_estate_valuation  0.459110     0.460785               0.0   \n",
      "9                      wankara  0.969425     0.969524               0.0   \n",
      "\n",
      "   r2_flipping_coord        p_full  \n",
      "0                0.0  9.098317e-79  \n",
      "1                0.0  3.736719e-01  \n",
      "2                0.0  4.435895e-18  \n",
      "3                0.0  6.568351e-01  \n",
      "4                0.0  1.502409e-04  \n",
      "5                0.0  4.343179e-01  \n",
      "6                0.0  2.545674e-26  \n",
      "7                0.0  1.420716e-85  \n",
      "8                0.0  2.598095e-04  \n",
      "9                0.0  1.261153e-02  \n"
     ]
    },
    {
     "name": "stderr",
     "output_type": "stream",
     "text": [
      "10000it [01:26, 115.56it/s]\n"
     ]
    },
    {
     "name": "stdout",
     "output_type": "stream",
     "text": [
      "                           name   r2_orig  r2_baseline  r2_flipping_full  \\\n",
      "0                        o-ring  0.106878     0.185584               0.0   \n",
      "1   stock_portfolio_performance  0.986690     0.986694               0.0   \n",
      "2                       wsn-ale -0.054752    -0.034139               0.0   \n",
      "3                  daily-demand  0.660337     0.659757               0.0   \n",
      "4                         servo  0.480690     0.481034               0.0   \n",
      "5           yacht_hydrodynamics  0.992117     0.992129               0.0   \n",
      "6                      autoMPG6  0.765998     0.768365               0.0   \n",
      "7            excitation_current  0.999822     0.999829               0.0   \n",
      "8         real_estate_valuation  0.459110     0.460785               0.0   \n",
      "9                       wankara  0.969425     0.969524               0.0   \n",
      "10                      plastic  0.648355     0.646112               0.0   \n",
      "\n",
      "    r2_flipping_coord        p_full  \n",
      "0                 0.0  9.098317e-79  \n",
      "1                 0.0  3.736719e-01  \n",
      "2                 0.0  4.435895e-18  \n",
      "3                 0.0  6.568351e-01  \n",
      "4                 0.0  1.502409e-04  \n",
      "5                 0.0  4.343179e-01  \n",
      "6                 0.0  2.545674e-26  \n",
      "7                 0.0  1.420716e-85  \n",
      "8                 0.0  2.598095e-04  \n",
      "9                 0.0  1.261153e-02  \n",
      "10                0.0  1.000000e+00  \n"
     ]
    },
    {
     "name": "stderr",
     "output_type": "stream",
     "text": [
      "10000it [01:34, 106.08it/s]\n"
     ]
    },
    {
     "name": "stdout",
     "output_type": "stream",
     "text": [
      "                           name   r2_orig  r2_baseline  r2_flipping_full  \\\n",
      "0                        o-ring  0.106878     0.185584               0.0   \n",
      "1   stock_portfolio_performance  0.986690     0.986694               0.0   \n",
      "2                       wsn-ale -0.054752    -0.034139               0.0   \n",
      "3                  daily-demand  0.660337     0.659757               0.0   \n",
      "4                         servo  0.480690     0.481034               0.0   \n",
      "5           yacht_hydrodynamics  0.992117     0.992129               0.0   \n",
      "6                      autoMPG6  0.765998     0.768365               0.0   \n",
      "7            excitation_current  0.999822     0.999829               0.0   \n",
      "8         real_estate_valuation  0.459110     0.460785               0.0   \n",
      "9                       wankara  0.969425     0.969524               0.0   \n",
      "10                      plastic  0.648355     0.646112               0.0   \n",
      "11                        laser  0.922051     0.924615               0.0   \n",
      "\n",
      "    r2_flipping_coord        p_full  \n",
      "0                 0.0  9.098317e-79  \n",
      "1                 0.0  3.736719e-01  \n",
      "2                 0.0  4.435895e-18  \n",
      "3                 0.0  6.568351e-01  \n",
      "4                 0.0  1.502409e-04  \n",
      "5                 0.0  4.343179e-01  \n",
      "6                 0.0  2.545674e-26  \n",
      "7                 0.0  1.420716e-85  \n",
      "8                 0.0  2.598095e-04  \n",
      "9                 0.0  1.261153e-02  \n",
      "10                0.0  1.000000e+00  \n",
      "11                0.0  1.609562e-46  \n"
     ]
    },
    {
     "name": "stderr",
     "output_type": "stream",
     "text": [
      "10000it [01:18, 127.99it/s]\n"
     ]
    },
    {
     "name": "stdout",
     "output_type": "stream",
     "text": [
      "                           name   r2_orig  r2_baseline  r2_flipping_full  \\\n",
      "0                        o-ring  0.106878     0.185584               0.0   \n",
      "1   stock_portfolio_performance  0.986690     0.986694               0.0   \n",
      "2                       wsn-ale -0.054752    -0.034139               0.0   \n",
      "3                  daily-demand  0.660337     0.659757               0.0   \n",
      "4                         servo  0.480690     0.481034               0.0   \n",
      "5           yacht_hydrodynamics  0.992117     0.992129               0.0   \n",
      "6                      autoMPG6  0.765998     0.768365               0.0   \n",
      "7            excitation_current  0.999822     0.999829               0.0   \n",
      "8         real_estate_valuation  0.459110     0.460785               0.0   \n",
      "9                       wankara  0.969425     0.969524               0.0   \n",
      "10                      plastic  0.648355     0.646112               0.0   \n",
      "11                        laser  0.922051     0.924615               0.0   \n",
      "12        qsar-aquatic-toxicity  0.127464     0.129893               0.0   \n",
      "\n",
      "    r2_flipping_coord        p_full  \n",
      "0                 0.0  9.098317e-79  \n",
      "1                 0.0  3.736719e-01  \n",
      "2                 0.0  4.435895e-18  \n",
      "3                 0.0  6.568351e-01  \n",
      "4                 0.0  1.502409e-04  \n",
      "5                 0.0  4.343179e-01  \n",
      "6                 0.0  2.545674e-26  \n",
      "7                 0.0  1.420716e-85  \n",
      "8                 0.0  2.598095e-04  \n",
      "9                 0.0  1.261153e-02  \n",
      "10                0.0  1.000000e+00  \n",
      "11                0.0  1.609562e-46  \n",
      "12                0.0  4.594370e-04  \n"
     ]
    },
    {
     "name": "stderr",
     "output_type": "stream",
     "text": [
      "10000it [01:05, 153.29it/s]\n"
     ]
    },
    {
     "name": "stdout",
     "output_type": "stream",
     "text": [
      "                           name   r2_orig  r2_baseline  r2_flipping_full  \\\n",
      "0                        o-ring  0.106878     0.185584               0.0   \n",
      "1   stock_portfolio_performance  0.986690     0.986694               0.0   \n",
      "2                       wsn-ale -0.054752    -0.034139               0.0   \n",
      "3                  daily-demand  0.660337     0.659757               0.0   \n",
      "4                         servo  0.480690     0.481034               0.0   \n",
      "5           yacht_hydrodynamics  0.992117     0.992129               0.0   \n",
      "6                      autoMPG6  0.765998     0.768365               0.0   \n",
      "7            excitation_current  0.999822     0.999829               0.0   \n",
      "8         real_estate_valuation  0.459110     0.460785               0.0   \n",
      "9                       wankara  0.969425     0.969524               0.0   \n",
      "10                      plastic  0.648355     0.646112               0.0   \n",
      "11                        laser  0.922051     0.924615               0.0   \n",
      "12        qsar-aquatic-toxicity  0.127464     0.129893               0.0   \n",
      "13                     baseball  0.399931     0.403402               0.0   \n",
      "\n",
      "    r2_flipping_coord        p_full  \n",
      "0                 0.0  9.098317e-79  \n",
      "1                 0.0  3.736719e-01  \n",
      "2                 0.0  4.435895e-18  \n",
      "3                 0.0  6.568351e-01  \n",
      "4                 0.0  1.502409e-04  \n",
      "5                 0.0  4.343179e-01  \n",
      "6                 0.0  2.545674e-26  \n",
      "7                 0.0  1.420716e-85  \n",
      "8                 0.0  2.598095e-04  \n",
      "9                 0.0  1.261153e-02  \n",
      "10                0.0  1.000000e+00  \n",
      "11                0.0  1.609562e-46  \n",
      "12                0.0  4.594370e-04  \n",
      "13                0.0  2.017313e-06  \n"
     ]
    },
    {
     "name": "stderr",
     "output_type": "stream",
     "text": [
      "10000it [00:45, 219.51it/s]\n"
     ]
    },
    {
     "name": "stdout",
     "output_type": "stream",
     "text": [
      "                           name   r2_orig  r2_baseline  r2_flipping_full  \\\n",
      "0                        o-ring  0.106878     0.185584               0.0   \n",
      "1   stock_portfolio_performance  0.986690     0.986694               0.0   \n",
      "2                       wsn-ale -0.054752    -0.034139               0.0   \n",
      "3                  daily-demand  0.660337     0.659757               0.0   \n",
      "4                         servo  0.480690     0.481034               0.0   \n",
      "5           yacht_hydrodynamics  0.992117     0.992129               0.0   \n",
      "6                      autoMPG6  0.765998     0.768365               0.0   \n",
      "7            excitation_current  0.999822     0.999829               0.0   \n",
      "8         real_estate_valuation  0.459110     0.460785               0.0   \n",
      "9                       wankara  0.969425     0.969524               0.0   \n",
      "10                      plastic  0.648355     0.646112               0.0   \n",
      "11                        laser  0.922051     0.924615               0.0   \n",
      "12        qsar-aquatic-toxicity  0.127464     0.129893               0.0   \n",
      "13                     baseball  0.399931     0.403402               0.0   \n",
      "14         maternal_health_risk  0.713700     0.714089               0.0   \n",
      "\n",
      "    r2_flipping_coord        p_full  \n",
      "0                 0.0  9.098317e-79  \n",
      "1                 0.0  3.736719e-01  \n",
      "2                 0.0  4.435895e-18  \n",
      "3                 0.0  6.568351e-01  \n",
      "4                 0.0  1.502409e-04  \n",
      "5                 0.0  4.343179e-01  \n",
      "6                 0.0  2.545674e-26  \n",
      "7                 0.0  1.420716e-85  \n",
      "8                 0.0  2.598095e-04  \n",
      "9                 0.0  1.261153e-02  \n",
      "10                0.0  1.000000e+00  \n",
      "11                0.0  1.609562e-46  \n",
      "12                0.0  4.594370e-04  \n",
      "13                0.0  2.017313e-06  \n",
      "14                0.0  2.852662e-01  \n"
     ]
    },
    {
     "name": "stderr",
     "output_type": "stream",
     "text": [
      "10000it [01:44, 95.43it/s]\n"
     ]
    },
    {
     "name": "stdout",
     "output_type": "stream",
     "text": [
      "                           name   r2_orig  r2_baseline  r2_flipping_full  \\\n",
      "0                        o-ring  0.106878     0.185584               0.0   \n",
      "1   stock_portfolio_performance  0.986690     0.986694               0.0   \n",
      "2                       wsn-ale -0.054752    -0.034139               0.0   \n",
      "3                  daily-demand  0.660337     0.659757               0.0   \n",
      "4                         servo  0.480690     0.481034               0.0   \n",
      "5           yacht_hydrodynamics  0.992117     0.992129               0.0   \n",
      "6                      autoMPG6  0.765998     0.768365               0.0   \n",
      "7            excitation_current  0.999822     0.999829               0.0   \n",
      "8         real_estate_valuation  0.459110     0.460785               0.0   \n",
      "9                       wankara  0.969425     0.969524               0.0   \n",
      "10                      plastic  0.648355     0.646112               0.0   \n",
      "11                        laser  0.922051     0.924615               0.0   \n",
      "12        qsar-aquatic-toxicity  0.127464     0.129893               0.0   \n",
      "13                     baseball  0.399931     0.403402               0.0   \n",
      "14         maternal_health_risk  0.713700     0.714089               0.0   \n",
      "15                 medical_cost  0.527887     0.530180               0.0   \n",
      "\n",
      "    r2_flipping_coord        p_full  \n",
      "0                 0.0  9.098317e-79  \n",
      "1                 0.0  3.736719e-01  \n",
      "2                 0.0  4.435895e-18  \n",
      "3                 0.0  6.568351e-01  \n",
      "4                 0.0  1.502409e-04  \n",
      "5                 0.0  4.343179e-01  \n",
      "6                 0.0  2.545674e-26  \n",
      "7                 0.0  1.420716e-85  \n",
      "8                 0.0  2.598095e-04  \n",
      "9                 0.0  1.261153e-02  \n",
      "10                0.0  1.000000e+00  \n",
      "11                0.0  1.609562e-46  \n",
      "12                0.0  4.594370e-04  \n",
      "13                0.0  2.017313e-06  \n",
      "14                0.0  2.852662e-01  \n",
      "15                0.0  2.522479e-59  \n"
     ]
    },
    {
     "name": "stderr",
     "output_type": "stream",
     "text": [
      "10000it [01:49, 91.34it/s]\n"
     ]
    },
    {
     "name": "stdout",
     "output_type": "stream",
     "text": [
      "                           name   r2_orig  r2_baseline  r2_flipping_full  \\\n",
      "0                        o-ring  0.106878     0.185584               0.0   \n",
      "1   stock_portfolio_performance  0.986690     0.986694               0.0   \n",
      "2                       wsn-ale -0.054752    -0.034139               0.0   \n",
      "3                  daily-demand  0.660337     0.659757               0.0   \n",
      "4                         servo  0.480690     0.481034               0.0   \n",
      "5           yacht_hydrodynamics  0.992117     0.992129               0.0   \n",
      "6                      autoMPG6  0.765998     0.768365               0.0   \n",
      "7            excitation_current  0.999822     0.999829               0.0   \n",
      "8         real_estate_valuation  0.459110     0.460785               0.0   \n",
      "9                       wankara  0.969425     0.969524               0.0   \n",
      "10                      plastic  0.648355     0.646112               0.0   \n",
      "11                        laser  0.922051     0.924615               0.0   \n",
      "12        qsar-aquatic-toxicity  0.127464     0.129893               0.0   \n",
      "13                     baseball  0.399931     0.403402               0.0   \n",
      "14         maternal_health_risk  0.713700     0.714089               0.0   \n",
      "15                 medical_cost  0.527887     0.530180               0.0   \n",
      "16                   boom_bikes  0.987075     0.987108               0.0   \n",
      "\n",
      "    r2_flipping_coord        p_full  \n",
      "0                 0.0  9.098317e-79  \n",
      "1                 0.0  3.736719e-01  \n",
      "2                 0.0  4.435895e-18  \n",
      "3                 0.0  6.568351e-01  \n",
      "4                 0.0  1.502409e-04  \n",
      "5                 0.0  4.343179e-01  \n",
      "6                 0.0  2.545674e-26  \n",
      "7                 0.0  1.420716e-85  \n",
      "8                 0.0  2.598095e-04  \n",
      "9                 0.0  1.261153e-02  \n",
      "10                0.0  1.000000e+00  \n",
      "11                0.0  1.609562e-46  \n",
      "12                0.0  4.594370e-04  \n",
      "13                0.0  2.017313e-06  \n",
      "14                0.0  2.852662e-01  \n",
      "15                0.0  2.522479e-59  \n",
      "16                0.0  9.253001e-02  \n"
     ]
    },
    {
     "name": "stderr",
     "output_type": "stream",
     "text": [
      "10000it [03:32, 46.99it/s]\n"
     ]
    },
    {
     "name": "stdout",
     "output_type": "stream",
     "text": [
      "                           name   r2_orig  r2_baseline  r2_flipping_full  \\\n",
      "0                        o-ring  0.106878     0.185584               0.0   \n",
      "1   stock_portfolio_performance  0.986690     0.986694               0.0   \n",
      "2                       wsn-ale -0.054752    -0.034139               0.0   \n",
      "3                  daily-demand  0.660337     0.659757               0.0   \n",
      "4                         servo  0.480690     0.481034               0.0   \n",
      "5           yacht_hydrodynamics  0.992117     0.992129               0.0   \n",
      "6                      autoMPG6  0.765998     0.768365               0.0   \n",
      "7            excitation_current  0.999822     0.999829               0.0   \n",
      "8         real_estate_valuation  0.459110     0.460785               0.0   \n",
      "9                       wankara  0.969425     0.969524               0.0   \n",
      "10                      plastic  0.648355     0.646112               0.0   \n",
      "11                        laser  0.922051     0.924615               0.0   \n",
      "12        qsar-aquatic-toxicity  0.127464     0.129893               0.0   \n",
      "13                     baseball  0.399931     0.403402               0.0   \n",
      "14         maternal_health_risk  0.713700     0.714089               0.0   \n",
      "15                 medical_cost  0.527887     0.530180               0.0   \n",
      "16                   boom_bikes  0.987075     0.987108               0.0   \n",
      "17                       wizmir  0.984338     0.984412               0.0   \n",
      "\n",
      "    r2_flipping_coord        p_full  \n",
      "0                 0.0  9.098317e-79  \n",
      "1                 0.0  3.736719e-01  \n",
      "2                 0.0  4.435895e-18  \n",
      "3                 0.0  6.568351e-01  \n",
      "4                 0.0  1.502409e-04  \n",
      "5                 0.0  4.343179e-01  \n",
      "6                 0.0  2.545674e-26  \n",
      "7                 0.0  1.420716e-85  \n",
      "8                 0.0  2.598095e-04  \n",
      "9                 0.0  1.261153e-02  \n",
      "10                0.0  1.000000e+00  \n",
      "11                0.0  1.609562e-46  \n",
      "12                0.0  4.594370e-04  \n",
      "13                0.0  2.017313e-06  \n",
      "14                0.0  2.852662e-01  \n",
      "15                0.0  2.522479e-59  \n",
      "16                0.0  9.253001e-02  \n",
      "17                0.0  1.401027e-15  \n"
     ]
    },
    {
     "name": "stderr",
     "output_type": "stream",
     "text": [
      "10000it [01:42, 97.47it/s]\n"
     ]
    },
    {
     "name": "stdout",
     "output_type": "stream",
     "text": [
      "                           name   r2_orig  r2_baseline  r2_flipping_full  \\\n",
      "0                        o-ring  0.106878     0.185584               0.0   \n",
      "1   stock_portfolio_performance  0.986690     0.986694               0.0   \n",
      "2                       wsn-ale -0.054752    -0.034139               0.0   \n",
      "3                  daily-demand  0.660337     0.659757               0.0   \n",
      "4                         servo  0.480690     0.481034               0.0   \n",
      "5           yacht_hydrodynamics  0.992117     0.992129               0.0   \n",
      "6                      autoMPG6  0.765998     0.768365               0.0   \n",
      "7            excitation_current  0.999822     0.999829               0.0   \n",
      "8         real_estate_valuation  0.459110     0.460785               0.0   \n",
      "9                       wankara  0.969425     0.969524               0.0   \n",
      "10                      plastic  0.648355     0.646112               0.0   \n",
      "11                        laser  0.922051     0.924615               0.0   \n",
      "12        qsar-aquatic-toxicity  0.127464     0.129893               0.0   \n",
      "13                     baseball  0.399931     0.403402               0.0   \n",
      "14         maternal_health_risk  0.713700     0.714089               0.0   \n",
      "15                 medical_cost  0.527887     0.530180               0.0   \n",
      "16                   boom_bikes  0.987075     0.987108               0.0   \n",
      "17                       wizmir  0.984338     0.984412               0.0   \n",
      "18                  forestfires -5.972993    -6.651072               0.0   \n",
      "\n",
      "    r2_flipping_coord        p_full  \n",
      "0                 0.0  9.098317e-79  \n",
      "1                 0.0  3.736719e-01  \n",
      "2                 0.0  4.435895e-18  \n",
      "3                 0.0  6.568351e-01  \n",
      "4                 0.0  1.502409e-04  \n",
      "5                 0.0  4.343179e-01  \n",
      "6                 0.0  2.545674e-26  \n",
      "7                 0.0  1.420716e-85  \n",
      "8                 0.0  2.598095e-04  \n",
      "9                 0.0  1.261153e-02  \n",
      "10                0.0  1.000000e+00  \n",
      "11                0.0  1.609562e-46  \n",
      "12                0.0  4.594370e-04  \n",
      "13                0.0  2.017313e-06  \n",
      "14                0.0  2.852662e-01  \n",
      "15                0.0  2.522479e-59  \n",
      "16                0.0  9.253001e-02  \n",
      "17                0.0  1.401027e-15  \n",
      "18                0.0  1.000000e+00  \n"
     ]
    },
    {
     "name": "stderr",
     "output_type": "stream",
     "text": [
      "10000it [03:15, 51.26it/s]"
     ]
    },
    {
     "name": "stdout",
     "output_type": "stream",
     "text": [
      "                           name   r2_orig  r2_baseline  r2_flipping_full  \\\n",
      "0                        o-ring  0.106878     0.185584               0.0   \n",
      "1   stock_portfolio_performance  0.986690     0.986694               0.0   \n",
      "2                       wsn-ale -0.054752    -0.034139               0.0   \n",
      "3                  daily-demand  0.660337     0.659757               0.0   \n",
      "4                         servo  0.480690     0.481034               0.0   \n",
      "5           yacht_hydrodynamics  0.992117     0.992129               0.0   \n",
      "6                      autoMPG6  0.765998     0.768365               0.0   \n",
      "7            excitation_current  0.999822     0.999829               0.0   \n",
      "8         real_estate_valuation  0.459110     0.460785               0.0   \n",
      "9                       wankara  0.969425     0.969524               0.0   \n",
      "10                      plastic  0.648355     0.646112               0.0   \n",
      "11                        laser  0.922051     0.924615               0.0   \n",
      "12        qsar-aquatic-toxicity  0.127464     0.129893               0.0   \n",
      "13                     baseball  0.399931     0.403402               0.0   \n",
      "14         maternal_health_risk  0.713700     0.714089               0.0   \n",
      "15                 medical_cost  0.527887     0.530180               0.0   \n",
      "16                   boom_bikes  0.987075     0.987108               0.0   \n",
      "17                       wizmir  0.984338     0.984412               0.0   \n",
      "18                  forestfires -5.972993    -6.651072               0.0   \n",
      "19              winequality_red  0.037683     0.045372               0.0   \n",
      "\n",
      "    r2_flipping_coord        p_full  \n",
      "0                 0.0  9.098317e-79  \n",
      "1                 0.0  3.736719e-01  \n",
      "2                 0.0  4.435895e-18  \n",
      "3                 0.0  6.568351e-01  \n",
      "4                 0.0  1.502409e-04  \n",
      "5                 0.0  4.343179e-01  \n",
      "6                 0.0  2.545674e-26  \n",
      "7                 0.0  1.420716e-85  \n",
      "8                 0.0  2.598095e-04  \n",
      "9                 0.0  1.261153e-02  \n",
      "10                0.0  1.000000e+00  \n",
      "11                0.0  1.609562e-46  \n",
      "12                0.0  4.594370e-04  \n",
      "13                0.0  2.017313e-06  \n",
      "14                0.0  2.852662e-01  \n",
      "15                0.0  2.522479e-59  \n",
      "16                0.0  9.253001e-02  \n",
      "17                0.0  1.401027e-15  \n",
      "18                0.0  1.000000e+00  \n",
      "19                0.0  4.930735e-32  \n"
     ]
    },
    {
     "name": "stderr",
     "output_type": "stream",
     "text": [
      "\n"
     ]
    }
   ],
   "source": [
    "results = []\n",
    "\n",
    "validator = RepeatedKFold(n_splits=5, n_repeats=2000, random_state=5)\n",
    "\n",
    "for data_loader in data_loaders:\n",
    "    dataset = data_loader()\n",
    "    X = dataset['data']\n",
    "    y = dataset['target']\n",
    "    \n",
    "    r2s_orig = []\n",
    "    r2s_flipped = []\n",
    "    r2s_baseline = []\n",
    "    r2s_baseline_flipped = []\n",
    "    r2s_flipping_full = []\n",
    "    r2s_flipping_coord = []\n",
    "    \n",
    "    for train, test in tqdm.tqdm(validator.split(X, y, y)):\n",
    "        X_train = X[train]\n",
    "        X_test = X[test]\n",
    "        y_train = y[train]\n",
    "        y_test = y[test]\n",
    "        \n",
    "        min_samples_leaf = 1#np.random.randint(1, 21)\n",
    "        max_depth = None#np.random.choice([None, 1, 2, 3, 4, 5, 6, 7, 8, 9])\n",
    "        \n",
    "        params = {'min_samples_leaf': min_samples_leaf,\n",
    "                    'max_depth': max_depth}\n",
    "        \n",
    "        #try:\n",
    "        pred = DecisionTreeRegressor(**params).fit(X_train, y_train).predict(X_test)\n",
    "        r2s_orig.append(r2_score(y_test, pred))\n",
    "        \n",
    "        #pred = RandomForestRegressor().fit(-X_train, y_train).predict(-X_test)\n",
    "        #r2s_flipped.append(r2_score(y_test, pred))\n",
    "        r2s_flipped.append(0)\n",
    "        \n",
    "        pred = FlippingDecisionTreeRegressor(**params).fit(X_train, y_train).predict(X_test)\n",
    "        r2s_baseline.append(r2_score(y_test, pred))\n",
    "        \n",
    "        #pred = FlippingRandomForestRegressor().fit(-X_train, y_train).predict(-X_test)\n",
    "        #r2s_baseline_flipped.append(r2_score(y_test, pred))\n",
    "        r2s_baseline_flipped.append(0)\n",
    "        \n",
    "        #pred = FlippingDecisionTreeRegressor(**params).fit(X_train, y_train).predict(X_test)\n",
    "        #r2s_flipping_full.append(r2_score(y_test, pred))\n",
    "        r2s_flipping_full.append(0)\n",
    "        \n",
    "        r2s_flipping_coord.append(0)\n",
    "    \n",
    "    tmp = [dataset['name'], np.mean(r2s_orig), np.mean(r2s_flipped), np.mean(r2s_baseline), \n",
    "                np.mean(r2s_baseline_flipped), np.mean(r2s_flipping_full), np.mean(r2s_flipping_coord), \n",
    "                r2s_orig, r2s_flipped, r2s_baseline, r2s_baseline_flipped, \n",
    "                r2s_flipping_full, r2s_flipping_coord]\n",
    "    \n",
    "    tmp = tmp + [wilcoxon(r2s_orig, r2s_baseline, alternative='less', zero_method='zsplit').pvalue]\n",
    "    \n",
    "    results.append(tmp)\n",
    "    \n",
    "    results_pdf = pd.DataFrame(results, columns=['name', 'r2_orig', 'r2_flipped', 'r2_baseline', 'r2_baseline_flipped', \n",
    "                                                'r2_flipping_full', 'r2_flipping_coord', 'r2s_orig', 'r2s_flipped', 'r2s_baseline', \n",
    "                                                'r2s_baseline_flipped', 'r2s_flipping_full', 'r2s_flipping_coord', 'p_full'])\n",
    "    results_pdf['r2_baseline_min'] = results_pdf[['r2_baseline', 'r2_baseline_flipped']].apply(lambda x: min(x), axis=1)\n",
    "    print(results_pdf[['name', \n",
    "                        'r2_orig', \n",
    "                        #'r2_flipped', \n",
    "                        'r2_baseline', \n",
    "                        #'r2_baseline_flipped', \n",
    "                        #'r2_baseline_min', \n",
    "                        'r2_flipping_full', \n",
    "                        'r2_flipping_coord', 'p_full']])\n",
    "        \n"
   ]
  },
  {
   "cell_type": "code",
   "execution_count": 4,
   "metadata": {},
   "outputs": [],
   "source": [
    "results_pdf.to_csv(\"regression-tree.csv\")"
   ]
  },
  {
   "cell_type": "code",
   "execution_count": 5,
   "metadata": {},
   "outputs": [
    {
     "name": "stdout",
     "output_type": "stream",
     "text": [
      "o-ring 1.0\n",
      "stock_portfolio_performance 1.0\n",
      "wsn-ale 1.0\n",
      "daily-demand 1.0\n",
      "servo 1.0\n",
      "yacht_hydrodynamics 1.0\n",
      "autoMPG6 1.0\n",
      "excitation_current 1.0\n",
      "real_estate_valuation 1.0\n",
      "wankara 1.0\n",
      "plastic 1.0\n",
      "laser 1.0\n",
      "qsar-aquatic-toxicity 1.0\n",
      "baseball 1.0\n",
      "maternal_health_risk 1.0\n",
      "medical_cost 1.0\n",
      "boom_bikes 1.0\n",
      "wizmir 1.0\n",
      "forestfires 0.0\n",
      "winequality_red 1.0\n"
     ]
    }
   ],
   "source": [
    "for idx, row in results_pdf.iterrows():\n",
    "    #w0 = wilcoxon(row['r2s_baseline'], row['r2s_flipping_full'], alternative='greater').pvalue\n",
    "    w1 = wilcoxon(row['r2s_baseline'], row['r2s_flipping_full'], alternative='less').pvalue\n",
    "    print(row['name'], w1)"
   ]
  },
  {
   "cell_type": "code",
   "execution_count": null,
   "metadata": {},
   "outputs": [],
   "source": []
  }
 ],
 "metadata": {
  "kernelspec": {
   "display_name": "smote_clean",
   "language": "python",
   "name": "python3"
  },
  "language_info": {
   "codemirror_mode": {
    "name": "ipython",
    "version": 3
   },
   "file_extension": ".py",
   "mimetype": "text/x-python",
   "name": "python",
   "nbconvert_exporter": "python",
   "pygments_lexer": "ipython3",
   "version": "3.10.0"
  },
  "orig_nbformat": 4,
  "vscode": {
   "interpreter": {
    "hash": "499044d5ebe425087106556eea30a149e28227c692f9b3f42bc5fd0f94503385"
   }
  }
 },
 "nbformat": 4,
 "nbformat_minor": 2
}
