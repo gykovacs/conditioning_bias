{
 "cells": [
  {
   "cell_type": "code",
   "execution_count": 1,
   "metadata": {},
   "outputs": [
    {
     "name": "stderr",
     "output_type": "stream",
     "text": [
      "2023-02-15 12:00:06 INFO     querying the filtered classification datasets\n",
      "2023-02-15 12:00:06 INFO     ranking the datasets\n",
      "2023-02-15 12:00:06 INFO     binary classification datasets prepared\n",
      "2023-02-15 12:00:06 INFO     querying the filtered regression datasets\n",
      "2023-02-15 12:00:06 INFO     ranking the datasets\n",
      "2023-02-15 12:00:06 INFO     regression datasets prepared\n"
     ]
    }
   ],
   "source": [
    "import pandas as pd\n",
    "\n",
    "pd.set_option('display.width', 200)\n",
    "\n",
    "from sklearn.tree import DecisionTreeClassifier\n",
    "\n",
    "from flipping_random_forest import FlippingDecisionTreeClassifier\n",
    "\n",
    "from datasets import binclas_datasets\n",
    "from core import evaluate"
   ]
  },
  {
   "cell_type": "code",
   "execution_count": 2,
   "metadata": {},
   "outputs": [],
   "source": [
    "data_loaders = binclas_datasets['data_loader_function'].values.tolist()"
   ]
  },
  {
   "cell_type": "code",
   "execution_count": 3,
   "metadata": {},
   "outputs": [],
   "source": [
    "scenarios=[{'name': 'original',\n",
    "            'estimator': DecisionTreeClassifier,\n",
    "            'estimator_params': {},\n",
    "            'multiplier': 1},\n",
    "            \n",
    "            {'name': 'flipping',\n",
    "            'estimator': FlippingDecisionTreeClassifier,\n",
    "            'estimator_params': {},\n",
    "            'multiplier': 1}]\n",
    "            \n",
    "compare=[('original', 'flipping')]\n",
    "\n",
    "validator_params = {'n_repeats': 2000,\n",
    "                    'n_splits': 5,\n",
    "                    'random_state': 5}"
   ]
  },
  {
   "cell_type": "code",
   "execution_count": 4,
   "metadata": {},
   "outputs": [
    {
     "name": "stderr",
     "output_type": "stream",
     "text": [
      "10000it [00:51, 195.59it/s]\n"
     ]
    },
    {
     "name": "stdout",
     "output_type": "stream",
     "text": [
      "       name  auc_mean_original  auc_mean_flipping  p_original_flipping\n",
      "0  haberman           0.557715           0.561492         3.243612e-24\n"
     ]
    },
    {
     "name": "stderr",
     "output_type": "stream",
     "text": [
      "10000it [00:38, 256.76it/s]\n"
     ]
    },
    {
     "name": "stdout",
     "output_type": "stream",
     "text": [
      "           name  auc_mean_original  auc_mean_flipping  p_original_flipping\n",
      "0  new_thyroid1           0.930181           0.935397         2.082699e-32\n"
     ]
    },
    {
     "name": "stderr",
     "output_type": "stream",
     "text": [
      "10000it [00:46, 216.35it/s]\n"
     ]
    },
    {
     "name": "stdout",
     "output_type": "stream",
     "text": [
      "               name  auc_mean_original  auc_mean_flipping  p_original_flipping\n",
      "0  shuttle-6_vs_2-3                1.0                1.0                  0.5\n"
     ]
    },
    {
     "name": "stderr",
     "output_type": "stream",
     "text": [
      "10000it [01:03, 156.51it/s]\n"
     ]
    },
    {
     "name": "stdout",
     "output_type": "stream",
     "text": [
      "   name  auc_mean_original  auc_mean_flipping  p_original_flipping\n",
      "0  bupa           0.625036           0.627379         7.153634e-13\n"
     ]
    },
    {
     "name": "stderr",
     "output_type": "stream",
     "text": [
      "10000it [00:38, 256.97it/s]\n"
     ]
    },
    {
     "name": "stdout",
     "output_type": "stream",
     "text": [
      "               name  auc_mean_original  auc_mean_flipping  p_original_flipping\n",
      "0  cleveland-0_vs_4           0.670471            0.67607             0.019208\n"
     ]
    },
    {
     "name": "stderr",
     "output_type": "stream",
     "text": [
      "10000it [00:42, 232.57it/s]\n"
     ]
    },
    {
     "name": "stdout",
     "output_type": "stream",
     "text": [
      "     name  auc_mean_original  auc_mean_flipping  p_original_flipping\n",
      "0  ecoli1           0.832487           0.833102             0.716477\n"
     ]
    },
    {
     "name": "stderr",
     "output_type": "stream",
     "text": [
      "10000it [00:42, 235.56it/s]\n"
     ]
    },
    {
     "name": "stdout",
     "output_type": "stream",
     "text": [
      "           name  auc_mean_original  auc_mean_flipping  p_original_flipping\n",
      "0  poker-9_vs_7           0.607078           0.608488         1.156361e-09\n"
     ]
    },
    {
     "name": "stderr",
     "output_type": "stream",
     "text": [
      "10000it [00:40, 249.37it/s]\n"
     ]
    },
    {
     "name": "stdout",
     "output_type": "stream",
     "text": [
      "     name  auc_mean_original  auc_mean_flipping  p_original_flipping\n",
      "0  monk-2                1.0                1.0                  0.5\n"
     ]
    },
    {
     "name": "stderr",
     "output_type": "stream",
     "text": [
      "10000it [00:45, 218.49it/s]\n"
     ]
    },
    {
     "name": "stdout",
     "output_type": "stream",
     "text": [
      "        name  auc_mean_original  auc_mean_flipping  p_original_flipping\n",
      "0  hepatitis           0.666689            0.66865             0.001783\n"
     ]
    },
    {
     "name": "stderr",
     "output_type": "stream",
     "text": [
      "10000it [01:07, 147.28it/s]\n"
     ]
    },
    {
     "name": "stdout",
     "output_type": "stream",
     "text": [
      "                   name  auc_mean_original  auc_mean_flipping  p_original_flipping\n",
      "0  yeast-0-3-5-9_vs_7-8           0.640562           0.641706             0.031542\n"
     ]
    },
    {
     "name": "stderr",
     "output_type": "stream",
     "text": [
      "10000it [01:13, 135.20it/s]\n"
     ]
    },
    {
     "name": "stdout",
     "output_type": "stream",
     "text": [
      "           name  auc_mean_original  auc_mean_flipping  p_original_flipping\n",
      "0  mammographic           0.787453           0.792156                  0.0\n"
     ]
    },
    {
     "name": "stderr",
     "output_type": "stream",
     "text": [
      "10000it [01:27, 113.76it/s]\n"
     ]
    },
    {
     "name": "stdout",
     "output_type": "stream",
     "text": [
      "      name  auc_mean_original  auc_mean_flipping  p_original_flipping\n",
      "0  saheart           0.584354           0.584651             0.208094\n"
     ]
    },
    {
     "name": "stderr",
     "output_type": "stream",
     "text": [
      "10000it [00:51, 195.15it/s]\n"
     ]
    },
    {
     "name": "stdout",
     "output_type": "stream",
     "text": [
      "                           name  auc_mean_original  auc_mean_flipping  p_original_flipping\n",
      "0  lymphography-normal-fibrosis            0.88682           0.890285             0.064449\n"
     ]
    },
    {
     "name": "stderr",
     "output_type": "stream",
     "text": [
      "10000it [01:52, 88.51it/s]\n"
     ]
    },
    {
     "name": "stdout",
     "output_type": "stream",
     "text": [
      "   name  auc_mean_original  auc_mean_flipping  p_original_flipping\n",
      "0  pima           0.670952           0.672747         5.900418e-15\n"
     ]
    },
    {
     "name": "stderr",
     "output_type": "stream",
     "text": [
      "10000it [01:15, 131.59it/s]\n"
     ]
    },
    {
     "name": "stdout",
     "output_type": "stream",
     "text": [
      "        name  auc_mean_original  auc_mean_flipping  p_original_flipping\n",
      "0  wisconsin           0.936888           0.940034         8.584579e-59\n"
     ]
    },
    {
     "name": "stderr",
     "output_type": "stream",
     "text": [
      "10000it [02:32, 65.58it/s]\n"
     ]
    },
    {
     "name": "stdout",
     "output_type": "stream",
     "text": [
      "          name  auc_mean_original  auc_mean_flipping  p_original_flipping\n",
      "0  abalone9_18           0.647644           0.648253             0.147763\n"
     ]
    },
    {
     "name": "stderr",
     "output_type": "stream",
     "text": [
      "10000it [02:01, 82.52it/s]\n"
     ]
    },
    {
     "name": "stdout",
     "output_type": "stream",
     "text": [
      "                     name  auc_mean_original  auc_mean_flipping  p_original_flipping\n",
      "0  winequality-red-3_vs_5            0.51386            0.51316             0.903389\n"
     ]
    },
    {
     "name": "stderr",
     "output_type": "stream",
     "text": [
      "10000it [02:31, 65.96it/s]\n"
     ]
    },
    {
     "name": "stdout",
     "output_type": "stream",
     "text": [
      "  name  auc_mean_original  auc_mean_flipping  p_original_flipping\n",
      "0  CM1            0.56772           0.569171             0.009961\n"
     ]
    },
    {
     "name": "stderr",
     "output_type": "stream",
     "text": [
      "10000it [02:02, 81.48it/s]\n"
     ]
    },
    {
     "name": "stdout",
     "output_type": "stream",
     "text": [
      "         name  auc_mean_original  auc_mean_flipping  p_original_flipping\n",
      "0  australian           0.807123           0.808399         4.999804e-11\n"
     ]
    },
    {
     "name": "stderr",
     "output_type": "stream",
     "text": [
      "10000it [04:00, 41.62it/s]\n"
     ]
    },
    {
     "name": "stdout",
     "output_type": "stream",
     "text": [
      "     name  auc_mean_original  auc_mean_flipping  p_original_flipping\n",
      "0  SPECTF           0.614405           0.617447         5.468773e-08\n"
     ]
    }
   ],
   "source": [
    "results_pdf = evaluate(scenarios=scenarios, \n",
    "                        compare=compare, \n",
    "                        data_loaders=data_loaders,\n",
    "                        validator_params=validator_params,\n",
    "                        score='auc')"
   ]
  },
  {
   "cell_type": "code",
   "execution_count": 6,
   "metadata": {},
   "outputs": [
    {
     "data": {
      "text/html": [
       "<div>\n",
       "<style scoped>\n",
       "    .dataframe tbody tr th:only-of-type {\n",
       "        vertical-align: middle;\n",
       "    }\n",
       "\n",
       "    .dataframe tbody tr th {\n",
       "        vertical-align: top;\n",
       "    }\n",
       "\n",
       "    .dataframe thead th {\n",
       "        text-align: right;\n",
       "    }\n",
       "</style>\n",
       "<table border=\"1\" class=\"dataframe\">\n",
       "  <thead>\n",
       "    <tr style=\"text-align: right;\">\n",
       "      <th></th>\n",
       "      <th>name</th>\n",
       "      <th>auc_mean_original</th>\n",
       "      <th>auc_mean_flipping</th>\n",
       "      <th>p_original_flipping</th>\n",
       "    </tr>\n",
       "  </thead>\n",
       "  <tbody>\n",
       "    <tr>\n",
       "      <th>0</th>\n",
       "      <td>haberman</td>\n",
       "      <td>0.557715</td>\n",
       "      <td>0.561492</td>\n",
       "      <td>3.243612e-24</td>\n",
       "    </tr>\n",
       "    <tr>\n",
       "      <th>1</th>\n",
       "      <td>new_thyroid1</td>\n",
       "      <td>0.930181</td>\n",
       "      <td>0.935397</td>\n",
       "      <td>2.082699e-32</td>\n",
       "    </tr>\n",
       "    <tr>\n",
       "      <th>2</th>\n",
       "      <td>shuttle-6_vs_2-3</td>\n",
       "      <td>1.000000</td>\n",
       "      <td>1.000000</td>\n",
       "      <td>5.000000e-01</td>\n",
       "    </tr>\n",
       "    <tr>\n",
       "      <th>3</th>\n",
       "      <td>bupa</td>\n",
       "      <td>0.625036</td>\n",
       "      <td>0.627379</td>\n",
       "      <td>7.153634e-13</td>\n",
       "    </tr>\n",
       "    <tr>\n",
       "      <th>4</th>\n",
       "      <td>cleveland-0_vs_4</td>\n",
       "      <td>0.670471</td>\n",
       "      <td>0.676070</td>\n",
       "      <td>1.920835e-02</td>\n",
       "    </tr>\n",
       "    <tr>\n",
       "      <th>5</th>\n",
       "      <td>ecoli1</td>\n",
       "      <td>0.832487</td>\n",
       "      <td>0.833102</td>\n",
       "      <td>7.164769e-01</td>\n",
       "    </tr>\n",
       "    <tr>\n",
       "      <th>6</th>\n",
       "      <td>poker-9_vs_7</td>\n",
       "      <td>0.607078</td>\n",
       "      <td>0.608488</td>\n",
       "      <td>1.156361e-09</td>\n",
       "    </tr>\n",
       "    <tr>\n",
       "      <th>7</th>\n",
       "      <td>monk-2</td>\n",
       "      <td>1.000000</td>\n",
       "      <td>1.000000</td>\n",
       "      <td>5.000000e-01</td>\n",
       "    </tr>\n",
       "    <tr>\n",
       "      <th>8</th>\n",
       "      <td>hepatitis</td>\n",
       "      <td>0.666689</td>\n",
       "      <td>0.668650</td>\n",
       "      <td>1.782507e-03</td>\n",
       "    </tr>\n",
       "    <tr>\n",
       "      <th>9</th>\n",
       "      <td>yeast-0-3-5-9_vs_7-8</td>\n",
       "      <td>0.640562</td>\n",
       "      <td>0.641706</td>\n",
       "      <td>3.154189e-02</td>\n",
       "    </tr>\n",
       "    <tr>\n",
       "      <th>10</th>\n",
       "      <td>mammographic</td>\n",
       "      <td>0.787453</td>\n",
       "      <td>0.792156</td>\n",
       "      <td>0.000000e+00</td>\n",
       "    </tr>\n",
       "    <tr>\n",
       "      <th>11</th>\n",
       "      <td>saheart</td>\n",
       "      <td>0.584354</td>\n",
       "      <td>0.584651</td>\n",
       "      <td>2.080942e-01</td>\n",
       "    </tr>\n",
       "    <tr>\n",
       "      <th>12</th>\n",
       "      <td>lymphography-normal-fibrosis</td>\n",
       "      <td>0.886820</td>\n",
       "      <td>0.890285</td>\n",
       "      <td>6.444933e-02</td>\n",
       "    </tr>\n",
       "    <tr>\n",
       "      <th>13</th>\n",
       "      <td>pima</td>\n",
       "      <td>0.670952</td>\n",
       "      <td>0.672747</td>\n",
       "      <td>5.900418e-15</td>\n",
       "    </tr>\n",
       "    <tr>\n",
       "      <th>14</th>\n",
       "      <td>wisconsin</td>\n",
       "      <td>0.936888</td>\n",
       "      <td>0.940034</td>\n",
       "      <td>8.584579e-59</td>\n",
       "    </tr>\n",
       "    <tr>\n",
       "      <th>15</th>\n",
       "      <td>abalone9_18</td>\n",
       "      <td>0.647644</td>\n",
       "      <td>0.648253</td>\n",
       "      <td>1.477627e-01</td>\n",
       "    </tr>\n",
       "    <tr>\n",
       "      <th>16</th>\n",
       "      <td>winequality-red-3_vs_5</td>\n",
       "      <td>0.513860</td>\n",
       "      <td>0.513160</td>\n",
       "      <td>9.033892e-01</td>\n",
       "    </tr>\n",
       "    <tr>\n",
       "      <th>17</th>\n",
       "      <td>CM1</td>\n",
       "      <td>0.567720</td>\n",
       "      <td>0.569171</td>\n",
       "      <td>9.960763e-03</td>\n",
       "    </tr>\n",
       "    <tr>\n",
       "      <th>18</th>\n",
       "      <td>australian</td>\n",
       "      <td>0.807123</td>\n",
       "      <td>0.808399</td>\n",
       "      <td>4.999804e-11</td>\n",
       "    </tr>\n",
       "    <tr>\n",
       "      <th>19</th>\n",
       "      <td>SPECTF</td>\n",
       "      <td>0.614405</td>\n",
       "      <td>0.617447</td>\n",
       "      <td>5.468773e-08</td>\n",
       "    </tr>\n",
       "  </tbody>\n",
       "</table>\n",
       "</div>"
      ],
      "text/plain": [
       "                            name  auc_mean_original  auc_mean_flipping  p_original_flipping\n",
       "0                       haberman           0.557715           0.561492         3.243612e-24\n",
       "1                   new_thyroid1           0.930181           0.935397         2.082699e-32\n",
       "2               shuttle-6_vs_2-3           1.000000           1.000000         5.000000e-01\n",
       "3                           bupa           0.625036           0.627379         7.153634e-13\n",
       "4               cleveland-0_vs_4           0.670471           0.676070         1.920835e-02\n",
       "5                         ecoli1           0.832487           0.833102         7.164769e-01\n",
       "6                   poker-9_vs_7           0.607078           0.608488         1.156361e-09\n",
       "7                         monk-2           1.000000           1.000000         5.000000e-01\n",
       "8                      hepatitis           0.666689           0.668650         1.782507e-03\n",
       "9           yeast-0-3-5-9_vs_7-8           0.640562           0.641706         3.154189e-02\n",
       "10                  mammographic           0.787453           0.792156         0.000000e+00\n",
       "11                       saheart           0.584354           0.584651         2.080942e-01\n",
       "12  lymphography-normal-fibrosis           0.886820           0.890285         6.444933e-02\n",
       "13                          pima           0.670952           0.672747         5.900418e-15\n",
       "14                     wisconsin           0.936888           0.940034         8.584579e-59\n",
       "15                   abalone9_18           0.647644           0.648253         1.477627e-01\n",
       "16        winequality-red-3_vs_5           0.513860           0.513160         9.033892e-01\n",
       "17                           CM1           0.567720           0.569171         9.960763e-03\n",
       "18                    australian           0.807123           0.808399         4.999804e-11\n",
       "19                        SPECTF           0.614405           0.617447         5.468773e-08"
      ]
     },
     "execution_count": 6,
     "metadata": {},
     "output_type": "execute_result"
    }
   ],
   "source": [
    "results_pdf[['name', 'auc_mean_original', 'auc_mean_flipping', 'p_original_flipping']]"
   ]
  },
  {
   "cell_type": "code",
   "execution_count": 7,
   "metadata": {},
   "outputs": [],
   "source": [
    "results_pdf.to_csv('experiment-classification-dt.csv')"
   ]
  },
  {
   "cell_type": "code",
   "execution_count": null,
   "metadata": {},
   "outputs": [],
   "source": []
  }
 ],
 "metadata": {
  "kernelspec": {
   "display_name": "smote_clean",
   "language": "python",
   "name": "python3"
  },
  "language_info": {
   "codemirror_mode": {
    "name": "ipython",
    "version": 3
   },
   "file_extension": ".py",
   "mimetype": "text/x-python",
   "name": "python",
   "nbconvert_exporter": "python",
   "pygments_lexer": "ipython3",
   "version": "3.10.0"
  },
  "orig_nbformat": 4,
  "vscode": {
   "interpreter": {
    "hash": "499044d5ebe425087106556eea30a149e28227c692f9b3f42bc5fd0f94503385"
   }
  }
 },
 "nbformat": 4,
 "nbformat_minor": 2
}
