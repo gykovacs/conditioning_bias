{
 "cells": [
  {
   "cell_type": "code",
   "execution_count": 5,
   "metadata": {},
   "outputs": [],
   "source": [
    "import pandas as pd\n",
    "\n",
    "pd.set_option('display.width', 200)\n",
    "\n",
    "from sklearn.tree import DecisionTreeClassifier\n",
    "\n",
    "from flipping_random_forest import MirroredDecisionTreeClassifier, evaluate\n",
    "\n",
    "from datasets import binclas_datasets"
   ]
  },
  {
   "cell_type": "code",
   "execution_count": 6,
   "metadata": {},
   "outputs": [],
   "source": [
    "data_loaders = binclas_datasets['data_loader_function'].values.tolist()"
   ]
  },
  {
   "cell_type": "code",
   "execution_count": 7,
   "metadata": {},
   "outputs": [],
   "source": [
    "scenarios=[{'name': 'original',\n",
    "            'estimator': DecisionTreeClassifier,\n",
    "            'estimator_params': {},\n",
    "            'multiplier': 1},\n",
    "            \n",
    "            {'name': 'mirrored',\n",
    "            'estimator': MirroredDecisionTreeClassifier,\n",
    "            'estimator_params': {},\n",
    "            'multiplier': 1},\n",
    "            \n",
    "            {'name': 'inverted',\n",
    "            'estimator': DecisionTreeClassifier,\n",
    "            'estimator_params': {},\n",
    "            'multiplier': -1}]\n",
    "            \n",
    "compare=[('original', 'mirrored'), \n",
    "            ('original', 'inverted')]\n",
    "\n",
    "total = 10_000\n",
    "\n",
    "validator_params = {'n_repeats': int(total/5),\n",
    "                    'n_splits': 5,\n",
    "                    'random_state': 5}\n",
    "\n",
    "validator_params_5 = {'n_repeats': int(total/5),\n",
    "                    'n_splits': 5,\n",
    "                    'random_state': 5}\n",
    "\n",
    "validator_params_4 = {'n_repeats': int(total/4),\n",
    "                    'n_splits': 4,\n",
    "                    'random_state': 5}\n",
    "\n",
    "validator_params_3 = {'n_repeats': int(total/3),\n",
    "                    'n_splits': 3,\n",
    "                    'random_state': 5}\n",
    "\n",
    "validator_params_2 = {'n_repeats': int(total/2),\n",
    "                    'n_splits': 2,\n",
    "                    'random_state': 5}"
   ]
  },
  {
   "cell_type": "code",
   "execution_count": 8,
   "metadata": {},
   "outputs": [
    {
     "name": "stderr",
     "output_type": "stream",
     "text": [
      "10000it [00:57, 173.38it/s]\n"
     ]
    },
    {
     "name": "stdout",
     "output_type": "stream",
     "text": [
      "       name  auc_mean_original  auc_mean_mirrored  auc_mean_inverted  p_original_mirrored  p_original_inverted\n",
      "0  haberman           0.562075           0.562739           0.563351              0.00019             0.000012\n"
     ]
    },
    {
     "name": "stderr",
     "output_type": "stream",
     "text": [
      "10000it [00:46, 213.27it/s]\n"
     ]
    },
    {
     "name": "stdout",
     "output_type": "stream",
     "text": [
      "           name  auc_mean_original  auc_mean_mirrored  auc_mean_inverted  p_original_mirrored  p_original_inverted\n",
      "0  new_thyroid1           0.914558            0.91345           0.913606             0.995066             0.999915\n"
     ]
    },
    {
     "name": "stderr",
     "output_type": "stream",
     "text": [
      "10000it [00:46, 216.78it/s]\n"
     ]
    },
    {
     "name": "stdout",
     "output_type": "stream",
     "text": [
      "               name  auc_mean_original  auc_mean_mirrored  auc_mean_inverted  p_original_mirrored  p_original_inverted\n",
      "0  shuttle-6_vs_2-3            0.99767            0.99767            0.99767                  0.5                  0.5\n"
     ]
    },
    {
     "name": "stderr",
     "output_type": "stream",
     "text": [
      "10000it [00:56, 176.43it/s]\n"
     ]
    },
    {
     "name": "stdout",
     "output_type": "stream",
     "text": [
      "   name  auc_mean_original  auc_mean_mirrored  auc_mean_inverted  p_original_mirrored  p_original_inverted\n",
      "0  bupa           0.612383           0.611131           0.611343                  1.0             0.999975\n"
     ]
    },
    {
     "name": "stderr",
     "output_type": "stream",
     "text": [
      "10000it [00:46, 213.27it/s]\n"
     ]
    },
    {
     "name": "stdout",
     "output_type": "stream",
     "text": [
      "               name  auc_mean_original  auc_mean_mirrored  auc_mean_inverted  p_original_mirrored  p_original_inverted\n",
      "0  cleveland-0_vs_4           0.685212           0.691677           0.691957             0.440985         1.731446e-08\n"
     ]
    },
    {
     "name": "stderr",
     "output_type": "stream",
     "text": [
      "10000it [00:51, 194.35it/s]\n"
     ]
    },
    {
     "name": "stdout",
     "output_type": "stream",
     "text": [
      "     name  auc_mean_original  auc_mean_mirrored  auc_mean_inverted  p_original_mirrored  p_original_inverted\n",
      "0  ecoli1           0.825169           0.823712           0.823778                  1.0                  1.0\n"
     ]
    },
    {
     "name": "stderr",
     "output_type": "stream",
     "text": [
      "10000it [00:47, 210.41it/s]\n"
     ]
    },
    {
     "name": "stdout",
     "output_type": "stream",
     "text": [
      "           name  auc_mean_original  auc_mean_mirrored  auc_mean_inverted  p_original_mirrored  p_original_inverted\n",
      "0  poker-9_vs_7           0.612668           0.614637            0.61439        7.610632e-170        6.219554e-102\n"
     ]
    },
    {
     "name": "stderr",
     "output_type": "stream",
     "text": [
      "10000it [00:46, 212.96it/s]\n"
     ]
    },
    {
     "name": "stdout",
     "output_type": "stream",
     "text": [
      "     name  auc_mean_original  auc_mean_mirrored  auc_mean_inverted  p_original_mirrored  p_original_inverted\n",
      "0  monk-2           0.999666           0.999644           0.999636              0.58694             0.586679\n"
     ]
    },
    {
     "name": "stderr",
     "output_type": "stream",
     "text": [
      "10000it [00:48, 205.64it/s]\n"
     ]
    },
    {
     "name": "stdout",
     "output_type": "stream",
     "text": [
      "        name  auc_mean_original  auc_mean_mirrored  auc_mean_inverted  p_original_mirrored  p_original_inverted\n",
      "0  hepatitis           0.669488           0.670275           0.669341         3.064926e-12             0.347255\n"
     ]
    },
    {
     "name": "stderr",
     "output_type": "stream",
     "text": [
      "10000it [00:57, 174.08it/s]\n"
     ]
    },
    {
     "name": "stdout",
     "output_type": "stream",
     "text": [
      "                   name  auc_mean_original  auc_mean_mirrored  auc_mean_inverted  p_original_mirrored  p_original_inverted\n",
      "0  yeast-0-3-5-9_vs_7-8           0.622614           0.622591           0.622817             0.016361             0.437637\n"
     ]
    },
    {
     "name": "stderr",
     "output_type": "stream",
     "text": [
      "10000it [01:03, 156.90it/s]\n"
     ]
    },
    {
     "name": "stdout",
     "output_type": "stream",
     "text": [
      "           name  auc_mean_original  auc_mean_mirrored  auc_mean_inverted  p_original_mirrored  p_original_inverted\n",
      "0  mammographic           0.776725           0.777855            0.77775         1.645261e-47         1.904260e-24\n"
     ]
    },
    {
     "name": "stderr",
     "output_type": "stream",
     "text": [
      "10000it [01:09, 142.92it/s]\n"
     ]
    },
    {
     "name": "stdout",
     "output_type": "stream",
     "text": [
      "      name  auc_mean_original  auc_mean_mirrored  auc_mean_inverted  p_original_mirrored  p_original_inverted\n",
      "0  saheart           0.585994           0.585838           0.585737                  1.0             0.873503\n"
     ]
    },
    {
     "name": "stderr",
     "output_type": "stream",
     "text": [
      "10000it [00:47, 212.29it/s]\n"
     ]
    },
    {
     "name": "stdout",
     "output_type": "stream",
     "text": [
      "                           name  auc_mean_original  auc_mean_mirrored  auc_mean_inverted  p_original_mirrored  p_original_inverted\n",
      "0  lymphography-normal-fibrosis           0.794672           0.811956           0.811985         1.516172e-91         4.607660e-76\n"
     ]
    },
    {
     "name": "stderr",
     "output_type": "stream",
     "text": [
      "10000it [01:22, 121.67it/s]\n"
     ]
    },
    {
     "name": "stdout",
     "output_type": "stream",
     "text": [
      "   name  auc_mean_original  auc_mean_mirrored  auc_mean_inverted  p_original_mirrored  p_original_inverted\n",
      "0  pima           0.664005           0.663843           0.663559             0.999892              0.99155\n"
     ]
    },
    {
     "name": "stderr",
     "output_type": "stream",
     "text": [
      "10000it [00:52, 190.27it/s]\n"
     ]
    },
    {
     "name": "stdout",
     "output_type": "stream",
     "text": [
      "        name  auc_mean_original  auc_mean_mirrored  auc_mean_inverted  p_original_mirrored  p_original_inverted\n",
      "0  wisconsin           0.931747           0.933473           0.933446        1.054321e-172         7.055495e-49\n"
     ]
    },
    {
     "name": "stderr",
     "output_type": "stream",
     "text": [
      "10000it [01:12, 138.88it/s]\n"
     ]
    },
    {
     "name": "stdout",
     "output_type": "stream",
     "text": [
      "          name  auc_mean_original  auc_mean_mirrored  auc_mean_inverted  p_original_mirrored  p_original_inverted\n",
      "0  abalone9_18           0.634248           0.634091           0.633913             0.999995             0.740775\n"
     ]
    },
    {
     "name": "stderr",
     "output_type": "stream",
     "text": [
      "10000it [01:07, 147.96it/s]\n"
     ]
    },
    {
     "name": "stdout",
     "output_type": "stream",
     "text": [
      "                     name  auc_mean_original  auc_mean_mirrored  auc_mean_inverted  p_original_mirrored  p_original_inverted\n",
      "0  winequality-red-3_vs_5           0.532837           0.532833           0.532837                  1.0             0.920208\n"
     ]
    },
    {
     "name": "stderr",
     "output_type": "stream",
     "text": [
      "10000it [01:20, 124.23it/s]\n"
     ]
    },
    {
     "name": "stdout",
     "output_type": "stream",
     "text": [
      "  name  auc_mean_original  auc_mean_mirrored  auc_mean_inverted  p_original_mirrored  p_original_inverted\n",
      "0  CM1           0.559424            0.55978           0.559773             0.490327              0.22697\n"
     ]
    },
    {
     "name": "stderr",
     "output_type": "stream",
     "text": [
      "10000it [01:15, 132.90it/s]\n"
     ]
    },
    {
     "name": "stdout",
     "output_type": "stream",
     "text": [
      "         name  auc_mean_original  auc_mean_mirrored  auc_mean_inverted  p_original_mirrored  p_original_inverted\n",
      "0  australian           0.801894           0.802168           0.802273         3.272548e-08              0.00454\n"
     ]
    },
    {
     "name": "stderr",
     "output_type": "stream",
     "text": [
      "10000it [01:18, 127.95it/s]"
     ]
    },
    {
     "name": "stdout",
     "output_type": "stream",
     "text": [
      "     name  auc_mean_original  auc_mean_mirrored  auc_mean_inverted  p_original_mirrored  p_original_inverted\n",
      "0  SPECTF           0.613038            0.61416           0.614016             0.410081             0.037908\n"
     ]
    },
    {
     "name": "stderr",
     "output_type": "stream",
     "text": [
      "\n"
     ]
    }
   ],
   "source": [
    "results_pdf_2 = evaluate(scenarios=scenarios, \n",
    "                        compare=compare, \n",
    "                        data_loaders=data_loaders,\n",
    "                        validator_params=validator_params_2,\n",
    "                        score='auc',\n",
    "                        random_state=5)"
   ]
  },
  {
   "cell_type": "code",
   "execution_count": 9,
   "metadata": {},
   "outputs": [
    {
     "name": "stderr",
     "output_type": "stream",
     "text": [
      "9999it [00:52, 189.33it/s]\n"
     ]
    },
    {
     "name": "stdout",
     "output_type": "stream",
     "text": [
      "       name  auc_mean_original  auc_mean_mirrored  auc_mean_inverted  p_original_mirrored  p_original_inverted\n",
      "0  haberman           0.560115           0.561411           0.561388         7.404232e-09             0.000127\n"
     ]
    },
    {
     "name": "stderr",
     "output_type": "stream",
     "text": [
      "9999it [00:43, 227.51it/s]\n"
     ]
    },
    {
     "name": "stdout",
     "output_type": "stream",
     "text": [
      "           name  auc_mean_original  auc_mean_mirrored  auc_mean_inverted  p_original_mirrored  p_original_inverted\n",
      "0  new_thyroid1           0.922992           0.922489           0.922559             0.351674             0.544504\n"
     ]
    },
    {
     "name": "stderr",
     "output_type": "stream",
     "text": [
      "9999it [00:43, 229.91it/s]\n"
     ]
    },
    {
     "name": "stdout",
     "output_type": "stream",
     "text": [
      "               name  auc_mean_original  auc_mean_mirrored  auc_mean_inverted  p_original_mirrored  p_original_inverted\n",
      "0  shuttle-6_vs_2-3             0.9998             0.9998             0.9998                  0.5                  0.5\n"
     ]
    },
    {
     "name": "stderr",
     "output_type": "stream",
     "text": [
      "9999it [00:56, 177.11it/s]\n"
     ]
    },
    {
     "name": "stdout",
     "output_type": "stream",
     "text": [
      "   name  auc_mean_original  auc_mean_mirrored  auc_mean_inverted  p_original_mirrored  p_original_inverted\n",
      "0  bupa           0.620655           0.619215            0.61904                  1.0             0.999997\n"
     ]
    },
    {
     "name": "stderr",
     "output_type": "stream",
     "text": [
      "9999it [00:44, 224.96it/s]\n"
     ]
    },
    {
     "name": "stdout",
     "output_type": "stream",
     "text": [
      "               name  auc_mean_original  auc_mean_mirrored  auc_mean_inverted  p_original_mirrored  p_original_inverted\n",
      "0  cleveland-0_vs_4           0.679325           0.685718           0.686414             0.490544         4.051709e-07\n"
     ]
    },
    {
     "name": "stderr",
     "output_type": "stream",
     "text": [
      "9999it [00:48, 204.69it/s]\n"
     ]
    },
    {
     "name": "stdout",
     "output_type": "stream",
     "text": [
      "     name  auc_mean_original  auc_mean_mirrored  auc_mean_inverted  p_original_mirrored  p_original_inverted\n",
      "0  ecoli1           0.829233           0.827207           0.827146                  1.0                  1.0\n"
     ]
    },
    {
     "name": "stderr",
     "output_type": "stream",
     "text": [
      "9999it [00:45, 222.03it/s]\n"
     ]
    },
    {
     "name": "stdout",
     "output_type": "stream",
     "text": [
      "           name  auc_mean_original  auc_mean_mirrored  auc_mean_inverted  p_original_mirrored  p_original_inverted\n",
      "0  poker-9_vs_7           0.620161           0.622056            0.62149        2.123352e-184        2.752975e-102\n"
     ]
    },
    {
     "name": "stderr",
     "output_type": "stream",
     "text": [
      "9999it [00:51, 194.63it/s]\n"
     ]
    },
    {
     "name": "stdout",
     "output_type": "stream",
     "text": [
      "     name  auc_mean_original  auc_mean_mirrored  auc_mean_inverted  p_original_mirrored  p_original_inverted\n",
      "0  monk-2           0.999978           0.999978           0.999972                  0.5             0.500001\n"
     ]
    },
    {
     "name": "stderr",
     "output_type": "stream",
     "text": [
      "9999it [00:52, 190.35it/s]\n"
     ]
    },
    {
     "name": "stdout",
     "output_type": "stream",
     "text": [
      "        name  auc_mean_original  auc_mean_mirrored  auc_mean_inverted  p_original_mirrored  p_original_inverted\n",
      "0  hepatitis           0.669032           0.670089           0.670348         2.872482e-15             0.002079\n"
     ]
    },
    {
     "name": "stderr",
     "output_type": "stream",
     "text": [
      "9999it [01:23, 119.72it/s]\n"
     ]
    },
    {
     "name": "stdout",
     "output_type": "stream",
     "text": [
      "                   name  auc_mean_original  auc_mean_mirrored  auc_mean_inverted  p_original_mirrored  p_original_inverted\n",
      "0  yeast-0-3-5-9_vs_7-8            0.63133           0.631086           0.631079         4.941838e-08             0.745031\n"
     ]
    },
    {
     "name": "stderr",
     "output_type": "stream",
     "text": [
      "9999it [01:18, 126.90it/s]\n"
     ]
    },
    {
     "name": "stdout",
     "output_type": "stream",
     "text": [
      "           name  auc_mean_original  auc_mean_mirrored  auc_mean_inverted  p_original_mirrored  p_original_inverted\n",
      "0  mammographic           0.782393           0.783427           0.783364         3.613613e-33         1.139099e-19\n"
     ]
    },
    {
     "name": "stderr",
     "output_type": "stream",
     "text": [
      "9999it [01:36, 103.97it/s]\n"
     ]
    },
    {
     "name": "stdout",
     "output_type": "stream",
     "text": [
      "      name  auc_mean_original  auc_mean_mirrored  auc_mean_inverted  p_original_mirrored  p_original_inverted\n",
      "0  saheart           0.585221           0.584894           0.584841                  1.0               0.9131\n"
     ]
    },
    {
     "name": "stderr",
     "output_type": "stream",
     "text": [
      "9999it [00:52, 189.56it/s]\n"
     ]
    },
    {
     "name": "stdout",
     "output_type": "stream",
     "text": [
      "                           name  auc_mean_original  auc_mean_mirrored  auc_mean_inverted  p_original_mirrored  p_original_inverted\n",
      "0  lymphography-normal-fibrosis           0.845215           0.853663           0.855365         3.518337e-12         1.169850e-10\n"
     ]
    },
    {
     "name": "stderr",
     "output_type": "stream",
     "text": [
      "9999it [01:49, 91.17it/s] \n"
     ]
    },
    {
     "name": "stdout",
     "output_type": "stream",
     "text": [
      "   name  auc_mean_original  auc_mean_mirrored  auc_mean_inverted  p_original_mirrored  p_original_inverted\n",
      "0  pima           0.667901           0.667312           0.667099                  1.0             0.999969\n"
     ]
    },
    {
     "name": "stderr",
     "output_type": "stream",
     "text": [
      "9999it [01:01, 162.98it/s]\n"
     ]
    },
    {
     "name": "stdout",
     "output_type": "stream",
     "text": [
      "        name  auc_mean_original  auc_mean_mirrored  auc_mean_inverted  p_original_mirrored  p_original_inverted\n",
      "0  wisconsin           0.934215           0.935852           0.935909        5.506782e-107         3.617907e-33\n"
     ]
    },
    {
     "name": "stderr",
     "output_type": "stream",
     "text": [
      "9999it [01:33, 107.39it/s]\n"
     ]
    },
    {
     "name": "stdout",
     "output_type": "stream",
     "text": [
      "          name  auc_mean_original  auc_mean_mirrored  auc_mean_inverted  p_original_mirrored  p_original_inverted\n",
      "0  abalone9_18           0.644752           0.644759           0.644535             0.486168             0.877561\n"
     ]
    },
    {
     "name": "stderr",
     "output_type": "stream",
     "text": [
      "9999it [01:21, 123.30it/s]\n"
     ]
    },
    {
     "name": "stdout",
     "output_type": "stream",
     "text": [
      "                     name  auc_mean_original  auc_mean_mirrored  auc_mean_inverted  p_original_mirrored  p_original_inverted\n",
      "0  winequality-red-3_vs_5           0.523649           0.523554           0.523864             0.999601             0.939878\n"
     ]
    },
    {
     "name": "stderr",
     "output_type": "stream",
     "text": [
      "9999it [01:50, 90.11it/s] \n"
     ]
    },
    {
     "name": "stdout",
     "output_type": "stream",
     "text": [
      "  name  auc_mean_original  auc_mean_mirrored  auc_mean_inverted  p_original_mirrored  p_original_inverted\n",
      "0  CM1           0.562217           0.562586           0.561689             0.862198             0.868905\n"
     ]
    },
    {
     "name": "stderr",
     "output_type": "stream",
     "text": [
      "9999it [01:31, 109.31it/s]\n"
     ]
    },
    {
     "name": "stdout",
     "output_type": "stream",
     "text": [
      "         name  auc_mean_original  auc_mean_mirrored  auc_mean_inverted  p_original_mirrored  p_original_inverted\n",
      "0  australian           0.803851           0.803821           0.803795             0.975183             0.696295\n"
     ]
    },
    {
     "name": "stderr",
     "output_type": "stream",
     "text": [
      "9999it [01:46, 93.81it/s] "
     ]
    },
    {
     "name": "stdout",
     "output_type": "stream",
     "text": [
      "     name  auc_mean_original  auc_mean_mirrored  auc_mean_inverted  p_original_mirrored  p_original_inverted\n",
      "0  SPECTF           0.614153           0.615048           0.615313             0.999922             0.008074\n"
     ]
    },
    {
     "name": "stderr",
     "output_type": "stream",
     "text": [
      "\n"
     ]
    }
   ],
   "source": [
    "results_pdf_3 = evaluate(scenarios=scenarios, \n",
    "                        compare=compare, \n",
    "                        data_loaders=data_loaders,\n",
    "                        validator_params=validator_params_3,\n",
    "                        score='auc',\n",
    "                        random_state=5)"
   ]
  },
  {
   "cell_type": "code",
   "execution_count": 10,
   "metadata": {},
   "outputs": [
    {
     "name": "stderr",
     "output_type": "stream",
     "text": [
      "10000it [00:57, 174.23it/s]\n"
     ]
    },
    {
     "name": "stdout",
     "output_type": "stream",
     "text": [
      "       name  auc_mean_original  auc_mean_mirrored  auc_mean_inverted  p_original_mirrored  p_original_inverted\n",
      "0  haberman           0.558956           0.560281           0.560758             0.000002             0.000007\n"
     ]
    },
    {
     "name": "stderr",
     "output_type": "stream",
     "text": [
      "10000it [00:46, 215.86it/s]\n"
     ]
    },
    {
     "name": "stdout",
     "output_type": "stream",
     "text": [
      "           name  auc_mean_original  auc_mean_mirrored  auc_mean_inverted  p_original_mirrored  p_original_inverted\n",
      "0  new_thyroid1           0.927338           0.928047           0.927912              0.00003             0.022532\n"
     ]
    },
    {
     "name": "stderr",
     "output_type": "stream",
     "text": [
      "10000it [00:43, 231.60it/s]\n"
     ]
    },
    {
     "name": "stdout",
     "output_type": "stream",
     "text": [
      "               name  auc_mean_original  auc_mean_mirrored  auc_mean_inverted  p_original_mirrored  p_original_inverted\n",
      "0  shuttle-6_vs_2-3                1.0                1.0                1.0                  0.5                  0.5\n"
     ]
    },
    {
     "name": "stderr",
     "output_type": "stream",
     "text": [
      "10000it [01:05, 152.34it/s]\n"
     ]
    },
    {
     "name": "stdout",
     "output_type": "stream",
     "text": [
      "   name  auc_mean_original  auc_mean_mirrored  auc_mean_inverted  p_original_mirrored  p_original_inverted\n",
      "0  bupa           0.623823           0.622642            0.62288                  1.0             0.999588\n"
     ]
    },
    {
     "name": "stderr",
     "output_type": "stream",
     "text": [
      "10000it [00:47, 208.68it/s]\n"
     ]
    },
    {
     "name": "stdout",
     "output_type": "stream",
     "text": [
      "               name  auc_mean_original  auc_mean_mirrored  auc_mean_inverted  p_original_mirrored  p_original_inverted\n",
      "0  cleveland-0_vs_4           0.673563           0.679123           0.680245             0.407708             0.000325\n"
     ]
    },
    {
     "name": "stderr",
     "output_type": "stream",
     "text": [
      "10000it [00:51, 195.44it/s]\n"
     ]
    },
    {
     "name": "stdout",
     "output_type": "stream",
     "text": [
      "     name  auc_mean_original  auc_mean_mirrored  auc_mean_inverted  p_original_mirrored  p_original_inverted\n",
      "0  ecoli1           0.831095           0.828258           0.828785                  1.0                  1.0\n"
     ]
    },
    {
     "name": "stderr",
     "output_type": "stream",
     "text": [
      "10000it [00:46, 213.81it/s]\n"
     ]
    },
    {
     "name": "stdout",
     "output_type": "stream",
     "text": [
      "           name  auc_mean_original  auc_mean_mirrored  auc_mean_inverted  p_original_mirrored  p_original_inverted\n",
      "0  poker-9_vs_7           0.614752           0.615631            0.61572        3.147061e-152         1.151790e-93\n"
     ]
    },
    {
     "name": "stderr",
     "output_type": "stream",
     "text": [
      "10000it [00:45, 222.01it/s]\n"
     ]
    },
    {
     "name": "stdout",
     "output_type": "stream",
     "text": [
      "     name  auc_mean_original  auc_mean_mirrored  auc_mean_inverted  p_original_mirrored  p_original_inverted\n",
      "0  monk-2                1.0                1.0                1.0                  0.5                  0.5\n"
     ]
    },
    {
     "name": "stderr",
     "output_type": "stream",
     "text": [
      "10000it [00:50, 199.62it/s]\n"
     ]
    },
    {
     "name": "stdout",
     "output_type": "stream",
     "text": [
      "        name  auc_mean_original  auc_mean_mirrored  auc_mean_inverted  p_original_mirrored  p_original_inverted\n",
      "0  hepatitis           0.668314           0.669617           0.669279         1.595639e-17             0.053397\n"
     ]
    },
    {
     "name": "stderr",
     "output_type": "stream",
     "text": [
      "10000it [01:03, 157.24it/s]\n"
     ]
    },
    {
     "name": "stdout",
     "output_type": "stream",
     "text": [
      "                   name  auc_mean_original  auc_mean_mirrored  auc_mean_inverted  p_original_mirrored  p_original_inverted\n",
      "0  yeast-0-3-5-9_vs_7-8           0.636802           0.636376           0.636605         2.041780e-12             0.497285\n"
     ]
    },
    {
     "name": "stderr",
     "output_type": "stream",
     "text": [
      "10000it [01:11, 139.84it/s]\n"
     ]
    },
    {
     "name": "stdout",
     "output_type": "stream",
     "text": [
      "           name  auc_mean_original  auc_mean_mirrored  auc_mean_inverted  p_original_mirrored  p_original_inverted\n",
      "0  mammographic           0.785441           0.786359           0.786329         2.193101e-23         4.986784e-14\n"
     ]
    },
    {
     "name": "stderr",
     "output_type": "stream",
     "text": [
      "10000it [01:23, 120.07it/s]\n"
     ]
    },
    {
     "name": "stdout",
     "output_type": "stream",
     "text": [
      "      name  auc_mean_original  auc_mean_mirrored  auc_mean_inverted  p_original_mirrored  p_original_inverted\n",
      "0  saheart           0.584957           0.584565            0.58434                  1.0             0.993011\n"
     ]
    },
    {
     "name": "stderr",
     "output_type": "stream",
     "text": [
      "10000it [00:43, 229.24it/s]\n"
     ]
    },
    {
     "name": "stdout",
     "output_type": "stream",
     "text": [
      "                           name  auc_mean_original  auc_mean_mirrored  auc_mean_inverted  p_original_mirrored  p_original_inverted\n",
      "0  lymphography-normal-fibrosis            0.87437           0.879814           0.879599             0.000313             0.008057\n"
     ]
    },
    {
     "name": "stderr",
     "output_type": "stream",
     "text": [
      "10000it [01:39, 100.10it/s]\n"
     ]
    },
    {
     "name": "stdout",
     "output_type": "stream",
     "text": [
      "   name  auc_mean_original  auc_mean_mirrored  auc_mean_inverted  p_original_mirrored  p_original_inverted\n",
      "0  pima           0.670189           0.669089           0.669036                  1.0                  1.0\n"
     ]
    },
    {
     "name": "stderr",
     "output_type": "stream",
     "text": [
      "10000it [00:54, 182.24it/s]\n"
     ]
    },
    {
     "name": "stdout",
     "output_type": "stream",
     "text": [
      "        name  auc_mean_original  auc_mean_mirrored  auc_mean_inverted  p_original_mirrored  p_original_inverted\n",
      "0  wisconsin           0.935564           0.937053           0.936912         1.804100e-60         4.755527e-18\n"
     ]
    },
    {
     "name": "stderr",
     "output_type": "stream",
     "text": [
      "10000it [01:29, 111.56it/s]\n"
     ]
    },
    {
     "name": "stdout",
     "output_type": "stream",
     "text": [
      "          name  auc_mean_original  auc_mean_mirrored  auc_mean_inverted  p_original_mirrored  p_original_inverted\n",
      "0  abalone9_18           0.647304           0.647439           0.647051             0.004088             0.760426\n"
     ]
    },
    {
     "name": "stderr",
     "output_type": "stream",
     "text": [
      "10000it [01:23, 119.59it/s]\n"
     ]
    },
    {
     "name": "stdout",
     "output_type": "stream",
     "text": [
      "                     name  auc_mean_original  auc_mean_mirrored  auc_mean_inverted  p_original_mirrored  p_original_inverted\n",
      "0  winequality-red-3_vs_5           0.517959           0.517786           0.516754             0.988518             0.756874\n"
     ]
    },
    {
     "name": "stderr",
     "output_type": "stream",
     "text": [
      "10000it [01:43, 97.05it/s]\n"
     ]
    },
    {
     "name": "stdout",
     "output_type": "stream",
     "text": [
      "  name  auc_mean_original  auc_mean_mirrored  auc_mean_inverted  p_original_mirrored  p_original_inverted\n",
      "0  CM1           0.565478           0.566262           0.565782             0.433948             0.267669\n"
     ]
    },
    {
     "name": "stderr",
     "output_type": "stream",
     "text": [
      "10000it [01:29, 111.40it/s]\n"
     ]
    },
    {
     "name": "stdout",
     "output_type": "stream",
     "text": [
      "         name  auc_mean_original  auc_mean_mirrored  auc_mean_inverted  p_original_mirrored  p_original_inverted\n",
      "0  australian           0.805199           0.804911           0.805032                  1.0             0.776626\n"
     ]
    },
    {
     "name": "stderr",
     "output_type": "stream",
     "text": [
      "10000it [01:39, 100.13it/s]"
     ]
    },
    {
     "name": "stdout",
     "output_type": "stream",
     "text": [
      "     name  auc_mean_original  auc_mean_mirrored  auc_mean_inverted  p_original_mirrored  p_original_inverted\n",
      "0  SPECTF           0.613547           0.614242           0.614894                  1.0             0.002975\n"
     ]
    },
    {
     "name": "stderr",
     "output_type": "stream",
     "text": [
      "\n"
     ]
    }
   ],
   "source": [
    "results_pdf_4 = evaluate(scenarios=scenarios, \n",
    "                        compare=compare, \n",
    "                        data_loaders=data_loaders,\n",
    "                        validator_params=validator_params_4,\n",
    "                        score='auc',\n",
    "                        random_state=5)"
   ]
  },
  {
   "cell_type": "code",
   "execution_count": 11,
   "metadata": {},
   "outputs": [
    {
     "name": "stderr",
     "output_type": "stream",
     "text": [
      "10000it [00:51, 193.96it/s]\n"
     ]
    },
    {
     "name": "stdout",
     "output_type": "stream",
     "text": [
      "       name  auc_mean_original  auc_mean_mirrored  auc_mean_inverted  p_original_mirrored  p_original_inverted\n",
      "0  haberman           0.557687           0.559026           0.559608              0.00021             0.000005\n"
     ]
    },
    {
     "name": "stderr",
     "output_type": "stream",
     "text": [
      "10000it [00:43, 229.95it/s]\n"
     ]
    },
    {
     "name": "stdout",
     "output_type": "stream",
     "text": [
      "           name  auc_mean_original  auc_mean_mirrored  auc_mean_inverted  p_original_mirrored  p_original_inverted\n",
      "0  new_thyroid1           0.930269           0.931765           0.931897         1.135034e-07             0.000002\n"
     ]
    },
    {
     "name": "stderr",
     "output_type": "stream",
     "text": [
      "10000it [00:42, 237.53it/s]\n"
     ]
    },
    {
     "name": "stdout",
     "output_type": "stream",
     "text": [
      "               name  auc_mean_original  auc_mean_mirrored  auc_mean_inverted  p_original_mirrored  p_original_inverted\n",
      "0  shuttle-6_vs_2-3                1.0                1.0                1.0                  0.5                  0.5\n"
     ]
    },
    {
     "name": "stderr",
     "output_type": "stream",
     "text": [
      "10000it [00:58, 171.99it/s]\n"
     ]
    },
    {
     "name": "stdout",
     "output_type": "stream",
     "text": [
      "   name  auc_mean_original  auc_mean_mirrored  auc_mean_inverted  p_original_mirrored  p_original_inverted\n",
      "0  bupa           0.625265           0.624703           0.624474             0.994233             0.957912\n"
     ]
    },
    {
     "name": "stderr",
     "output_type": "stream",
     "text": [
      "10000it [00:45, 218.74it/s]\n"
     ]
    },
    {
     "name": "stdout",
     "output_type": "stream",
     "text": [
      "               name  auc_mean_original  auc_mean_mirrored  auc_mean_inverted  p_original_mirrored  p_original_inverted\n",
      "0  cleveland-0_vs_4           0.671373            0.67612           0.675601             0.548959             0.320974\n"
     ]
    },
    {
     "name": "stderr",
     "output_type": "stream",
     "text": [
      "10000it [00:50, 198.78it/s]\n"
     ]
    },
    {
     "name": "stdout",
     "output_type": "stream",
     "text": [
      "     name  auc_mean_original  auc_mean_mirrored  auc_mean_inverted  p_original_mirrored  p_original_inverted\n",
      "0  ecoli1           0.832035           0.828822           0.829123                  1.0                  1.0\n"
     ]
    },
    {
     "name": "stderr",
     "output_type": "stream",
     "text": [
      "10000it [00:43, 227.69it/s]\n"
     ]
    },
    {
     "name": "stdout",
     "output_type": "stream",
     "text": [
      "           name  auc_mean_original  auc_mean_mirrored  auc_mean_inverted  p_original_mirrored  p_original_inverted\n",
      "0  poker-9_vs_7           0.608088           0.610042           0.609214        9.805419e-103         1.299950e-68\n"
     ]
    },
    {
     "name": "stderr",
     "output_type": "stream",
     "text": [
      "10000it [00:42, 234.60it/s]\n"
     ]
    },
    {
     "name": "stdout",
     "output_type": "stream",
     "text": [
      "     name  auc_mean_original  auc_mean_mirrored  auc_mean_inverted  p_original_mirrored  p_original_inverted\n",
      "0  monk-2                1.0                1.0                1.0                  0.5                  0.5\n"
     ]
    },
    {
     "name": "stderr",
     "output_type": "stream",
     "text": [
      "10000it [00:47, 209.63it/s]\n"
     ]
    },
    {
     "name": "stdout",
     "output_type": "stream",
     "text": [
      "        name  auc_mean_original  auc_mean_mirrored  auc_mean_inverted  p_original_mirrored  p_original_inverted\n",
      "0  hepatitis           0.667159           0.668684           0.668093         3.484266e-14              0.02299\n"
     ]
    },
    {
     "name": "stderr",
     "output_type": "stream",
     "text": [
      "10000it [01:01, 163.45it/s]\n"
     ]
    },
    {
     "name": "stdout",
     "output_type": "stream",
     "text": [
      "                   name  auc_mean_original  auc_mean_mirrored  auc_mean_inverted  p_original_mirrored  p_original_inverted\n",
      "0  yeast-0-3-5-9_vs_7-8           0.640343           0.639625           0.639734         6.398579e-11             0.634221\n"
     ]
    },
    {
     "name": "stderr",
     "output_type": "stream",
     "text": [
      "10000it [01:08, 146.71it/s]\n"
     ]
    },
    {
     "name": "stdout",
     "output_type": "stream",
     "text": [
      "           name  auc_mean_original  auc_mean_mirrored  auc_mean_inverted  p_original_mirrored  p_original_inverted\n",
      "0  mammographic           0.787439           0.788242           0.787992         3.767139e-15             0.000013\n"
     ]
    },
    {
     "name": "stderr",
     "output_type": "stream",
     "text": [
      "10000it [01:22, 121.40it/s]\n"
     ]
    },
    {
     "name": "stdout",
     "output_type": "stream",
     "text": [
      "      name  auc_mean_original  auc_mean_mirrored  auc_mean_inverted  p_original_mirrored  p_original_inverted\n",
      "0  saheart           0.584743           0.584344           0.584196                  1.0             0.952538\n"
     ]
    },
    {
     "name": "stderr",
     "output_type": "stream",
     "text": [
      "10000it [00:42, 236.32it/s]\n"
     ]
    },
    {
     "name": "stdout",
     "output_type": "stream",
     "text": [
      "                           name  auc_mean_original  auc_mean_mirrored  auc_mean_inverted  p_original_mirrored  p_original_inverted\n",
      "0  lymphography-normal-fibrosis           0.886179           0.888993           0.890199             0.073619             0.030506\n"
     ]
    },
    {
     "name": "stderr",
     "output_type": "stream",
     "text": [
      "10000it [01:38, 101.34it/s]\n"
     ]
    },
    {
     "name": "stdout",
     "output_type": "stream",
     "text": [
      "   name  auc_mean_original  auc_mean_mirrored  auc_mean_inverted  p_original_mirrored  p_original_inverted\n",
      "0  pima           0.671163           0.669999           0.670433                  1.0             0.999665\n"
     ]
    },
    {
     "name": "stderr",
     "output_type": "stream",
     "text": [
      "10000it [00:54, 185.07it/s]\n"
     ]
    },
    {
     "name": "stdout",
     "output_type": "stream",
     "text": [
      "        name  auc_mean_original  auc_mean_mirrored  auc_mean_inverted  p_original_mirrored  p_original_inverted\n",
      "0  wisconsin           0.936861           0.938347           0.938311         2.543394e-44         1.318062e-14\n"
     ]
    },
    {
     "name": "stderr",
     "output_type": "stream",
     "text": [
      "10000it [01:30, 109.92it/s]\n"
     ]
    },
    {
     "name": "stdout",
     "output_type": "stream",
     "text": [
      "          name  auc_mean_original  auc_mean_mirrored  auc_mean_inverted  p_original_mirrored  p_original_inverted\n",
      "0  abalone9_18             0.6475           0.647821           0.647411              0.00007              0.51474\n"
     ]
    },
    {
     "name": "stderr",
     "output_type": "stream",
     "text": [
      "10000it [01:25, 117.04it/s]\n"
     ]
    },
    {
     "name": "stdout",
     "output_type": "stream",
     "text": [
      "                     name  auc_mean_original  auc_mean_mirrored  auc_mean_inverted  p_original_mirrored  p_original_inverted\n",
      "0  winequality-red-3_vs_5            0.51374           0.513631            0.51355             0.950183             0.972473\n"
     ]
    },
    {
     "name": "stderr",
     "output_type": "stream",
     "text": [
      "10000it [01:47, 93.37it/s]\n"
     ]
    },
    {
     "name": "stdout",
     "output_type": "stream",
     "text": [
      "  name  auc_mean_original  auc_mean_mirrored  auc_mean_inverted  p_original_mirrored  p_original_inverted\n",
      "0  CM1           0.568375           0.568719           0.568169             0.996158             0.607441\n"
     ]
    },
    {
     "name": "stderr",
     "output_type": "stream",
     "text": [
      "10000it [01:28, 113.06it/s]\n"
     ]
    },
    {
     "name": "stdout",
     "output_type": "stream",
     "text": [
      "         name  auc_mean_original  auc_mean_mirrored  auc_mean_inverted  p_original_mirrored  p_original_inverted\n",
      "0  australian           0.806902           0.806532           0.806349                  1.0             0.995344\n"
     ]
    },
    {
     "name": "stderr",
     "output_type": "stream",
     "text": [
      "10000it [01:36, 103.71it/s]"
     ]
    },
    {
     "name": "stdout",
     "output_type": "stream",
     "text": [
      "     name  auc_mean_original  auc_mean_mirrored  auc_mean_inverted  p_original_mirrored  p_original_inverted\n",
      "0  SPECTF           0.614876           0.615276           0.615074                  1.0             0.603299\n"
     ]
    },
    {
     "name": "stderr",
     "output_type": "stream",
     "text": [
      "\n"
     ]
    }
   ],
   "source": [
    "results_pdf_5 = evaluate(scenarios=scenarios, \n",
    "                        compare=compare, \n",
    "                        data_loaders=data_loaders,\n",
    "                        validator_params=validator_params_5,\n",
    "                        score='auc',\n",
    "                        random_state=5)"
   ]
  },
  {
   "cell_type": "code",
   "execution_count": 12,
   "metadata": {},
   "outputs": [
    {
     "data": {
      "text/html": [
       "<div>\n",
       "<style scoped>\n",
       "    .dataframe tbody tr th:only-of-type {\n",
       "        vertical-align: middle;\n",
       "    }\n",
       "\n",
       "    .dataframe tbody tr th {\n",
       "        vertical-align: top;\n",
       "    }\n",
       "\n",
       "    .dataframe thead th {\n",
       "        text-align: right;\n",
       "    }\n",
       "</style>\n",
       "<table border=\"1\" class=\"dataframe\">\n",
       "  <thead>\n",
       "    <tr style=\"text-align: right;\">\n",
       "      <th></th>\n",
       "      <th>name</th>\n",
       "      <th>auc_mean_original</th>\n",
       "      <th>auc_mean_mirrored</th>\n",
       "      <th>auc_mean_inverted</th>\n",
       "      <th>p_original_mirrored</th>\n",
       "      <th>p_original_inverted</th>\n",
       "    </tr>\n",
       "  </thead>\n",
       "  <tbody>\n",
       "    <tr>\n",
       "      <th>0</th>\n",
       "      <td>haberman</td>\n",
       "      <td>0.557687</td>\n",
       "      <td>0.559026</td>\n",
       "      <td>0.559608</td>\n",
       "      <td>2.095035e-04</td>\n",
       "      <td>4.768199e-06</td>\n",
       "    </tr>\n",
       "    <tr>\n",
       "      <th>1</th>\n",
       "      <td>new_thyroid1</td>\n",
       "      <td>0.930269</td>\n",
       "      <td>0.931765</td>\n",
       "      <td>0.931897</td>\n",
       "      <td>1.135034e-07</td>\n",
       "      <td>1.996955e-06</td>\n",
       "    </tr>\n",
       "    <tr>\n",
       "      <th>2</th>\n",
       "      <td>shuttle-6_vs_2-3</td>\n",
       "      <td>1.000000</td>\n",
       "      <td>1.000000</td>\n",
       "      <td>1.000000</td>\n",
       "      <td>5.000000e-01</td>\n",
       "      <td>5.000000e-01</td>\n",
       "    </tr>\n",
       "    <tr>\n",
       "      <th>3</th>\n",
       "      <td>bupa</td>\n",
       "      <td>0.625265</td>\n",
       "      <td>0.624703</td>\n",
       "      <td>0.624474</td>\n",
       "      <td>9.942333e-01</td>\n",
       "      <td>9.579117e-01</td>\n",
       "    </tr>\n",
       "    <tr>\n",
       "      <th>4</th>\n",
       "      <td>cleveland-0_vs_4</td>\n",
       "      <td>0.671373</td>\n",
       "      <td>0.676120</td>\n",
       "      <td>0.675601</td>\n",
       "      <td>5.489588e-01</td>\n",
       "      <td>3.209741e-01</td>\n",
       "    </tr>\n",
       "    <tr>\n",
       "      <th>5</th>\n",
       "      <td>ecoli1</td>\n",
       "      <td>0.832035</td>\n",
       "      <td>0.828822</td>\n",
       "      <td>0.829123</td>\n",
       "      <td>1.000000e+00</td>\n",
       "      <td>1.000000e+00</td>\n",
       "    </tr>\n",
       "    <tr>\n",
       "      <th>6</th>\n",
       "      <td>poker-9_vs_7</td>\n",
       "      <td>0.608088</td>\n",
       "      <td>0.610042</td>\n",
       "      <td>0.609214</td>\n",
       "      <td>9.805419e-103</td>\n",
       "      <td>1.299950e-68</td>\n",
       "    </tr>\n",
       "    <tr>\n",
       "      <th>7</th>\n",
       "      <td>monk-2</td>\n",
       "      <td>1.000000</td>\n",
       "      <td>1.000000</td>\n",
       "      <td>1.000000</td>\n",
       "      <td>5.000000e-01</td>\n",
       "      <td>5.000000e-01</td>\n",
       "    </tr>\n",
       "    <tr>\n",
       "      <th>8</th>\n",
       "      <td>hepatitis</td>\n",
       "      <td>0.667159</td>\n",
       "      <td>0.668684</td>\n",
       "      <td>0.668093</td>\n",
       "      <td>3.484266e-14</td>\n",
       "      <td>2.299037e-02</td>\n",
       "    </tr>\n",
       "    <tr>\n",
       "      <th>9</th>\n",
       "      <td>yeast-0-3-5-9_vs_7-8</td>\n",
       "      <td>0.640343</td>\n",
       "      <td>0.639625</td>\n",
       "      <td>0.639734</td>\n",
       "      <td>6.398579e-11</td>\n",
       "      <td>6.342215e-01</td>\n",
       "    </tr>\n",
       "    <tr>\n",
       "      <th>10</th>\n",
       "      <td>mammographic</td>\n",
       "      <td>0.787439</td>\n",
       "      <td>0.788242</td>\n",
       "      <td>0.787992</td>\n",
       "      <td>3.767139e-15</td>\n",
       "      <td>1.262371e-05</td>\n",
       "    </tr>\n",
       "    <tr>\n",
       "      <th>11</th>\n",
       "      <td>saheart</td>\n",
       "      <td>0.584743</td>\n",
       "      <td>0.584344</td>\n",
       "      <td>0.584196</td>\n",
       "      <td>1.000000e+00</td>\n",
       "      <td>9.525377e-01</td>\n",
       "    </tr>\n",
       "    <tr>\n",
       "      <th>12</th>\n",
       "      <td>lymphography-normal-fibrosis</td>\n",
       "      <td>0.886179</td>\n",
       "      <td>0.888993</td>\n",
       "      <td>0.890199</td>\n",
       "      <td>7.361889e-02</td>\n",
       "      <td>3.050642e-02</td>\n",
       "    </tr>\n",
       "    <tr>\n",
       "      <th>13</th>\n",
       "      <td>pima</td>\n",
       "      <td>0.671163</td>\n",
       "      <td>0.669999</td>\n",
       "      <td>0.670433</td>\n",
       "      <td>1.000000e+00</td>\n",
       "      <td>9.996645e-01</td>\n",
       "    </tr>\n",
       "    <tr>\n",
       "      <th>14</th>\n",
       "      <td>wisconsin</td>\n",
       "      <td>0.936861</td>\n",
       "      <td>0.938347</td>\n",
       "      <td>0.938311</td>\n",
       "      <td>2.543394e-44</td>\n",
       "      <td>1.318062e-14</td>\n",
       "    </tr>\n",
       "    <tr>\n",
       "      <th>15</th>\n",
       "      <td>abalone9_18</td>\n",
       "      <td>0.647500</td>\n",
       "      <td>0.647821</td>\n",
       "      <td>0.647411</td>\n",
       "      <td>7.022469e-05</td>\n",
       "      <td>5.147397e-01</td>\n",
       "    </tr>\n",
       "    <tr>\n",
       "      <th>16</th>\n",
       "      <td>winequality-red-3_vs_5</td>\n",
       "      <td>0.513740</td>\n",
       "      <td>0.513631</td>\n",
       "      <td>0.513550</td>\n",
       "      <td>9.501829e-01</td>\n",
       "      <td>9.724734e-01</td>\n",
       "    </tr>\n",
       "    <tr>\n",
       "      <th>17</th>\n",
       "      <td>CM1</td>\n",
       "      <td>0.568375</td>\n",
       "      <td>0.568719</td>\n",
       "      <td>0.568169</td>\n",
       "      <td>9.961584e-01</td>\n",
       "      <td>6.074411e-01</td>\n",
       "    </tr>\n",
       "    <tr>\n",
       "      <th>18</th>\n",
       "      <td>australian</td>\n",
       "      <td>0.806902</td>\n",
       "      <td>0.806532</td>\n",
       "      <td>0.806349</td>\n",
       "      <td>1.000000e+00</td>\n",
       "      <td>9.953443e-01</td>\n",
       "    </tr>\n",
       "    <tr>\n",
       "      <th>19</th>\n",
       "      <td>SPECTF</td>\n",
       "      <td>0.614876</td>\n",
       "      <td>0.615276</td>\n",
       "      <td>0.615074</td>\n",
       "      <td>1.000000e+00</td>\n",
       "      <td>6.032993e-01</td>\n",
       "    </tr>\n",
       "  </tbody>\n",
       "</table>\n",
       "</div>"
      ],
      "text/plain": [
       "                            name  auc_mean_original  auc_mean_mirrored  auc_mean_inverted  p_original_mirrored  p_original_inverted\n",
       "0                       haberman           0.557687           0.559026           0.559608         2.095035e-04         4.768199e-06\n",
       "1                   new_thyroid1           0.930269           0.931765           0.931897         1.135034e-07         1.996955e-06\n",
       "2               shuttle-6_vs_2-3           1.000000           1.000000           1.000000         5.000000e-01         5.000000e-01\n",
       "3                           bupa           0.625265           0.624703           0.624474         9.942333e-01         9.579117e-01\n",
       "4               cleveland-0_vs_4           0.671373           0.676120           0.675601         5.489588e-01         3.209741e-01\n",
       "5                         ecoli1           0.832035           0.828822           0.829123         1.000000e+00         1.000000e+00\n",
       "6                   poker-9_vs_7           0.608088           0.610042           0.609214        9.805419e-103         1.299950e-68\n",
       "7                         monk-2           1.000000           1.000000           1.000000         5.000000e-01         5.000000e-01\n",
       "8                      hepatitis           0.667159           0.668684           0.668093         3.484266e-14         2.299037e-02\n",
       "9           yeast-0-3-5-9_vs_7-8           0.640343           0.639625           0.639734         6.398579e-11         6.342215e-01\n",
       "10                  mammographic           0.787439           0.788242           0.787992         3.767139e-15         1.262371e-05\n",
       "11                       saheart           0.584743           0.584344           0.584196         1.000000e+00         9.525377e-01\n",
       "12  lymphography-normal-fibrosis           0.886179           0.888993           0.890199         7.361889e-02         3.050642e-02\n",
       "13                          pima           0.671163           0.669999           0.670433         1.000000e+00         9.996645e-01\n",
       "14                     wisconsin           0.936861           0.938347           0.938311         2.543394e-44         1.318062e-14\n",
       "15                   abalone9_18           0.647500           0.647821           0.647411         7.022469e-05         5.147397e-01\n",
       "16        winequality-red-3_vs_5           0.513740           0.513631           0.513550         9.501829e-01         9.724734e-01\n",
       "17                           CM1           0.568375           0.568719           0.568169         9.961584e-01         6.074411e-01\n",
       "18                    australian           0.806902           0.806532           0.806349         1.000000e+00         9.953443e-01\n",
       "19                        SPECTF           0.614876           0.615276           0.615074         1.000000e+00         6.032993e-01"
      ]
     },
     "execution_count": 12,
     "metadata": {},
     "output_type": "execute_result"
    }
   ],
   "source": [
    "results_pdf_5[['name', 'auc_mean_original', 'auc_mean_mirrored', 'auc_mean_inverted', 'p_original_mirrored', 'p_original_inverted']]"
   ]
  },
  {
   "cell_type": "code",
   "execution_count": 21,
   "metadata": {},
   "outputs": [],
   "source": [
    "tmp = pd.concat([results_pdf_2[['name', 'p_original_mirrored']], results_pdf_3['p_original_mirrored'], results_pdf_4['p_original_mirrored'], results_pdf_5['p_original_mirrored']], axis=1)"
   ]
  },
  {
   "cell_type": "code",
   "execution_count": 22,
   "metadata": {},
   "outputs": [
    {
     "data": {
      "text/html": [
       "<div>\n",
       "<style scoped>\n",
       "    .dataframe tbody tr th:only-of-type {\n",
       "        vertical-align: middle;\n",
       "    }\n",
       "\n",
       "    .dataframe tbody tr th {\n",
       "        vertical-align: top;\n",
       "    }\n",
       "\n",
       "    .dataframe thead th {\n",
       "        text-align: right;\n",
       "    }\n",
       "</style>\n",
       "<table border=\"1\" class=\"dataframe\">\n",
       "  <thead>\n",
       "    <tr style=\"text-align: right;\">\n",
       "      <th></th>\n",
       "      <th>name</th>\n",
       "      <th>p_original_mirrored</th>\n",
       "      <th>p_original_mirrored</th>\n",
       "      <th>p_original_mirrored</th>\n",
       "      <th>p_original_mirrored</th>\n",
       "    </tr>\n",
       "  </thead>\n",
       "  <tbody>\n",
       "    <tr>\n",
       "      <th>0</th>\n",
       "      <td>haberman</td>\n",
       "      <td>1.895237e-04</td>\n",
       "      <td>7.404232e-09</td>\n",
       "      <td>2.385114e-06</td>\n",
       "      <td>2.095035e-04</td>\n",
       "    </tr>\n",
       "    <tr>\n",
       "      <th>1</th>\n",
       "      <td>new_thyroid1</td>\n",
       "      <td>9.950659e-01</td>\n",
       "      <td>3.516745e-01</td>\n",
       "      <td>2.954123e-05</td>\n",
       "      <td>1.135034e-07</td>\n",
       "    </tr>\n",
       "    <tr>\n",
       "      <th>2</th>\n",
       "      <td>shuttle-6_vs_2-3</td>\n",
       "      <td>5.000000e-01</td>\n",
       "      <td>5.000000e-01</td>\n",
       "      <td>5.000000e-01</td>\n",
       "      <td>5.000000e-01</td>\n",
       "    </tr>\n",
       "    <tr>\n",
       "      <th>3</th>\n",
       "      <td>bupa</td>\n",
       "      <td>1.000000e+00</td>\n",
       "      <td>1.000000e+00</td>\n",
       "      <td>1.000000e+00</td>\n",
       "      <td>9.942333e-01</td>\n",
       "    </tr>\n",
       "    <tr>\n",
       "      <th>4</th>\n",
       "      <td>cleveland-0_vs_4</td>\n",
       "      <td>4.409854e-01</td>\n",
       "      <td>4.905442e-01</td>\n",
       "      <td>4.077082e-01</td>\n",
       "      <td>5.489588e-01</td>\n",
       "    </tr>\n",
       "    <tr>\n",
       "      <th>5</th>\n",
       "      <td>ecoli1</td>\n",
       "      <td>1.000000e+00</td>\n",
       "      <td>1.000000e+00</td>\n",
       "      <td>1.000000e+00</td>\n",
       "      <td>1.000000e+00</td>\n",
       "    </tr>\n",
       "    <tr>\n",
       "      <th>6</th>\n",
       "      <td>poker-9_vs_7</td>\n",
       "      <td>7.610632e-170</td>\n",
       "      <td>2.123352e-184</td>\n",
       "      <td>3.147061e-152</td>\n",
       "      <td>9.805419e-103</td>\n",
       "    </tr>\n",
       "    <tr>\n",
       "      <th>7</th>\n",
       "      <td>monk-2</td>\n",
       "      <td>5.869404e-01</td>\n",
       "      <td>5.000000e-01</td>\n",
       "      <td>5.000000e-01</td>\n",
       "      <td>5.000000e-01</td>\n",
       "    </tr>\n",
       "    <tr>\n",
       "      <th>8</th>\n",
       "      <td>hepatitis</td>\n",
       "      <td>3.064926e-12</td>\n",
       "      <td>2.872482e-15</td>\n",
       "      <td>1.595639e-17</td>\n",
       "      <td>3.484266e-14</td>\n",
       "    </tr>\n",
       "    <tr>\n",
       "      <th>9</th>\n",
       "      <td>yeast-0-3-5-9_vs_7-8</td>\n",
       "      <td>1.636142e-02</td>\n",
       "      <td>4.941838e-08</td>\n",
       "      <td>2.041780e-12</td>\n",
       "      <td>6.398579e-11</td>\n",
       "    </tr>\n",
       "    <tr>\n",
       "      <th>10</th>\n",
       "      <td>mammographic</td>\n",
       "      <td>1.645261e-47</td>\n",
       "      <td>3.613613e-33</td>\n",
       "      <td>2.193101e-23</td>\n",
       "      <td>3.767139e-15</td>\n",
       "    </tr>\n",
       "    <tr>\n",
       "      <th>11</th>\n",
       "      <td>saheart</td>\n",
       "      <td>1.000000e+00</td>\n",
       "      <td>1.000000e+00</td>\n",
       "      <td>1.000000e+00</td>\n",
       "      <td>1.000000e+00</td>\n",
       "    </tr>\n",
       "    <tr>\n",
       "      <th>12</th>\n",
       "      <td>lymphography-normal-fibrosis</td>\n",
       "      <td>1.516172e-91</td>\n",
       "      <td>3.518337e-12</td>\n",
       "      <td>3.129701e-04</td>\n",
       "      <td>7.361889e-02</td>\n",
       "    </tr>\n",
       "    <tr>\n",
       "      <th>13</th>\n",
       "      <td>pima</td>\n",
       "      <td>9.998917e-01</td>\n",
       "      <td>1.000000e+00</td>\n",
       "      <td>1.000000e+00</td>\n",
       "      <td>1.000000e+00</td>\n",
       "    </tr>\n",
       "    <tr>\n",
       "      <th>14</th>\n",
       "      <td>wisconsin</td>\n",
       "      <td>1.054321e-172</td>\n",
       "      <td>5.506782e-107</td>\n",
       "      <td>1.804100e-60</td>\n",
       "      <td>2.543394e-44</td>\n",
       "    </tr>\n",
       "    <tr>\n",
       "      <th>15</th>\n",
       "      <td>abalone9_18</td>\n",
       "      <td>9.999953e-01</td>\n",
       "      <td>4.861677e-01</td>\n",
       "      <td>4.087511e-03</td>\n",
       "      <td>7.022469e-05</td>\n",
       "    </tr>\n",
       "    <tr>\n",
       "      <th>16</th>\n",
       "      <td>winequality-red-3_vs_5</td>\n",
       "      <td>1.000000e+00</td>\n",
       "      <td>9.996006e-01</td>\n",
       "      <td>9.885182e-01</td>\n",
       "      <td>9.501829e-01</td>\n",
       "    </tr>\n",
       "    <tr>\n",
       "      <th>17</th>\n",
       "      <td>CM1</td>\n",
       "      <td>4.903275e-01</td>\n",
       "      <td>8.621977e-01</td>\n",
       "      <td>4.339484e-01</td>\n",
       "      <td>9.961584e-01</td>\n",
       "    </tr>\n",
       "    <tr>\n",
       "      <th>18</th>\n",
       "      <td>australian</td>\n",
       "      <td>3.272548e-08</td>\n",
       "      <td>9.751827e-01</td>\n",
       "      <td>1.000000e+00</td>\n",
       "      <td>1.000000e+00</td>\n",
       "    </tr>\n",
       "    <tr>\n",
       "      <th>19</th>\n",
       "      <td>SPECTF</td>\n",
       "      <td>4.100812e-01</td>\n",
       "      <td>9.999218e-01</td>\n",
       "      <td>1.000000e+00</td>\n",
       "      <td>1.000000e+00</td>\n",
       "    </tr>\n",
       "  </tbody>\n",
       "</table>\n",
       "</div>"
      ],
      "text/plain": [
       "                            name  p_original_mirrored  p_original_mirrored  p_original_mirrored  p_original_mirrored\n",
       "0                       haberman         1.895237e-04         7.404232e-09         2.385114e-06         2.095035e-04\n",
       "1                   new_thyroid1         9.950659e-01         3.516745e-01         2.954123e-05         1.135034e-07\n",
       "2               shuttle-6_vs_2-3         5.000000e-01         5.000000e-01         5.000000e-01         5.000000e-01\n",
       "3                           bupa         1.000000e+00         1.000000e+00         1.000000e+00         9.942333e-01\n",
       "4               cleveland-0_vs_4         4.409854e-01         4.905442e-01         4.077082e-01         5.489588e-01\n",
       "5                         ecoli1         1.000000e+00         1.000000e+00         1.000000e+00         1.000000e+00\n",
       "6                   poker-9_vs_7        7.610632e-170        2.123352e-184        3.147061e-152        9.805419e-103\n",
       "7                         monk-2         5.869404e-01         5.000000e-01         5.000000e-01         5.000000e-01\n",
       "8                      hepatitis         3.064926e-12         2.872482e-15         1.595639e-17         3.484266e-14\n",
       "9           yeast-0-3-5-9_vs_7-8         1.636142e-02         4.941838e-08         2.041780e-12         6.398579e-11\n",
       "10                  mammographic         1.645261e-47         3.613613e-33         2.193101e-23         3.767139e-15\n",
       "11                       saheart         1.000000e+00         1.000000e+00         1.000000e+00         1.000000e+00\n",
       "12  lymphography-normal-fibrosis         1.516172e-91         3.518337e-12         3.129701e-04         7.361889e-02\n",
       "13                          pima         9.998917e-01         1.000000e+00         1.000000e+00         1.000000e+00\n",
       "14                     wisconsin        1.054321e-172        5.506782e-107         1.804100e-60         2.543394e-44\n",
       "15                   abalone9_18         9.999953e-01         4.861677e-01         4.087511e-03         7.022469e-05\n",
       "16        winequality-red-3_vs_5         1.000000e+00         9.996006e-01         9.885182e-01         9.501829e-01\n",
       "17                           CM1         4.903275e-01         8.621977e-01         4.339484e-01         9.961584e-01\n",
       "18                    australian         3.272548e-08         9.751827e-01         1.000000e+00         1.000000e+00\n",
       "19                        SPECTF         4.100812e-01         9.999218e-01         1.000000e+00         1.000000e+00"
      ]
     },
     "execution_count": 22,
     "metadata": {},
     "output_type": "execute_result"
    }
   ],
   "source": [
    "tmp"
   ]
  },
  {
   "cell_type": "code",
   "execution_count": 25,
   "metadata": {},
   "outputs": [
    {
     "data": {
      "text/plain": [
       "array([[False, False, False, False],\n",
       "       [ True, False, False, False],\n",
       "       [False, False, False, False],\n",
       "       [ True,  True,  True,  True],\n",
       "       [False, False, False, False],\n",
       "       [ True,  True,  True,  True],\n",
       "       [False, False, False, False],\n",
       "       [False, False, False, False],\n",
       "       [False, False, False, False],\n",
       "       [False, False, False, False],\n",
       "       [False, False, False, False],\n",
       "       [ True,  True,  True,  True],\n",
       "       [False, False, False, False],\n",
       "       [ True,  True,  True,  True],\n",
       "       [False, False, False, False],\n",
       "       [ True, False, False, False],\n",
       "       [ True,  True,  True,  True],\n",
       "       [False, False, False,  True],\n",
       "       [False,  True,  True,  True],\n",
       "       [False,  True,  True,  True]])"
      ]
     },
     "execution_count": 25,
     "metadata": {},
     "output_type": "execute_result"
    }
   ],
   "source": [
    "tmp.values[:, 1:] > 0.95"
   ]
  },
  {
   "cell_type": "code",
   "execution_count": 13,
   "metadata": {},
   "outputs": [
    {
     "ename": "NameError",
     "evalue": "name 'results_pdf' is not defined",
     "output_type": "error",
     "traceback": [
      "\u001b[0;31m---------------------------------------------------------------------------\u001b[0m",
      "\u001b[0;31mNameError\u001b[0m                                 Traceback (most recent call last)",
      "Cell \u001b[0;32mIn[13], line 1\u001b[0m\n\u001b[0;32m----> 1\u001b[0m results_pdf\u001b[39m.\u001b[39mto_csv(\u001b[39m'\u001b[39m\u001b[39mexistance-classification-dt.csv\u001b[39m\u001b[39m'\u001b[39m)\n",
      "\u001b[0;31mNameError\u001b[0m: name 'results_pdf' is not defined"
     ]
    }
   ],
   "source": [
    "results_pdf.to_csv('existance-classification-dt.csv')"
   ]
  },
  {
   "cell_type": "code",
   "execution_count": null,
   "metadata": {},
   "outputs": [],
   "source": []
  }
 ],
 "metadata": {
  "kernelspec": {
   "display_name": "smote_clean",
   "language": "python",
   "name": "python3"
  },
  "language_info": {
   "codemirror_mode": {
    "name": "ipython",
    "version": 3
   },
   "file_extension": ".py",
   "mimetype": "text/x-python",
   "name": "python",
   "nbconvert_exporter": "python",
   "pygments_lexer": "ipython3",
   "version": "3.10.0"
  },
  "orig_nbformat": 4,
  "vscode": {
   "interpreter": {
    "hash": "499044d5ebe425087106556eea30a149e28227c692f9b3f42bc5fd0f94503385"
   }
  }
 },
 "nbformat": 4,
 "nbformat_minor": 2
}
