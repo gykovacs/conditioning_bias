{
 "cells": [
  {
   "cell_type": "code",
   "execution_count": 1,
   "metadata": {},
   "outputs": [
    {
     "name": "stderr",
     "output_type": "stream",
     "text": [
      "2023-02-14 16:42:46 INFO     querying the filtered classification datasets\n",
      "2023-02-14 16:42:46 INFO     ranking the datasets\n",
      "2023-02-14 16:42:46 INFO     binary classification datasets prepared\n",
      "2023-02-14 16:42:46 INFO     querying the filtered regression datasets\n",
      "2023-02-14 16:42:46 INFO     ranking the datasets\n",
      "2023-02-14 16:42:46 INFO     regression datasets prepared\n"
     ]
    }
   ],
   "source": [
    "import pandas as pd\n",
    "\n",
    "pd.set_option('display.width', 200)\n",
    "\n",
    "from sklearn.tree import DecisionTreeClassifier\n",
    "\n",
    "from flipping_random_forest import MirroredDecisionTreeClassifier\n",
    "\n",
    "from datasets import binclas_datasets\n",
    "from core import evaluate"
   ]
  },
  {
   "cell_type": "code",
   "execution_count": 2,
   "metadata": {},
   "outputs": [],
   "source": [
    "data_loaders = binclas_datasets['data_loader_function'].values.tolist()"
   ]
  },
  {
   "cell_type": "code",
   "execution_count": 3,
   "metadata": {},
   "outputs": [],
   "source": [
    "scenarios=[{'name': 'original',\n",
    "            'estimator': DecisionTreeClassifier,\n",
    "            'estimator_params': {},\n",
    "            'multiplier': 1},\n",
    "            \n",
    "            {'name': 'mirrored',\n",
    "            'estimator': MirroredDecisionTreeClassifier,\n",
    "            'estimator_params': {},\n",
    "            'multiplier': 1},\n",
    "            \n",
    "            {'name': 'inverted',\n",
    "            'estimator': DecisionTreeClassifier,\n",
    "            'estimator_params': {},\n",
    "            'multiplier': -1}]\n",
    "            \n",
    "compare=[('original', 'mirrored'), \n",
    "            ('original', 'inverted')]\n",
    "\n",
    "validator_params = {'n_repeats': 2000,\n",
    "                    'n_splits': 5,\n",
    "                    'random_state': 5}"
   ]
  },
  {
   "cell_type": "code",
   "execution_count": 4,
   "metadata": {},
   "outputs": [
    {
     "name": "stderr",
     "output_type": "stream",
     "text": [
      "10000it [03:02, 54.73it/s]\n"
     ]
    },
    {
     "name": "stdout",
     "output_type": "stream",
     "text": [
      "       name  auc_mean_original  auc_mean_mirrored  auc_mean_inverted  p_original_mirrored  p_original_inverted\n",
      "0  haberman           0.557404                0.5           0.559474                  1.0         9.685731e-07\n"
     ]
    },
    {
     "name": "stderr",
     "output_type": "stream",
     "text": [
      "10000it [03:53, 42.88it/s]\n"
     ]
    },
    {
     "name": "stdout",
     "output_type": "stream",
     "text": [
      "           name  auc_mean_original  auc_mean_mirrored  auc_mean_inverted  p_original_mirrored  p_original_inverted\n",
      "0  new_thyroid1           0.929526             0.4913           0.932087                  1.0         3.685838e-09\n"
     ]
    },
    {
     "name": "stderr",
     "output_type": "stream",
     "text": [
      "2150it [00:34, 28.71it/s] "
     ]
    }
   ],
   "source": [
    "results_pdf = evaluate(scenarios=scenarios, \n",
    "                        compare=compare, \n",
    "                        data_loaders=data_loaders,\n",
    "                        validator_params=validator_params,\n",
    "                        score='auc')"
   ]
  },
  {
   "cell_type": "code",
   "execution_count": null,
   "metadata": {},
   "outputs": [],
   "source": [
    "results_pdf.to_csv('existance-classification-dt.csv')"
   ]
  }
 ],
 "metadata": {
  "kernelspec": {
   "display_name": "smote_clean",
   "language": "python",
   "name": "python3"
  },
  "language_info": {
   "codemirror_mode": {
    "name": "ipython",
    "version": 3
   },
   "file_extension": ".py",
   "mimetype": "text/x-python",
   "name": "python",
   "nbconvert_exporter": "python",
   "pygments_lexer": "ipython3",
   "version": "3.10.0"
  },
  "orig_nbformat": 4,
  "vscode": {
   "interpreter": {
    "hash": "499044d5ebe425087106556eea30a149e28227c692f9b3f42bc5fd0f94503385"
   }
  }
 },
 "nbformat": 4,
 "nbformat_minor": 2
}
