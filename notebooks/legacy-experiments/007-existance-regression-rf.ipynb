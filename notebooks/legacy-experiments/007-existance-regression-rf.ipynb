{
 "cells": [
  {
   "cell_type": "code",
   "execution_count": 1,
   "metadata": {},
   "outputs": [],
   "source": [
    "import numpy as np\n",
    "import pandas as pd\n",
    "\n",
    "import tqdm\n",
    "\n",
    "from scipy.stats import wilcoxon\n",
    "\n",
    "from sklearn.model_selection import RepeatedKFold\n",
    "from sklearn.metrics import r2_score\n",
    "from sklearn.ensemble import RandomForestRegressor\n",
    "\n",
    "from datasets import regr_datasets"
   ]
  },
  {
   "cell_type": "code",
   "execution_count": null,
   "metadata": {},
   "outputs": [],
   "source": [
    "data_loaders = regr_datasets['data_loader_function'].values.tolist()"
   ]
  },
  {
   "cell_type": "code",
   "execution_count": 6,
   "metadata": {},
   "outputs": [
    {
     "name": "stderr",
     "output_type": "stream",
     "text": [
      "2000it [12:36,  2.64it/s]\n"
     ]
    },
    {
     "name": "stdout",
     "output_type": "stream",
     "text": [
      "       name   r2_orig  r2_flipped    p_full\n",
      "0  autoMPG6  0.872129    0.871681  0.999077\n"
     ]
    },
    {
     "name": "stderr",
     "output_type": "stream",
     "text": [
      "2000it [15:03,  2.21it/s]\n"
     ]
    },
    {
     "name": "stdout",
     "output_type": "stream",
     "text": [
      "       name   r2_orig  r2_flipped    p_full\n",
      "0  autoMPG6  0.872129    0.871681  0.999077\n",
      "1  baseball  0.668188    0.666649  0.999605\n"
     ]
    },
    {
     "name": "stderr",
     "output_type": "stream",
     "text": [
      "2000it [17:49,  1.87it/s]\n"
     ]
    },
    {
     "name": "stdout",
     "output_type": "stream",
     "text": [
      "         name   r2_orig  r2_flipped    p_full\n",
      "0    autoMPG6  0.872129    0.871681  0.999077\n",
      "1    baseball  0.668188    0.666649  0.999605\n",
      "2  boom_bikes  0.996079    0.996091  0.087284\n"
     ]
    },
    {
     "name": "stderr",
     "output_type": "stream",
     "text": [
      "2000it [07:41,  4.34it/s]\n"
     ]
    },
    {
     "name": "stdout",
     "output_type": "stream",
     "text": [
      "           name   r2_orig  r2_flipped        p_full\n",
      "0      autoMPG6  0.872129    0.871681  9.990768e-01\n",
      "1      baseball  0.668188    0.666649  9.996045e-01\n",
      "2    boom_bikes  0.996079    0.996091  8.728442e-02\n",
      "3  daily-demand  0.820918    0.825419  1.565313e-10\n"
     ]
    },
    {
     "name": "stderr",
     "output_type": "stream",
     "text": [
      "2000it [09:08,  3.65it/s]\n"
     ]
    },
    {
     "name": "stdout",
     "output_type": "stream",
     "text": [
      "                 name   r2_orig  r2_flipped        p_full\n",
      "0            autoMPG6  0.872129    0.871681  9.990768e-01\n",
      "1            baseball  0.668188    0.666649  9.996045e-01\n",
      "2          boom_bikes  0.996079    0.996091  8.728442e-02\n",
      "3        daily-demand  0.820918    0.825419  1.565313e-10\n",
      "4  excitation_current  0.999906    0.999912  4.634640e-70\n"
     ]
    },
    {
     "name": "stderr",
     "output_type": "stream",
     "text": [
      "2000it [13:12,  2.52it/s]\n"
     ]
    },
    {
     "name": "stdout",
     "output_type": "stream",
     "text": [
      "                 name   r2_orig  r2_flipped        p_full\n",
      "0            autoMPG6  0.872129    0.871681  9.990768e-01\n",
      "1            baseball  0.668188    0.666649  9.996045e-01\n",
      "2          boom_bikes  0.996079    0.996091  8.728442e-02\n",
      "3        daily-demand  0.820918    0.825419  1.565313e-10\n",
      "4  excitation_current  0.999906    0.999912  4.634640e-70\n",
      "5               laser  0.963051    0.963348  1.390078e-02\n"
     ]
    },
    {
     "name": "stderr",
     "output_type": "stream",
     "text": [
      "2000it [09:50,  3.39it/s]\n"
     ]
    },
    {
     "name": "stdout",
     "output_type": "stream",
     "text": [
      "                   name   r2_orig  r2_flipped        p_full\n",
      "0              autoMPG6  0.872129    0.871681  9.990768e-01\n",
      "1              baseball  0.668188    0.666649  9.996045e-01\n",
      "2            boom_bikes  0.996079    0.996091  8.728442e-02\n",
      "3          daily-demand  0.820918    0.825419  1.565313e-10\n",
      "4    excitation_current  0.999906    0.999912  4.634640e-70\n",
      "5                 laser  0.963051    0.963348  1.390078e-02\n",
      "6  maternal_health_risk  0.752387    0.753864  1.167036e-20\n"
     ]
    },
    {
     "name": "stderr",
     "output_type": "stream",
     "text": [
      "2000it [13:48,  2.42it/s]\n"
     ]
    },
    {
     "name": "stdout",
     "output_type": "stream",
     "text": [
      "                   name   r2_orig  r2_flipped        p_full\n",
      "0              autoMPG6  0.872129    0.871681  9.990768e-01\n",
      "1              baseball  0.668188    0.666649  9.996045e-01\n",
      "2            boom_bikes  0.996079    0.996091  8.728442e-02\n",
      "3          daily-demand  0.820918    0.825419  1.565313e-10\n",
      "4    excitation_current  0.999906    0.999912  4.634640e-70\n",
      "5                 laser  0.963051    0.963348  1.390078e-02\n",
      "6  maternal_health_risk  0.752387    0.753864  1.167036e-20\n",
      "7          medical_cost  0.694032    0.693415  9.999998e-01\n"
     ]
    },
    {
     "name": "stderr",
     "output_type": "stream",
     "text": [
      "2000it [06:01,  5.53it/s]\n"
     ]
    },
    {
     "name": "stdout",
     "output_type": "stream",
     "text": [
      "                   name   r2_orig  r2_flipped        p_full\n",
      "0              autoMPG6  0.872129    0.871681  9.990768e-01\n",
      "1              baseball  0.668188    0.666649  9.996045e-01\n",
      "2            boom_bikes  0.996079    0.996091  8.728442e-02\n",
      "3          daily-demand  0.820918    0.825419  1.565313e-10\n",
      "4    excitation_current  0.999906    0.999912  4.634640e-70\n",
      "5                 laser  0.963051    0.963348  1.390078e-02\n",
      "6  maternal_health_risk  0.752387    0.753864  1.167036e-20\n",
      "7          medical_cost  0.694032    0.693415  9.999998e-01\n",
      "8                o-ring  0.141579    0.168934  5.519880e-06\n"
     ]
    },
    {
     "name": "stderr",
     "output_type": "stream",
     "text": [
      "2000it [11:00,  3.03it/s]\n"
     ]
    },
    {
     "name": "stdout",
     "output_type": "stream",
     "text": [
      "                   name   r2_orig  r2_flipped        p_full\n",
      "0              autoMPG6  0.872129    0.871681  9.990768e-01\n",
      "1              baseball  0.668188    0.666649  9.996045e-01\n",
      "2            boom_bikes  0.996079    0.996091  8.728442e-02\n",
      "3          daily-demand  0.820918    0.825419  1.565313e-10\n",
      "4    excitation_current  0.999906    0.999912  4.634640e-70\n",
      "5                 laser  0.963051    0.963348  1.390078e-02\n",
      "6  maternal_health_risk  0.752387    0.753864  1.167036e-20\n",
      "7          medical_cost  0.694032    0.693415  9.999998e-01\n",
      "8                o-ring  0.141579    0.168934  5.519880e-06\n",
      "9               plastic  0.715051    0.710116  1.000000e+00\n"
     ]
    },
    {
     "name": "stderr",
     "output_type": "stream",
     "text": [
      "2000it [14:00,  2.38it/s]\n"
     ]
    },
    {
     "name": "stdout",
     "output_type": "stream",
     "text": [
      "                     name   r2_orig  r2_flipped        p_full\n",
      "0                autoMPG6  0.872129    0.871681  9.990768e-01\n",
      "1                baseball  0.668188    0.666649  9.996045e-01\n",
      "2              boom_bikes  0.996079    0.996091  8.728442e-02\n",
      "3            daily-demand  0.820918    0.825419  1.565313e-10\n",
      "4      excitation_current  0.999906    0.999912  4.634640e-70\n",
      "5                   laser  0.963051    0.963348  1.390078e-02\n",
      "6    maternal_health_risk  0.752387    0.753864  1.167036e-20\n",
      "7            medical_cost  0.694032    0.693415  9.999998e-01\n",
      "8                  o-ring  0.141579    0.168934  5.519880e-06\n",
      "9                 plastic  0.715051    0.710116  1.000000e+00\n",
      "10  qsar-aquatic-toxicity  0.524237    0.524178  6.749654e-01\n"
     ]
    },
    {
     "name": "stderr",
     "output_type": "stream",
     "text": [
      "2000it [11:19,  2.94it/s]\n"
     ]
    },
    {
     "name": "stdout",
     "output_type": "stream",
     "text": [
      "                     name   r2_orig  r2_flipped        p_full\n",
      "0                autoMPG6  0.872129    0.871681  9.990768e-01\n",
      "1                baseball  0.668188    0.666649  9.996045e-01\n",
      "2              boom_bikes  0.996079    0.996091  8.728442e-02\n",
      "3            daily-demand  0.820918    0.825419  1.565313e-10\n",
      "4      excitation_current  0.999906    0.999912  4.634640e-70\n",
      "5                   laser  0.963051    0.963348  1.390078e-02\n",
      "6    maternal_health_risk  0.752387    0.753864  1.167036e-20\n",
      "7            medical_cost  0.694032    0.693415  9.999998e-01\n",
      "8                  o-ring  0.141579    0.168934  5.519880e-06\n",
      "9                 plastic  0.715051    0.710116  1.000000e+00\n",
      "10  qsar-aquatic-toxicity  0.524237    0.524178  6.749654e-01\n",
      "11  real_estate_valuation  0.693135    0.693686  4.485718e-01\n"
     ]
    },
    {
     "name": "stderr",
     "output_type": "stream",
     "text": [
      "2000it [42:20,  1.27s/it]\n"
     ]
    },
    {
     "name": "stdout",
     "output_type": "stream",
     "text": [
      "                     name   r2_orig  r2_flipped        p_full\n",
      "0                autoMPG6  0.872129    0.871681  9.990768e-01\n",
      "1                baseball  0.668188    0.666649  9.996045e-01\n",
      "2              boom_bikes  0.996079    0.996091  8.728442e-02\n",
      "3            daily-demand  0.820918    0.825419  1.565313e-10\n",
      "4      excitation_current  0.999906    0.999912  4.634640e-70\n",
      "5                   laser  0.963051    0.963348  1.390078e-02\n",
      "6    maternal_health_risk  0.752387    0.753864  1.167036e-20\n",
      "7            medical_cost  0.694032    0.693415  9.999998e-01\n",
      "8                  o-ring  0.141579    0.168934  5.519880e-06\n",
      "9                 plastic  0.715051    0.710116  1.000000e+00\n",
      "10  qsar-aquatic-toxicity  0.524237    0.524178  6.749654e-01\n",
      "11  real_estate_valuation  0.693135    0.693686  4.485718e-01\n",
      "12   residential_building  0.958179    0.957621  9.999996e-01\n"
     ]
    },
    {
     "name": "stderr",
     "output_type": "stream",
     "text": [
      "2000it [06:27,  5.16it/s]\n"
     ]
    },
    {
     "name": "stdout",
     "output_type": "stream",
     "text": [
      "                     name   r2_orig  r2_flipped        p_full\n",
      "0                autoMPG6  0.872129    0.871681  9.990768e-01\n",
      "1                baseball  0.668188    0.666649  9.996045e-01\n",
      "2              boom_bikes  0.996079    0.996091  8.728442e-02\n",
      "3            daily-demand  0.820918    0.825419  1.565313e-10\n",
      "4      excitation_current  0.999906    0.999912  4.634640e-70\n",
      "5                   laser  0.963051    0.963348  1.390078e-02\n",
      "6    maternal_health_risk  0.752387    0.753864  1.167036e-20\n",
      "7            medical_cost  0.694032    0.693415  9.999998e-01\n",
      "8                  o-ring  0.141579    0.168934  5.519880e-06\n",
      "9                 plastic  0.715051    0.710116  1.000000e+00\n",
      "10  qsar-aquatic-toxicity  0.524237    0.524178  6.749654e-01\n",
      "11  real_estate_valuation  0.693135    0.693686  4.485718e-01\n",
      "12   residential_building  0.958179    0.957621  9.999996e-01\n",
      "13                  servo  0.633171    0.632337  7.670612e-01\n"
     ]
    },
    {
     "name": "stderr",
     "output_type": "stream",
     "text": [
      "2000it [05:55,  5.62it/s]\n"
     ]
    },
    {
     "name": "stdout",
     "output_type": "stream",
     "text": [
      "                           name   r2_orig  r2_flipped        p_full\n",
      "0                      autoMPG6  0.872129    0.871681  9.990768e-01\n",
      "1                      baseball  0.668188    0.666649  9.996045e-01\n",
      "2                    boom_bikes  0.996079    0.996091  8.728442e-02\n",
      "3                  daily-demand  0.820918    0.825419  1.565313e-10\n",
      "4            excitation_current  0.999906    0.999912  4.634640e-70\n",
      "5                         laser  0.963051    0.963348  1.390078e-02\n",
      "6          maternal_health_risk  0.752387    0.753864  1.167036e-20\n",
      "7                  medical_cost  0.694032    0.693415  9.999998e-01\n",
      "8                        o-ring  0.141579    0.168934  5.519880e-06\n",
      "9                       plastic  0.715051    0.710116  1.000000e+00\n",
      "10        qsar-aquatic-toxicity  0.524237    0.524178  6.749654e-01\n",
      "11        real_estate_valuation  0.693135    0.693686  4.485718e-01\n",
      "12         residential_building  0.958179    0.957621  9.999996e-01\n",
      "13                        servo  0.633171    0.632337  7.670612e-01\n",
      "14  stock_portfolio_performance  0.991558    0.991236  9.954332e-01\n"
     ]
    },
    {
     "name": "stderr",
     "output_type": "stream",
     "text": [
      "2000it [10:24,  3.20it/s]\n"
     ]
    },
    {
     "name": "stdout",
     "output_type": "stream",
     "text": [
      "                           name   r2_orig  r2_flipped        p_full\n",
      "0                      autoMPG6  0.872129    0.871681  9.990768e-01\n",
      "1                      baseball  0.668188    0.666649  9.996045e-01\n",
      "2                    boom_bikes  0.996079    0.996091  8.728442e-02\n",
      "3                  daily-demand  0.820918    0.825419  1.565313e-10\n",
      "4            excitation_current  0.999906    0.999912  4.634640e-70\n",
      "5                         laser  0.963051    0.963348  1.390078e-02\n",
      "6          maternal_health_risk  0.752387    0.753864  1.167036e-20\n",
      "7                  medical_cost  0.694032    0.693415  9.999998e-01\n",
      "8                        o-ring  0.141579    0.168934  5.519880e-06\n",
      "9                       plastic  0.715051    0.710116  1.000000e+00\n",
      "10        qsar-aquatic-toxicity  0.524237    0.524178  6.749654e-01\n",
      "11        real_estate_valuation  0.693135    0.693686  4.485718e-01\n",
      "12         residential_building  0.958179    0.957621  9.999996e-01\n",
      "13                        servo  0.633171    0.632337  7.670612e-01\n",
      "14  stock_portfolio_performance  0.991558    0.991236  9.954332e-01\n",
      "15                      wankara  0.987221    0.987230  4.402057e-01\n"
     ]
    },
    {
     "name": "stderr",
     "output_type": "stream",
     "text": [
      "2000it [37:35,  1.13s/it]\n"
     ]
    },
    {
     "name": "stdout",
     "output_type": "stream",
     "text": [
      "                           name   r2_orig  r2_flipped        p_full\n",
      "0                      autoMPG6  0.872129    0.871681  9.990768e-01\n",
      "1                      baseball  0.668188    0.666649  9.996045e-01\n",
      "2                    boom_bikes  0.996079    0.996091  8.728442e-02\n",
      "3                  daily-demand  0.820918    0.825419  1.565313e-10\n",
      "4            excitation_current  0.999906    0.999912  4.634640e-70\n",
      "5                         laser  0.963051    0.963348  1.390078e-02\n",
      "6          maternal_health_risk  0.752387    0.753864  1.167036e-20\n",
      "7                  medical_cost  0.694032    0.693415  9.999998e-01\n",
      "8                        o-ring  0.141579    0.168934  5.519880e-06\n",
      "9                       plastic  0.715051    0.710116  1.000000e+00\n",
      "10        qsar-aquatic-toxicity  0.524237    0.524178  6.749654e-01\n",
      "11        real_estate_valuation  0.693135    0.693686  4.485718e-01\n",
      "12         residential_building  0.958179    0.957621  9.999996e-01\n",
      "13                        servo  0.633171    0.632337  7.670612e-01\n",
      "14  stock_portfolio_performance  0.991558    0.991236  9.954332e-01\n",
      "15                      wankara  0.987221    0.987230  4.402057e-01\n",
      "16              winequality_red  0.479890    0.479113  9.974169e-01\n"
     ]
    },
    {
     "name": "stderr",
     "output_type": "stream",
     "text": [
      "2000it [28:12,  1.18it/s]\n"
     ]
    },
    {
     "name": "stdout",
     "output_type": "stream",
     "text": [
      "                           name   r2_orig  r2_flipped        p_full\n",
      "0                      autoMPG6  0.872129    0.871681  9.990768e-01\n",
      "1                      baseball  0.668188    0.666649  9.996045e-01\n",
      "2                    boom_bikes  0.996079    0.996091  8.728442e-02\n",
      "3                  daily-demand  0.820918    0.825419  1.565313e-10\n",
      "4            excitation_current  0.999906    0.999912  4.634640e-70\n",
      "5                         laser  0.963051    0.963348  1.390078e-02\n",
      "6          maternal_health_risk  0.752387    0.753864  1.167036e-20\n",
      "7                  medical_cost  0.694032    0.693415  9.999998e-01\n",
      "8                        o-ring  0.141579    0.168934  5.519880e-06\n",
      "9                       plastic  0.715051    0.710116  1.000000e+00\n",
      "10        qsar-aquatic-toxicity  0.524237    0.524178  6.749654e-01\n",
      "11        real_estate_valuation  0.693135    0.693686  4.485718e-01\n",
      "12         residential_building  0.958179    0.957621  9.999996e-01\n",
      "13                        servo  0.633171    0.632337  7.670612e-01\n",
      "14  stock_portfolio_performance  0.991558    0.991236  9.954332e-01\n",
      "15                      wankara  0.987221    0.987230  4.402057e-01\n",
      "16              winequality_red  0.479890    0.479113  9.974169e-01\n",
      "17                       wizmir  0.992276    0.992285  4.193410e-03\n"
     ]
    },
    {
     "name": "stderr",
     "output_type": "stream",
     "text": [
      "2000it [06:24,  5.21it/s]\n"
     ]
    },
    {
     "name": "stdout",
     "output_type": "stream",
     "text": [
      "                           name   r2_orig  r2_flipped        p_full\n",
      "0                      autoMPG6  0.872129    0.871681  9.990768e-01\n",
      "1                      baseball  0.668188    0.666649  9.996045e-01\n",
      "2                    boom_bikes  0.996079    0.996091  8.728442e-02\n",
      "3                  daily-demand  0.820918    0.825419  1.565313e-10\n",
      "4            excitation_current  0.999906    0.999912  4.634640e-70\n",
      "5                         laser  0.963051    0.963348  1.390078e-02\n",
      "6          maternal_health_risk  0.752387    0.753864  1.167036e-20\n",
      "7                  medical_cost  0.694032    0.693415  9.999998e-01\n",
      "8                        o-ring  0.141579    0.168934  5.519880e-06\n",
      "9                       plastic  0.715051    0.710116  1.000000e+00\n",
      "10        qsar-aquatic-toxicity  0.524237    0.524178  6.749654e-01\n",
      "11        real_estate_valuation  0.693135    0.693686  4.485718e-01\n",
      "12         residential_building  0.958179    0.957621  9.999996e-01\n",
      "13                        servo  0.633171    0.632337  7.670612e-01\n",
      "14  stock_portfolio_performance  0.991558    0.991236  9.954332e-01\n",
      "15                      wankara  0.987221    0.987230  4.402057e-01\n",
      "16              winequality_red  0.479890    0.479113  9.974169e-01\n",
      "17                       wizmir  0.992276    0.992285  4.193410e-03\n",
      "18                      wsn-ale  0.525796    0.524567  6.020844e-02\n"
     ]
    },
    {
     "name": "stderr",
     "output_type": "stream",
     "text": [
      "2000it [07:50,  4.25it/s]"
     ]
    },
    {
     "name": "stdout",
     "output_type": "stream",
     "text": [
      "                           name   r2_orig  r2_flipped        p_full\n",
      "0                      autoMPG6  0.872129    0.871681  9.990768e-01\n",
      "1                      baseball  0.668188    0.666649  9.996045e-01\n",
      "2                    boom_bikes  0.996079    0.996091  8.728442e-02\n",
      "3                  daily-demand  0.820918    0.825419  1.565313e-10\n",
      "4            excitation_current  0.999906    0.999912  4.634640e-70\n",
      "5                         laser  0.963051    0.963348  1.390078e-02\n",
      "6          maternal_health_risk  0.752387    0.753864  1.167036e-20\n",
      "7                  medical_cost  0.694032    0.693415  9.999998e-01\n",
      "8                        o-ring  0.141579    0.168934  5.519880e-06\n",
      "9                       plastic  0.715051    0.710116  1.000000e+00\n",
      "10        qsar-aquatic-toxicity  0.524237    0.524178  6.749654e-01\n",
      "11        real_estate_valuation  0.693135    0.693686  4.485718e-01\n",
      "12         residential_building  0.958179    0.957621  9.999996e-01\n",
      "13                        servo  0.633171    0.632337  7.670612e-01\n",
      "14  stock_portfolio_performance  0.991558    0.991236  9.954332e-01\n",
      "15                      wankara  0.987221    0.987230  4.402057e-01\n",
      "16              winequality_red  0.479890    0.479113  9.974169e-01\n",
      "17                       wizmir  0.992276    0.992285  4.193410e-03\n",
      "18                      wsn-ale  0.525796    0.524567  6.020844e-02\n",
      "19          yacht_hydrodynamics  0.994776    0.994810  2.572245e-05\n"
     ]
    },
    {
     "name": "stderr",
     "output_type": "stream",
     "text": [
      "\n"
     ]
    }
   ],
   "source": [
    "results = []\n",
    "\n",
    "validator = RepeatedKFold(n_splits=5, n_repeats=400, random_state=5)\n",
    "\n",
    "for data_loader in data_loaders:\n",
    "    dataset = data_loader()\n",
    "    X = dataset['data']\n",
    "    y = dataset['target']\n",
    "    \n",
    "    r2s_orig = []\n",
    "    r2s_flipped = []\n",
    "    \n",
    "    for train, test in tqdm.tqdm(validator.split(X, y, y)):\n",
    "        X_train = X[train]\n",
    "        X_test = X[test]\n",
    "        y_train = y[train]\n",
    "        y_test = y[test]\n",
    "        \n",
    "        min_samples_leaf = 1\n",
    "        max_depth = None\n",
    "        \n",
    "        params = {'min_samples_leaf': min_samples_leaf,\n",
    "                  'max_depth': max_depth}\n",
    "        \n",
    "        try:\n",
    "            pred = RandomForestRegressor(**params).fit(X_train, y_train).predict(X_test)\n",
    "            r2s_orig.append(r2_score(y_test, pred))\n",
    "            \n",
    "            pred = RandomForestRegressor(**params).fit(-X_train, y_train).predict(-X_test)\n",
    "            r2s_flipped.append(r2_score(y_test, pred))\n",
    "            \n",
    "        except:\n",
    "            pass\n",
    "    \n",
    "    tmp = [dataset['name'], np.mean(r2s_orig), np.mean(r2s_flipped),  \n",
    "                            r2s_orig, r2s_flipped]\n",
    "    \n",
    "    tmp = tmp + [wilcoxon(r2s_orig, r2s_flipped, alternative='less', zero_method='zsplit').pvalue]\n",
    "    \n",
    "    results.append(tmp)\n",
    "    \n",
    "    results_pdf = pd.DataFrame(results, columns=['name', 'r2_orig', 'r2_flipped', 'r2s_orig', 'r2s_flipped', 'p_full'])\n",
    "    \n",
    "    print(results_pdf[['name', \n",
    "                        'r2_orig', \n",
    "                        'r2_flipped', \n",
    "                        'p_full']])\n",
    "        \n"
   ]
  },
  {
   "cell_type": "code",
   "execution_count": 8,
   "metadata": {},
   "outputs": [],
   "source": [
    "results_pdf.to_csv('existance-regression-rf.csv')"
   ]
  },
  {
   "cell_type": "code",
   "execution_count": null,
   "metadata": {},
   "outputs": [],
   "source": []
  }
 ],
 "metadata": {
  "kernelspec": {
   "display_name": "smote_clean",
   "language": "python",
   "name": "python3"
  },
  "language_info": {
   "codemirror_mode": {
    "name": "ipython",
    "version": 3
   },
   "file_extension": ".py",
   "mimetype": "text/x-python",
   "name": "python",
   "nbconvert_exporter": "python",
   "pygments_lexer": "ipython3",
   "version": "3.10.0"
  },
  "orig_nbformat": 4,
  "vscode": {
   "interpreter": {
    "hash": "499044d5ebe425087106556eea30a149e28227c692f9b3f42bc5fd0f94503385"
   }
  }
 },
 "nbformat": 4,
 "nbformat_minor": 2
}
