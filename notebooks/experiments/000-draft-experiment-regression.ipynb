{
 "cells": [
  {
   "cell_type": "code",
   "execution_count": 7,
   "metadata": {},
   "outputs": [],
   "source": [
    "import numpy as np\n",
    "import pandas as pd\n",
    "\n",
    "from scipy.stats import wilcoxon\n",
    "\n",
    "from sklearn.ensemble import RandomForestRegressor\n",
    "from sklearn.model_selection import RepeatedKFold\n",
    "from sklearn.metrics import r2_score\n",
    "\n",
    "from flipping_random_forest import FlippingRandomForestRegressor\n",
    "\n",
    "import common_datasets.regression as regr"
   ]
  },
  {
   "cell_type": "code",
   "execution_count": 8,
   "metadata": {},
   "outputs": [],
   "source": [
    "datasets = regr.get_filtered_data_loaders(n_bounds=(1, 2000), n_from_phenotypes=1)\n",
    "names = [dataset()['name'] for dataset in datasets]"
   ]
  },
  {
   "cell_type": "code",
   "execution_count": null,
   "metadata": {},
   "outputs": [
    {
     "data": {
      "text/plain": [
       "['airfoil',\n",
       " 'autoMPG6',\n",
       " 'baseball',\n",
       " 'communities',\n",
       " 'cpu_performance',\n",
       " 'daily-demand',\n",
       " 'diabetes',\n",
       " 'excitation_current',\n",
       " 'forestfires',\n",
       " 'laser',\n",
       " 'mortgage',\n",
       " 'o-ring',\n",
       " 'qsar-aquatic-toxicity',\n",
       " 'real_estate_valuation',\n",
       " 'residential_building',\n",
       " 'servo',\n",
       " 'slump_test',\n",
       " 'stock_portfolio_performance',\n",
       " 'treasury',\n",
       " 'wankara',\n",
       " 'winequality_red',\n",
       " 'wizmir',\n",
       " 'wsn-ale',\n",
       " 'yacht_hydrodynamics']"
      ]
     },
     "execution_count": 3,
     "metadata": {},
     "output_type": "execute_result"
    }
   ],
   "source": [
    "names"
   ]
  },
  {
   "cell_type": "code",
   "execution_count": null,
   "metadata": {},
   "outputs": [],
   "source": [
    "summary = regr.get_summary_pdf()\n",
    "summary = summary[summary['name'].isin(names)]"
   ]
  },
  {
   "cell_type": "code",
   "execution_count": null,
   "metadata": {},
   "outputs": [],
   "source": []
  },
  {
   "cell_type": "code",
   "execution_count": null,
   "metadata": {},
   "outputs": [],
   "source": [
    "tmp = summary[summary[['grid', 'n_feature_uniques']].apply(lambda x: np.sum(np.array(x['grid']) & (np.array(x['n_feature_uniques']) > 4)) > 0, axis=1)]\n",
    "data_loaders = tmp['data_loader_function']"
   ]
  },
  {
   "cell_type": "code",
   "execution_count": null,
   "metadata": {},
   "outputs": [
    {
     "name": "stderr",
     "output_type": "stream",
     "text": [
      "/home/gykovacs/anaconda3/envs/smote_clean/lib/python3.10/site-packages/numpy/core/fromnumeric.py:3432: RuntimeWarning: Mean of empty slice.\n",
      "  return _methods._mean(a, axis=axis, dtype=dtype,\n",
      "/home/gykovacs/anaconda3/envs/smote_clean/lib/python3.10/site-packages/numpy/core/_methods.py:190: RuntimeWarning: invalid value encountered in double_scalars\n",
      "  ret = ret.dtype.type(ret / rcount)\n"
     ]
    },
    {
     "ename": "ValueError",
     "evalue": "13 columns passed, passed data had 15 columns",
     "output_type": "error",
     "traceback": [
      "\u001b[0;31m---------------------------------------------------------------------------\u001b[0m",
      "\u001b[0;31mAssertionError\u001b[0m                            Traceback (most recent call last)",
      "File \u001b[0;32m~/anaconda3/envs/smote_clean/lib/python3.10/site-packages/pandas/core/internals/construction.py:969\u001b[0m, in \u001b[0;36m_finalize_columns_and_data\u001b[0;34m(content, columns, dtype)\u001b[0m\n\u001b[1;32m    968\u001b[0m \u001b[39mtry\u001b[39;00m:\n\u001b[0;32m--> 969\u001b[0m     columns \u001b[39m=\u001b[39m _validate_or_indexify_columns(contents, columns)\n\u001b[1;32m    970\u001b[0m \u001b[39mexcept\u001b[39;00m \u001b[39mAssertionError\u001b[39;00m \u001b[39mas\u001b[39;00m err:\n\u001b[1;32m    971\u001b[0m     \u001b[39m# GH#26429 do not raise user-facing AssertionError\u001b[39;00m\n",
      "File \u001b[0;32m~/anaconda3/envs/smote_clean/lib/python3.10/site-packages/pandas/core/internals/construction.py:1017\u001b[0m, in \u001b[0;36m_validate_or_indexify_columns\u001b[0;34m(content, columns)\u001b[0m\n\u001b[1;32m   1015\u001b[0m \u001b[39mif\u001b[39;00m \u001b[39mnot\u001b[39;00m is_mi_list \u001b[39mand\u001b[39;00m \u001b[39mlen\u001b[39m(columns) \u001b[39m!=\u001b[39m \u001b[39mlen\u001b[39m(content):  \u001b[39m# pragma: no cover\u001b[39;00m\n\u001b[1;32m   1016\u001b[0m     \u001b[39m# caller's responsibility to check for this...\u001b[39;00m\n\u001b[0;32m-> 1017\u001b[0m     \u001b[39mraise\u001b[39;00m \u001b[39mAssertionError\u001b[39;00m(\n\u001b[1;32m   1018\u001b[0m         \u001b[39mf\u001b[39m\u001b[39m\"\u001b[39m\u001b[39m{\u001b[39;00m\u001b[39mlen\u001b[39m(columns)\u001b[39m}\u001b[39;00m\u001b[39m columns passed, passed data had \u001b[39m\u001b[39m\"\u001b[39m\n\u001b[1;32m   1019\u001b[0m         \u001b[39mf\u001b[39m\u001b[39m\"\u001b[39m\u001b[39m{\u001b[39;00m\u001b[39mlen\u001b[39m(content)\u001b[39m}\u001b[39;00m\u001b[39m columns\u001b[39m\u001b[39m\"\u001b[39m\n\u001b[1;32m   1020\u001b[0m     )\n\u001b[1;32m   1021\u001b[0m \u001b[39melif\u001b[39;00m is_mi_list:\n\u001b[1;32m   1022\u001b[0m \n\u001b[1;32m   1023\u001b[0m     \u001b[39m# check if nested list column, length of each sub-list should be equal\u001b[39;00m\n",
      "\u001b[0;31mAssertionError\u001b[0m: 13 columns passed, passed data had 15 columns",
      "\nThe above exception was the direct cause of the following exception:\n",
      "\u001b[0;31mValueError\u001b[0m                                Traceback (most recent call last)",
      "Cell \u001b[0;32mIn[6], line 63\u001b[0m\n\u001b[1;32m     58\u001b[0m tmp \u001b[39m=\u001b[39m tmp \u001b[39m+\u001b[39m [wilcoxon(r2s_baseline, r2s_flipping_full, alternative\u001b[39m=\u001b[39m\u001b[39m'\u001b[39m\u001b[39mless\u001b[39m\u001b[39m'\u001b[39m, zero_method\u001b[39m=\u001b[39m\u001b[39m'\u001b[39m\u001b[39mzsplit\u001b[39m\u001b[39m'\u001b[39m)\u001b[39m.\u001b[39mpvalue,\n\u001b[1;32m     59\u001b[0m             wilcoxon(r2s_baseline, r2s_flipping_coord, alternative\u001b[39m=\u001b[39m\u001b[39m'\u001b[39m\u001b[39mless\u001b[39m\u001b[39m'\u001b[39m, zero_method\u001b[39m=\u001b[39m\u001b[39m'\u001b[39m\u001b[39mzsplit\u001b[39m\u001b[39m'\u001b[39m)\u001b[39m.\u001b[39mpvalue]\n\u001b[1;32m     61\u001b[0m results\u001b[39m.\u001b[39mappend(tmp)\n\u001b[0;32m---> 63\u001b[0m results_pdf \u001b[39m=\u001b[39m pd\u001b[39m.\u001b[39;49mDataFrame(results, columns\u001b[39m=\u001b[39;49m[\u001b[39m'\u001b[39;49m\u001b[39mname\u001b[39;49m\u001b[39m'\u001b[39;49m, \u001b[39m'\u001b[39;49m\u001b[39mr2_orig\u001b[39;49m\u001b[39m'\u001b[39;49m, \u001b[39m'\u001b[39;49m\u001b[39mr2_flipped\u001b[39;49m\u001b[39m'\u001b[39;49m, \u001b[39m'\u001b[39;49m\u001b[39mr2_baseline\u001b[39;49m\u001b[39m'\u001b[39;49m, \u001b[39m'\u001b[39;49m\u001b[39mr2_baseline_flipped\u001b[39;49m\u001b[39m'\u001b[39;49m, \u001b[39m'\u001b[39;49m\u001b[39mr2_flipping_full\u001b[39;49m\u001b[39m'\u001b[39;49m, \u001b[39m'\u001b[39;49m\u001b[39mr2_flipping_coord\u001b[39;49m\u001b[39m'\u001b[39;49m, \u001b[39m'\u001b[39;49m\u001b[39mr2s_orig\u001b[39;49m\u001b[39m'\u001b[39;49m, \u001b[39m'\u001b[39;49m\u001b[39mr2s_flipped\u001b[39;49m\u001b[39m'\u001b[39;49m, \u001b[39m'\u001b[39;49m\u001b[39mr2s_baseline\u001b[39;49m\u001b[39m'\u001b[39;49m, \u001b[39m'\u001b[39;49m\u001b[39mr2s_baseline_flipped\u001b[39;49m\u001b[39m'\u001b[39;49m, \u001b[39m'\u001b[39;49m\u001b[39mr2s_flipping_full\u001b[39;49m\u001b[39m'\u001b[39;49m, \u001b[39m'\u001b[39;49m\u001b[39mr2s_flipping_coord\u001b[39;49m\u001b[39m'\u001b[39;49m])\n\u001b[1;32m     64\u001b[0m results_pdf[\u001b[39m'\u001b[39m\u001b[39mr2_baseline_min\u001b[39m\u001b[39m'\u001b[39m] \u001b[39m=\u001b[39m results_pdf[[\u001b[39m'\u001b[39m\u001b[39mr2_baseline\u001b[39m\u001b[39m'\u001b[39m, \u001b[39m'\u001b[39m\u001b[39mr2_baseline_flipped\u001b[39m\u001b[39m'\u001b[39m]]\u001b[39m.\u001b[39mapply(\u001b[39mlambda\u001b[39;00m x: \u001b[39mmin\u001b[39m(x), axis\u001b[39m=\u001b[39m\u001b[39m1\u001b[39m)\n\u001b[1;32m     65\u001b[0m \u001b[39mprint\u001b[39m(results_pdf[[\u001b[39m'\u001b[39m\u001b[39mname\u001b[39m\u001b[39m'\u001b[39m, \n\u001b[1;32m     66\u001b[0m                     \u001b[39m'\u001b[39m\u001b[39mr2_orig\u001b[39m\u001b[39m'\u001b[39m, \n\u001b[1;32m     67\u001b[0m                     \u001b[39m#'r2_flipped', \u001b[39;00m\n\u001b[0;32m   (...)\u001b[0m\n\u001b[1;32m     71\u001b[0m                     \u001b[39m'\u001b[39m\u001b[39mr2_flipping_full\u001b[39m\u001b[39m'\u001b[39m, \n\u001b[1;32m     72\u001b[0m                     \u001b[39m'\u001b[39m\u001b[39mr2_flipping_coord\u001b[39m\u001b[39m'\u001b[39m, \u001b[39m'\u001b[39m\u001b[39mp_full\u001b[39m\u001b[39m'\u001b[39m, \u001b[39m'\u001b[39m\u001b[39mp_coord\u001b[39m\u001b[39m'\u001b[39m]])\n",
      "File \u001b[0;32m~/anaconda3/envs/smote_clean/lib/python3.10/site-packages/pandas/core/frame.py:745\u001b[0m, in \u001b[0;36mDataFrame.__init__\u001b[0;34m(self, data, index, columns, dtype, copy)\u001b[0m\n\u001b[1;32m    743\u001b[0m     \u001b[39mif\u001b[39;00m columns \u001b[39mis\u001b[39;00m \u001b[39mnot\u001b[39;00m \u001b[39mNone\u001b[39;00m:\n\u001b[1;32m    744\u001b[0m         columns \u001b[39m=\u001b[39m ensure_index(columns)\n\u001b[0;32m--> 745\u001b[0m     arrays, columns, index \u001b[39m=\u001b[39m nested_data_to_arrays(\n\u001b[1;32m    746\u001b[0m         \u001b[39m# error: Argument 3 to \"nested_data_to_arrays\" has incompatible\u001b[39;49;00m\n\u001b[1;32m    747\u001b[0m         \u001b[39m# type \"Optional[Collection[Any]]\"; expected \"Optional[Index]\"\u001b[39;49;00m\n\u001b[1;32m    748\u001b[0m         data,\n\u001b[1;32m    749\u001b[0m         columns,\n\u001b[1;32m    750\u001b[0m         index,  \u001b[39m# type: ignore[arg-type]\u001b[39;49;00m\n\u001b[1;32m    751\u001b[0m         dtype,\n\u001b[1;32m    752\u001b[0m     )\n\u001b[1;32m    753\u001b[0m     mgr \u001b[39m=\u001b[39m arrays_to_mgr(\n\u001b[1;32m    754\u001b[0m         arrays,\n\u001b[1;32m    755\u001b[0m         columns,\n\u001b[0;32m   (...)\u001b[0m\n\u001b[1;32m    758\u001b[0m         typ\u001b[39m=\u001b[39mmanager,\n\u001b[1;32m    759\u001b[0m     )\n\u001b[1;32m    760\u001b[0m \u001b[39melse\u001b[39;00m:\n",
      "File \u001b[0;32m~/anaconda3/envs/smote_clean/lib/python3.10/site-packages/pandas/core/internals/construction.py:510\u001b[0m, in \u001b[0;36mnested_data_to_arrays\u001b[0;34m(data, columns, index, dtype)\u001b[0m\n\u001b[1;32m    507\u001b[0m \u001b[39mif\u001b[39;00m is_named_tuple(data[\u001b[39m0\u001b[39m]) \u001b[39mand\u001b[39;00m columns \u001b[39mis\u001b[39;00m \u001b[39mNone\u001b[39;00m:\n\u001b[1;32m    508\u001b[0m     columns \u001b[39m=\u001b[39m ensure_index(data[\u001b[39m0\u001b[39m]\u001b[39m.\u001b[39m_fields)\n\u001b[0;32m--> 510\u001b[0m arrays, columns \u001b[39m=\u001b[39m to_arrays(data, columns, dtype\u001b[39m=\u001b[39;49mdtype)\n\u001b[1;32m    511\u001b[0m columns \u001b[39m=\u001b[39m ensure_index(columns)\n\u001b[1;32m    513\u001b[0m \u001b[39mif\u001b[39;00m index \u001b[39mis\u001b[39;00m \u001b[39mNone\u001b[39;00m:\n",
      "File \u001b[0;32m~/anaconda3/envs/smote_clean/lib/python3.10/site-packages/pandas/core/internals/construction.py:875\u001b[0m, in \u001b[0;36mto_arrays\u001b[0;34m(data, columns, dtype)\u001b[0m\n\u001b[1;32m    872\u001b[0m     data \u001b[39m=\u001b[39m [\u001b[39mtuple\u001b[39m(x) \u001b[39mfor\u001b[39;00m x \u001b[39min\u001b[39;00m data]\n\u001b[1;32m    873\u001b[0m     arr \u001b[39m=\u001b[39m _list_to_arrays(data)\n\u001b[0;32m--> 875\u001b[0m content, columns \u001b[39m=\u001b[39m _finalize_columns_and_data(arr, columns, dtype)\n\u001b[1;32m    876\u001b[0m \u001b[39mreturn\u001b[39;00m content, columns\n",
      "File \u001b[0;32m~/anaconda3/envs/smote_clean/lib/python3.10/site-packages/pandas/core/internals/construction.py:972\u001b[0m, in \u001b[0;36m_finalize_columns_and_data\u001b[0;34m(content, columns, dtype)\u001b[0m\n\u001b[1;32m    969\u001b[0m     columns \u001b[39m=\u001b[39m _validate_or_indexify_columns(contents, columns)\n\u001b[1;32m    970\u001b[0m \u001b[39mexcept\u001b[39;00m \u001b[39mAssertionError\u001b[39;00m \u001b[39mas\u001b[39;00m err:\n\u001b[1;32m    971\u001b[0m     \u001b[39m# GH#26429 do not raise user-facing AssertionError\u001b[39;00m\n\u001b[0;32m--> 972\u001b[0m     \u001b[39mraise\u001b[39;00m \u001b[39mValueError\u001b[39;00m(err) \u001b[39mfrom\u001b[39;00m \u001b[39merr\u001b[39;00m\n\u001b[1;32m    974\u001b[0m \u001b[39mif\u001b[39;00m \u001b[39mlen\u001b[39m(contents) \u001b[39mand\u001b[39;00m contents[\u001b[39m0\u001b[39m]\u001b[39m.\u001b[39mdtype \u001b[39m==\u001b[39m np\u001b[39m.\u001b[39mobject_:\n\u001b[1;32m    975\u001b[0m     contents \u001b[39m=\u001b[39m _convert_object_array(contents, dtype\u001b[39m=\u001b[39mdtype)\n",
      "\u001b[0;31mValueError\u001b[0m: 13 columns passed, passed data had 15 columns"
     ]
    }
   ],
   "source": [
    "results = []\n",
    "\n",
    "validator = RepeatedKFold(n_splits=5, n_repeats=400, random_state=5)\n",
    "\n",
    "for data_loader in data_loaders:\n",
    "    dataset = data_loader()\n",
    "    X = dataset['data']\n",
    "    y = dataset['target']\n",
    "    \n",
    "    r2s_orig = []\n",
    "    r2s_flipped = []\n",
    "    r2s_baseline = []\n",
    "    r2s_baseline_flipped = []\n",
    "    r2s_flipping_full = []\n",
    "    r2s_flipping_coord = []\n",
    "    \n",
    "    for train, test in validator.split(X, y, y):\n",
    "        X_train = X[train]\n",
    "        X_test = X[test]\n",
    "        y_train = y[train]\n",
    "        y_test = y[test]\n",
    "        \n",
    "        min_samples_leaf = 1#np.random.randint(1, 21)\n",
    "        max_depth = None#np.random.choice([None, 1, 2, 3, 4, 5, 6, 7, 8, 9])\n",
    "        \n",
    "        params = {'n_jobs': 1,\n",
    "                    'min_samples_leaf': min_samples_leaf,\n",
    "                    'max_depth': max_depth}\n",
    "        \n",
    "        try:\n",
    "            pred = RandomForestRegressor().fit(X_train, y_train).predict(X_test)\n",
    "            r2s_orig.append(r2_score(y_test, pred))\n",
    "            \n",
    "            #pred = RandomForestRegressor().fit(-X_train, y_train).predict(-X_test)\n",
    "            #r2s_flipped.append(r2_score(y_test, pred))\n",
    "            r2s_flipped.append(0)\n",
    "            \n",
    "            pred = FlippingRandomForestRegressor().fit(X_train, y_train).predict(X_test)\n",
    "            r2s_baseline.append(r2_score(y_test, pred))\n",
    "            \n",
    "            #pred = FlippingRandomForestRegressor().fit(-X_train, y_train).predict(-X_test)\n",
    "            #r2s_baseline_flipped.append(r2_score(y_test, pred))\n",
    "            r2s_baseline_flipped.append(0)\n",
    "            \n",
    "            pred = FlippingRandomForestRegressor(flipping='full').fit(X_train, y_train).predict(X_test)\n",
    "            r2s_flipping_full.append(r2_score(y_test, pred))\n",
    "            \n",
    "            pred = FlippingRandomForestRegressor(flipping='coordinate').fit(X_train, y_train).predict(X_test)\n",
    "            r2s_flipping_coord.append(r2_score(y_test, pred))\n",
    "        except:\n",
    "            pass\n",
    "    \n",
    "    tmp = [dataset['name'], np.mean(r2s_orig), np.mean(r2s_flipped), np.mean(r2s_baseline), \n",
    "                np.mean(r2s_baseline_flipped), np.mean(r2s_flipping_full), np.mean(r2s_flipping_coord), \n",
    "                r2s_orig, r2s_flipped, r2s_baseline, r2s_baseline_flipped, \n",
    "                r2s_flipping_full, r2s_flipping_coord]\n",
    "    \n",
    "    tmp = tmp + [wilcoxon(r2s_baseline, r2s_flipping_full, alternative='less', zero_method='zsplit').pvalue,\n",
    "                wilcoxon(r2s_baseline, r2s_flipping_coord, alternative='less', zero_method='zsplit').pvalue]\n",
    "    \n",
    "    results.append(tmp)\n",
    "    \n",
    "    results_pdf = pd.DataFrame(results, columns=['name', 'r2_orig', 'r2_flipped', 'r2_baseline', 'r2_baseline_flipped', \n",
    "                                                'r2_flipping_full', 'r2_flipping_coord', 'r2s_orig', 'r2s_flipped', 'r2s_baseline', \n",
    "                                                'r2s_baseline_flipped', 'r2s_flipping_full', 'r2s_flipping_coord', 'p_full', 'p_coord'])\n",
    "    results_pdf['r2_baseline_min'] = results_pdf[['r2_baseline', 'r2_baseline_flipped']].apply(lambda x: min(x), axis=1)\n",
    "    print(results_pdf[['name', \n",
    "                        'r2_orig', \n",
    "                        #'r2_flipped', \n",
    "                        'r2_baseline', \n",
    "                        #'r2_baseline_flipped', \n",
    "                        #'r2_baseline_min', \n",
    "                        'r2_flipping_full', \n",
    "                        'r2_flipping_coord', 'p_full', 'p_coord']])\n",
    "        \n"
   ]
  },
  {
   "cell_type": "code",
   "execution_count": null,
   "metadata": {},
   "outputs": [
    {
     "name": "stdout",
     "output_type": "stream",
     "text": [
      "autoMPG6 0.36573577105115274\n",
      "baseball 0.9846360945926227\n",
      "communities 0.8084461211911906\n",
      "daily-demand 0.5423364789775422\n",
      "excitation_current 0.7254244057727449\n",
      "forestfires 0.9911522021352104\n",
      "laser 0.015049251726346182\n",
      "o-ring 0.9584287471670327\n",
      "qsar-aquatic-toxicity 0.08702948300325603\n",
      "real_estate_valuation 0.6034729814662072\n",
      "residential_building 0.05465414685507099\n",
      "servo 0.3460903579450517\n",
      "stock_portfolio_performance 0.5239525012421037\n",
      "wankara 0.8114957698811465\n",
      "winequality_red 0.747578261841179\n",
      "wizmir 0.10448324479476356\n",
      "yacht_hydrodynamics 0.5462777268096652\n"
     ]
    }
   ],
   "source": [
    "for idx, row in results_pdf.iterrows():\n",
    "    #w0 = wilcoxon(row['r2s_baseline'], row['r2s_flipping_full'], alternative='greater').pvalue\n",
    "    w1 = wilcoxon(row['r2s_baseline'], row['r2s_flipping_full'], alternative='less').pvalue\n",
    "    print(row['name'], w1)"
   ]
  },
  {
   "cell_type": "code",
   "execution_count": null,
   "metadata": {},
   "outputs": [],
   "source": []
  }
 ],
 "metadata": {
  "kernelspec": {
   "display_name": "smote_clean",
   "language": "python",
   "name": "python3"
  },
  "language_info": {
   "codemirror_mode": {
    "name": "ipython",
    "version": 3
   },
   "file_extension": ".py",
   "mimetype": "text/x-python",
   "name": "python",
   "nbconvert_exporter": "python",
   "pygments_lexer": "ipython3",
   "version": "3.10.0"
  },
  "orig_nbformat": 4,
  "vscode": {
   "interpreter": {
    "hash": "499044d5ebe425087106556eea30a149e28227c692f9b3f42bc5fd0f94503385"
   }
  }
 },
 "nbformat": 4,
 "nbformat_minor": 2
}
