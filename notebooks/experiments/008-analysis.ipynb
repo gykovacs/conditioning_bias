{
 "cells": [
  {
   "cell_type": "code",
   "execution_count": 14,
   "metadata": {},
   "outputs": [],
   "source": [
    "import pandas as pd"
   ]
  },
  {
   "cell_type": "code",
   "execution_count": 1,
   "metadata": {},
   "outputs": [],
   "source": [
    "from datasets import (binclas_datasets, regr_datasets)"
   ]
  },
  {
   "cell_type": "code",
   "execution_count": 2,
   "metadata": {},
   "outputs": [],
   "source": [
    "binclas_datasets = binclas_datasets.drop('data_loader_function', axis='columns')\n",
    "regr_datasets = regr_datasets.drop('data_loader_function', axis='columns')"
   ]
  },
  {
   "cell_type": "code",
   "execution_count": 3,
   "metadata": {},
   "outputs": [],
   "source": [
    "binclas_datasets['name'] = binclas_datasets[['name', 'citation_key']].apply(lambda x: f'{x[\"name\"]} \\\\cite{{{x[\"citation_key\"]}}}', axis=1)\n",
    "binclas_datasets = binclas_datasets.drop('citation_key', axis='columns')"
   ]
  },
  {
   "cell_type": "code",
   "execution_count": 4,
   "metadata": {},
   "outputs": [],
   "source": [
    "regr_datasets['name'] = regr_datasets[['name', 'citation_key']].apply(lambda x: f'{x[\"name\"]} \\\\cite{{{x[\"citation_key\"]}}}', axis=1)\n",
    "regr_datasets = regr_datasets.drop('citation_key', axis='columns')"
   ]
  },
  {
   "cell_type": "code",
   "execution_count": 9,
   "metadata": {},
   "outputs": [
    {
     "name": "stdout",
     "output_type": "stream",
     "text": [
      "\\begin{tabular}{llrrr}\n",
      " & name & n & n-col & n-grid \\\\\n",
      "0 & haberman \\cite{keel} & 306 & 3 & 2 \\\\\n",
      "1 & new-thyroid1 \\cite{keel} & 215 & 5 & 1 \\\\\n",
      "2 & shuttle-6-vs-2-3 \\cite{keel} & 230 & 9 & 4 \\\\\n",
      "3 & bupa \\cite{keel} & 345 & 6 & 4 \\\\\n",
      "4 & cleveland-0-vs-4 \\cite{keel} & 177 & 13 & 7 \\\\\n",
      "5 & ecoli1 \\cite{keel} & 336 & 7 & 1 \\\\\n",
      "6 & poker-9-vs-7 \\cite{keel} & 244 & 10 & 10 \\\\\n",
      "7 & monk-2 \\cite{keel} & 432 & 6 & 4 \\\\\n",
      "8 & hepatitis \\cite{krnn} & 155 & 19 & 1 \\\\\n",
      "9 & yeast-0-3-5-9-vs-7-8 \\cite{keel} & 506 & 8 & 2 \\\\\n",
      "10 & mammographic \\cite{keel} & 830 & 5 & 4 \\\\\n",
      "11 & saheart \\cite{keel} & 462 & 9 & 3 \\\\\n",
      "12 & lymphography-normal-fibrosis \\cite{keel} & 148 & 32 & 3 \\\\\n",
      "13 & pima \\cite{keel} & 768 & 8 & 5 \\\\\n",
      "14 & wisconsin \\cite{keel} & 683 & 9 & 9 \\\\\n",
      "15 & abalone9-18 \\cite{keel} & 731 & 9 & 3 \\\\\n",
      "16 & winequality-red-3-vs-5 \\cite{keel} & 691 & 11 & 3 \\\\\n",
      "17 & CM1 \\cite{krnn} & 498 & 21 & 1 \\\\\n",
      "18 & australian \\cite{keel} & 690 & 16 & 2 \\\\\n",
      "19 & SPECTF \\cite{krnn} & 267 & 44 & 42 \\\\\n",
      "\\end{tabular}\n",
      "\n"
     ]
    }
   ],
   "source": [
    "print(binclas_datasets[['name', 'n', 'n_col', 'n_grid']].style.to_latex().replace('_', '-'))"
   ]
  },
  {
   "cell_type": "code",
   "execution_count": 10,
   "metadata": {},
   "outputs": [
    {
     "name": "stdout",
     "output_type": "stream",
     "text": [
      "\\begin{tabular}{llrrr}\n",
      " & name & n & n-col & n-grid \\\\\n",
      "0 & o-ring \\cite{uci} & 23 & 6 & 3 \\\\\n",
      "1 & stock-portfolio-performance \\cite{uci} & 63 & 6 & 1 \\\\\n",
      "2 & wsn-ale \\cite{uci} & 107 & 5 & 1 \\\\\n",
      "3 & daily-demand \\cite{uci} & 60 & 12 & 2 \\\\\n",
      "4 & servo \\cite{uci} & 167 & 10 & 2 \\\\\n",
      "5 & yacht-hydrodynamics \\cite{krnn} & 307 & 6 & 1 \\\\\n",
      "6 & autoMPG6 \\cite{keel} & 392 & 5 & 2 \\\\\n",
      "7 & excitation-current \\cite{uci} & 557 & 4 & 2 \\\\\n",
      "8 & real-estate-valuation \\cite{uci} & 414 & 6 & 2 \\\\\n",
      "9 & wankara \\cite{keel} & 321 & 9 & 2 \\\\\n",
      "10 & plastic \\cite{keel} & 1650 & 2 & 2 \\\\\n",
      "11 & laser \\cite{keel} & 993 & 4 & 4 \\\\\n",
      "12 & qsar-aquatic-toxicity \\cite{uci} & 546 & 8 & 3 \\\\\n",
      "13 & baseball \\cite{keel} & 337 & 16 & 10 \\\\\n",
      "14 & maternal-health-risk \\cite{uci} & 1013 & 6 & 1 \\\\\n",
      "15 & medical-cost \\cite{mlwithr} & 1338 & 6 & 1 \\\\\n",
      "16 & boom-bikes \\cite{boombikes} & 730 & 13 & 4 \\\\\n",
      "17 & wizmir \\cite{keel} & 1461 & 9 & 2 \\\\\n",
      "18 & forestfires \\cite{krnn} & 517 & 27 & 3 \\\\\n",
      "19 & winequality-red \\cite{krnn} & 1599 & 11 & 4 \\\\\n",
      "\\end{tabular}\n",
      "\n"
     ]
    }
   ],
   "source": [
    "print(regr_datasets[['name', 'n', 'n_col', 'n_grid']].style.to_latex().replace('_', '-'))"
   ]
  },
  {
   "cell_type": "code",
   "execution_count": 16,
   "metadata": {},
   "outputs": [],
   "source": [
    "tmp = pd.concat([binclas_datasets[['name', 'n', 'n_col', 'n_grid']], regr_datasets[['name', 'n', 'n_col', 'n_grid']]], axis=1)"
   ]
  },
  {
   "cell_type": "code",
   "execution_count": 17,
   "metadata": {},
   "outputs": [],
   "source": [
    "import numpy as np\n",
    "\n",
    "columns = [np.array(['Classification', 'Classification', 'Classification', 'Classification', 'Regression', 'Regression', 'Regression', 'Regression']),\n",
    "            np.array(['name', 'n', 'n_col', 'n_grid', 'name', 'n', 'n_col', 'n_grid'])]"
   ]
  },
  {
   "cell_type": "code",
   "execution_count": 18,
   "metadata": {},
   "outputs": [],
   "source": [
    "tmp.columns = columns"
   ]
  },
  {
   "cell_type": "code",
   "execution_count": 20,
   "metadata": {},
   "outputs": [
    {
     "name": "stdout",
     "output_type": "stream",
     "text": [
      "\\begin{tabular}{llrrrlrrr}\n",
      " & \\multicolumn{4}{r}{Classification} & \\multicolumn{4}{r}{Regression} \\\\\n",
      " & name & n & n_col & n_grid & name & n & n_col & n_grid \\\\\n",
      "0 & haberman \\cite{keel} & 306 & 3 & 2 & o-ring \\cite{uci} & 23 & 6 & 3 \\\\\n",
      "1 & new_thyroid1 \\cite{keel} & 215 & 5 & 1 & stock_portfolio_performance \\cite{uci} & 63 & 6 & 1 \\\\\n",
      "2 & shuttle-6_vs_2-3 \\cite{keel} & 230 & 9 & 4 & wsn-ale \\cite{uci} & 107 & 5 & 1 \\\\\n",
      "3 & bupa \\cite{keel} & 345 & 6 & 4 & daily-demand \\cite{uci} & 60 & 12 & 2 \\\\\n",
      "4 & cleveland-0_vs_4 \\cite{keel} & 177 & 13 & 7 & servo \\cite{uci} & 167 & 10 & 2 \\\\\n",
      "5 & ecoli1 \\cite{keel} & 336 & 7 & 1 & yacht_hydrodynamics \\cite{krnn} & 307 & 6 & 1 \\\\\n",
      "6 & poker-9_vs_7 \\cite{keel} & 244 & 10 & 10 & autoMPG6 \\cite{keel} & 392 & 5 & 2 \\\\\n",
      "7 & monk-2 \\cite{keel} & 432 & 6 & 4 & excitation_current \\cite{uci} & 557 & 4 & 2 \\\\\n",
      "8 & hepatitis \\cite{krnn} & 155 & 19 & 1 & real_estate_valuation \\cite{uci} & 414 & 6 & 2 \\\\\n",
      "9 & yeast-0-3-5-9_vs_7-8 \\cite{keel} & 506 & 8 & 2 & wankara \\cite{keel} & 321 & 9 & 2 \\\\\n",
      "10 & mammographic \\cite{keel} & 830 & 5 & 4 & plastic \\cite{keel} & 1650 & 2 & 2 \\\\\n",
      "11 & saheart \\cite{keel} & 462 & 9 & 3 & laser \\cite{keel} & 993 & 4 & 4 \\\\\n",
      "12 & lymphography-normal-fibrosis \\cite{keel} & 148 & 32 & 3 & qsar-aquatic-toxicity \\cite{uci} & 546 & 8 & 3 \\\\\n",
      "13 & pima \\cite{keel} & 768 & 8 & 5 & baseball \\cite{keel} & 337 & 16 & 10 \\\\\n",
      "14 & wisconsin \\cite{keel} & 683 & 9 & 9 & maternal_health_risk \\cite{uci} & 1013 & 6 & 1 \\\\\n",
      "15 & abalone9_18 \\cite{keel} & 731 & 9 & 3 & medical_cost \\cite{mlwithr} & 1338 & 6 & 1 \\\\\n",
      "16 & winequality-red-3_vs_5 \\cite{keel} & 691 & 11 & 3 & boom_bikes \\cite{boombikes} & 730 & 13 & 4 \\\\\n",
      "17 & CM1 \\cite{krnn} & 498 & 21 & 1 & wizmir \\cite{keel} & 1461 & 9 & 2 \\\\\n",
      "18 & australian \\cite{keel} & 690 & 16 & 2 & forestfires \\cite{krnn} & 517 & 27 & 3 \\\\\n",
      "19 & SPECTF \\cite{krnn} & 267 & 44 & 42 & winequality_red \\cite{krnn} & 1599 & 11 & 4 \\\\\n",
      "\\end{tabular}\n",
      "\n"
     ]
    }
   ],
   "source": [
    "print(tmp.style.to_latex().replace('_', '-'))"
   ]
  },
  {
   "cell_type": "code",
   "execution_count": null,
   "metadata": {},
   "outputs": [],
   "source": []
  }
 ],
 "metadata": {
  "kernelspec": {
   "display_name": "smote_clean",
   "language": "python",
   "name": "python3"
  },
  "language_info": {
   "codemirror_mode": {
    "name": "ipython",
    "version": 3
   },
   "file_extension": ".py",
   "mimetype": "text/x-python",
   "name": "python",
   "nbconvert_exporter": "python",
   "pygments_lexer": "ipython3",
   "version": "3.10.0"
  },
  "orig_nbformat": 4,
  "vscode": {
   "interpreter": {
    "hash": "499044d5ebe425087106556eea30a149e28227c692f9b3f42bc5fd0f94503385"
   }
  }
 },
 "nbformat": 4,
 "nbformat_minor": 2
}
