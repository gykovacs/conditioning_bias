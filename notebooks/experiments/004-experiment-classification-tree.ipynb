{
 "cells": [
  {
   "cell_type": "code",
   "execution_count": 1,
   "metadata": {},
   "outputs": [],
   "source": [
    "import numpy as np\n",
    "import pandas as pd\n",
    "\n",
    "import tqdm\n",
    "\n",
    "from scipy.stats import wilcoxon\n",
    "\n",
    "from sklearn.tree import DecisionTreeClassifier\n",
    "from sklearn.model_selection import RepeatedStratifiedKFold\n",
    "from sklearn.metrics import roc_auc_score\n",
    "\n",
    "from flipping_random_forest import FlippingDecisionTreeClassifier\n",
    "\n",
    "from datasets import binclas_datasets"
   ]
  },
  {
   "cell_type": "code",
   "execution_count": 2,
   "metadata": {},
   "outputs": [],
   "source": [
    "data_loaders = binclas_datasets['data_loader_function'].values.tolist()"
   ]
  },
  {
   "cell_type": "code",
   "execution_count": 3,
   "metadata": {},
   "outputs": [
    {
     "name": "stderr",
     "output_type": "stream",
     "text": [
      "10000it [01:26, 115.00it/s]\n"
     ]
    },
    {
     "name": "stdout",
     "output_type": "stream",
     "text": [
      "aaa 10000 10000 10000\n",
      "       name  auc_orig  auc_baseline  auc_flipping_full  auc_flipping_coord  \\\n",
      "0  haberman  0.557615      0.561495                0.0                 0.0   \n",
      "\n",
      "         p_full  \n",
      "0  1.687998e-26  \n"
     ]
    },
    {
     "name": "stderr",
     "output_type": "stream",
     "text": [
      "10000it [00:42, 233.05it/s]\n"
     ]
    },
    {
     "name": "stdout",
     "output_type": "stream",
     "text": [
      "aaa 10000 10000 10000\n",
      "           name  auc_orig  auc_baseline  auc_flipping_full  \\\n",
      "0      haberman  0.557615      0.561495                0.0   \n",
      "1  new_thyroid1  0.930327      0.935953                0.0   \n",
      "\n",
      "   auc_flipping_coord        p_full  \n",
      "0                 0.0  1.687998e-26  \n",
      "1                 0.0  5.336328e-34  \n"
     ]
    },
    {
     "name": "stderr",
     "output_type": "stream",
     "text": [
      "10000it [00:44, 225.50it/s]\n"
     ]
    },
    {
     "name": "stdout",
     "output_type": "stream",
     "text": [
      "aaa 10000 10000 10000\n",
      "               name  auc_orig  auc_baseline  auc_flipping_full  \\\n",
      "0          haberman  0.557615      0.561495                0.0   \n",
      "1      new_thyroid1  0.930327      0.935953                0.0   \n",
      "2  shuttle-6_vs_2-3  1.000000      1.000000                0.0   \n",
      "\n",
      "   auc_flipping_coord        p_full  \n",
      "0                 0.0  1.687998e-26  \n",
      "1                 0.0  5.336328e-34  \n",
      "2                 0.0  5.000000e-01  \n"
     ]
    },
    {
     "name": "stderr",
     "output_type": "stream",
     "text": [
      "10000it [00:59, 166.86it/s]\n"
     ]
    },
    {
     "name": "stdout",
     "output_type": "stream",
     "text": [
      "aaa 10000 10000 10000\n",
      "               name  auc_orig  auc_baseline  auc_flipping_full  \\\n",
      "0          haberman  0.557615      0.561495                0.0   \n",
      "1      new_thyroid1  0.930327      0.935953                0.0   \n",
      "2  shuttle-6_vs_2-3  1.000000      1.000000                0.0   \n",
      "3              bupa  0.624876      0.627844                0.0   \n",
      "\n",
      "   auc_flipping_coord        p_full  \n",
      "0                 0.0  1.687998e-26  \n",
      "1                 0.0  5.336328e-34  \n",
      "2                 0.0  5.000000e-01  \n",
      "3                 0.0  5.535098e-17  \n"
     ]
    },
    {
     "name": "stderr",
     "output_type": "stream",
     "text": [
      "10000it [00:41, 241.68it/s]\n"
     ]
    },
    {
     "name": "stdout",
     "output_type": "stream",
     "text": [
      "aaa 10000 10000 10000\n",
      "               name  auc_orig  auc_baseline  auc_flipping_full  \\\n",
      "0          haberman  0.557615      0.561495                0.0   \n",
      "1      new_thyroid1  0.930327      0.935953                0.0   \n",
      "2  shuttle-6_vs_2-3  1.000000      1.000000                0.0   \n",
      "3              bupa  0.624876      0.627844                0.0   \n",
      "4  cleveland-0_vs_4  0.670715      0.674463                0.0   \n",
      "\n",
      "   auc_flipping_coord        p_full  \n",
      "0                 0.0  1.687998e-26  \n",
      "1                 0.0  5.336328e-34  \n",
      "2                 0.0  5.000000e-01  \n",
      "3                 0.0  5.535098e-17  \n",
      "4                 0.0  2.213045e-02  \n"
     ]
    },
    {
     "name": "stderr",
     "output_type": "stream",
     "text": [
      "10000it [00:47, 211.45it/s]\n"
     ]
    },
    {
     "name": "stdout",
     "output_type": "stream",
     "text": [
      "aaa 10000 10000 10000\n",
      "               name  auc_orig  auc_baseline  auc_flipping_full  \\\n",
      "0          haberman  0.557615      0.561495                0.0   \n",
      "1      new_thyroid1  0.930327      0.935953                0.0   \n",
      "2  shuttle-6_vs_2-3  1.000000      1.000000                0.0   \n",
      "3              bupa  0.624876      0.627844                0.0   \n",
      "4  cleveland-0_vs_4  0.670715      0.674463                0.0   \n",
      "5            ecoli1  0.831813      0.833163                0.0   \n",
      "\n",
      "   auc_flipping_coord        p_full  \n",
      "0                 0.0  1.687998e-26  \n",
      "1                 0.0  5.336328e-34  \n",
      "2                 0.0  5.000000e-01  \n",
      "3                 0.0  5.535098e-17  \n",
      "4                 0.0  2.213045e-02  \n",
      "5                 0.0  6.299310e-03  \n"
     ]
    },
    {
     "name": "stderr",
     "output_type": "stream",
     "text": [
      "10000it [00:39, 254.38it/s]\n"
     ]
    },
    {
     "name": "stdout",
     "output_type": "stream",
     "text": [
      "aaa 10000 10000 10000\n",
      "               name  auc_orig  auc_baseline  auc_flipping_full  \\\n",
      "0          haberman  0.557615      0.561495                0.0   \n",
      "1      new_thyroid1  0.930327      0.935953                0.0   \n",
      "2  shuttle-6_vs_2-3  1.000000      1.000000                0.0   \n",
      "3              bupa  0.624876      0.627844                0.0   \n",
      "4  cleveland-0_vs_4  0.670715      0.674463                0.0   \n",
      "5            ecoli1  0.831813      0.833163                0.0   \n",
      "6      poker-9_vs_7  0.607766      0.607903                0.0   \n",
      "\n",
      "   auc_flipping_coord        p_full  \n",
      "0                 0.0  1.687998e-26  \n",
      "1                 0.0  5.336328e-34  \n",
      "2                 0.0  5.000000e-01  \n",
      "3                 0.0  5.535098e-17  \n",
      "4                 0.0  2.213045e-02  \n",
      "5                 0.0  6.299310e-03  \n",
      "6                 0.0  6.830932e-08  \n"
     ]
    },
    {
     "name": "stderr",
     "output_type": "stream",
     "text": [
      "10000it [00:40, 249.80it/s]\n"
     ]
    },
    {
     "name": "stdout",
     "output_type": "stream",
     "text": [
      "aaa 10000 10000 10000\n",
      "               name  auc_orig  auc_baseline  auc_flipping_full  \\\n",
      "0          haberman  0.557615      0.561495                0.0   \n",
      "1      new_thyroid1  0.930327      0.935953                0.0   \n",
      "2  shuttle-6_vs_2-3  1.000000      1.000000                0.0   \n",
      "3              bupa  0.624876      0.627844                0.0   \n",
      "4  cleveland-0_vs_4  0.670715      0.674463                0.0   \n",
      "5            ecoli1  0.831813      0.833163                0.0   \n",
      "6      poker-9_vs_7  0.607766      0.607903                0.0   \n",
      "7            monk-2  1.000000      1.000000                0.0   \n",
      "\n",
      "   auc_flipping_coord        p_full  \n",
      "0                 0.0  1.687998e-26  \n",
      "1                 0.0  5.336328e-34  \n",
      "2                 0.0  5.000000e-01  \n",
      "3                 0.0  5.535098e-17  \n",
      "4                 0.0  2.213045e-02  \n",
      "5                 0.0  6.299310e-03  \n",
      "6                 0.0  6.830932e-08  \n",
      "7                 0.0  5.000000e-01  \n"
     ]
    },
    {
     "name": "stderr",
     "output_type": "stream",
     "text": [
      "10000it [00:37, 269.70it/s]\n"
     ]
    },
    {
     "name": "stdout",
     "output_type": "stream",
     "text": [
      "aaa 10000 10000 10000\n",
      "               name  auc_orig  auc_baseline  auc_flipping_full  \\\n",
      "0          haberman  0.557615      0.561495                0.0   \n",
      "1      new_thyroid1  0.930327      0.935953                0.0   \n",
      "2  shuttle-6_vs_2-3  1.000000      1.000000                0.0   \n",
      "3              bupa  0.624876      0.627844                0.0   \n",
      "4  cleveland-0_vs_4  0.670715      0.674463                0.0   \n",
      "5            ecoli1  0.831813      0.833163                0.0   \n",
      "6      poker-9_vs_7  0.607766      0.607903                0.0   \n",
      "7            monk-2  1.000000      1.000000                0.0   \n",
      "8         hepatitis  0.667475      0.668629                0.0   \n",
      "\n",
      "   auc_flipping_coord        p_full  \n",
      "0                 0.0  1.687998e-26  \n",
      "1                 0.0  5.336328e-34  \n",
      "2                 0.0  5.000000e-01  \n",
      "3                 0.0  5.535098e-17  \n",
      "4                 0.0  2.213045e-02  \n",
      "5                 0.0  6.299310e-03  \n",
      "6                 0.0  6.830932e-08  \n",
      "7                 0.0  5.000000e-01  \n",
      "8                 0.0  6.663191e-03  \n"
     ]
    },
    {
     "name": "stderr",
     "output_type": "stream",
     "text": [
      "10000it [00:50, 197.26it/s]\n"
     ]
    },
    {
     "name": "stdout",
     "output_type": "stream",
     "text": [
      "aaa 10000 10000 10000\n",
      "                   name  auc_orig  auc_baseline  auc_flipping_full  \\\n",
      "0              haberman  0.557615      0.561495                0.0   \n",
      "1          new_thyroid1  0.930327      0.935953                0.0   \n",
      "2      shuttle-6_vs_2-3  1.000000      1.000000                0.0   \n",
      "3                  bupa  0.624876      0.627844                0.0   \n",
      "4      cleveland-0_vs_4  0.670715      0.674463                0.0   \n",
      "5                ecoli1  0.831813      0.833163                0.0   \n",
      "6          poker-9_vs_7  0.607766      0.607903                0.0   \n",
      "7                monk-2  1.000000      1.000000                0.0   \n",
      "8             hepatitis  0.667475      0.668629                0.0   \n",
      "9  yeast-0-3-5-9_vs_7-8  0.640446      0.641646                0.0   \n",
      "\n",
      "   auc_flipping_coord        p_full  \n",
      "0                 0.0  1.687998e-26  \n",
      "1                 0.0  5.336328e-34  \n",
      "2                 0.0  5.000000e-01  \n",
      "3                 0.0  5.535098e-17  \n",
      "4                 0.0  2.213045e-02  \n",
      "5                 0.0  6.299310e-03  \n",
      "6                 0.0  6.830932e-08  \n",
      "7                 0.0  5.000000e-01  \n",
      "8                 0.0  6.663191e-03  \n",
      "9                 0.0  1.947747e-03  \n"
     ]
    },
    {
     "name": "stderr",
     "output_type": "stream",
     "text": [
      "10000it [01:02, 160.21it/s]\n"
     ]
    },
    {
     "name": "stdout",
     "output_type": "stream",
     "text": [
      "aaa 10000 10000 10000\n",
      "                    name  auc_orig  auc_baseline  auc_flipping_full  \\\n",
      "0               haberman  0.557615      0.561495                0.0   \n",
      "1           new_thyroid1  0.930327      0.935953                0.0   \n",
      "2       shuttle-6_vs_2-3  1.000000      1.000000                0.0   \n",
      "3                   bupa  0.624876      0.627844                0.0   \n",
      "4       cleveland-0_vs_4  0.670715      0.674463                0.0   \n",
      "5                 ecoli1  0.831813      0.833163                0.0   \n",
      "6           poker-9_vs_7  0.607766      0.607903                0.0   \n",
      "7                 monk-2  1.000000      1.000000                0.0   \n",
      "8              hepatitis  0.667475      0.668629                0.0   \n",
      "9   yeast-0-3-5-9_vs_7-8  0.640446      0.641646                0.0   \n",
      "10          mammographic  0.787445      0.791948                0.0   \n",
      "\n",
      "    auc_flipping_coord        p_full  \n",
      "0                  0.0  1.687998e-26  \n",
      "1                  0.0  5.336328e-34  \n",
      "2                  0.0  5.000000e-01  \n",
      "3                  0.0  5.535098e-17  \n",
      "4                  0.0  2.213045e-02  \n",
      "5                  0.0  6.299310e-03  \n",
      "6                  0.0  6.830932e-08  \n",
      "7                  0.0  5.000000e-01  \n",
      "8                  0.0  6.663191e-03  \n",
      "9                  0.0  1.947747e-03  \n",
      "10                 0.0  0.000000e+00  \n"
     ]
    },
    {
     "name": "stderr",
     "output_type": "stream",
     "text": [
      "10000it [01:05, 153.43it/s]\n"
     ]
    },
    {
     "name": "stdout",
     "output_type": "stream",
     "text": [
      "aaa 10000 10000 10000\n",
      "                    name  auc_orig  auc_baseline  auc_flipping_full  \\\n",
      "0               haberman  0.557615      0.561495                0.0   \n",
      "1           new_thyroid1  0.930327      0.935953                0.0   \n",
      "2       shuttle-6_vs_2-3  1.000000      1.000000                0.0   \n",
      "3                   bupa  0.624876      0.627844                0.0   \n",
      "4       cleveland-0_vs_4  0.670715      0.674463                0.0   \n",
      "5                 ecoli1  0.831813      0.833163                0.0   \n",
      "6           poker-9_vs_7  0.607766      0.607903                0.0   \n",
      "7                 monk-2  1.000000      1.000000                0.0   \n",
      "8              hepatitis  0.667475      0.668629                0.0   \n",
      "9   yeast-0-3-5-9_vs_7-8  0.640446      0.641646                0.0   \n",
      "10          mammographic  0.787445      0.791948                0.0   \n",
      "11               saheart  0.584617      0.585352                0.0   \n",
      "\n",
      "    auc_flipping_coord        p_full  \n",
      "0                  0.0  1.687998e-26  \n",
      "1                  0.0  5.336328e-34  \n",
      "2                  0.0  5.000000e-01  \n",
      "3                  0.0  5.535098e-17  \n",
      "4                  0.0  2.213045e-02  \n",
      "5                  0.0  6.299310e-03  \n",
      "6                  0.0  6.830932e-08  \n",
      "7                  0.0  5.000000e-01  \n",
      "8                  0.0  6.663191e-03  \n",
      "9                  0.0  1.947747e-03  \n",
      "10                 0.0  0.000000e+00  \n",
      "11                 0.0  1.281210e-02  \n"
     ]
    },
    {
     "name": "stderr",
     "output_type": "stream",
     "text": [
      "10000it [00:31, 318.58it/s]\n"
     ]
    },
    {
     "name": "stdout",
     "output_type": "stream",
     "text": [
      "aaa 10000 10000 10000\n",
      "                            name  auc_orig  auc_baseline  auc_flipping_full  \\\n",
      "0                       haberman  0.557615      0.561495                0.0   \n",
      "1                   new_thyroid1  0.930327      0.935953                0.0   \n",
      "2               shuttle-6_vs_2-3  1.000000      1.000000                0.0   \n",
      "3                           bupa  0.624876      0.627844                0.0   \n",
      "4               cleveland-0_vs_4  0.670715      0.674463                0.0   \n",
      "5                         ecoli1  0.831813      0.833163                0.0   \n",
      "6                   poker-9_vs_7  0.607766      0.607903                0.0   \n",
      "7                         monk-2  1.000000      1.000000                0.0   \n",
      "8                      hepatitis  0.667475      0.668629                0.0   \n",
      "9           yeast-0-3-5-9_vs_7-8  0.640446      0.641646                0.0   \n",
      "10                  mammographic  0.787445      0.791948                0.0   \n",
      "11                       saheart  0.584617      0.585352                0.0   \n",
      "12  lymphography-normal-fibrosis  0.888387      0.890622                0.0   \n",
      "\n",
      "    auc_flipping_coord        p_full  \n",
      "0                  0.0  1.687998e-26  \n",
      "1                  0.0  5.336328e-34  \n",
      "2                  0.0  5.000000e-01  \n",
      "3                  0.0  5.535098e-17  \n",
      "4                  0.0  2.213045e-02  \n",
      "5                  0.0  6.299310e-03  \n",
      "6                  0.0  6.830932e-08  \n",
      "7                  0.0  5.000000e-01  \n",
      "8                  0.0  6.663191e-03  \n",
      "9                  0.0  1.947747e-03  \n",
      "10                 0.0  0.000000e+00  \n",
      "11                 0.0  1.281210e-02  \n",
      "12                 0.0  1.597185e-01  \n"
     ]
    },
    {
     "name": "stderr",
     "output_type": "stream",
     "text": [
      "10000it [01:20, 123.56it/s]\n"
     ]
    },
    {
     "name": "stdout",
     "output_type": "stream",
     "text": [
      "aaa 10000 10000 10000\n",
      "                            name  auc_orig  auc_baseline  auc_flipping_full  \\\n",
      "0                       haberman  0.557615      0.561495                0.0   \n",
      "1                   new_thyroid1  0.930327      0.935953                0.0   \n",
      "2               shuttle-6_vs_2-3  1.000000      1.000000                0.0   \n",
      "3                           bupa  0.624876      0.627844                0.0   \n",
      "4               cleveland-0_vs_4  0.670715      0.674463                0.0   \n",
      "5                         ecoli1  0.831813      0.833163                0.0   \n",
      "6                   poker-9_vs_7  0.607766      0.607903                0.0   \n",
      "7                         monk-2  1.000000      1.000000                0.0   \n",
      "8                      hepatitis  0.667475      0.668629                0.0   \n",
      "9           yeast-0-3-5-9_vs_7-8  0.640446      0.641646                0.0   \n",
      "10                  mammographic  0.787445      0.791948                0.0   \n",
      "11                       saheart  0.584617      0.585352                0.0   \n",
      "12  lymphography-normal-fibrosis  0.888387      0.890622                0.0   \n",
      "13                          pima  0.671220      0.672682                0.0   \n",
      "\n",
      "    auc_flipping_coord        p_full  \n",
      "0                  0.0  1.687998e-26  \n",
      "1                  0.0  5.336328e-34  \n",
      "2                  0.0  5.000000e-01  \n",
      "3                  0.0  5.535098e-17  \n",
      "4                  0.0  2.213045e-02  \n",
      "5                  0.0  6.299310e-03  \n",
      "6                  0.0  6.830932e-08  \n",
      "7                  0.0  5.000000e-01  \n",
      "8                  0.0  6.663191e-03  \n",
      "9                  0.0  1.947747e-03  \n",
      "10                 0.0  0.000000e+00  \n",
      "11                 0.0  1.281210e-02  \n",
      "12                 0.0  1.597185e-01  \n",
      "13                 0.0  2.321772e-10  \n"
     ]
    },
    {
     "name": "stderr",
     "output_type": "stream",
     "text": [
      "10000it [00:40, 244.13it/s]\n"
     ]
    },
    {
     "name": "stdout",
     "output_type": "stream",
     "text": [
      "aaa 10000 10000 10000\n",
      "                            name  auc_orig  auc_baseline  auc_flipping_full  \\\n",
      "0                       haberman  0.557615      0.561495                0.0   \n",
      "1                   new_thyroid1  0.930327      0.935953                0.0   \n",
      "2               shuttle-6_vs_2-3  1.000000      1.000000                0.0   \n",
      "3                           bupa  0.624876      0.627844                0.0   \n",
      "4               cleveland-0_vs_4  0.670715      0.674463                0.0   \n",
      "5                         ecoli1  0.831813      0.833163                0.0   \n",
      "6                   poker-9_vs_7  0.607766      0.607903                0.0   \n",
      "7                         monk-2  1.000000      1.000000                0.0   \n",
      "8                      hepatitis  0.667475      0.668629                0.0   \n",
      "9           yeast-0-3-5-9_vs_7-8  0.640446      0.641646                0.0   \n",
      "10                  mammographic  0.787445      0.791948                0.0   \n",
      "11                       saheart  0.584617      0.585352                0.0   \n",
      "12  lymphography-normal-fibrosis  0.888387      0.890622                0.0   \n",
      "13                          pima  0.671220      0.672682                0.0   \n",
      "14                     wisconsin  0.936878      0.940025                0.0   \n",
      "\n",
      "    auc_flipping_coord        p_full  \n",
      "0                  0.0  1.687998e-26  \n",
      "1                  0.0  5.336328e-34  \n",
      "2                  0.0  5.000000e-01  \n",
      "3                  0.0  5.535098e-17  \n",
      "4                  0.0  2.213045e-02  \n",
      "5                  0.0  6.299310e-03  \n",
      "6                  0.0  6.830932e-08  \n",
      "7                  0.0  5.000000e-01  \n",
      "8                  0.0  6.663191e-03  \n",
      "9                  0.0  1.947747e-03  \n",
      "10                 0.0  0.000000e+00  \n",
      "11                 0.0  1.281210e-02  \n",
      "12                 0.0  1.597185e-01  \n",
      "13                 0.0  2.321772e-10  \n",
      "14                 0.0  5.464351e-63  \n"
     ]
    },
    {
     "name": "stderr",
     "output_type": "stream",
     "text": [
      "10000it [01:09, 144.84it/s]\n"
     ]
    },
    {
     "name": "stdout",
     "output_type": "stream",
     "text": [
      "aaa 10000 10000 10000\n",
      "                            name  auc_orig  auc_baseline  auc_flipping_full  \\\n",
      "0                       haberman  0.557615      0.561495                0.0   \n",
      "1                   new_thyroid1  0.930327      0.935953                0.0   \n",
      "2               shuttle-6_vs_2-3  1.000000      1.000000                0.0   \n",
      "3                           bupa  0.624876      0.627844                0.0   \n",
      "4               cleveland-0_vs_4  0.670715      0.674463                0.0   \n",
      "5                         ecoli1  0.831813      0.833163                0.0   \n",
      "6                   poker-9_vs_7  0.607766      0.607903                0.0   \n",
      "7                         monk-2  1.000000      1.000000                0.0   \n",
      "8                      hepatitis  0.667475      0.668629                0.0   \n",
      "9           yeast-0-3-5-9_vs_7-8  0.640446      0.641646                0.0   \n",
      "10                  mammographic  0.787445      0.791948                0.0   \n",
      "11                       saheart  0.584617      0.585352                0.0   \n",
      "12  lymphography-normal-fibrosis  0.888387      0.890622                0.0   \n",
      "13                          pima  0.671220      0.672682                0.0   \n",
      "14                     wisconsin  0.936878      0.940025                0.0   \n",
      "15                   abalone9_18  0.647558      0.647967                0.0   \n",
      "\n",
      "    auc_flipping_coord        p_full  \n",
      "0                  0.0  1.687998e-26  \n",
      "1                  0.0  5.336328e-34  \n",
      "2                  0.0  5.000000e-01  \n",
      "3                  0.0  5.535098e-17  \n",
      "4                  0.0  2.213045e-02  \n",
      "5                  0.0  6.299310e-03  \n",
      "6                  0.0  6.830932e-08  \n",
      "7                  0.0  5.000000e-01  \n",
      "8                  0.0  6.663191e-03  \n",
      "9                  0.0  1.947747e-03  \n",
      "10                 0.0  0.000000e+00  \n",
      "11                 0.0  1.281210e-02  \n",
      "12                 0.0  1.597185e-01  \n",
      "13                 0.0  2.321772e-10  \n",
      "14                 0.0  5.464351e-63  \n",
      "15                 0.0  1.299865e-01  \n"
     ]
    },
    {
     "name": "stderr",
     "output_type": "stream",
     "text": [
      "10000it [01:04, 155.69it/s]\n"
     ]
    },
    {
     "name": "stdout",
     "output_type": "stream",
     "text": [
      "aaa 10000 10000 10000\n",
      "                            name  auc_orig  auc_baseline  auc_flipping_full  \\\n",
      "0                       haberman  0.557615      0.561495                0.0   \n",
      "1                   new_thyroid1  0.930327      0.935953                0.0   \n",
      "2               shuttle-6_vs_2-3  1.000000      1.000000                0.0   \n",
      "3                           bupa  0.624876      0.627844                0.0   \n",
      "4               cleveland-0_vs_4  0.670715      0.674463                0.0   \n",
      "5                         ecoli1  0.831813      0.833163                0.0   \n",
      "6                   poker-9_vs_7  0.607766      0.607903                0.0   \n",
      "7                         monk-2  1.000000      1.000000                0.0   \n",
      "8                      hepatitis  0.667475      0.668629                0.0   \n",
      "9           yeast-0-3-5-9_vs_7-8  0.640446      0.641646                0.0   \n",
      "10                  mammographic  0.787445      0.791948                0.0   \n",
      "11                       saheart  0.584617      0.585352                0.0   \n",
      "12  lymphography-normal-fibrosis  0.888387      0.890622                0.0   \n",
      "13                          pima  0.671220      0.672682                0.0   \n",
      "14                     wisconsin  0.936878      0.940025                0.0   \n",
      "15                   abalone9_18  0.647558      0.647967                0.0   \n",
      "16        winequality-red-3_vs_5  0.512903      0.513899                0.0   \n",
      "\n",
      "    auc_flipping_coord        p_full  \n",
      "0                  0.0  1.687998e-26  \n",
      "1                  0.0  5.336328e-34  \n",
      "2                  0.0  5.000000e-01  \n",
      "3                  0.0  5.535098e-17  \n",
      "4                  0.0  2.213045e-02  \n",
      "5                  0.0  6.299310e-03  \n",
      "6                  0.0  6.830932e-08  \n",
      "7                  0.0  5.000000e-01  \n",
      "8                  0.0  6.663191e-03  \n",
      "9                  0.0  1.947747e-03  \n",
      "10                 0.0  0.000000e+00  \n",
      "11                 0.0  1.281210e-02  \n",
      "12                 0.0  1.597185e-01  \n",
      "13                 0.0  2.321772e-10  \n",
      "14                 0.0  5.464351e-63  \n",
      "15                 0.0  1.299865e-01  \n",
      "16                 0.0  4.828687e-01  \n"
     ]
    },
    {
     "name": "stderr",
     "output_type": "stream",
     "text": [
      "10000it [01:23, 119.95it/s]\n"
     ]
    },
    {
     "name": "stdout",
     "output_type": "stream",
     "text": [
      "aaa 10000 10000 10000\n",
      "                            name  auc_orig  auc_baseline  auc_flipping_full  \\\n",
      "0                       haberman  0.557615      0.561495                0.0   \n",
      "1                   new_thyroid1  0.930327      0.935953                0.0   \n",
      "2               shuttle-6_vs_2-3  1.000000      1.000000                0.0   \n",
      "3                           bupa  0.624876      0.627844                0.0   \n",
      "4               cleveland-0_vs_4  0.670715      0.674463                0.0   \n",
      "5                         ecoli1  0.831813      0.833163                0.0   \n",
      "6                   poker-9_vs_7  0.607766      0.607903                0.0   \n",
      "7                         monk-2  1.000000      1.000000                0.0   \n",
      "8                      hepatitis  0.667475      0.668629                0.0   \n",
      "9           yeast-0-3-5-9_vs_7-8  0.640446      0.641646                0.0   \n",
      "10                  mammographic  0.787445      0.791948                0.0   \n",
      "11                       saheart  0.584617      0.585352                0.0   \n",
      "12  lymphography-normal-fibrosis  0.888387      0.890622                0.0   \n",
      "13                          pima  0.671220      0.672682                0.0   \n",
      "14                     wisconsin  0.936878      0.940025                0.0   \n",
      "15                   abalone9_18  0.647558      0.647967                0.0   \n",
      "16        winequality-red-3_vs_5  0.512903      0.513899                0.0   \n",
      "17                           CM1  0.567775      0.569408                0.0   \n",
      "\n",
      "    auc_flipping_coord        p_full  \n",
      "0                  0.0  1.687998e-26  \n",
      "1                  0.0  5.336328e-34  \n",
      "2                  0.0  5.000000e-01  \n",
      "3                  0.0  5.535098e-17  \n",
      "4                  0.0  2.213045e-02  \n",
      "5                  0.0  6.299310e-03  \n",
      "6                  0.0  6.830932e-08  \n",
      "7                  0.0  5.000000e-01  \n",
      "8                  0.0  6.663191e-03  \n",
      "9                  0.0  1.947747e-03  \n",
      "10                 0.0  0.000000e+00  \n",
      "11                 0.0  1.281210e-02  \n",
      "12                 0.0  1.597185e-01  \n",
      "13                 0.0  2.321772e-10  \n",
      "14                 0.0  5.464351e-63  \n",
      "15                 0.0  1.299865e-01  \n",
      "16                 0.0  4.828687e-01  \n",
      "17                 0.0  1.898709e-02  \n"
     ]
    },
    {
     "name": "stderr",
     "output_type": "stream",
     "text": [
      "10000it [01:12, 137.10it/s]\n"
     ]
    },
    {
     "name": "stdout",
     "output_type": "stream",
     "text": [
      "aaa 10000 10000 10000\n",
      "                            name  auc_orig  auc_baseline  auc_flipping_full  \\\n",
      "0                       haberman  0.557615      0.561495                0.0   \n",
      "1                   new_thyroid1  0.930327      0.935953                0.0   \n",
      "2               shuttle-6_vs_2-3  1.000000      1.000000                0.0   \n",
      "3                           bupa  0.624876      0.627844                0.0   \n",
      "4               cleveland-0_vs_4  0.670715      0.674463                0.0   \n",
      "5                         ecoli1  0.831813      0.833163                0.0   \n",
      "6                   poker-9_vs_7  0.607766      0.607903                0.0   \n",
      "7                         monk-2  1.000000      1.000000                0.0   \n",
      "8                      hepatitis  0.667475      0.668629                0.0   \n",
      "9           yeast-0-3-5-9_vs_7-8  0.640446      0.641646                0.0   \n",
      "10                  mammographic  0.787445      0.791948                0.0   \n",
      "11                       saheart  0.584617      0.585352                0.0   \n",
      "12  lymphography-normal-fibrosis  0.888387      0.890622                0.0   \n",
      "13                          pima  0.671220      0.672682                0.0   \n",
      "14                     wisconsin  0.936878      0.940025                0.0   \n",
      "15                   abalone9_18  0.647558      0.647967                0.0   \n",
      "16        winequality-red-3_vs_5  0.512903      0.513899                0.0   \n",
      "17                           CM1  0.567775      0.569408                0.0   \n",
      "18                    australian  0.807028      0.808476                0.0   \n",
      "\n",
      "    auc_flipping_coord        p_full  \n",
      "0                  0.0  1.687998e-26  \n",
      "1                  0.0  5.336328e-34  \n",
      "2                  0.0  5.000000e-01  \n",
      "3                  0.0  5.535098e-17  \n",
      "4                  0.0  2.213045e-02  \n",
      "5                  0.0  6.299310e-03  \n",
      "6                  0.0  6.830932e-08  \n",
      "7                  0.0  5.000000e-01  \n",
      "8                  0.0  6.663191e-03  \n",
      "9                  0.0  1.947747e-03  \n",
      "10                 0.0  0.000000e+00  \n",
      "11                 0.0  1.281210e-02  \n",
      "12                 0.0  1.597185e-01  \n",
      "13                 0.0  2.321772e-10  \n",
      "14                 0.0  5.464351e-63  \n",
      "15                 0.0  1.299865e-01  \n",
      "16                 0.0  4.828687e-01  \n",
      "17                 0.0  1.898709e-02  \n",
      "18                 0.0  8.114853e-15  \n"
     ]
    },
    {
     "name": "stderr",
     "output_type": "stream",
     "text": [
      "10000it [01:19, 126.07it/s]"
     ]
    },
    {
     "name": "stdout",
     "output_type": "stream",
     "text": [
      "aaa 10000 10000 10000\n",
      "                            name  auc_orig  auc_baseline  auc_flipping_full  \\\n",
      "0                       haberman  0.557615      0.561495                0.0   \n",
      "1                   new_thyroid1  0.930327      0.935953                0.0   \n",
      "2               shuttle-6_vs_2-3  1.000000      1.000000                0.0   \n",
      "3                           bupa  0.624876      0.627844                0.0   \n",
      "4               cleveland-0_vs_4  0.670715      0.674463                0.0   \n",
      "5                         ecoli1  0.831813      0.833163                0.0   \n",
      "6                   poker-9_vs_7  0.607766      0.607903                0.0   \n",
      "7                         monk-2  1.000000      1.000000                0.0   \n",
      "8                      hepatitis  0.667475      0.668629                0.0   \n",
      "9           yeast-0-3-5-9_vs_7-8  0.640446      0.641646                0.0   \n",
      "10                  mammographic  0.787445      0.791948                0.0   \n",
      "11                       saheart  0.584617      0.585352                0.0   \n",
      "12  lymphography-normal-fibrosis  0.888387      0.890622                0.0   \n",
      "13                          pima  0.671220      0.672682                0.0   \n",
      "14                     wisconsin  0.936878      0.940025                0.0   \n",
      "15                   abalone9_18  0.647558      0.647967                0.0   \n",
      "16        winequality-red-3_vs_5  0.512903      0.513899                0.0   \n",
      "17                           CM1  0.567775      0.569408                0.0   \n",
      "18                    australian  0.807028      0.808476                0.0   \n",
      "19                        SPECTF  0.614440      0.617440                0.0   \n",
      "\n",
      "    auc_flipping_coord        p_full  \n",
      "0                  0.0  1.687998e-26  \n",
      "1                  0.0  5.336328e-34  \n",
      "2                  0.0  5.000000e-01  \n",
      "3                  0.0  5.535098e-17  \n",
      "4                  0.0  2.213045e-02  \n",
      "5                  0.0  6.299310e-03  \n",
      "6                  0.0  6.830932e-08  \n",
      "7                  0.0  5.000000e-01  \n",
      "8                  0.0  6.663191e-03  \n",
      "9                  0.0  1.947747e-03  \n",
      "10                 0.0  0.000000e+00  \n",
      "11                 0.0  1.281210e-02  \n",
      "12                 0.0  1.597185e-01  \n",
      "13                 0.0  2.321772e-10  \n",
      "14                 0.0  5.464351e-63  \n",
      "15                 0.0  1.299865e-01  \n",
      "16                 0.0  4.828687e-01  \n",
      "17                 0.0  1.898709e-02  \n",
      "18                 0.0  8.114853e-15  \n",
      "19                 0.0  1.437813e-08  \n"
     ]
    },
    {
     "name": "stderr",
     "output_type": "stream",
     "text": [
      "\n"
     ]
    }
   ],
   "source": [
    "results = []\n",
    "\n",
    "validator = RepeatedStratifiedKFold(n_splits=5, n_repeats=2000, random_state=5)\n",
    "\n",
    "for data_loader in data_loaders:\n",
    "    dataset = data_loader()\n",
    "    X = dataset['data']\n",
    "    y = dataset['target']\n",
    "    \n",
    "    aucs_orig = []\n",
    "    aucs_flipped = []\n",
    "    aucs_baseline = []\n",
    "    aucs_baseline_flipped = []\n",
    "    aucs_flipping_full = []\n",
    "    aucs_flipping_coord = []\n",
    "    \n",
    "    for train, test in tqdm.tqdm(validator.split(X, y, y)):\n",
    "        X_train = X[train]\n",
    "        X_test = X[test]\n",
    "        y_train = y[train]\n",
    "        y_test = y[test]\n",
    "        \n",
    "        min_samples_leaf = 1#np.random.randint(1, 21)\n",
    "        max_depth = None#np.random.choice([None, 1, 2, 3, 4, 5, 6, 7, 8, 9])\n",
    "        \n",
    "        params = {'min_samples_leaf': min_samples_leaf,\n",
    "                    'max_depth': max_depth}\n",
    "        \n",
    "        \n",
    "        pred = DecisionTreeClassifier(**params).fit(X_train, y_train).predict_proba(X_test)[:, 1]\n",
    "        aucs_orig.append(roc_auc_score(y_test, pred))\n",
    "        \n",
    "        #pred = RandomForestClassifier(n_jobs=4).fit(-X_train, y_train).predict_proba(-X_test)[:, 1]\n",
    "        #aucs_flipped.append(roc_auc_score(y_test, pred))\n",
    "        aucs_flipped.append(0)\n",
    "        \n",
    "        pred = FlippingDecisionTreeClassifier(**params).fit(X_train, y_train).predict_proba(X_test)[:, 1]\n",
    "        aucs_baseline.append(roc_auc_score(y_test, pred))\n",
    "        \n",
    "        #pred = FlippingRandomForestClassifier(n_jobs=4).fit(-X_train, y_train).predict_proba(-X_test)[:, 1]\n",
    "        #aucs_baseline_flipped.append(roc_auc_score(y_test, pred))\n",
    "        aucs_baseline_flipped.append(0)\n",
    "        \n",
    "        #pred = FlippingDecisionTreeClassifier(**params).fit(X_train, y_train).predict_proba(X_test)[:, 1]\n",
    "        #aucs_flipping_full.append(roc_auc_score(y_test, pred))\n",
    "        aucs_flipping_full.append(0)\n",
    "        \n",
    "        aucs_flipping_coord.append(0)\n",
    "        \n",
    "        #pred = FlippingDecisionTreeClassifier(flipping='coordinate', **params).fit(X_train, y_train).predict_proba(X_test)[:, 1]\n",
    "        #aucs_flipping_coord.append(roc_auc_score(y_test, pred))\n",
    "        \n",
    "    \n",
    "    print('aaa', len(aucs_baseline), len(aucs_flipping_full), len(aucs_flipping_coord))\n",
    "    tmp = [dataset['name'], np.mean(aucs_orig), np.mean(aucs_flipped), np.mean(aucs_baseline), \n",
    "                            np.mean(aucs_baseline_flipped), np.mean(aucs_flipping_full), np.mean(aucs_flipping_coord), \n",
    "                            aucs_orig, aucs_flipped, aucs_baseline, aucs_baseline_flipped, aucs_flipping_full, aucs_flipping_coord]\n",
    "    \n",
    "    tmp = tmp + [wilcoxon(aucs_orig, aucs_baseline, alternative='less', zero_method='zsplit').pvalue,\n",
    "                #wilcoxon(aucs_baseline, aucs_flipping_coord, alternative='less', zero_method='zsplit').pvalue\n",
    "                ]\n",
    "    \n",
    "    results.append(tmp)\n",
    "    \n",
    "    results_pdf = pd.DataFrame(results, columns=['name', 'auc_orig', 'auc_flipped', 'auc_baseline', 'auc_baseline_flipped', \n",
    "                                'auc_flipping_full', 'auc_flipping_coord', 'aucs_orig', 'aucs_flipped', 'aucs_baseline', \n",
    "                                'aucs_baseline_flipped', 'aucs_flipping_full', 'aucs_flipping_coord', 'p_full'])\n",
    "    results_pdf['auc_baseline_min'] = results_pdf[['auc_baseline', 'auc_baseline_flipped']].apply(lambda x: min(x), axis=1)\n",
    "    results_pdf['auc_baseline_max'] = results_pdf[['auc_baseline', 'auc_baseline_flipped']].apply(lambda x: max(x), axis=1)\n",
    "    print(results_pdf[['name', \n",
    "                        'auc_orig', \n",
    "                        #'auc_flipped', \n",
    "                        'auc_baseline', \n",
    "                        #'auc_baseline_flipped', \n",
    "                        #'auc_baseline_min', \n",
    "                        #'auc_baseline_max', \n",
    "                        'auc_flipping_full', \n",
    "                        'auc_flipping_coord', \n",
    "                        'p_full']])\n",
    "        \n"
   ]
  },
  {
   "cell_type": "code",
   "execution_count": 4,
   "metadata": {},
   "outputs": [],
   "source": [
    "results_pdf.to_csv(\"classification-tree.csv\")"
   ]
  },
  {
   "cell_type": "code",
   "execution_count": null,
   "metadata": {},
   "outputs": [],
   "source": []
  }
 ],
 "metadata": {
  "kernelspec": {
   "display_name": "smote_clean",
   "language": "python",
   "name": "python3"
  },
  "language_info": {
   "codemirror_mode": {
    "name": "ipython",
    "version": 3
   },
   "file_extension": ".py",
   "mimetype": "text/x-python",
   "name": "python",
   "nbconvert_exporter": "python",
   "pygments_lexer": "ipython3",
   "version": "3.10.0"
  },
  "orig_nbformat": 4,
  "vscode": {
   "interpreter": {
    "hash": "499044d5ebe425087106556eea30a149e28227c692f9b3f42bc5fd0f94503385"
   }
  }
 },
 "nbformat": 4,
 "nbformat_minor": 2
}
