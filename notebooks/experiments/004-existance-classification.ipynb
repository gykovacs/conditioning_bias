{
 "cells": [
  {
   "cell_type": "code",
   "execution_count": 9,
   "metadata": {},
   "outputs": [],
   "source": [
    "import numpy as np\n",
    "import pandas as pd\n",
    "\n",
    "import tqdm\n",
    "\n",
    "from scipy.stats import wilcoxon\n",
    "\n",
    "from sklearn.model_selection import RepeatedStratifiedKFold\n",
    "from sklearn.metrics import roc_auc_score\n",
    "from sklearn.tree import DecisionTreeClassifier\n",
    "\n",
    "from datasets import binclas_datasets"
   ]
  },
  {
   "cell_type": "code",
   "execution_count": 10,
   "metadata": {},
   "outputs": [],
   "source": [
    "data_loaders = binclas_datasets['data_loader_function'].values.tolist()"
   ]
  },
  {
   "cell_type": "code",
   "execution_count": 11,
   "metadata": {},
   "outputs": [
    {
     "name": "stderr",
     "output_type": "stream",
     "text": [
      "2000it [00:07, 261.40it/s]\n"
     ]
    },
    {
     "name": "stdout",
     "output_type": "stream",
     "text": [
      "       name  auc_orig  auc_flipped    p_full\n",
      "0  haberman  0.559107      0.56115  0.038294\n"
     ]
    },
    {
     "name": "stderr",
     "output_type": "stream",
     "text": [
      "2000it [00:05, 343.70it/s]\n"
     ]
    },
    {
     "name": "stdout",
     "output_type": "stream",
     "text": [
      "           name  auc_orig  auc_flipped    p_full\n",
      "0      haberman  0.559107     0.561150  0.038294\n",
      "1  new_thyroid1  0.930523     0.932205  0.031379\n"
     ]
    },
    {
     "name": "stderr",
     "output_type": "stream",
     "text": [
      "2000it [00:04, 419.76it/s]\n"
     ]
    },
    {
     "name": "stdout",
     "output_type": "stream",
     "text": [
      "               name  auc_orig  auc_flipped    p_full\n",
      "0          haberman  0.559107     0.561150  0.038294\n",
      "1      new_thyroid1  0.930523     0.932205  0.031379\n",
      "2  shuttle-6_vs_2-3  1.000000     1.000000  0.500000\n"
     ]
    },
    {
     "name": "stderr",
     "output_type": "stream",
     "text": [
      "2000it [00:07, 277.05it/s]\n"
     ]
    },
    {
     "name": "stdout",
     "output_type": "stream",
     "text": [
      "               name  auc_orig  auc_flipped    p_full\n",
      "0          haberman  0.559107     0.561150  0.038294\n",
      "1      new_thyroid1  0.930523     0.932205  0.031379\n",
      "2  shuttle-6_vs_2-3  1.000000     1.000000  0.500000\n",
      "3              bupa  0.625072     0.624825  0.534558\n"
     ]
    },
    {
     "name": "stderr",
     "output_type": "stream",
     "text": [
      "2000it [00:05, 381.16it/s]\n"
     ]
    },
    {
     "name": "stdout",
     "output_type": "stream",
     "text": [
      "               name  auc_orig  auc_flipped    p_full\n",
      "0          haberman  0.559107     0.561150  0.038294\n",
      "1      new_thyroid1  0.930523     0.932205  0.031379\n",
      "2  shuttle-6_vs_2-3  1.000000     1.000000  0.500000\n",
      "3              bupa  0.625072     0.624825  0.534558\n",
      "4  cleveland-0_vs_4  0.672698     0.673966  0.696630\n"
     ]
    },
    {
     "name": "stderr",
     "output_type": "stream",
     "text": [
      "2000it [00:05, 337.81it/s]\n"
     ]
    },
    {
     "name": "stdout",
     "output_type": "stream",
     "text": [
      "               name  auc_orig  auc_flipped    p_full\n",
      "0          haberman  0.559107     0.561150  0.038294\n",
      "1      new_thyroid1  0.930523     0.932205  0.031379\n",
      "2  shuttle-6_vs_2-3  1.000000     1.000000  0.500000\n",
      "3              bupa  0.625072     0.624825  0.534558\n",
      "4  cleveland-0_vs_4  0.672698     0.673966  0.696630\n",
      "5            ecoli1  0.833195     0.830251  0.999990\n"
     ]
    },
    {
     "name": "stderr",
     "output_type": "stream",
     "text": [
      "2000it [00:05, 378.13it/s]\n"
     ]
    },
    {
     "name": "stdout",
     "output_type": "stream",
     "text": [
      "               name  auc_orig  auc_flipped        p_full\n",
      "0          haberman  0.559107     0.561150  3.829416e-02\n",
      "1      new_thyroid1  0.930523     0.932205  3.137950e-02\n",
      "2  shuttle-6_vs_2-3  1.000000     1.000000  5.000000e-01\n",
      "3              bupa  0.625072     0.624825  5.345577e-01\n",
      "4  cleveland-0_vs_4  0.672698     0.673966  6.966295e-01\n",
      "5            ecoli1  0.833195     0.830251  9.999896e-01\n",
      "6      poker-9_vs_7  0.606970     0.607936  1.266074e-13\n"
     ]
    },
    {
     "name": "stderr",
     "output_type": "stream",
     "text": [
      "2000it [00:05, 395.30it/s]\n"
     ]
    },
    {
     "name": "stdout",
     "output_type": "stream",
     "text": [
      "               name  auc_orig  auc_flipped        p_full\n",
      "0          haberman  0.559107     0.561150  3.829416e-02\n",
      "1      new_thyroid1  0.930523     0.932205  3.137950e-02\n",
      "2  shuttle-6_vs_2-3  1.000000     1.000000  5.000000e-01\n",
      "3              bupa  0.625072     0.624825  5.345577e-01\n",
      "4  cleveland-0_vs_4  0.672698     0.673966  6.966295e-01\n",
      "5            ecoli1  0.833195     0.830251  9.999896e-01\n",
      "6      poker-9_vs_7  0.606970     0.607936  1.266074e-13\n",
      "7            monk-2  1.000000     1.000000  5.000000e-01\n"
     ]
    },
    {
     "name": "stderr",
     "output_type": "stream",
     "text": [
      "2000it [00:06, 289.14it/s]\n"
     ]
    },
    {
     "name": "stdout",
     "output_type": "stream",
     "text": [
      "               name  auc_orig  auc_flipped        p_full\n",
      "0          haberman  0.559107     0.561150  3.829416e-02\n",
      "1      new_thyroid1  0.930523     0.932205  3.137950e-02\n",
      "2  shuttle-6_vs_2-3  1.000000     1.000000  5.000000e-01\n",
      "3              bupa  0.625072     0.624825  5.345577e-01\n",
      "4  cleveland-0_vs_4  0.672698     0.673966  6.966295e-01\n",
      "5            ecoli1  0.833195     0.830251  9.999896e-01\n",
      "6      poker-9_vs_7  0.606970     0.607936  1.266074e-13\n",
      "7            monk-2  1.000000     1.000000  5.000000e-01\n",
      "8         hepatitis  0.665344     0.666045  3.253611e-01\n"
     ]
    },
    {
     "name": "stderr",
     "output_type": "stream",
     "text": [
      "2000it [00:10, 196.86it/s]\n"
     ]
    },
    {
     "name": "stdout",
     "output_type": "stream",
     "text": [
      "                   name  auc_orig  auc_flipped        p_full\n",
      "0              haberman  0.559107     0.561150  3.829416e-02\n",
      "1          new_thyroid1  0.930523     0.932205  3.137950e-02\n",
      "2      shuttle-6_vs_2-3  1.000000     1.000000  5.000000e-01\n",
      "3                  bupa  0.625072     0.624825  5.345577e-01\n",
      "4      cleveland-0_vs_4  0.672698     0.673966  6.966295e-01\n",
      "5                ecoli1  0.833195     0.830251  9.999896e-01\n",
      "6          poker-9_vs_7  0.606970     0.607936  1.266074e-13\n",
      "7                monk-2  1.000000     1.000000  5.000000e-01\n",
      "8             hepatitis  0.665344     0.666045  3.253611e-01\n",
      "9  yeast-0-3-5-9_vs_7-8  0.641793     0.639321  9.800358e-01\n"
     ]
    },
    {
     "name": "stderr",
     "output_type": "stream",
     "text": [
      "2000it [00:07, 263.47it/s]\n"
     ]
    },
    {
     "name": "stdout",
     "output_type": "stream",
     "text": [
      "                    name  auc_orig  auc_flipped        p_full\n",
      "0               haberman  0.559107     0.561150  3.829416e-02\n",
      "1           new_thyroid1  0.930523     0.932205  3.137950e-02\n",
      "2       shuttle-6_vs_2-3  1.000000     1.000000  5.000000e-01\n",
      "3                   bupa  0.625072     0.624825  5.345577e-01\n",
      "4       cleveland-0_vs_4  0.672698     0.673966  6.966295e-01\n",
      "5                 ecoli1  0.833195     0.830251  9.999896e-01\n",
      "6           poker-9_vs_7  0.606970     0.607936  1.266074e-13\n",
      "7                 monk-2  1.000000     1.000000  5.000000e-01\n",
      "8              hepatitis  0.665344     0.666045  3.253611e-01\n",
      "9   yeast-0-3-5-9_vs_7-8  0.641793     0.639321  9.800358e-01\n",
      "10          mammographic  0.788031     0.788284  1.364901e-01\n"
     ]
    },
    {
     "name": "stderr",
     "output_type": "stream",
     "text": [
      "2000it [00:10, 185.26it/s]\n"
     ]
    },
    {
     "name": "stdout",
     "output_type": "stream",
     "text": [
      "                    name  auc_orig  auc_flipped        p_full\n",
      "0               haberman  0.559107     0.561150  3.829416e-02\n",
      "1           new_thyroid1  0.930523     0.932205  3.137950e-02\n",
      "2       shuttle-6_vs_2-3  1.000000     1.000000  5.000000e-01\n",
      "3                   bupa  0.625072     0.624825  5.345577e-01\n",
      "4       cleveland-0_vs_4  0.672698     0.673966  6.966295e-01\n",
      "5                 ecoli1  0.833195     0.830251  9.999896e-01\n",
      "6           poker-9_vs_7  0.606970     0.607936  1.266074e-13\n",
      "7                 monk-2  1.000000     1.000000  5.000000e-01\n",
      "8              hepatitis  0.665344     0.666045  3.253611e-01\n",
      "9   yeast-0-3-5-9_vs_7-8  0.641793     0.639321  9.800358e-01\n",
      "10          mammographic  0.788031     0.788284  1.364901e-01\n",
      "11               saheart  0.584061     0.583671  6.927832e-01\n"
     ]
    },
    {
     "name": "stderr",
     "output_type": "stream",
     "text": [
      "2000it [00:05, 384.45it/s]\n"
     ]
    },
    {
     "name": "stdout",
     "output_type": "stream",
     "text": [
      "                            name  auc_orig  auc_flipped        p_full\n",
      "0                       haberman  0.559107     0.561150  3.829416e-02\n",
      "1                   new_thyroid1  0.930523     0.932205  3.137950e-02\n",
      "2               shuttle-6_vs_2-3  1.000000     1.000000  5.000000e-01\n",
      "3                           bupa  0.625072     0.624825  5.345577e-01\n",
      "4               cleveland-0_vs_4  0.672698     0.673966  6.966295e-01\n",
      "5                         ecoli1  0.833195     0.830251  9.999896e-01\n",
      "6                   poker-9_vs_7  0.606970     0.607936  1.266074e-13\n",
      "7                         monk-2  1.000000     1.000000  5.000000e-01\n",
      "8                      hepatitis  0.665344     0.666045  3.253611e-01\n",
      "9           yeast-0-3-5-9_vs_7-8  0.641793     0.639321  9.800358e-01\n",
      "10                  mammographic  0.788031     0.788284  1.364901e-01\n",
      "11                       saheart  0.584061     0.583671  6.927832e-01\n",
      "12  lymphography-normal-fibrosis  0.889456     0.887554  8.150245e-01\n"
     ]
    },
    {
     "name": "stderr",
     "output_type": "stream",
     "text": [
      "2000it [00:12, 160.35it/s]\n"
     ]
    },
    {
     "name": "stdout",
     "output_type": "stream",
     "text": [
      "                            name  auc_orig  auc_flipped        p_full\n",
      "0                       haberman  0.559107     0.561150  3.829416e-02\n",
      "1                   new_thyroid1  0.930523     0.932205  3.137950e-02\n",
      "2               shuttle-6_vs_2-3  1.000000     1.000000  5.000000e-01\n",
      "3                           bupa  0.625072     0.624825  5.345577e-01\n",
      "4               cleveland-0_vs_4  0.672698     0.673966  6.966295e-01\n",
      "5                         ecoli1  0.833195     0.830251  9.999896e-01\n",
      "6                   poker-9_vs_7  0.606970     0.607936  1.266074e-13\n",
      "7                         monk-2  1.000000     1.000000  5.000000e-01\n",
      "8                      hepatitis  0.665344     0.666045  3.253611e-01\n",
      "9           yeast-0-3-5-9_vs_7-8  0.641793     0.639321  9.800358e-01\n",
      "10                  mammographic  0.788031     0.788284  1.364901e-01\n",
      "11                       saheart  0.584061     0.583671  6.927832e-01\n",
      "12  lymphography-normal-fibrosis  0.889456     0.887554  8.150245e-01\n",
      "13                          pima  0.670836     0.670242  8.692518e-01\n"
     ]
    },
    {
     "name": "stderr",
     "output_type": "stream",
     "text": [
      "2000it [00:07, 263.27it/s]\n"
     ]
    },
    {
     "name": "stdout",
     "output_type": "stream",
     "text": [
      "                            name  auc_orig  auc_flipped        p_full\n",
      "0                       haberman  0.559107     0.561150  3.829416e-02\n",
      "1                   new_thyroid1  0.930523     0.932205  3.137950e-02\n",
      "2               shuttle-6_vs_2-3  1.000000     1.000000  5.000000e-01\n",
      "3                           bupa  0.625072     0.624825  5.345577e-01\n",
      "4               cleveland-0_vs_4  0.672698     0.673966  6.966295e-01\n",
      "5                         ecoli1  0.833195     0.830251  9.999896e-01\n",
      "6                   poker-9_vs_7  0.606970     0.607936  1.266074e-13\n",
      "7                         monk-2  1.000000     1.000000  5.000000e-01\n",
      "8                      hepatitis  0.665344     0.666045  3.253611e-01\n",
      "9           yeast-0-3-5-9_vs_7-8  0.641793     0.639321  9.800358e-01\n",
      "10                  mammographic  0.788031     0.788284  1.364901e-01\n",
      "11                       saheart  0.584061     0.583671  6.927832e-01\n",
      "12  lymphography-normal-fibrosis  0.889456     0.887554  8.150245e-01\n",
      "13                          pima  0.670836     0.670242  8.692518e-01\n",
      "14                     wisconsin  0.936895     0.938427  1.252613e-05\n"
     ]
    },
    {
     "name": "stderr",
     "output_type": "stream",
     "text": [
      "2000it [00:11, 166.76it/s]\n"
     ]
    },
    {
     "name": "stdout",
     "output_type": "stream",
     "text": [
      "                            name  auc_orig  auc_flipped        p_full\n",
      "0                       haberman  0.559107     0.561150  3.829416e-02\n",
      "1                   new_thyroid1  0.930523     0.932205  3.137950e-02\n",
      "2               shuttle-6_vs_2-3  1.000000     1.000000  5.000000e-01\n",
      "3                           bupa  0.625072     0.624825  5.345577e-01\n",
      "4               cleveland-0_vs_4  0.672698     0.673966  6.966295e-01\n",
      "5                         ecoli1  0.833195     0.830251  9.999896e-01\n",
      "6                   poker-9_vs_7  0.606970     0.607936  1.266074e-13\n",
      "7                         monk-2  1.000000     1.000000  5.000000e-01\n",
      "8                      hepatitis  0.665344     0.666045  3.253611e-01\n",
      "9           yeast-0-3-5-9_vs_7-8  0.641793     0.639321  9.800358e-01\n",
      "10                  mammographic  0.788031     0.788284  1.364901e-01\n",
      "11                       saheart  0.584061     0.583671  6.927832e-01\n",
      "12  lymphography-normal-fibrosis  0.889456     0.887554  8.150245e-01\n",
      "13                          pima  0.670836     0.670242  8.692518e-01\n",
      "14                     wisconsin  0.936895     0.938427  1.252613e-05\n",
      "15                   abalone9_18  0.648109     0.647959  7.514140e-01\n"
     ]
    },
    {
     "name": "stderr",
     "output_type": "stream",
     "text": [
      "2000it [00:11, 178.16it/s]\n"
     ]
    },
    {
     "name": "stdout",
     "output_type": "stream",
     "text": [
      "                            name  auc_orig  auc_flipped        p_full\n",
      "0                       haberman  0.559107     0.561150  3.829416e-02\n",
      "1                   new_thyroid1  0.930523     0.932205  3.137950e-02\n",
      "2               shuttle-6_vs_2-3  1.000000     1.000000  5.000000e-01\n",
      "3                           bupa  0.625072     0.624825  5.345577e-01\n",
      "4               cleveland-0_vs_4  0.672698     0.673966  6.966295e-01\n",
      "5                         ecoli1  0.833195     0.830251  9.999896e-01\n",
      "6                   poker-9_vs_7  0.606970     0.607936  1.266074e-13\n",
      "7                         monk-2  1.000000     1.000000  5.000000e-01\n",
      "8                      hepatitis  0.665344     0.666045  3.253611e-01\n",
      "9           yeast-0-3-5-9_vs_7-8  0.641793     0.639321  9.800358e-01\n",
      "10                  mammographic  0.788031     0.788284  1.364901e-01\n",
      "11                       saheart  0.584061     0.583671  6.927832e-01\n",
      "12  lymphography-normal-fibrosis  0.889456     0.887554  8.150245e-01\n",
      "13                          pima  0.670836     0.670242  8.692518e-01\n",
      "14                     wisconsin  0.936895     0.938427  1.252613e-05\n",
      "15                   abalone9_18  0.648109     0.647959  7.514140e-01\n",
      "16        winequality-red-3_vs_5  0.513020     0.512993  1.081410e-01\n"
     ]
    },
    {
     "name": "stderr",
     "output_type": "stream",
     "text": [
      "2000it [00:13, 148.18it/s]\n"
     ]
    },
    {
     "name": "stdout",
     "output_type": "stream",
     "text": [
      "                            name  auc_orig  auc_flipped        p_full\n",
      "0                       haberman  0.559107     0.561150  3.829416e-02\n",
      "1                   new_thyroid1  0.930523     0.932205  3.137950e-02\n",
      "2               shuttle-6_vs_2-3  1.000000     1.000000  5.000000e-01\n",
      "3                           bupa  0.625072     0.624825  5.345577e-01\n",
      "4               cleveland-0_vs_4  0.672698     0.673966  6.966295e-01\n",
      "5                         ecoli1  0.833195     0.830251  9.999896e-01\n",
      "6                   poker-9_vs_7  0.606970     0.607936  1.266074e-13\n",
      "7                         monk-2  1.000000     1.000000  5.000000e-01\n",
      "8                      hepatitis  0.665344     0.666045  3.253611e-01\n",
      "9           yeast-0-3-5-9_vs_7-8  0.641793     0.639321  9.800358e-01\n",
      "10                  mammographic  0.788031     0.788284  1.364901e-01\n",
      "11                       saheart  0.584061     0.583671  6.927832e-01\n",
      "12  lymphography-normal-fibrosis  0.889456     0.887554  8.150245e-01\n",
      "13                          pima  0.670836     0.670242  8.692518e-01\n",
      "14                     wisconsin  0.936895     0.938427  1.252613e-05\n",
      "15                   abalone9_18  0.648109     0.647959  7.514140e-01\n",
      "16        winequality-red-3_vs_5  0.513020     0.512993  1.081410e-01\n",
      "17                           CM1  0.568112     0.570014  7.495561e-02\n"
     ]
    },
    {
     "name": "stderr",
     "output_type": "stream",
     "text": [
      "2000it [00:11, 176.41it/s]\n"
     ]
    },
    {
     "name": "stdout",
     "output_type": "stream",
     "text": [
      "                            name  auc_orig  auc_flipped        p_full\n",
      "0                       haberman  0.559107     0.561150  3.829416e-02\n",
      "1                   new_thyroid1  0.930523     0.932205  3.137950e-02\n",
      "2               shuttle-6_vs_2-3  1.000000     1.000000  5.000000e-01\n",
      "3                           bupa  0.625072     0.624825  5.345577e-01\n",
      "4               cleveland-0_vs_4  0.672698     0.673966  6.966295e-01\n",
      "5                         ecoli1  0.833195     0.830251  9.999896e-01\n",
      "6                   poker-9_vs_7  0.606970     0.607936  1.266074e-13\n",
      "7                         monk-2  1.000000     1.000000  5.000000e-01\n",
      "8                      hepatitis  0.665344     0.666045  3.253611e-01\n",
      "9           yeast-0-3-5-9_vs_7-8  0.641793     0.639321  9.800358e-01\n",
      "10                  mammographic  0.788031     0.788284  1.364901e-01\n",
      "11                       saheart  0.584061     0.583671  6.927832e-01\n",
      "12  lymphography-normal-fibrosis  0.889456     0.887554  8.150245e-01\n",
      "13                          pima  0.670836     0.670242  8.692518e-01\n",
      "14                     wisconsin  0.936895     0.938427  1.252613e-05\n",
      "15                   abalone9_18  0.648109     0.647959  7.514140e-01\n",
      "16        winequality-red-3_vs_5  0.513020     0.512993  1.081410e-01\n",
      "17                           CM1  0.568112     0.570014  7.495561e-02\n",
      "18                    australian  0.806171     0.805637  8.474050e-01\n"
     ]
    },
    {
     "name": "stderr",
     "output_type": "stream",
     "text": [
      "2000it [00:14, 140.15it/s]"
     ]
    },
    {
     "name": "stdout",
     "output_type": "stream",
     "text": [
      "                            name  auc_orig  auc_flipped        p_full\n",
      "0                       haberman  0.559107     0.561150  3.829416e-02\n",
      "1                   new_thyroid1  0.930523     0.932205  3.137950e-02\n",
      "2               shuttle-6_vs_2-3  1.000000     1.000000  5.000000e-01\n",
      "3                           bupa  0.625072     0.624825  5.345577e-01\n",
      "4               cleveland-0_vs_4  0.672698     0.673966  6.966295e-01\n",
      "5                         ecoli1  0.833195     0.830251  9.999896e-01\n",
      "6                   poker-9_vs_7  0.606970     0.607936  1.266074e-13\n",
      "7                         monk-2  1.000000     1.000000  5.000000e-01\n",
      "8                      hepatitis  0.665344     0.666045  3.253611e-01\n",
      "9           yeast-0-3-5-9_vs_7-8  0.641793     0.639321  9.800358e-01\n",
      "10                  mammographic  0.788031     0.788284  1.364901e-01\n",
      "11                       saheart  0.584061     0.583671  6.927832e-01\n",
      "12  lymphography-normal-fibrosis  0.889456     0.887554  8.150245e-01\n",
      "13                          pima  0.670836     0.670242  8.692518e-01\n",
      "14                     wisconsin  0.936895     0.938427  1.252613e-05\n",
      "15                   abalone9_18  0.648109     0.647959  7.514140e-01\n",
      "16        winequality-red-3_vs_5  0.513020     0.512993  1.081410e-01\n",
      "17                           CM1  0.568112     0.570014  7.495561e-02\n",
      "18                    australian  0.806171     0.805637  8.474050e-01\n",
      "19                        SPECTF  0.614622     0.616268  3.196827e-01\n"
     ]
    },
    {
     "name": "stderr",
     "output_type": "stream",
     "text": [
      "\n"
     ]
    }
   ],
   "source": [
    "results = []\n",
    "\n",
    "validator = RepeatedStratifiedKFold(n_splits=5, n_repeats=400, random_state=5)\n",
    "\n",
    "for data_loader in data_loaders:\n",
    "    dataset = data_loader()\n",
    "    X = dataset['data']\n",
    "    y = dataset['target']\n",
    "    \n",
    "    aucs_orig = []\n",
    "    aucs_flipped = []\n",
    "    \n",
    "    for train, test in tqdm.tqdm(validator.split(X, y, y)):\n",
    "        X_train = X[train]\n",
    "        X_test = X[test]\n",
    "        y_train = y[train]\n",
    "        y_test = y[test]\n",
    "        \n",
    "        min_samples_leaf = 1\n",
    "        max_depth = None\n",
    "        \n",
    "        params = {'min_samples_leaf': min_samples_leaf,\n",
    "                  'max_depth': max_depth}\n",
    "        \n",
    "        try:\n",
    "            pred = DecisionTreeClassifier(**params).fit(X_train, y_train).predict_proba(X_test)[:, 1]\n",
    "            aucs_orig.append(roc_auc_score(y_test, pred))\n",
    "            \n",
    "            pred = DecisionTreeClassifier(**params).fit(-X_train, y_train).predict_proba(-X_test)[:, 1]\n",
    "            aucs_flipped.append(roc_auc_score(y_test, pred))\n",
    "            \n",
    "        except:\n",
    "            pass\n",
    "    \n",
    "    tmp = [dataset['name'], np.mean(aucs_orig), np.mean(aucs_flipped),  \n",
    "                            aucs_orig, aucs_flipped]\n",
    "    \n",
    "    tmp = tmp + [wilcoxon(aucs_orig, aucs_flipped, alternative='less', zero_method='zsplit').pvalue]\n",
    "    \n",
    "    results.append(tmp)\n",
    "    \n",
    "    results_pdf = pd.DataFrame(results, columns=['name', 'auc_orig', 'auc_flipped', 'aucs_orig', 'aucs_flipped', 'p_full'])\n",
    "    \n",
    "    print(results_pdf[['name', \n",
    "                        'auc_orig', \n",
    "                        'auc_flipped', \n",
    "                        'p_full']])\n",
    "        \n"
   ]
  },
  {
   "cell_type": "code",
   "execution_count": 12,
   "metadata": {},
   "outputs": [],
   "source": [
    "results_pdf.to_csv('existance-classification-dt.csv')"
   ]
  },
  {
   "cell_type": "code",
   "execution_count": null,
   "metadata": {},
   "outputs": [],
   "source": []
  }
 ],
 "metadata": {
  "kernelspec": {
   "display_name": "smote_clean",
   "language": "python",
   "name": "python3"
  },
  "language_info": {
   "codemirror_mode": {
    "name": "ipython",
    "version": 3
   },
   "file_extension": ".py",
   "mimetype": "text/x-python",
   "name": "python",
   "nbconvert_exporter": "python",
   "pygments_lexer": "ipython3",
   "version": "3.10.0"
  },
  "orig_nbformat": 4,
  "vscode": {
   "interpreter": {
    "hash": "499044d5ebe425087106556eea30a149e28227c692f9b3f42bc5fd0f94503385"
   }
  }
 },
 "nbformat": 4,
 "nbformat_minor": 2
}
