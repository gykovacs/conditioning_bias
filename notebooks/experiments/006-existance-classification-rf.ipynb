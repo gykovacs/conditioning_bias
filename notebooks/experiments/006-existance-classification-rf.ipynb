{
 "cells": [
  {
   "cell_type": "code",
   "execution_count": 8,
   "metadata": {},
   "outputs": [],
   "source": [
    "import numpy as np\n",
    "import pandas as pd\n",
    "\n",
    "import tqdm\n",
    "\n",
    "from scipy.stats import wilcoxon\n",
    "\n",
    "from sklearn.model_selection import RepeatedStratifiedKFold\n",
    "from sklearn.metrics import roc_auc_score\n",
    "from sklearn.ensemble import RandomForestClassifier\n",
    "\n",
    "from datasets import binclas_datasets"
   ]
  },
  {
   "cell_type": "code",
   "execution_count": 9,
   "metadata": {},
   "outputs": [],
   "source": [
    "data_loaders = binclas_datasets['data_loader_function'].values.tolist()"
   ]
  },
  {
   "cell_type": "code",
   "execution_count": 10,
   "metadata": {},
   "outputs": [
    {
     "name": "stderr",
     "output_type": "stream",
     "text": [
      "2000it [09:10,  3.63it/s]\n"
     ]
    },
    {
     "name": "stdout",
     "output_type": "stream",
     "text": [
      "       name  auc_orig  auc_flipped        p_full\n",
      "0  haberman  0.668074      0.67179  8.374357e-12\n"
     ]
    },
    {
     "name": "stderr",
     "output_type": "stream",
     "text": [
      "2000it [08:13,  4.05it/s]\n"
     ]
    },
    {
     "name": "stdout",
     "output_type": "stream",
     "text": [
      "           name  auc_orig  auc_flipped        p_full\n",
      "0      haberman  0.668074     0.671790  8.374357e-12\n",
      "1  new_thyroid1  0.999211     0.999018  9.977881e-01\n"
     ]
    },
    {
     "name": "stderr",
     "output_type": "stream",
     "text": [
      "2000it [07:29,  4.45it/s]\n"
     ]
    },
    {
     "name": "stdout",
     "output_type": "stream",
     "text": [
      "               name  auc_orig  auc_flipped        p_full\n",
      "0          haberman  0.668074     0.671790  8.374357e-12\n",
      "1      new_thyroid1  0.999211     0.999018  9.977881e-01\n",
      "2  shuttle-6_vs_2-3  1.000000     1.000000  3.782855e-01\n"
     ]
    },
    {
     "name": "stderr",
     "output_type": "stream",
     "text": [
      "2000it [08:16,  4.03it/s]\n"
     ]
    },
    {
     "name": "stdout",
     "output_type": "stream",
     "text": [
      "               name  auc_orig  auc_flipped        p_full\n",
      "0          haberman  0.668074     0.671790  8.374357e-12\n",
      "1      new_thyroid1  0.999211     0.999018  9.977881e-01\n",
      "2  shuttle-6_vs_2-3  1.000000     1.000000  3.782855e-01\n",
      "3              bupa  0.763609     0.762488  9.899759e-01\n"
     ]
    },
    {
     "name": "stderr",
     "output_type": "stream",
     "text": [
      "2000it [08:03,  4.13it/s]\n"
     ]
    },
    {
     "name": "stdout",
     "output_type": "stream",
     "text": [
      "               name  auc_orig  auc_flipped        p_full\n",
      "0          haberman  0.668074     0.671790  8.374357e-12\n",
      "1      new_thyroid1  0.999211     0.999018  9.977881e-01\n",
      "2  shuttle-6_vs_2-3  1.000000     1.000000  3.782855e-01\n",
      "3              bupa  0.763609     0.762488  9.899759e-01\n",
      "4  cleveland-0_vs_4  0.972031     0.974623  3.934542e-13\n"
     ]
    },
    {
     "name": "stderr",
     "output_type": "stream",
     "text": [
      "2000it [09:32,  3.50it/s]\n"
     ]
    },
    {
     "name": "stdout",
     "output_type": "stream",
     "text": [
      "               name  auc_orig  auc_flipped        p_full\n",
      "0          haberman  0.668074     0.671790  8.374357e-12\n",
      "1      new_thyroid1  0.999211     0.999018  9.977881e-01\n",
      "2  shuttle-6_vs_2-3  1.000000     1.000000  3.782855e-01\n",
      "3              bupa  0.763609     0.762488  9.899759e-01\n",
      "4  cleveland-0_vs_4  0.972031     0.974623  3.934542e-13\n",
      "5            ecoli1  0.954112     0.954450  1.572920e-01\n"
     ]
    },
    {
     "name": "stderr",
     "output_type": "stream",
     "text": [
      "2000it [08:41,  3.84it/s]\n"
     ]
    },
    {
     "name": "stdout",
     "output_type": "stream",
     "text": [
      "               name  auc_orig  auc_flipped        p_full\n",
      "0          haberman  0.668074     0.671790  8.374357e-12\n",
      "1      new_thyroid1  0.999211     0.999018  9.977881e-01\n",
      "2  shuttle-6_vs_2-3  1.000000     1.000000  3.782855e-01\n",
      "3              bupa  0.763609     0.762488  9.899759e-01\n",
      "4  cleveland-0_vs_4  0.972031     0.974623  3.934542e-13\n",
      "5            ecoli1  0.954112     0.954450  1.572920e-01\n",
      "6      poker-9_vs_7  0.984884     0.986932  8.602727e-06\n"
     ]
    },
    {
     "name": "stderr",
     "output_type": "stream",
     "text": [
      "2000it [08:37,  3.86it/s]\n"
     ]
    },
    {
     "name": "stdout",
     "output_type": "stream",
     "text": [
      "               name  auc_orig  auc_flipped        p_full\n",
      "0          haberman  0.668074     0.671790  8.374357e-12\n",
      "1      new_thyroid1  0.999211     0.999018  9.977881e-01\n",
      "2  shuttle-6_vs_2-3  1.000000     1.000000  3.782855e-01\n",
      "3              bupa  0.763609     0.762488  9.899759e-01\n",
      "4  cleveland-0_vs_4  0.972031     0.974623  3.934542e-13\n",
      "5            ecoli1  0.954112     0.954450  1.572920e-01\n",
      "6      poker-9_vs_7  0.984884     0.986932  8.602727e-06\n",
      "7            monk-2  1.000000     0.999997  2.854241e-01\n"
     ]
    },
    {
     "name": "stderr",
     "output_type": "stream",
     "text": [
      "2000it [09:06,  3.66it/s]\n"
     ]
    },
    {
     "name": "stdout",
     "output_type": "stream",
     "text": [
      "               name  auc_orig  auc_flipped        p_full\n",
      "0          haberman  0.668074     0.671790  8.374357e-12\n",
      "1      new_thyroid1  0.999211     0.999018  9.977881e-01\n",
      "2  shuttle-6_vs_2-3  1.000000     1.000000  3.782855e-01\n",
      "3              bupa  0.763609     0.762488  9.899759e-01\n",
      "4  cleveland-0_vs_4  0.972031     0.974623  3.934542e-13\n",
      "5            ecoli1  0.954112     0.954450  1.572920e-01\n",
      "6      poker-9_vs_7  0.984884     0.986932  8.602727e-06\n",
      "7            monk-2  1.000000     0.999997  2.854241e-01\n",
      "8         hepatitis  0.876341     0.876665  1.405393e-01\n"
     ]
    },
    {
     "name": "stderr",
     "output_type": "stream",
     "text": [
      "2000it [09:39,  3.45it/s]\n"
     ]
    },
    {
     "name": "stdout",
     "output_type": "stream",
     "text": [
      "                   name  auc_orig  auc_flipped        p_full\n",
      "0              haberman  0.668074     0.671790  8.374357e-12\n",
      "1          new_thyroid1  0.999211     0.999018  9.977881e-01\n",
      "2      shuttle-6_vs_2-3  1.000000     1.000000  3.782855e-01\n",
      "3                  bupa  0.763609     0.762488  9.899759e-01\n",
      "4      cleveland-0_vs_4  0.972031     0.974623  3.934542e-13\n",
      "5                ecoli1  0.954112     0.954450  1.572920e-01\n",
      "6          poker-9_vs_7  0.984884     0.986932  8.602727e-06\n",
      "7                monk-2  1.000000     0.999997  2.854241e-01\n",
      "8             hepatitis  0.876341     0.876665  1.405393e-01\n",
      "9  yeast-0-3-5-9_vs_7-8  0.794184     0.793264  9.174351e-01\n"
     ]
    },
    {
     "name": "stderr",
     "output_type": "stream",
     "text": [
      "2000it [09:14,  3.60it/s]\n"
     ]
    },
    {
     "name": "stdout",
     "output_type": "stream",
     "text": [
      "                    name  auc_orig  auc_flipped        p_full\n",
      "0               haberman  0.668074     0.671790  8.374357e-12\n",
      "1           new_thyroid1  0.999211     0.999018  9.977881e-01\n",
      "2       shuttle-6_vs_2-3  1.000000     1.000000  3.782855e-01\n",
      "3                   bupa  0.763609     0.762488  9.899759e-01\n",
      "4       cleveland-0_vs_4  0.972031     0.974623  3.934542e-13\n",
      "5                 ecoli1  0.954112     0.954450  1.572920e-01\n",
      "6           poker-9_vs_7  0.984884     0.986932  8.602727e-06\n",
      "7                 monk-2  1.000000     0.999997  2.854241e-01\n",
      "8              hepatitis  0.876341     0.876665  1.405393e-01\n",
      "9   yeast-0-3-5-9_vs_7-8  0.794184     0.793264  9.174351e-01\n",
      "10          mammographic  0.867661     0.867841  1.127779e-01\n"
     ]
    },
    {
     "name": "stderr",
     "output_type": "stream",
     "text": [
      "2000it [09:27,  3.52it/s]\n"
     ]
    },
    {
     "name": "stdout",
     "output_type": "stream",
     "text": [
      "                    name  auc_orig  auc_flipped        p_full\n",
      "0               haberman  0.668074     0.671790  8.374357e-12\n",
      "1           new_thyroid1  0.999211     0.999018  9.977881e-01\n",
      "2       shuttle-6_vs_2-3  1.000000     1.000000  3.782855e-01\n",
      "3                   bupa  0.763609     0.762488  9.899759e-01\n",
      "4       cleveland-0_vs_4  0.972031     0.974623  3.934542e-13\n",
      "5                 ecoli1  0.954112     0.954450  1.572920e-01\n",
      "6           poker-9_vs_7  0.984884     0.986932  8.602727e-06\n",
      "7                 monk-2  1.000000     0.999997  2.854241e-01\n",
      "8              hepatitis  0.876341     0.876665  1.405393e-01\n",
      "9   yeast-0-3-5-9_vs_7-8  0.794184     0.793264  9.174351e-01\n",
      "10          mammographic  0.867661     0.867841  1.127779e-01\n",
      "11               saheart  0.722080     0.721963  6.955698e-01\n"
     ]
    },
    {
     "name": "stderr",
     "output_type": "stream",
     "text": [
      "2000it [07:03,  4.72it/s]\n"
     ]
    },
    {
     "name": "stdout",
     "output_type": "stream",
     "text": [
      "                            name  auc_orig  auc_flipped        p_full\n",
      "0                       haberman  0.668074     0.671790  8.374357e-12\n",
      "1                   new_thyroid1  0.999211     0.999018  9.977881e-01\n",
      "2               shuttle-6_vs_2-3  1.000000     1.000000  3.782855e-01\n",
      "3                           bupa  0.763609     0.762488  9.899759e-01\n",
      "4               cleveland-0_vs_4  0.972031     0.974623  3.934542e-13\n",
      "5                         ecoli1  0.954112     0.954450  1.572920e-01\n",
      "6                   poker-9_vs_7  0.984884     0.986932  8.602727e-06\n",
      "7                         monk-2  1.000000     0.999997  2.854241e-01\n",
      "8                      hepatitis  0.876341     0.876665  1.405393e-01\n",
      "9           yeast-0-3-5-9_vs_7-8  0.794184     0.793264  9.174351e-01\n",
      "10                  mammographic  0.867661     0.867841  1.127779e-01\n",
      "11                       saheart  0.722080     0.721963  6.955698e-01\n",
      "12  lymphography-normal-fibrosis  0.993940     0.994824  6.933358e-04\n"
     ]
    },
    {
     "name": "stderr",
     "output_type": "stream",
     "text": [
      "2000it [10:06,  3.30it/s]\n"
     ]
    },
    {
     "name": "stdout",
     "output_type": "stream",
     "text": [
      "                            name  auc_orig  auc_flipped        p_full\n",
      "0                       haberman  0.668074     0.671790  8.374357e-12\n",
      "1                   new_thyroid1  0.999211     0.999018  9.977881e-01\n",
      "2               shuttle-6_vs_2-3  1.000000     1.000000  3.782855e-01\n",
      "3                           bupa  0.763609     0.762488  9.899759e-01\n",
      "4               cleveland-0_vs_4  0.972031     0.974623  3.934542e-13\n",
      "5                         ecoli1  0.954112     0.954450  1.572920e-01\n",
      "6                   poker-9_vs_7  0.984884     0.986932  8.602727e-06\n",
      "7                         monk-2  1.000000     0.999997  2.854241e-01\n",
      "8                      hepatitis  0.876341     0.876665  1.405393e-01\n",
      "9           yeast-0-3-5-9_vs_7-8  0.794184     0.793264  9.174351e-01\n",
      "10                  mammographic  0.867661     0.867841  1.127779e-01\n",
      "11                       saheart  0.722080     0.721963  6.955698e-01\n",
      "12  lymphography-normal-fibrosis  0.993940     0.994824  6.933358e-04\n",
      "13                          pima  0.823506     0.823529  4.971658e-01\n"
     ]
    },
    {
     "name": "stderr",
     "output_type": "stream",
     "text": [
      "2000it [08:42,  3.83it/s]\n"
     ]
    },
    {
     "name": "stdout",
     "output_type": "stream",
     "text": [
      "                            name  auc_orig  auc_flipped        p_full\n",
      "0                       haberman  0.668074     0.671790  8.374357e-12\n",
      "1                   new_thyroid1  0.999211     0.999018  9.977881e-01\n",
      "2               shuttle-6_vs_2-3  1.000000     1.000000  3.782855e-01\n",
      "3                           bupa  0.763609     0.762488  9.899759e-01\n",
      "4               cleveland-0_vs_4  0.972031     0.974623  3.934542e-13\n",
      "5                         ecoli1  0.954112     0.954450  1.572920e-01\n",
      "6                   poker-9_vs_7  0.984884     0.986932  8.602727e-06\n",
      "7                         monk-2  1.000000     0.999997  2.854241e-01\n",
      "8                      hepatitis  0.876341     0.876665  1.405393e-01\n",
      "9           yeast-0-3-5-9_vs_7-8  0.794184     0.793264  9.174351e-01\n",
      "10                  mammographic  0.867661     0.867841  1.127779e-01\n",
      "11                       saheart  0.722080     0.721963  6.955698e-01\n",
      "12  lymphography-normal-fibrosis  0.993940     0.994824  6.933358e-04\n",
      "13                          pima  0.823506     0.823529  4.971658e-01\n",
      "14                     wisconsin  0.992687     0.992956  1.148693e-06\n"
     ]
    },
    {
     "name": "stderr",
     "output_type": "stream",
     "text": [
      "2000it [09:36,  3.47it/s]\n"
     ]
    },
    {
     "name": "stdout",
     "output_type": "stream",
     "text": [
      "                            name  auc_orig  auc_flipped        p_full\n",
      "0                       haberman  0.668074     0.671790  8.374357e-12\n",
      "1                   new_thyroid1  0.999211     0.999018  9.977881e-01\n",
      "2               shuttle-6_vs_2-3  1.000000     1.000000  3.782855e-01\n",
      "3                           bupa  0.763609     0.762488  9.899759e-01\n",
      "4               cleveland-0_vs_4  0.972031     0.974623  3.934542e-13\n",
      "5                         ecoli1  0.954112     0.954450  1.572920e-01\n",
      "6                   poker-9_vs_7  0.984884     0.986932  8.602727e-06\n",
      "7                         monk-2  1.000000     0.999997  2.854241e-01\n",
      "8                      hepatitis  0.876341     0.876665  1.405393e-01\n",
      "9           yeast-0-3-5-9_vs_7-8  0.794184     0.793264  9.174351e-01\n",
      "10                  mammographic  0.867661     0.867841  1.127779e-01\n",
      "11                       saheart  0.722080     0.721963  6.955698e-01\n",
      "12  lymphography-normal-fibrosis  0.993940     0.994824  6.933358e-04\n",
      "13                          pima  0.823506     0.823529  4.971658e-01\n",
      "14                     wisconsin  0.992687     0.992956  1.148693e-06\n",
      "15                   abalone9_18  0.831560     0.828778  9.999452e-01\n"
     ]
    },
    {
     "name": "stderr",
     "output_type": "stream",
     "text": [
      "2000it [08:27,  3.94it/s]\n"
     ]
    },
    {
     "name": "stdout",
     "output_type": "stream",
     "text": [
      "                            name  auc_orig  auc_flipped        p_full\n",
      "0                       haberman  0.668074     0.671790  8.374357e-12\n",
      "1                   new_thyroid1  0.999211     0.999018  9.977881e-01\n",
      "2               shuttle-6_vs_2-3  1.000000     1.000000  3.782855e-01\n",
      "3                           bupa  0.763609     0.762488  9.899759e-01\n",
      "4               cleveland-0_vs_4  0.972031     0.974623  3.934542e-13\n",
      "5                         ecoli1  0.954112     0.954450  1.572920e-01\n",
      "6                   poker-9_vs_7  0.984884     0.986932  8.602727e-06\n",
      "7                         monk-2  1.000000     0.999997  2.854241e-01\n",
      "8                      hepatitis  0.876341     0.876665  1.405393e-01\n",
      "9           yeast-0-3-5-9_vs_7-8  0.794184     0.793264  9.174351e-01\n",
      "10                  mammographic  0.867661     0.867841  1.127779e-01\n",
      "11                       saheart  0.722080     0.721963  6.955698e-01\n",
      "12  lymphography-normal-fibrosis  0.993940     0.994824  6.933358e-04\n",
      "13                          pima  0.823506     0.823529  4.971658e-01\n",
      "14                     wisconsin  0.992687     0.992956  1.148693e-06\n",
      "15                   abalone9_18  0.831560     0.828778  9.999452e-01\n",
      "16        winequality-red-3_vs_5  0.737999     0.736727  5.483410e-01\n"
     ]
    },
    {
     "name": "stderr",
     "output_type": "stream",
     "text": [
      "2000it [09:00,  3.70it/s]\n"
     ]
    },
    {
     "name": "stdout",
     "output_type": "stream",
     "text": [
      "                            name  auc_orig  auc_flipped        p_full\n",
      "0                       haberman  0.668074     0.671790  8.374357e-12\n",
      "1                   new_thyroid1  0.999211     0.999018  9.977881e-01\n",
      "2               shuttle-6_vs_2-3  1.000000     1.000000  3.782855e-01\n",
      "3                           bupa  0.763609     0.762488  9.899759e-01\n",
      "4               cleveland-0_vs_4  0.972031     0.974623  3.934542e-13\n",
      "5                         ecoli1  0.954112     0.954450  1.572920e-01\n",
      "6                   poker-9_vs_7  0.984884     0.986932  8.602727e-06\n",
      "7                         monk-2  1.000000     0.999997  2.854241e-01\n",
      "8                      hepatitis  0.876341     0.876665  1.405393e-01\n",
      "9           yeast-0-3-5-9_vs_7-8  0.794184     0.793264  9.174351e-01\n",
      "10                  mammographic  0.867661     0.867841  1.127779e-01\n",
      "11                       saheart  0.722080     0.721963  6.955698e-01\n",
      "12  lymphography-normal-fibrosis  0.993940     0.994824  6.933358e-04\n",
      "13                          pima  0.823506     0.823529  4.971658e-01\n",
      "14                     wisconsin  0.992687     0.992956  1.148693e-06\n",
      "15                   abalone9_18  0.831560     0.828778  9.999452e-01\n",
      "16        winequality-red-3_vs_5  0.737999     0.736727  5.483410e-01\n",
      "17                           CM1  0.755298     0.753798  9.937955e-01\n"
     ]
    },
    {
     "name": "stderr",
     "output_type": "stream",
     "text": [
      "2000it [09:18,  3.58it/s]\n"
     ]
    },
    {
     "name": "stdout",
     "output_type": "stream",
     "text": [
      "                            name  auc_orig  auc_flipped        p_full\n",
      "0                       haberman  0.668074     0.671790  8.374357e-12\n",
      "1                   new_thyroid1  0.999211     0.999018  9.977881e-01\n",
      "2               shuttle-6_vs_2-3  1.000000     1.000000  3.782855e-01\n",
      "3                           bupa  0.763609     0.762488  9.899759e-01\n",
      "4               cleveland-0_vs_4  0.972031     0.974623  3.934542e-13\n",
      "5                         ecoli1  0.954112     0.954450  1.572920e-01\n",
      "6                   poker-9_vs_7  0.984884     0.986932  8.602727e-06\n",
      "7                         monk-2  1.000000     0.999997  2.854241e-01\n",
      "8                      hepatitis  0.876341     0.876665  1.405393e-01\n",
      "9           yeast-0-3-5-9_vs_7-8  0.794184     0.793264  9.174351e-01\n",
      "10                  mammographic  0.867661     0.867841  1.127779e-01\n",
      "11                       saheart  0.722080     0.721963  6.955698e-01\n",
      "12  lymphography-normal-fibrosis  0.993940     0.994824  6.933358e-04\n",
      "13                          pima  0.823506     0.823529  4.971658e-01\n",
      "14                     wisconsin  0.992687     0.992956  1.148693e-06\n",
      "15                   abalone9_18  0.831560     0.828778  9.999452e-01\n",
      "16        winequality-red-3_vs_5  0.737999     0.736727  5.483410e-01\n",
      "17                           CM1  0.755298     0.753798  9.937955e-01\n",
      "18                    australian  0.926548     0.926955  5.841379e-04\n"
     ]
    },
    {
     "name": "stderr",
     "output_type": "stream",
     "text": [
      "2000it [08:19,  4.00it/s]"
     ]
    },
    {
     "name": "stdout",
     "output_type": "stream",
     "text": [
      "                            name  auc_orig  auc_flipped        p_full\n",
      "0                       haberman  0.668074     0.671790  8.374357e-12\n",
      "1                   new_thyroid1  0.999211     0.999018  9.977881e-01\n",
      "2               shuttle-6_vs_2-3  1.000000     1.000000  3.782855e-01\n",
      "3                           bupa  0.763609     0.762488  9.899759e-01\n",
      "4               cleveland-0_vs_4  0.972031     0.974623  3.934542e-13\n",
      "5                         ecoli1  0.954112     0.954450  1.572920e-01\n",
      "6                   poker-9_vs_7  0.984884     0.986932  8.602727e-06\n",
      "7                         monk-2  1.000000     0.999997  2.854241e-01\n",
      "8                      hepatitis  0.876341     0.876665  1.405393e-01\n",
      "9           yeast-0-3-5-9_vs_7-8  0.794184     0.793264  9.174351e-01\n",
      "10                  mammographic  0.867661     0.867841  1.127779e-01\n",
      "11                       saheart  0.722080     0.721963  6.955698e-01\n",
      "12  lymphography-normal-fibrosis  0.993940     0.994824  6.933358e-04\n",
      "13                          pima  0.823506     0.823529  4.971658e-01\n",
      "14                     wisconsin  0.992687     0.992956  1.148693e-06\n",
      "15                   abalone9_18  0.831560     0.828778  9.999452e-01\n",
      "16        winequality-red-3_vs_5  0.737999     0.736727  5.483410e-01\n",
      "17                           CM1  0.755298     0.753798  9.937955e-01\n",
      "18                    australian  0.926548     0.926955  5.841379e-04\n",
      "19                        SPECTF  0.841246     0.841529  3.237109e-01\n"
     ]
    },
    {
     "name": "stderr",
     "output_type": "stream",
     "text": [
      "\n"
     ]
    }
   ],
   "source": [
    "results = []\n",
    "\n",
    "validator = RepeatedStratifiedKFold(n_splits=5, n_repeats=400, random_state=5)\n",
    "\n",
    "for data_loader in data_loaders:\n",
    "    dataset = data_loader()\n",
    "    X = dataset['data']\n",
    "    y = dataset['target']\n",
    "    \n",
    "    aucs_orig = []\n",
    "    aucs_flipped = []\n",
    "    \n",
    "    for train, test in tqdm.tqdm(validator.split(X, y, y)):\n",
    "        X_train = X[train]\n",
    "        X_test = X[test]\n",
    "        y_train = y[train]\n",
    "        y_test = y[test]\n",
    "        \n",
    "        min_samples_leaf = 1\n",
    "        max_depth = None\n",
    "        \n",
    "        params = {'min_samples_leaf': min_samples_leaf,\n",
    "                  'max_depth': max_depth}\n",
    "        \n",
    "        try:\n",
    "            pred = RandomForestClassifier(**params).fit(X_train, y_train).predict_proba(X_test)[:, 1]\n",
    "            aucs_orig.append(roc_auc_score(y_test, pred))\n",
    "            \n",
    "            pred = RandomForestClassifier(**params).fit(-X_train, y_train).predict_proba(-X_test)[:, 1]\n",
    "            aucs_flipped.append(roc_auc_score(y_test, pred))\n",
    "            \n",
    "        except:\n",
    "            pass\n",
    "    \n",
    "    tmp = [dataset['name'], np.mean(aucs_orig), np.mean(aucs_flipped),  \n",
    "                            aucs_orig, aucs_flipped]\n",
    "    \n",
    "    tmp = tmp + [wilcoxon(aucs_orig, aucs_flipped, alternative='less', zero_method='zsplit').pvalue]\n",
    "    \n",
    "    results.append(tmp)\n",
    "    \n",
    "    results_pdf = pd.DataFrame(results, columns=['name', 'auc_orig', 'auc_flipped', 'aucs_orig', 'aucs_flipped', 'p_full'])\n",
    "    \n",
    "    print(results_pdf[['name', \n",
    "                        'auc_orig', \n",
    "                        'auc_flipped', \n",
    "                        'p_full']])\n",
    "        \n"
   ]
  },
  {
   "cell_type": "code",
   "execution_count": 11,
   "metadata": {},
   "outputs": [],
   "source": [
    "results_pdf.to_csv('existance-classification-rf.csv')"
   ]
  },
  {
   "cell_type": "code",
   "execution_count": null,
   "metadata": {},
   "outputs": [],
   "source": []
  }
 ],
 "metadata": {
  "kernelspec": {
   "display_name": "smote_clean",
   "language": "python",
   "name": "python3"
  },
  "language_info": {
   "codemirror_mode": {
    "name": "ipython",
    "version": 3
   },
   "file_extension": ".py",
   "mimetype": "text/x-python",
   "name": "python",
   "nbconvert_exporter": "python",
   "pygments_lexer": "ipython3",
   "version": "3.10.0"
  },
  "orig_nbformat": 4,
  "vscode": {
   "interpreter": {
    "hash": "499044d5ebe425087106556eea30a149e28227c692f9b3f42bc5fd0f94503385"
   }
  }
 },
 "nbformat": 4,
 "nbformat_minor": 2
}
