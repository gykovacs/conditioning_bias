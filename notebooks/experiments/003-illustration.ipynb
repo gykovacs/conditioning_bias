{
 "cells": [
  {
   "cell_type": "code",
   "execution_count": 28,
   "metadata": {},
   "outputs": [],
   "source": [
    "import numpy as np\n",
    "\n",
    "import common_datasets.binary_classification as binclas\n",
    "\n",
    "import plotly.express as px\n",
    "import sklearn.datasets"
   ]
  },
  {
   "cell_type": "code",
   "execution_count": 9,
   "metadata": {},
   "outputs": [],
   "source": [
    "iris = sklearn.datasets.load_iris()\n",
    "iris_data = iris['data']\n",
    "iris_target = iris['target']"
   ]
  },
  {
   "cell_type": "code",
   "execution_count": 10,
   "metadata": {},
   "outputs": [
    {
     "data": {
      "application/vnd.plotly.v1+json": {
       "config": {
        "plotlyServerURL": "https://plot.ly"
       },
       "data": [
        {
         "hovertemplate": "x=%{x}<br>y=%{y}<extra></extra>",
         "legendgroup": "",
         "marker": {
          "color": "#636efa",
          "symbol": "circle"
         },
         "mode": "markers",
         "name": "",
         "orientation": "v",
         "showlegend": false,
         "type": "scatter",
         "x": [
          5.1,
          4.9,
          4.7,
          4.6,
          5,
          5.4,
          4.6,
          5,
          4.4,
          4.9,
          5.4,
          4.8,
          4.8,
          4.3,
          5.8,
          5.7,
          5.4,
          5.1,
          5.7,
          5.1,
          5.4,
          5.1,
          4.6,
          5.1,
          4.8,
          5,
          5,
          5.2,
          5.2,
          4.7,
          4.8,
          5.4,
          5.2,
          5.5,
          4.9,
          5,
          5.5,
          4.9,
          4.4,
          5.1,
          5,
          4.5,
          4.4,
          5,
          5.1,
          4.8,
          5.1,
          4.6,
          5.3,
          5,
          7,
          6.4,
          6.9,
          5.5,
          6.5,
          5.7,
          6.3,
          4.9,
          6.6,
          5.2,
          5,
          5.9,
          6,
          6.1,
          5.6,
          6.7,
          5.6,
          5.8,
          6.2,
          5.6,
          5.9,
          6.1,
          6.3,
          6.1,
          6.4,
          6.6,
          6.8,
          6.7,
          6,
          5.7,
          5.5,
          5.5,
          5.8,
          6,
          5.4,
          6,
          6.7,
          6.3,
          5.6,
          5.5,
          5.5,
          6.1,
          5.8,
          5,
          5.6,
          5.7,
          5.7,
          6.2,
          5.1,
          5.7,
          6.3,
          5.8,
          7.1,
          6.3,
          6.5,
          7.6,
          4.9,
          7.3,
          6.7,
          7.2,
          6.5,
          6.4,
          6.8,
          5.7,
          5.8,
          6.4,
          6.5,
          7.7,
          7.7,
          6,
          6.9,
          5.6,
          7.7,
          6.3,
          6.7,
          7.2,
          6.2,
          6.1,
          6.4,
          7.2,
          7.4,
          7.9,
          6.4,
          6.3,
          6.1,
          7.7,
          6.3,
          6.4,
          6,
          6.9,
          6.7,
          6.9,
          5.8,
          6.8,
          6.7,
          6.7,
          6.3,
          6.5,
          6.2,
          5.9
         ],
         "xaxis": "x",
         "y": [
          3.5,
          3,
          3.2,
          3.1,
          3.6,
          3.9,
          3.4,
          3.4,
          2.9,
          3.1,
          3.7,
          3.4,
          3,
          3,
          4,
          4.4,
          3.9,
          3.5,
          3.8,
          3.8,
          3.4,
          3.7,
          3.6,
          3.3,
          3.4,
          3,
          3.4,
          3.5,
          3.4,
          3.2,
          3.1,
          3.4,
          4.1,
          4.2,
          3.1,
          3.2,
          3.5,
          3.6,
          3,
          3.4,
          3.5,
          2.3,
          3.2,
          3.5,
          3.8,
          3,
          3.8,
          3.2,
          3.7,
          3.3,
          3.2,
          3.2,
          3.1,
          2.3,
          2.8,
          2.8,
          3.3,
          2.4,
          2.9,
          2.7,
          2,
          3,
          2.2,
          2.9,
          2.9,
          3.1,
          3,
          2.7,
          2.2,
          2.5,
          3.2,
          2.8,
          2.5,
          2.8,
          2.9,
          3,
          2.8,
          3,
          2.9,
          2.6,
          2.4,
          2.4,
          2.7,
          2.7,
          3,
          3.4,
          3.1,
          2.3,
          3,
          2.5,
          2.6,
          3,
          2.6,
          2.3,
          2.7,
          3,
          2.9,
          2.9,
          2.5,
          2.8,
          3.3,
          2.7,
          3,
          2.9,
          3,
          3,
          2.5,
          2.9,
          2.5,
          3.6,
          3.2,
          2.7,
          3,
          2.5,
          2.8,
          3.2,
          3,
          3.8,
          2.6,
          2.2,
          3.2,
          2.8,
          2.8,
          2.7,
          3.3,
          3.2,
          2.8,
          3,
          2.8,
          3,
          2.8,
          3.8,
          2.8,
          2.8,
          2.6,
          3,
          3.4,
          3.1,
          3,
          3.1,
          3.1,
          3.1,
          2.7,
          3.2,
          3.3,
          3,
          2.5,
          3,
          3.4,
          3
         ],
         "yaxis": "y"
        }
       ],
       "layout": {
        "legend": {
         "tracegroupgap": 0
        },
        "margin": {
         "t": 60
        },
        "template": {
         "data": {
          "bar": [
           {
            "error_x": {
             "color": "#2a3f5f"
            },
            "error_y": {
             "color": "#2a3f5f"
            },
            "marker": {
             "line": {
              "color": "#E5ECF6",
              "width": 0.5
             },
             "pattern": {
              "fillmode": "overlay",
              "size": 10,
              "solidity": 0.2
             }
            },
            "type": "bar"
           }
          ],
          "barpolar": [
           {
            "marker": {
             "line": {
              "color": "#E5ECF6",
              "width": 0.5
             },
             "pattern": {
              "fillmode": "overlay",
              "size": 10,
              "solidity": 0.2
             }
            },
            "type": "barpolar"
           }
          ],
          "carpet": [
           {
            "aaxis": {
             "endlinecolor": "#2a3f5f",
             "gridcolor": "white",
             "linecolor": "white",
             "minorgridcolor": "white",
             "startlinecolor": "#2a3f5f"
            },
            "baxis": {
             "endlinecolor": "#2a3f5f",
             "gridcolor": "white",
             "linecolor": "white",
             "minorgridcolor": "white",
             "startlinecolor": "#2a3f5f"
            },
            "type": "carpet"
           }
          ],
          "choropleth": [
           {
            "colorbar": {
             "outlinewidth": 0,
             "ticks": ""
            },
            "type": "choropleth"
           }
          ],
          "contour": [
           {
            "colorbar": {
             "outlinewidth": 0,
             "ticks": ""
            },
            "colorscale": [
             [
              0,
              "#0d0887"
             ],
             [
              0.1111111111111111,
              "#46039f"
             ],
             [
              0.2222222222222222,
              "#7201a8"
             ],
             [
              0.3333333333333333,
              "#9c179e"
             ],
             [
              0.4444444444444444,
              "#bd3786"
             ],
             [
              0.5555555555555556,
              "#d8576b"
             ],
             [
              0.6666666666666666,
              "#ed7953"
             ],
             [
              0.7777777777777778,
              "#fb9f3a"
             ],
             [
              0.8888888888888888,
              "#fdca26"
             ],
             [
              1,
              "#f0f921"
             ]
            ],
            "type": "contour"
           }
          ],
          "contourcarpet": [
           {
            "colorbar": {
             "outlinewidth": 0,
             "ticks": ""
            },
            "type": "contourcarpet"
           }
          ],
          "heatmap": [
           {
            "colorbar": {
             "outlinewidth": 0,
             "ticks": ""
            },
            "colorscale": [
             [
              0,
              "#0d0887"
             ],
             [
              0.1111111111111111,
              "#46039f"
             ],
             [
              0.2222222222222222,
              "#7201a8"
             ],
             [
              0.3333333333333333,
              "#9c179e"
             ],
             [
              0.4444444444444444,
              "#bd3786"
             ],
             [
              0.5555555555555556,
              "#d8576b"
             ],
             [
              0.6666666666666666,
              "#ed7953"
             ],
             [
              0.7777777777777778,
              "#fb9f3a"
             ],
             [
              0.8888888888888888,
              "#fdca26"
             ],
             [
              1,
              "#f0f921"
             ]
            ],
            "type": "heatmap"
           }
          ],
          "heatmapgl": [
           {
            "colorbar": {
             "outlinewidth": 0,
             "ticks": ""
            },
            "colorscale": [
             [
              0,
              "#0d0887"
             ],
             [
              0.1111111111111111,
              "#46039f"
             ],
             [
              0.2222222222222222,
              "#7201a8"
             ],
             [
              0.3333333333333333,
              "#9c179e"
             ],
             [
              0.4444444444444444,
              "#bd3786"
             ],
             [
              0.5555555555555556,
              "#d8576b"
             ],
             [
              0.6666666666666666,
              "#ed7953"
             ],
             [
              0.7777777777777778,
              "#fb9f3a"
             ],
             [
              0.8888888888888888,
              "#fdca26"
             ],
             [
              1,
              "#f0f921"
             ]
            ],
            "type": "heatmapgl"
           }
          ],
          "histogram": [
           {
            "marker": {
             "pattern": {
              "fillmode": "overlay",
              "size": 10,
              "solidity": 0.2
             }
            },
            "type": "histogram"
           }
          ],
          "histogram2d": [
           {
            "colorbar": {
             "outlinewidth": 0,
             "ticks": ""
            },
            "colorscale": [
             [
              0,
              "#0d0887"
             ],
             [
              0.1111111111111111,
              "#46039f"
             ],
             [
              0.2222222222222222,
              "#7201a8"
             ],
             [
              0.3333333333333333,
              "#9c179e"
             ],
             [
              0.4444444444444444,
              "#bd3786"
             ],
             [
              0.5555555555555556,
              "#d8576b"
             ],
             [
              0.6666666666666666,
              "#ed7953"
             ],
             [
              0.7777777777777778,
              "#fb9f3a"
             ],
             [
              0.8888888888888888,
              "#fdca26"
             ],
             [
              1,
              "#f0f921"
             ]
            ],
            "type": "histogram2d"
           }
          ],
          "histogram2dcontour": [
           {
            "colorbar": {
             "outlinewidth": 0,
             "ticks": ""
            },
            "colorscale": [
             [
              0,
              "#0d0887"
             ],
             [
              0.1111111111111111,
              "#46039f"
             ],
             [
              0.2222222222222222,
              "#7201a8"
             ],
             [
              0.3333333333333333,
              "#9c179e"
             ],
             [
              0.4444444444444444,
              "#bd3786"
             ],
             [
              0.5555555555555556,
              "#d8576b"
             ],
             [
              0.6666666666666666,
              "#ed7953"
             ],
             [
              0.7777777777777778,
              "#fb9f3a"
             ],
             [
              0.8888888888888888,
              "#fdca26"
             ],
             [
              1,
              "#f0f921"
             ]
            ],
            "type": "histogram2dcontour"
           }
          ],
          "mesh3d": [
           {
            "colorbar": {
             "outlinewidth": 0,
             "ticks": ""
            },
            "type": "mesh3d"
           }
          ],
          "parcoords": [
           {
            "line": {
             "colorbar": {
              "outlinewidth": 0,
              "ticks": ""
             }
            },
            "type": "parcoords"
           }
          ],
          "pie": [
           {
            "automargin": true,
            "type": "pie"
           }
          ],
          "scatter": [
           {
            "fillpattern": {
             "fillmode": "overlay",
             "size": 10,
             "solidity": 0.2
            },
            "type": "scatter"
           }
          ],
          "scatter3d": [
           {
            "line": {
             "colorbar": {
              "outlinewidth": 0,
              "ticks": ""
             }
            },
            "marker": {
             "colorbar": {
              "outlinewidth": 0,
              "ticks": ""
             }
            },
            "type": "scatter3d"
           }
          ],
          "scattercarpet": [
           {
            "marker": {
             "colorbar": {
              "outlinewidth": 0,
              "ticks": ""
             }
            },
            "type": "scattercarpet"
           }
          ],
          "scattergeo": [
           {
            "marker": {
             "colorbar": {
              "outlinewidth": 0,
              "ticks": ""
             }
            },
            "type": "scattergeo"
           }
          ],
          "scattergl": [
           {
            "marker": {
             "colorbar": {
              "outlinewidth": 0,
              "ticks": ""
             }
            },
            "type": "scattergl"
           }
          ],
          "scattermapbox": [
           {
            "marker": {
             "colorbar": {
              "outlinewidth": 0,
              "ticks": ""
             }
            },
            "type": "scattermapbox"
           }
          ],
          "scatterpolar": [
           {
            "marker": {
             "colorbar": {
              "outlinewidth": 0,
              "ticks": ""
             }
            },
            "type": "scatterpolar"
           }
          ],
          "scatterpolargl": [
           {
            "marker": {
             "colorbar": {
              "outlinewidth": 0,
              "ticks": ""
             }
            },
            "type": "scatterpolargl"
           }
          ],
          "scatterternary": [
           {
            "marker": {
             "colorbar": {
              "outlinewidth": 0,
              "ticks": ""
             }
            },
            "type": "scatterternary"
           }
          ],
          "surface": [
           {
            "colorbar": {
             "outlinewidth": 0,
             "ticks": ""
            },
            "colorscale": [
             [
              0,
              "#0d0887"
             ],
             [
              0.1111111111111111,
              "#46039f"
             ],
             [
              0.2222222222222222,
              "#7201a8"
             ],
             [
              0.3333333333333333,
              "#9c179e"
             ],
             [
              0.4444444444444444,
              "#bd3786"
             ],
             [
              0.5555555555555556,
              "#d8576b"
             ],
             [
              0.6666666666666666,
              "#ed7953"
             ],
             [
              0.7777777777777778,
              "#fb9f3a"
             ],
             [
              0.8888888888888888,
              "#fdca26"
             ],
             [
              1,
              "#f0f921"
             ]
            ],
            "type": "surface"
           }
          ],
          "table": [
           {
            "cells": {
             "fill": {
              "color": "#EBF0F8"
             },
             "line": {
              "color": "white"
             }
            },
            "header": {
             "fill": {
              "color": "#C8D4E3"
             },
             "line": {
              "color": "white"
             }
            },
            "type": "table"
           }
          ]
         },
         "layout": {
          "annotationdefaults": {
           "arrowcolor": "#2a3f5f",
           "arrowhead": 0,
           "arrowwidth": 1
          },
          "autotypenumbers": "strict",
          "coloraxis": {
           "colorbar": {
            "outlinewidth": 0,
            "ticks": ""
           }
          },
          "colorscale": {
           "diverging": [
            [
             0,
             "#8e0152"
            ],
            [
             0.1,
             "#c51b7d"
            ],
            [
             0.2,
             "#de77ae"
            ],
            [
             0.3,
             "#f1b6da"
            ],
            [
             0.4,
             "#fde0ef"
            ],
            [
             0.5,
             "#f7f7f7"
            ],
            [
             0.6,
             "#e6f5d0"
            ],
            [
             0.7,
             "#b8e186"
            ],
            [
             0.8,
             "#7fbc41"
            ],
            [
             0.9,
             "#4d9221"
            ],
            [
             1,
             "#276419"
            ]
           ],
           "sequential": [
            [
             0,
             "#0d0887"
            ],
            [
             0.1111111111111111,
             "#46039f"
            ],
            [
             0.2222222222222222,
             "#7201a8"
            ],
            [
             0.3333333333333333,
             "#9c179e"
            ],
            [
             0.4444444444444444,
             "#bd3786"
            ],
            [
             0.5555555555555556,
             "#d8576b"
            ],
            [
             0.6666666666666666,
             "#ed7953"
            ],
            [
             0.7777777777777778,
             "#fb9f3a"
            ],
            [
             0.8888888888888888,
             "#fdca26"
            ],
            [
             1,
             "#f0f921"
            ]
           ],
           "sequentialminus": [
            [
             0,
             "#0d0887"
            ],
            [
             0.1111111111111111,
             "#46039f"
            ],
            [
             0.2222222222222222,
             "#7201a8"
            ],
            [
             0.3333333333333333,
             "#9c179e"
            ],
            [
             0.4444444444444444,
             "#bd3786"
            ],
            [
             0.5555555555555556,
             "#d8576b"
            ],
            [
             0.6666666666666666,
             "#ed7953"
            ],
            [
             0.7777777777777778,
             "#fb9f3a"
            ],
            [
             0.8888888888888888,
             "#fdca26"
            ],
            [
             1,
             "#f0f921"
            ]
           ]
          },
          "colorway": [
           "#636efa",
           "#EF553B",
           "#00cc96",
           "#ab63fa",
           "#FFA15A",
           "#19d3f3",
           "#FF6692",
           "#B6E880",
           "#FF97FF",
           "#FECB52"
          ],
          "font": {
           "color": "#2a3f5f"
          },
          "geo": {
           "bgcolor": "white",
           "lakecolor": "white",
           "landcolor": "#E5ECF6",
           "showlakes": true,
           "showland": true,
           "subunitcolor": "white"
          },
          "hoverlabel": {
           "align": "left"
          },
          "hovermode": "closest",
          "mapbox": {
           "style": "light"
          },
          "paper_bgcolor": "white",
          "plot_bgcolor": "#E5ECF6",
          "polar": {
           "angularaxis": {
            "gridcolor": "white",
            "linecolor": "white",
            "ticks": ""
           },
           "bgcolor": "#E5ECF6",
           "radialaxis": {
            "gridcolor": "white",
            "linecolor": "white",
            "ticks": ""
           }
          },
          "scene": {
           "xaxis": {
            "backgroundcolor": "#E5ECF6",
            "gridcolor": "white",
            "gridwidth": 2,
            "linecolor": "white",
            "showbackground": true,
            "ticks": "",
            "zerolinecolor": "white"
           },
           "yaxis": {
            "backgroundcolor": "#E5ECF6",
            "gridcolor": "white",
            "gridwidth": 2,
            "linecolor": "white",
            "showbackground": true,
            "ticks": "",
            "zerolinecolor": "white"
           },
           "zaxis": {
            "backgroundcolor": "#E5ECF6",
            "gridcolor": "white",
            "gridwidth": 2,
            "linecolor": "white",
            "showbackground": true,
            "ticks": "",
            "zerolinecolor": "white"
           }
          },
          "shapedefaults": {
           "line": {
            "color": "#2a3f5f"
           }
          },
          "ternary": {
           "aaxis": {
            "gridcolor": "white",
            "linecolor": "white",
            "ticks": ""
           },
           "baxis": {
            "gridcolor": "white",
            "linecolor": "white",
            "ticks": ""
           },
           "bgcolor": "#E5ECF6",
           "caxis": {
            "gridcolor": "white",
            "linecolor": "white",
            "ticks": ""
           }
          },
          "title": {
           "x": 0.05
          },
          "xaxis": {
           "automargin": true,
           "gridcolor": "white",
           "linecolor": "white",
           "ticks": "",
           "title": {
            "standoff": 15
           },
           "zerolinecolor": "white",
           "zerolinewidth": 2
          },
          "yaxis": {
           "automargin": true,
           "gridcolor": "white",
           "linecolor": "white",
           "ticks": "",
           "title": {
            "standoff": 15
           },
           "zerolinecolor": "white",
           "zerolinewidth": 2
          }
         }
        },
        "xaxis": {
         "anchor": "y",
         "domain": [
          0,
          1
         ],
         "title": {
          "text": "x"
         }
        },
        "yaxis": {
         "anchor": "x",
         "domain": [
          0,
          1
         ],
         "title": {
          "text": "y"
         }
        }
       }
      },
      "text/html": [
       "<div>                            <div id=\"a3311e72-5a5a-46ca-9a70-43f49dc98523\" class=\"plotly-graph-div\" style=\"height:525px; width:100%;\"></div>            <script type=\"text/javascript\">                require([\"plotly\"], function(Plotly) {                    window.PLOTLYENV=window.PLOTLYENV || {};                                    if (document.getElementById(\"a3311e72-5a5a-46ca-9a70-43f49dc98523\")) {                    Plotly.newPlot(                        \"a3311e72-5a5a-46ca-9a70-43f49dc98523\",                        [{\"hovertemplate\":\"x=%{x}<br>y=%{y}<extra></extra>\",\"legendgroup\":\"\",\"marker\":{\"color\":\"#636efa\",\"symbol\":\"circle\"},\"mode\":\"markers\",\"name\":\"\",\"orientation\":\"v\",\"showlegend\":false,\"x\":[5.1,4.9,4.7,4.6,5.0,5.4,4.6,5.0,4.4,4.9,5.4,4.8,4.8,4.3,5.8,5.7,5.4,5.1,5.7,5.1,5.4,5.1,4.6,5.1,4.8,5.0,5.0,5.2,5.2,4.7,4.8,5.4,5.2,5.5,4.9,5.0,5.5,4.9,4.4,5.1,5.0,4.5,4.4,5.0,5.1,4.8,5.1,4.6,5.3,5.0,7.0,6.4,6.9,5.5,6.5,5.7,6.3,4.9,6.6,5.2,5.0,5.9,6.0,6.1,5.6,6.7,5.6,5.8,6.2,5.6,5.9,6.1,6.3,6.1,6.4,6.6,6.8,6.7,6.0,5.7,5.5,5.5,5.8,6.0,5.4,6.0,6.7,6.3,5.6,5.5,5.5,6.1,5.8,5.0,5.6,5.7,5.7,6.2,5.1,5.7,6.3,5.8,7.1,6.3,6.5,7.6,4.9,7.3,6.7,7.2,6.5,6.4,6.8,5.7,5.8,6.4,6.5,7.7,7.7,6.0,6.9,5.6,7.7,6.3,6.7,7.2,6.2,6.1,6.4,7.2,7.4,7.9,6.4,6.3,6.1,7.7,6.3,6.4,6.0,6.9,6.7,6.9,5.8,6.8,6.7,6.7,6.3,6.5,6.2,5.9],\"xaxis\":\"x\",\"y\":[3.5,3.0,3.2,3.1,3.6,3.9,3.4,3.4,2.9,3.1,3.7,3.4,3.0,3.0,4.0,4.4,3.9,3.5,3.8,3.8,3.4,3.7,3.6,3.3,3.4,3.0,3.4,3.5,3.4,3.2,3.1,3.4,4.1,4.2,3.1,3.2,3.5,3.6,3.0,3.4,3.5,2.3,3.2,3.5,3.8,3.0,3.8,3.2,3.7,3.3,3.2,3.2,3.1,2.3,2.8,2.8,3.3,2.4,2.9,2.7,2.0,3.0,2.2,2.9,2.9,3.1,3.0,2.7,2.2,2.5,3.2,2.8,2.5,2.8,2.9,3.0,2.8,3.0,2.9,2.6,2.4,2.4,2.7,2.7,3.0,3.4,3.1,2.3,3.0,2.5,2.6,3.0,2.6,2.3,2.7,3.0,2.9,2.9,2.5,2.8,3.3,2.7,3.0,2.9,3.0,3.0,2.5,2.9,2.5,3.6,3.2,2.7,3.0,2.5,2.8,3.2,3.0,3.8,2.6,2.2,3.2,2.8,2.8,2.7,3.3,3.2,2.8,3.0,2.8,3.0,2.8,3.8,2.8,2.8,2.6,3.0,3.4,3.1,3.0,3.1,3.1,3.1,2.7,3.2,3.3,3.0,2.5,3.0,3.4,3.0],\"yaxis\":\"y\",\"type\":\"scatter\"}],                        {\"template\":{\"data\":{\"histogram2dcontour\":[{\"type\":\"histogram2dcontour\",\"colorbar\":{\"outlinewidth\":0,\"ticks\":\"\"},\"colorscale\":[[0.0,\"#0d0887\"],[0.1111111111111111,\"#46039f\"],[0.2222222222222222,\"#7201a8\"],[0.3333333333333333,\"#9c179e\"],[0.4444444444444444,\"#bd3786\"],[0.5555555555555556,\"#d8576b\"],[0.6666666666666666,\"#ed7953\"],[0.7777777777777778,\"#fb9f3a\"],[0.8888888888888888,\"#fdca26\"],[1.0,\"#f0f921\"]]}],\"choropleth\":[{\"type\":\"choropleth\",\"colorbar\":{\"outlinewidth\":0,\"ticks\":\"\"}}],\"histogram2d\":[{\"type\":\"histogram2d\",\"colorbar\":{\"outlinewidth\":0,\"ticks\":\"\"},\"colorscale\":[[0.0,\"#0d0887\"],[0.1111111111111111,\"#46039f\"],[0.2222222222222222,\"#7201a8\"],[0.3333333333333333,\"#9c179e\"],[0.4444444444444444,\"#bd3786\"],[0.5555555555555556,\"#d8576b\"],[0.6666666666666666,\"#ed7953\"],[0.7777777777777778,\"#fb9f3a\"],[0.8888888888888888,\"#fdca26\"],[1.0,\"#f0f921\"]]}],\"heatmap\":[{\"type\":\"heatmap\",\"colorbar\":{\"outlinewidth\":0,\"ticks\":\"\"},\"colorscale\":[[0.0,\"#0d0887\"],[0.1111111111111111,\"#46039f\"],[0.2222222222222222,\"#7201a8\"],[0.3333333333333333,\"#9c179e\"],[0.4444444444444444,\"#bd3786\"],[0.5555555555555556,\"#d8576b\"],[0.6666666666666666,\"#ed7953\"],[0.7777777777777778,\"#fb9f3a\"],[0.8888888888888888,\"#fdca26\"],[1.0,\"#f0f921\"]]}],\"heatmapgl\":[{\"type\":\"heatmapgl\",\"colorbar\":{\"outlinewidth\":0,\"ticks\":\"\"},\"colorscale\":[[0.0,\"#0d0887\"],[0.1111111111111111,\"#46039f\"],[0.2222222222222222,\"#7201a8\"],[0.3333333333333333,\"#9c179e\"],[0.4444444444444444,\"#bd3786\"],[0.5555555555555556,\"#d8576b\"],[0.6666666666666666,\"#ed7953\"],[0.7777777777777778,\"#fb9f3a\"],[0.8888888888888888,\"#fdca26\"],[1.0,\"#f0f921\"]]}],\"contourcarpet\":[{\"type\":\"contourcarpet\",\"colorbar\":{\"outlinewidth\":0,\"ticks\":\"\"}}],\"contour\":[{\"type\":\"contour\",\"colorbar\":{\"outlinewidth\":0,\"ticks\":\"\"},\"colorscale\":[[0.0,\"#0d0887\"],[0.1111111111111111,\"#46039f\"],[0.2222222222222222,\"#7201a8\"],[0.3333333333333333,\"#9c179e\"],[0.4444444444444444,\"#bd3786\"],[0.5555555555555556,\"#d8576b\"],[0.6666666666666666,\"#ed7953\"],[0.7777777777777778,\"#fb9f3a\"],[0.8888888888888888,\"#fdca26\"],[1.0,\"#f0f921\"]]}],\"surface\":[{\"type\":\"surface\",\"colorbar\":{\"outlinewidth\":0,\"ticks\":\"\"},\"colorscale\":[[0.0,\"#0d0887\"],[0.1111111111111111,\"#46039f\"],[0.2222222222222222,\"#7201a8\"],[0.3333333333333333,\"#9c179e\"],[0.4444444444444444,\"#bd3786\"],[0.5555555555555556,\"#d8576b\"],[0.6666666666666666,\"#ed7953\"],[0.7777777777777778,\"#fb9f3a\"],[0.8888888888888888,\"#fdca26\"],[1.0,\"#f0f921\"]]}],\"mesh3d\":[{\"type\":\"mesh3d\",\"colorbar\":{\"outlinewidth\":0,\"ticks\":\"\"}}],\"scatter\":[{\"fillpattern\":{\"fillmode\":\"overlay\",\"size\":10,\"solidity\":0.2},\"type\":\"scatter\"}],\"parcoords\":[{\"type\":\"parcoords\",\"line\":{\"colorbar\":{\"outlinewidth\":0,\"ticks\":\"\"}}}],\"scatterpolargl\":[{\"type\":\"scatterpolargl\",\"marker\":{\"colorbar\":{\"outlinewidth\":0,\"ticks\":\"\"}}}],\"bar\":[{\"error_x\":{\"color\":\"#2a3f5f\"},\"error_y\":{\"color\":\"#2a3f5f\"},\"marker\":{\"line\":{\"color\":\"#E5ECF6\",\"width\":0.5},\"pattern\":{\"fillmode\":\"overlay\",\"size\":10,\"solidity\":0.2}},\"type\":\"bar\"}],\"scattergeo\":[{\"type\":\"scattergeo\",\"marker\":{\"colorbar\":{\"outlinewidth\":0,\"ticks\":\"\"}}}],\"scatterpolar\":[{\"type\":\"scatterpolar\",\"marker\":{\"colorbar\":{\"outlinewidth\":0,\"ticks\":\"\"}}}],\"histogram\":[{\"marker\":{\"pattern\":{\"fillmode\":\"overlay\",\"size\":10,\"solidity\":0.2}},\"type\":\"histogram\"}],\"scattergl\":[{\"type\":\"scattergl\",\"marker\":{\"colorbar\":{\"outlinewidth\":0,\"ticks\":\"\"}}}],\"scatter3d\":[{\"type\":\"scatter3d\",\"line\":{\"colorbar\":{\"outlinewidth\":0,\"ticks\":\"\"}},\"marker\":{\"colorbar\":{\"outlinewidth\":0,\"ticks\":\"\"}}}],\"scattermapbox\":[{\"type\":\"scattermapbox\",\"marker\":{\"colorbar\":{\"outlinewidth\":0,\"ticks\":\"\"}}}],\"scatterternary\":[{\"type\":\"scatterternary\",\"marker\":{\"colorbar\":{\"outlinewidth\":0,\"ticks\":\"\"}}}],\"scattercarpet\":[{\"type\":\"scattercarpet\",\"marker\":{\"colorbar\":{\"outlinewidth\":0,\"ticks\":\"\"}}}],\"carpet\":[{\"aaxis\":{\"endlinecolor\":\"#2a3f5f\",\"gridcolor\":\"white\",\"linecolor\":\"white\",\"minorgridcolor\":\"white\",\"startlinecolor\":\"#2a3f5f\"},\"baxis\":{\"endlinecolor\":\"#2a3f5f\",\"gridcolor\":\"white\",\"linecolor\":\"white\",\"minorgridcolor\":\"white\",\"startlinecolor\":\"#2a3f5f\"},\"type\":\"carpet\"}],\"table\":[{\"cells\":{\"fill\":{\"color\":\"#EBF0F8\"},\"line\":{\"color\":\"white\"}},\"header\":{\"fill\":{\"color\":\"#C8D4E3\"},\"line\":{\"color\":\"white\"}},\"type\":\"table\"}],\"barpolar\":[{\"marker\":{\"line\":{\"color\":\"#E5ECF6\",\"width\":0.5},\"pattern\":{\"fillmode\":\"overlay\",\"size\":10,\"solidity\":0.2}},\"type\":\"barpolar\"}],\"pie\":[{\"automargin\":true,\"type\":\"pie\"}]},\"layout\":{\"autotypenumbers\":\"strict\",\"colorway\":[\"#636efa\",\"#EF553B\",\"#00cc96\",\"#ab63fa\",\"#FFA15A\",\"#19d3f3\",\"#FF6692\",\"#B6E880\",\"#FF97FF\",\"#FECB52\"],\"font\":{\"color\":\"#2a3f5f\"},\"hovermode\":\"closest\",\"hoverlabel\":{\"align\":\"left\"},\"paper_bgcolor\":\"white\",\"plot_bgcolor\":\"#E5ECF6\",\"polar\":{\"bgcolor\":\"#E5ECF6\",\"angularaxis\":{\"gridcolor\":\"white\",\"linecolor\":\"white\",\"ticks\":\"\"},\"radialaxis\":{\"gridcolor\":\"white\",\"linecolor\":\"white\",\"ticks\":\"\"}},\"ternary\":{\"bgcolor\":\"#E5ECF6\",\"aaxis\":{\"gridcolor\":\"white\",\"linecolor\":\"white\",\"ticks\":\"\"},\"baxis\":{\"gridcolor\":\"white\",\"linecolor\":\"white\",\"ticks\":\"\"},\"caxis\":{\"gridcolor\":\"white\",\"linecolor\":\"white\",\"ticks\":\"\"}},\"coloraxis\":{\"colorbar\":{\"outlinewidth\":0,\"ticks\":\"\"}},\"colorscale\":{\"sequential\":[[0.0,\"#0d0887\"],[0.1111111111111111,\"#46039f\"],[0.2222222222222222,\"#7201a8\"],[0.3333333333333333,\"#9c179e\"],[0.4444444444444444,\"#bd3786\"],[0.5555555555555556,\"#d8576b\"],[0.6666666666666666,\"#ed7953\"],[0.7777777777777778,\"#fb9f3a\"],[0.8888888888888888,\"#fdca26\"],[1.0,\"#f0f921\"]],\"sequentialminus\":[[0.0,\"#0d0887\"],[0.1111111111111111,\"#46039f\"],[0.2222222222222222,\"#7201a8\"],[0.3333333333333333,\"#9c179e\"],[0.4444444444444444,\"#bd3786\"],[0.5555555555555556,\"#d8576b\"],[0.6666666666666666,\"#ed7953\"],[0.7777777777777778,\"#fb9f3a\"],[0.8888888888888888,\"#fdca26\"],[1.0,\"#f0f921\"]],\"diverging\":[[0,\"#8e0152\"],[0.1,\"#c51b7d\"],[0.2,\"#de77ae\"],[0.3,\"#f1b6da\"],[0.4,\"#fde0ef\"],[0.5,\"#f7f7f7\"],[0.6,\"#e6f5d0\"],[0.7,\"#b8e186\"],[0.8,\"#7fbc41\"],[0.9,\"#4d9221\"],[1,\"#276419\"]]},\"xaxis\":{\"gridcolor\":\"white\",\"linecolor\":\"white\",\"ticks\":\"\",\"title\":{\"standoff\":15},\"zerolinecolor\":\"white\",\"automargin\":true,\"zerolinewidth\":2},\"yaxis\":{\"gridcolor\":\"white\",\"linecolor\":\"white\",\"ticks\":\"\",\"title\":{\"standoff\":15},\"zerolinecolor\":\"white\",\"automargin\":true,\"zerolinewidth\":2},\"scene\":{\"xaxis\":{\"backgroundcolor\":\"#E5ECF6\",\"gridcolor\":\"white\",\"linecolor\":\"white\",\"showbackground\":true,\"ticks\":\"\",\"zerolinecolor\":\"white\",\"gridwidth\":2},\"yaxis\":{\"backgroundcolor\":\"#E5ECF6\",\"gridcolor\":\"white\",\"linecolor\":\"white\",\"showbackground\":true,\"ticks\":\"\",\"zerolinecolor\":\"white\",\"gridwidth\":2},\"zaxis\":{\"backgroundcolor\":\"#E5ECF6\",\"gridcolor\":\"white\",\"linecolor\":\"white\",\"showbackground\":true,\"ticks\":\"\",\"zerolinecolor\":\"white\",\"gridwidth\":2}},\"shapedefaults\":{\"line\":{\"color\":\"#2a3f5f\"}},\"annotationdefaults\":{\"arrowcolor\":\"#2a3f5f\",\"arrowhead\":0,\"arrowwidth\":1},\"geo\":{\"bgcolor\":\"white\",\"landcolor\":\"#E5ECF6\",\"subunitcolor\":\"white\",\"showland\":true,\"showlakes\":true,\"lakecolor\":\"white\"},\"title\":{\"x\":0.05},\"mapbox\":{\"style\":\"light\"}}},\"xaxis\":{\"anchor\":\"y\",\"domain\":[0.0,1.0],\"title\":{\"text\":\"x\"}},\"yaxis\":{\"anchor\":\"x\",\"domain\":[0.0,1.0],\"title\":{\"text\":\"y\"}},\"legend\":{\"tracegroupgap\":0},\"margin\":{\"t\":60}},                        {\"responsive\": true}                    ).then(function(){\n",
       "                            \n",
       "var gd = document.getElementById('a3311e72-5a5a-46ca-9a70-43f49dc98523');\n",
       "var x = new MutationObserver(function (mutations, observer) {{\n",
       "        var display = window.getComputedStyle(gd).display;\n",
       "        if (!display || display === 'none') {{\n",
       "            console.log([gd, 'removed!']);\n",
       "            Plotly.purge(gd);\n",
       "            observer.disconnect();\n",
       "        }}\n",
       "}});\n",
       "\n",
       "// Listen for the removal of the full notebook cells\n",
       "var notebookContainer = gd.closest('#notebook-container');\n",
       "if (notebookContainer) {{\n",
       "    x.observe(notebookContainer, {childList: true});\n",
       "}}\n",
       "\n",
       "// Listen for the clearing of the current output cell\n",
       "var outputEl = gd.closest('.output');\n",
       "if (outputEl) {{\n",
       "    x.observe(outputEl, {childList: true});\n",
       "}}\n",
       "\n",
       "                        })                };                });            </script>        </div>"
      ]
     },
     "metadata": {},
     "output_type": "display_data"
    }
   ],
   "source": [
    "fig = px.scatter(x=iris_data[:, 0], y=iris_data[:, 1])\n",
    "fig.show()"
   ]
  },
  {
   "cell_type": "code",
   "execution_count": 12,
   "metadata": {},
   "outputs": [],
   "source": [
    "diabetes = sklearn.datasets.load_diabetes()\n",
    "diabetes_data = diabetes['data']\n",
    "diabetes_target = diabetes['target']"
   ]
  },
  {
   "cell_type": "code",
   "execution_count": 26,
   "metadata": {},
   "outputs": [
    {
     "data": {
      "application/vnd.plotly.v1+json": {
       "config": {
        "plotlyServerURL": "https://plot.ly"
       },
       "data": [
        {
         "hovertemplate": "x=%{x}<br>y=%{y}<extra></extra>",
         "legendgroup": "",
         "marker": {
          "color": "#636efa",
          "symbol": "circle"
         },
         "mode": "markers",
         "name": "",
         "orientation": "v",
         "showlegend": false,
         "type": "scatter",
         "x": [
          -0.04340084565202491,
          0.07441156407875721,
          -0.03235593223976409,
          -0.036037570043851025,
          0.008142083605192267,
          0.04127682384197474,
          0.0007788079970183853,
          0.022868634821540033,
          -0.028674294435677143,
          -0.024992656631590206,
          -0.01394774321932938,
          -0.06549067247654655,
          0.04495846164606168,
          -0.002902829807068556,
          0.0817748396869311,
          -0.03971920784793797,
          0.07441156407875721,
          -0.03971920784793797,
          -0.028674294435677143,
          0.0375951860378878,
          0.0007788079970183853,
          0.01550535921336615,
          0.022868634821540033,
          -0.05444575906428573,
          -0.006584467611155497,
          -0.05812739686837268,
          0.026550272625626974,
          0.01182372140927921,
          -0.006584467611155497,
          0.05232173725423556,
          0.022868634821540033,
          0.059685012862409445,
          -0.10230705051741597,
          0.1185912177278005,
          0.008142083605192267,
          0.13331776894414826,
          0.0375951860378878,
          0.030231910429713918,
          -0.02131101882750326,
          -0.01394774321932938,
          -0.024992656631590206,
          0.01550535921336615,
          -0.05812739686837268,
          0.1185912177278005,
          -0.07653558588880739,
          -0.010266105415242439,
          0.0044604458011053266,
          -0.024992656631590206,
          0.04127682384197474,
          -0.07285394808472044,
          -0.002902829807068556,
          -0.028674294435677143,
          0.026550272625626974,
          0.01550535921336615,
          0.05232173725423556,
          0.08545647749101803,
          -0.036037570043851025,
          0.05232173725423556,
          0.18117906039727852,
          0.030231910429713918,
          0.05232173725423556,
          -0.08021722369289432,
          0.059685012862409445,
          -0.01394774321932938,
          -0.002902829807068556,
          -0.05444575906428573,
          -0.07285394808472044,
          -0.01394774321932938,
          -0.010266105415242439,
          -0.01394774321932938,
          0.07072992627467027,
          -0.010266105415242439,
          0.05600337505832251,
          -0.006584467611155497,
          0.04127682384197474,
          -0.02131101882750326,
          -0.05444575906428573,
          0.01550535921336615,
          -0.05444575906428573,
          0.01182372140927921,
          0.05232173725423556,
          -0.02131101882750326,
          0.10018302870736581,
          -0.010266105415242439,
          0.04495846164606168,
          0.01550535921336615,
          -0.03971920784793797,
          0.09650139090327886,
          0.0375951860378878,
          0.06704828847058333,
          0.07809320188284416,
          -0.010266105415242439,
          0.06336665066649638,
          0.06336665066649638,
          0.07072992627467027,
          -0.04340084565202491,
          -0.04340084565202491,
          -0.03235593223976409,
          0.008142083605192267,
          -0.01394774321932938,
          0.030231910429713918,
          0.06336665066649638,
          0.05600337505832251,
          -0.036037570043851025,
          0.022868634821540033,
          -0.01394774321932938,
          0.008142083605192267,
          -0.05812739686837268,
          -0.07285394808472044,
          -0.05444575906428573,
          0.030231910429713918,
          0.06704828847058333,
          -0.002902829807068556,
          -0.04708248345611185,
          -0.024992656631590206,
          -0.04708248345611185,
          -0.02131101882750326,
          -0.04708248345611185,
          -0.03971920784793797,
          0.033913548233800855,
          -0.01762938102341632,
          -0.036037570043851025,
          -0.05444575906428573,
          -0.06180903467245962,
          0.022868634821540033,
          -0.036037570043851025,
          0.04127682384197474,
          0.07809320188284416,
          0.030231910429713918,
          -0.028674294435677143,
          -0.006584467611155497,
          0.01550535921336615,
          0.0007788079970183853,
          -0.002902829807068556,
          0.06336665066649638,
          -0.07285394808472044,
          0.04864009945014862,
          -0.006584467611155497,
          -0.02131101882750326,
          -0.028674294435677143,
          -0.04340084565202491,
          -0.08021722369289432,
          0.0044604458011053266,
          0.07441156407875721,
          -0.05812739686837268,
          0.01182372140927921,
          -0.04340084565202491,
          -0.028674294435677143,
          0.019186997017453092,
          -0.0691723102806335,
          -0.03235593223976409,
          0.05232173725423556,
          -0.06549067247654655,
          -0.01394774321932938,
          -0.002902829807068556,
          -0.002902829807068556,
          0.01182372140927921,
          -0.01394774321932938,
          -0.002902829807068556,
          -0.01394774321932938,
          0.0044604458011053266,
          -0.03971920784793797,
          -0.002902829807068556,
          -0.006584467611155497,
          0.10018302870736581,
          0.04864009945014862,
          -0.01394774321932938,
          -0.036037570043851025,
          -0.05812739686837268,
          -0.04708248345611185,
          0.059685012862409445,
          -0.01762938102341632,
          -0.01762938102341632,
          -0.010266105415242439,
          -0.03971920784793797,
          0.008142083605192267,
          0.008142083605192267,
          -0.06180903467245962,
          0.07072992627467027,
          -0.04340084565202491,
          -0.04708248345611185,
          0.033913548233800855,
          -0.03971920784793797,
          -0.010266105415242439,
          -0.03235593223976409,
          -0.06549067247654655,
          -0.0691723102806335,
          0.04864009945014862,
          0.04495846164606168,
          0.01182372140927921,
          -0.04708248345611185,
          -0.03235593223976409,
          0.033913548233800855,
          -0.03971920784793797,
          -0.010266105415242439,
          -0.03971920784793797,
          0.0375951860378878,
          -0.05444575906428573,
          -0.01394774321932938,
          0.0375951860378878,
          0.05600337505832251,
          0.0375951860378878,
          0.019186997017453092,
          -0.03971920784793797,
          -0.04708248345611185,
          0.0007788079970183853,
          -0.02131101882750326,
          0.026550272625626974,
          -0.028674294435677143,
          -0.07653558588880739,
          0.07072992627467027,
          0.0007788079970183853,
          0.07072992627467027,
          0.026550272625626974,
          0.10386466651145274,
          -0.04340084565202491,
          -0.0691723102806335,
          0.01550535921336615,
          -0.04340084565202491,
          0.008142083605192267,
          0.01182372140927921,
          -0.03235593223976409,
          -0.02131101882750326,
          0.01182372140927921,
          0.0007788079970183853,
          -0.0691723102806335,
          0.030231910429713918,
          0.07441156407875721,
          0.01182372140927921,
          0.04127682384197474,
          0.0007788079970183853,
          0.0044604458011053266,
          -0.03971920784793797,
          0.04864009945014862,
          0.008142083605192267,
          -0.06180903467245962,
          0.01550535921336615,
          0.04495846164606168,
          -0.07653558588880739,
          0.06336665066649638,
          -0.04340084565202491,
          0.008142083605192267,
          -0.01762938102341632,
          -0.010266105415242439,
          0.022868634821540033,
          0.030231910429713918,
          0.05600337505832251,
          0.07072992627467027,
          -0.024992656631590206,
          -0.01762938102341632,
          -0.03235593223976409,
          -0.05812739686837268,
          -0.04340084565202491,
          -0.01762938102341632,
          -0.036037570043851025,
          0.04127682384197474,
          -0.04708248345611185,
          0.05232173725423556,
          -0.0691723102806335,
          -0.026833475533633678,
          0.151725957964583,
          0.17749742259319157,
          -0.02131101882750326,
          0.0044604458011053266,
          -0.050764121260198795,
          0.008142083605192267,
          0.12227285553188745,
          0.0044604458011053266,
          -0.050764121260198795,
          0.15908923357275687,
          0.01550535921336615,
          -0.03971920784793797,
          -0.02131101882750326,
          -0.036037570043851025,
          -0.01394774321932938,
          -0.02131101882750326,
          0.06336665066649638,
          0.06704828847058333,
          -0.05444575906428573,
          0.01550535921336615,
          0.019186997017453092,
          -0.006584467611155497,
          0.01182372140927921,
          0.019186997017453092,
          -0.06180903467245962,
          -0.07653558588880739,
          0.14068104455232217,
          0.019186997017453092,
          0.0375951860378878,
          -0.04340084565202491,
          -0.05444575906428573,
          0.008142083605192267,
          0.07809320188284416,
          0.0007788079970183853,
          -0.03235593223976409,
          0.01182372140927921,
          0.033913548233800855,
          0.0044604458011053266,
          -0.03235593223976409,
          -0.01394774321932938,
          -0.01394774321932938,
          0.030231910429713918,
          -0.002902829807068556,
          0.022868634821540033,
          -0.03971920784793797,
          -0.06549067247654655,
          -0.006584467611155497,
          -0.028674294435677143,
          0.04495846164606168,
          0.033913548233800855,
          -0.01394774321932938,
          -0.02131101882750326,
          0.01550535921336615,
          -0.010266105415242439,
          -0.002902829807068556,
          0.05600337505832251,
          -0.03235593223976409,
          -0.006584467611155497,
          0.06336665066649638,
          0.06336665066649638,
          -0.01762938102341632,
          -0.07653558588880739,
          -0.09126213710515514,
          -0.05444575906428573,
          -0.04340084565202491,
          -0.04340084565202491,
          -0.03971920784793797,
          0.019186997017453092,
          -0.010266105415242439,
          0.019186997017453092,
          -0.06549067247654655,
          -0.03971920784793797,
          -0.05812739686837268,
          -0.05812739686837268,
          -0.006584467611155497,
          0.06336665066649638,
          -0.06180903467245962,
          -0.03971920784793797,
          -0.024992656631590206,
          0.033913548233800855,
          0.019186997017453092,
          -0.03235593223976409,
          -0.03235593223976409,
          0.0375951860378878,
          -0.01394774321932938,
          -0.010266105415242439,
          -0.02131101882750326,
          0.0044604458011053266,
          0.07809320188284416,
          -0.09862541271332903,
          -0.002902829807068556,
          -0.006584467611155497,
          0.1185912177278005,
          0.008142083605192267,
          0.0007788079970183853,
          -0.01394774321932938,
          0.01550535921336615,
          -0.01762938102341632,
          0.04127682384197474,
          -0.024992656631590206,
          -0.006584467611155497,
          0.05232173725423556,
          -0.024992656631590206,
          -0.06549067247654655,
          -0.03971920784793797,
          -0.006584467611155497,
          -0.04340084565202491,
          -0.02131101882750326,
          -0.024992656631590206,
          -0.04340084565202491,
          0.07441156407875721,
          -0.01394774321932938,
          0.026550272625626974,
          -0.002902829807068556,
          0.008142083605192267,
          0.026550272625626974,
          -0.024992656631590206,
          -0.06180903467245962,
          -0.050764121260198795,
          0.022868634821540033,
          -0.01394774321932938,
          -0.03235593223976409,
          -0.04340084565202491,
          0.008142083605192267,
          0.033913548233800855,
          0.0044604458011053266,
          0.05232173725423556,
          -0.028674294435677143,
          -0.02131101882750326,
          0.04864009945014862,
          -0.04708248345611185,
          0.019186997017453092,
          0.01182372140927921,
          0.01550535921336615,
          -0.0691723102806335,
          0.01182372140927921,
          0.019186997017453092,
          -0.01394774321932938,
          -0.002902829807068556,
          -0.01394774321932938,
          0.07072992627467027,
          0.07441156407875721,
          -0.06180903467245962,
          -0.02131101882750326,
          0.008142083605192267,
          -0.0691723102806335,
          0.033913548233800855,
          -0.028674294435677143,
          -0.01762938102341632,
          -0.03971920784793797,
          -0.028674294435677143,
          0.019186997017453092,
          0.01550535921336615,
          0.04864009945014862,
          -0.03235593223976409,
          -0.04340084565202491,
          -0.01762938102341632,
          0.0044604458011053266,
          0.07072992627467027,
          0.01182372140927921,
          -0.04340084565202491,
          -0.04340084565202491,
          0.026550272625626974,
          -0.07285394808472044,
          -0.04708248345611185,
          0.022868634821540033,
          -0.03235593223976409,
          -0.006584467611155497,
          -0.024992656631590206,
          0.05600337505832251,
          -0.028674294435677143,
          0.033913548233800855,
          -0.002902829807068556,
          0.12227285553188745,
          0.030231910429713918,
          -0.01762938102341632,
          0.09281975309919192,
          -0.028674294435677143,
          -0.028674294435677143,
          -0.024992656631590206,
          -0.028674294435677143,
          0.17381578478910462
         ],
         "xaxis": "x",
         "y": [
          -0.01764612515980379,
          -0.092204049626824,
          -0.025930338989472702,
          -0.009361911330134878,
          -0.04664087356364498,
          -0.09634615654165846,
          -0.03835665973397607,
          0.0030644094143684884,
          0.0113486232440374,
          -0.013504018244969336,
          -0.03421455281914162,
          -0.05906719430814835,
          -0.042498766648810526,
          -0.013504018244969336,
          -0.07563562196748617,
          -0.042498766648810526,
          0.027917050903375224,
          -0.0010776975004659671,
          -0.01764612515980379,
          -0.05492508739331389,
          0.015490730158871856,
          -0.01764612515980379,
          -0.013504018244969336,
          0.13561183068907107,
          -0.05492508739331389,
          -0.03421455281914162,
          -0.005219804415300423,
          0.040343371647878594,
          -0.05492508739331389,
          0.05276969239238195,
          -0.009361911330134878,
          -0.042498766648810526,
          0.027917050903375224,
          0.0030644094143684884,
          -0.06735140813781726,
          0.019632837073706312,
          -0.025930338989472702,
          -0.005219804415300423,
          0.02377494398854077,
          0.0030644094143684884,
          0.09419076154072652,
          -0.009361911330134878,
          -0.03421455281914162,
          0.07348022696655424,
          -0.01764612515980379,
          -0.05078298047847944,
          -0.08806194271198954,
          -0.08391983579715509,
          -0.021788232074638245,
          -0.013504018244969336,
          0.007206516329202944,
          -0.021788232074638245,
          -0.013504018244969336,
          0.0486275854775475,
          0.007206516329202944,
          0.007206516329202944,
          -0.01764612515980379,
          -0.06735140813781726,
          -0.05078298047847944,
          0.019632837073706312,
          -0.03421455281914162,
          0.019632837073706312,
          -0.025930338989472702,
          -0.07149351505265171,
          0.0113486232440374,
          0.015490730158871856,
          0.019632837073706312,
          0.0030644094143684884,
          0.0030644094143684884,
          0.019632837073706312,
          0.040343371647878594,
          0.06105390622205087,
          -0.01764612515980379,
          -0.009361911330134878,
          0.07348022696655424,
          0.027917050903375224,
          0.015490730158871856,
          -0.0010776975004659671,
          -0.08391983579715509,
          -0.025930338989472702,
          -0.005219804415300423,
          -0.0010776975004659671,
          -0.07977772888232063,
          -0.042498766648810526,
          -0.1294830118603341,
          -0.07149351505265171,
          -0.03421455281914162,
          -0.03835665973397607,
          0.06933812005171978,
          0.019632837073706312,
          0.0113486232440374,
          0.019632837073706312,
          0.0113486232440374,
          -0.05492508739331389,
          -0.092204049626824,
          -0.005219804415300423,
          0.03205915781820968,
          0.07762233388138869,
          -0.06735140813781726,
          -0.05492508739331389,
          -0.0010776975004659671,
          0.036201264733044136,
          -0.0010776975004659671,
          -0.03007244590430716,
          -0.0632093012229828,
          0.019632837073706312,
          -0.08391983579715509,
          -0.005219804415300423,
          0.040343371647878594,
          0.1066170822852299,
          0.015490730158871856,
          -0.04664087356364498,
          0.0030644094143684884,
          0.09004865462589207,
          0.02377494398854077,
          0.0030644094143684884,
          0.027917050903375224,
          0.13561183068907107,
          0.05691179930721642,
          0.027917050903375224,
          -0.021788232074638245,
          0.0113486232440374,
          0.0486275854775475,
          0.07348022696655424,
          -0.013504018244969336,
          0.007206516329202944,
          -0.05492508739331389,
          -0.09634615654165846,
          -0.07149351505265171,
          0.11904340302973325,
          0.07348022696655424,
          -0.07977772888232063,
          0.02377494398854077,
          -0.03007244590430716,
          -0.04664087356364498,
          0.05691179930721642,
          -0.021788232074638245,
          -0.013504018244969336,
          0.07348022696655424,
          -0.005219804415300423,
          0.015490730158871856,
          0.13146972377423663,
          -0.0010776975004659671,
          -0.042498766648810526,
          0.007206516329202944,
          -0.05078298047847944,
          0.007206516329202944,
          0.040343371647878594,
          -0.0010776975004659671,
          -0.03835665973397607,
          -0.009361911330134878,
          -0.013504018244969336,
          0.07348022696655424,
          0.0113486232440374,
          0.0030644094143684884,
          0.0486275854775475,
          -0.03421455281914162,
          0.027917050903375224,
          -0.05078298047847944,
          -0.01764612515980379,
          -0.04664087356364498,
          0.0859065477110576,
          -0.0010776975004659671,
          0.06105390622205087,
          -0.013504018244969336,
          -0.013504018244969336,
          -0.10463037037132736,
          0.1066170822852299,
          0.12732761685940217,
          0.019632837073706312,
          -0.01764612515980379,
          -0.04664087356364498,
          0.0859065477110576,
          -0.05492508739331389,
          0.007206516329202944,
          0.0030644094143684884,
          0.019632837073706312,
          0.03205915781820968,
          -0.03007244590430716,
          -0.009361911330134878,
          -0.0010776975004659671,
          -0.0632093012229828,
          -0.009361911330134878,
          0.05691179930721642,
          0.03205915781820968,
          -0.01764612515980379,
          -0.03835665973397607,
          -0.10463037037132736,
          -0.009361911330134878,
          -0.025930338989472702,
          -0.005219804415300423,
          -0.009361911330134878,
          -0.05906719430814835,
          0.019632837073706312,
          0.02377494398854077,
          0.02377494398854077,
          0.0113486232440374,
          0.036201264733044136,
          -0.05906719430814835,
          0.007206516329202944,
          0.044485478562713045,
          0.027917050903375224,
          -0.03007244590430716,
          0.027917050903375224,
          0.07762233388138869,
          -0.025930338989472702,
          0.0030644094143684884,
          0.036201264733044136,
          0.11904340302973325,
          -0.013504018244969336,
          -0.05906719430814835,
          -0.021788232074638245,
          0.019632837073706312,
          0.007206516329202944,
          -0.05492508739331389,
          0.1066170822852299,
          0.0486275854775475,
          0.044485478562713045,
          -0.013504018244969336,
          -0.03007244590430716,
          -0.06735140813781726,
          -0.03835665973397607,
          0.019632837073706312,
          -0.05078298047847944,
          -0.009361911330134878,
          0.0030644094143684884,
          -0.05492508739331389,
          0.007206516329202944,
          -0.05078298047847944,
          0.0113486232440374,
          0.06933812005171978,
          0.0113486232440374,
          0.03205915781820968,
          -0.03835665973397607,
          0.05691179930721642,
          0.0486275854775475,
          0.0113486232440374,
          -0.0010776975004659671,
          -0.021788232074638245,
          0.0486275854775475,
          0.019632837073706312,
          0.05691179930721642,
          -0.07149351505265171,
          -0.042498766648810526,
          -0.005219804415300423,
          -0.1294830118603341,
          -0.05906719430814835,
          -0.092204049626824,
          0.040343371647878594,
          0.007206516329202944,
          0.036201264733044136,
          0.040343371647878594,
          -0.03007244590430716,
          0.06933812005171978,
          0.09004865462589207,
          0.007206516329202944,
          0.0113486232440374,
          -0.05078298047847944,
          0.05691179930721642,
          0.007206516329202944,
          -0.01764612515980379,
          0.015490730158871856,
          0.0030644094143684884,
          -0.01764612515980379,
          -0.021788232074638245,
          0.040343371647878594,
          0.0030644094143684884,
          0.027917050903375224,
          0.07348022696655424,
          -0.03835665973397607,
          0.015490730158871856,
          0.007206516329202944,
          -0.092204049626824,
          0.036201264733044136,
          0.015490730158871856,
          0.06933812005171978,
          -0.021788232074638245,
          0.015490730158871856,
          0.03205915781820968,
          -0.025930338989472702,
          -0.01764612515980379,
          0.0030644094143684884,
          0.027917050903375224,
          -0.03007244590430716,
          -0.05492508739331389,
          -0.021788232074638245,
          -0.005219804415300423,
          -0.005219804415300423,
          -0.01764612515980379,
          -0.03421455281914162,
          0.044485478562713045,
          -0.05906719430814835,
          -0.03835665973397607,
          -0.0010776975004659671,
          -0.03421455281914162,
          0.0030644094143684884,
          -0.05906719430814835,
          -0.05492508739331389,
          -0.013504018244969336,
          -0.0010776975004659671,
          0.044485478562713045,
          0.036201264733044136,
          0.027917050903375224,
          -0.021788232074638245,
          -0.013504018244969336,
          -0.06735140813781726,
          -0.013504018244969336,
          0.08176444079622315,
          -0.07977772888232063,
          0.08176444079622315,
          0.03205915781820968,
          0.02377494398854077,
          -0.03007244590430716,
          -0.0010776975004659671,
          -0.03835665973397607,
          -0.0010776975004659671,
          0.040343371647878594,
          0.06933812005171978,
          0.03205915781820968,
          0.06105390622205087,
          0.0030644094143684884,
          0.06105390622205087,
          0.08176444079622315,
          0.05691179930721642,
          0.019632837073706312,
          0.0486275854775475,
          0.027917050903375224,
          -0.005219804415300423,
          0.019632837073706312,
          0.044485478562713045,
          0.015490730158871856,
          -0.005219804415300423,
          0.036201264733044136,
          0.03205915781820968,
          -0.05492508739331389,
          -0.05906719430814835,
          0.05276969239238195,
          0.0030644094143684884,
          -0.05906719430814835,
          0.015490730158871856,
          -0.03007244590430716,
          -0.01764612515980379,
          0.02377494398854077,
          0.007206516329202944,
          -0.03007244590430716,
          -0.0010776975004659671,
          0.015490730158871856,
          -0.03007244590430716,
          -0.0010776975004659671,
          -0.07149351505265171,
          0.13561183068907107,
          -0.042498766648810526,
          -0.03835665973397607,
          0.0030644094143684884,
          0.06105390622205087,
          0.0113486232440374,
          -0.07563562196748617,
          -0.05906719430814835,
          -0.04664087356364498,
          0.06105390622205087,
          0.040343371647878594,
          0.02377494398854077,
          0.040343371647878594,
          0.0113486232440374,
          0.09833286845556097,
          0.09833286845556097,
          0.0486275854775475,
          0.03205915781820968,
          0.08176444079622315,
          0.027917050903375224,
          -0.07563562196748617,
          -0.01764612515980379,
          -0.021788232074638245,
          -0.0010776975004659671,
          -0.07977772888232063,
          0.019632837073706312,
          -0.0010776975004659671,
          -0.0632093012229828,
          -0.03835665973397607,
          0.02377494398854077,
          -0.025930338989472702,
          -0.05492508739331389,
          0.036201264733044136,
          0.007206516329202944,
          -0.03835665973397607,
          -0.013504018244969336,
          0.0030644094143684884,
          -0.07563562196748617,
          -0.03835665973397607,
          -0.08806194271198954,
          0.07348022696655424,
          -0.05078298047847944,
          0.06519601313688532,
          -0.021788232074638245,
          0.007206516329202944,
          -0.05492508739331389,
          -0.03421455281914162,
          0.02377494398854077,
          -0.06735140813781726,
          0.019632837073706312,
          -0.009361911330134878,
          0.040343371647878594,
          0.044485478562713045,
          0.040343371647878594,
          -0.009361911330134878,
          -0.03007244590430716,
          -0.13776722569000302,
          0.019632837073706312,
          0.040343371647878594,
          -0.005219804415300423,
          -0.042498766648810526,
          -0.025930338989472702,
          0.0859065477110576,
          0.019632837073706312,
          0.007206516329202944,
          0.0030644094143684884,
          0.036201264733044136,
          0.0030644094143684884,
          0.007206516329202944,
          -0.005219804415300423,
          0.06105390622205087,
          0.015490730158871856,
          -0.009361911330134878,
          -0.04664087356364498,
          0.02377494398854077,
          -0.05078298047847944,
          0.0859065477110576,
          0.03205915781820968,
          0.13146972377423663,
          -0.03835665973397607,
          -0.01764612515980379,
          -0.0010776975004659671,
          0.1066170822852299,
          -0.009361911330134878,
          0.03205915781820968,
          -0.03835665973397607,
          -0.04664087356364498,
          0.007206516329202944,
          0.044485478562713045,
          0.015490730158871856,
          -0.025930338989472702,
          0.0030644094143684884
         ],
         "yaxis": "y"
        }
       ],
       "layout": {
        "legend": {
         "tracegroupgap": 0
        },
        "margin": {
         "t": 60
        },
        "template": {
         "data": {
          "bar": [
           {
            "error_x": {
             "color": "#2a3f5f"
            },
            "error_y": {
             "color": "#2a3f5f"
            },
            "marker": {
             "line": {
              "color": "#E5ECF6",
              "width": 0.5
             },
             "pattern": {
              "fillmode": "overlay",
              "size": 10,
              "solidity": 0.2
             }
            },
            "type": "bar"
           }
          ],
          "barpolar": [
           {
            "marker": {
             "line": {
              "color": "#E5ECF6",
              "width": 0.5
             },
             "pattern": {
              "fillmode": "overlay",
              "size": 10,
              "solidity": 0.2
             }
            },
            "type": "barpolar"
           }
          ],
          "carpet": [
           {
            "aaxis": {
             "endlinecolor": "#2a3f5f",
             "gridcolor": "white",
             "linecolor": "white",
             "minorgridcolor": "white",
             "startlinecolor": "#2a3f5f"
            },
            "baxis": {
             "endlinecolor": "#2a3f5f",
             "gridcolor": "white",
             "linecolor": "white",
             "minorgridcolor": "white",
             "startlinecolor": "#2a3f5f"
            },
            "type": "carpet"
           }
          ],
          "choropleth": [
           {
            "colorbar": {
             "outlinewidth": 0,
             "ticks": ""
            },
            "type": "choropleth"
           }
          ],
          "contour": [
           {
            "colorbar": {
             "outlinewidth": 0,
             "ticks": ""
            },
            "colorscale": [
             [
              0,
              "#0d0887"
             ],
             [
              0.1111111111111111,
              "#46039f"
             ],
             [
              0.2222222222222222,
              "#7201a8"
             ],
             [
              0.3333333333333333,
              "#9c179e"
             ],
             [
              0.4444444444444444,
              "#bd3786"
             ],
             [
              0.5555555555555556,
              "#d8576b"
             ],
             [
              0.6666666666666666,
              "#ed7953"
             ],
             [
              0.7777777777777778,
              "#fb9f3a"
             ],
             [
              0.8888888888888888,
              "#fdca26"
             ],
             [
              1,
              "#f0f921"
             ]
            ],
            "type": "contour"
           }
          ],
          "contourcarpet": [
           {
            "colorbar": {
             "outlinewidth": 0,
             "ticks": ""
            },
            "type": "contourcarpet"
           }
          ],
          "heatmap": [
           {
            "colorbar": {
             "outlinewidth": 0,
             "ticks": ""
            },
            "colorscale": [
             [
              0,
              "#0d0887"
             ],
             [
              0.1111111111111111,
              "#46039f"
             ],
             [
              0.2222222222222222,
              "#7201a8"
             ],
             [
              0.3333333333333333,
              "#9c179e"
             ],
             [
              0.4444444444444444,
              "#bd3786"
             ],
             [
              0.5555555555555556,
              "#d8576b"
             ],
             [
              0.6666666666666666,
              "#ed7953"
             ],
             [
              0.7777777777777778,
              "#fb9f3a"
             ],
             [
              0.8888888888888888,
              "#fdca26"
             ],
             [
              1,
              "#f0f921"
             ]
            ],
            "type": "heatmap"
           }
          ],
          "heatmapgl": [
           {
            "colorbar": {
             "outlinewidth": 0,
             "ticks": ""
            },
            "colorscale": [
             [
              0,
              "#0d0887"
             ],
             [
              0.1111111111111111,
              "#46039f"
             ],
             [
              0.2222222222222222,
              "#7201a8"
             ],
             [
              0.3333333333333333,
              "#9c179e"
             ],
             [
              0.4444444444444444,
              "#bd3786"
             ],
             [
              0.5555555555555556,
              "#d8576b"
             ],
             [
              0.6666666666666666,
              "#ed7953"
             ],
             [
              0.7777777777777778,
              "#fb9f3a"
             ],
             [
              0.8888888888888888,
              "#fdca26"
             ],
             [
              1,
              "#f0f921"
             ]
            ],
            "type": "heatmapgl"
           }
          ],
          "histogram": [
           {
            "marker": {
             "pattern": {
              "fillmode": "overlay",
              "size": 10,
              "solidity": 0.2
             }
            },
            "type": "histogram"
           }
          ],
          "histogram2d": [
           {
            "colorbar": {
             "outlinewidth": 0,
             "ticks": ""
            },
            "colorscale": [
             [
              0,
              "#0d0887"
             ],
             [
              0.1111111111111111,
              "#46039f"
             ],
             [
              0.2222222222222222,
              "#7201a8"
             ],
             [
              0.3333333333333333,
              "#9c179e"
             ],
             [
              0.4444444444444444,
              "#bd3786"
             ],
             [
              0.5555555555555556,
              "#d8576b"
             ],
             [
              0.6666666666666666,
              "#ed7953"
             ],
             [
              0.7777777777777778,
              "#fb9f3a"
             ],
             [
              0.8888888888888888,
              "#fdca26"
             ],
             [
              1,
              "#f0f921"
             ]
            ],
            "type": "histogram2d"
           }
          ],
          "histogram2dcontour": [
           {
            "colorbar": {
             "outlinewidth": 0,
             "ticks": ""
            },
            "colorscale": [
             [
              0,
              "#0d0887"
             ],
             [
              0.1111111111111111,
              "#46039f"
             ],
             [
              0.2222222222222222,
              "#7201a8"
             ],
             [
              0.3333333333333333,
              "#9c179e"
             ],
             [
              0.4444444444444444,
              "#bd3786"
             ],
             [
              0.5555555555555556,
              "#d8576b"
             ],
             [
              0.6666666666666666,
              "#ed7953"
             ],
             [
              0.7777777777777778,
              "#fb9f3a"
             ],
             [
              0.8888888888888888,
              "#fdca26"
             ],
             [
              1,
              "#f0f921"
             ]
            ],
            "type": "histogram2dcontour"
           }
          ],
          "mesh3d": [
           {
            "colorbar": {
             "outlinewidth": 0,
             "ticks": ""
            },
            "type": "mesh3d"
           }
          ],
          "parcoords": [
           {
            "line": {
             "colorbar": {
              "outlinewidth": 0,
              "ticks": ""
             }
            },
            "type": "parcoords"
           }
          ],
          "pie": [
           {
            "automargin": true,
            "type": "pie"
           }
          ],
          "scatter": [
           {
            "fillpattern": {
             "fillmode": "overlay",
             "size": 10,
             "solidity": 0.2
            },
            "type": "scatter"
           }
          ],
          "scatter3d": [
           {
            "line": {
             "colorbar": {
              "outlinewidth": 0,
              "ticks": ""
             }
            },
            "marker": {
             "colorbar": {
              "outlinewidth": 0,
              "ticks": ""
             }
            },
            "type": "scatter3d"
           }
          ],
          "scattercarpet": [
           {
            "marker": {
             "colorbar": {
              "outlinewidth": 0,
              "ticks": ""
             }
            },
            "type": "scattercarpet"
           }
          ],
          "scattergeo": [
           {
            "marker": {
             "colorbar": {
              "outlinewidth": 0,
              "ticks": ""
             }
            },
            "type": "scattergeo"
           }
          ],
          "scattergl": [
           {
            "marker": {
             "colorbar": {
              "outlinewidth": 0,
              "ticks": ""
             }
            },
            "type": "scattergl"
           }
          ],
          "scattermapbox": [
           {
            "marker": {
             "colorbar": {
              "outlinewidth": 0,
              "ticks": ""
             }
            },
            "type": "scattermapbox"
           }
          ],
          "scatterpolar": [
           {
            "marker": {
             "colorbar": {
              "outlinewidth": 0,
              "ticks": ""
             }
            },
            "type": "scatterpolar"
           }
          ],
          "scatterpolargl": [
           {
            "marker": {
             "colorbar": {
              "outlinewidth": 0,
              "ticks": ""
             }
            },
            "type": "scatterpolargl"
           }
          ],
          "scatterternary": [
           {
            "marker": {
             "colorbar": {
              "outlinewidth": 0,
              "ticks": ""
             }
            },
            "type": "scatterternary"
           }
          ],
          "surface": [
           {
            "colorbar": {
             "outlinewidth": 0,
             "ticks": ""
            },
            "colorscale": [
             [
              0,
              "#0d0887"
             ],
             [
              0.1111111111111111,
              "#46039f"
             ],
             [
              0.2222222222222222,
              "#7201a8"
             ],
             [
              0.3333333333333333,
              "#9c179e"
             ],
             [
              0.4444444444444444,
              "#bd3786"
             ],
             [
              0.5555555555555556,
              "#d8576b"
             ],
             [
              0.6666666666666666,
              "#ed7953"
             ],
             [
              0.7777777777777778,
              "#fb9f3a"
             ],
             [
              0.8888888888888888,
              "#fdca26"
             ],
             [
              1,
              "#f0f921"
             ]
            ],
            "type": "surface"
           }
          ],
          "table": [
           {
            "cells": {
             "fill": {
              "color": "#EBF0F8"
             },
             "line": {
              "color": "white"
             }
            },
            "header": {
             "fill": {
              "color": "#C8D4E3"
             },
             "line": {
              "color": "white"
             }
            },
            "type": "table"
           }
          ]
         },
         "layout": {
          "annotationdefaults": {
           "arrowcolor": "#2a3f5f",
           "arrowhead": 0,
           "arrowwidth": 1
          },
          "autotypenumbers": "strict",
          "coloraxis": {
           "colorbar": {
            "outlinewidth": 0,
            "ticks": ""
           }
          },
          "colorscale": {
           "diverging": [
            [
             0,
             "#8e0152"
            ],
            [
             0.1,
             "#c51b7d"
            ],
            [
             0.2,
             "#de77ae"
            ],
            [
             0.3,
             "#f1b6da"
            ],
            [
             0.4,
             "#fde0ef"
            ],
            [
             0.5,
             "#f7f7f7"
            ],
            [
             0.6,
             "#e6f5d0"
            ],
            [
             0.7,
             "#b8e186"
            ],
            [
             0.8,
             "#7fbc41"
            ],
            [
             0.9,
             "#4d9221"
            ],
            [
             1,
             "#276419"
            ]
           ],
           "sequential": [
            [
             0,
             "#0d0887"
            ],
            [
             0.1111111111111111,
             "#46039f"
            ],
            [
             0.2222222222222222,
             "#7201a8"
            ],
            [
             0.3333333333333333,
             "#9c179e"
            ],
            [
             0.4444444444444444,
             "#bd3786"
            ],
            [
             0.5555555555555556,
             "#d8576b"
            ],
            [
             0.6666666666666666,
             "#ed7953"
            ],
            [
             0.7777777777777778,
             "#fb9f3a"
            ],
            [
             0.8888888888888888,
             "#fdca26"
            ],
            [
             1,
             "#f0f921"
            ]
           ],
           "sequentialminus": [
            [
             0,
             "#0d0887"
            ],
            [
             0.1111111111111111,
             "#46039f"
            ],
            [
             0.2222222222222222,
             "#7201a8"
            ],
            [
             0.3333333333333333,
             "#9c179e"
            ],
            [
             0.4444444444444444,
             "#bd3786"
            ],
            [
             0.5555555555555556,
             "#d8576b"
            ],
            [
             0.6666666666666666,
             "#ed7953"
            ],
            [
             0.7777777777777778,
             "#fb9f3a"
            ],
            [
             0.8888888888888888,
             "#fdca26"
            ],
            [
             1,
             "#f0f921"
            ]
           ]
          },
          "colorway": [
           "#636efa",
           "#EF553B",
           "#00cc96",
           "#ab63fa",
           "#FFA15A",
           "#19d3f3",
           "#FF6692",
           "#B6E880",
           "#FF97FF",
           "#FECB52"
          ],
          "font": {
           "color": "#2a3f5f"
          },
          "geo": {
           "bgcolor": "white",
           "lakecolor": "white",
           "landcolor": "#E5ECF6",
           "showlakes": true,
           "showland": true,
           "subunitcolor": "white"
          },
          "hoverlabel": {
           "align": "left"
          },
          "hovermode": "closest",
          "mapbox": {
           "style": "light"
          },
          "paper_bgcolor": "white",
          "plot_bgcolor": "#E5ECF6",
          "polar": {
           "angularaxis": {
            "gridcolor": "white",
            "linecolor": "white",
            "ticks": ""
           },
           "bgcolor": "#E5ECF6",
           "radialaxis": {
            "gridcolor": "white",
            "linecolor": "white",
            "ticks": ""
           }
          },
          "scene": {
           "xaxis": {
            "backgroundcolor": "#E5ECF6",
            "gridcolor": "white",
            "gridwidth": 2,
            "linecolor": "white",
            "showbackground": true,
            "ticks": "",
            "zerolinecolor": "white"
           },
           "yaxis": {
            "backgroundcolor": "#E5ECF6",
            "gridcolor": "white",
            "gridwidth": 2,
            "linecolor": "white",
            "showbackground": true,
            "ticks": "",
            "zerolinecolor": "white"
           },
           "zaxis": {
            "backgroundcolor": "#E5ECF6",
            "gridcolor": "white",
            "gridwidth": 2,
            "linecolor": "white",
            "showbackground": true,
            "ticks": "",
            "zerolinecolor": "white"
           }
          },
          "shapedefaults": {
           "line": {
            "color": "#2a3f5f"
           }
          },
          "ternary": {
           "aaxis": {
            "gridcolor": "white",
            "linecolor": "white",
            "ticks": ""
           },
           "baxis": {
            "gridcolor": "white",
            "linecolor": "white",
            "ticks": ""
           },
           "bgcolor": "#E5ECF6",
           "caxis": {
            "gridcolor": "white",
            "linecolor": "white",
            "ticks": ""
           }
          },
          "title": {
           "x": 0.05
          },
          "xaxis": {
           "automargin": true,
           "gridcolor": "white",
           "linecolor": "white",
           "ticks": "",
           "title": {
            "standoff": 15
           },
           "zerolinecolor": "white",
           "zerolinewidth": 2
          },
          "yaxis": {
           "automargin": true,
           "gridcolor": "white",
           "linecolor": "white",
           "ticks": "",
           "title": {
            "standoff": 15
           },
           "zerolinecolor": "white",
           "zerolinewidth": 2
          }
         }
        },
        "xaxis": {
         "anchor": "y",
         "domain": [
          0,
          1
         ],
         "title": {
          "text": "x"
         }
        },
        "yaxis": {
         "anchor": "x",
         "domain": [
          0,
          1
         ],
         "title": {
          "text": "y"
         }
        }
       }
      },
      "text/html": [
       "<div>                            <div id=\"7e695e72-12c6-46d3-a88c-a30b89086bbd\" class=\"plotly-graph-div\" style=\"height:525px; width:100%;\"></div>            <script type=\"text/javascript\">                require([\"plotly\"], function(Plotly) {                    window.PLOTLYENV=window.PLOTLYENV || {};                                    if (document.getElementById(\"7e695e72-12c6-46d3-a88c-a30b89086bbd\")) {                    Plotly.newPlot(                        \"7e695e72-12c6-46d3-a88c-a30b89086bbd\",                        [{\"hovertemplate\":\"x=%{x}<br>y=%{y}<extra></extra>\",\"legendgroup\":\"\",\"marker\":{\"color\":\"#636efa\",\"symbol\":\"circle\"},\"mode\":\"markers\",\"name\":\"\",\"orientation\":\"v\",\"showlegend\":false,\"x\":[-0.04340084565202491,0.07441156407875721,-0.03235593223976409,-0.036037570043851025,0.008142083605192267,0.04127682384197474,0.0007788079970183853,0.022868634821540033,-0.028674294435677143,-0.024992656631590206,-0.01394774321932938,-0.06549067247654655,0.04495846164606168,-0.002902829807068556,0.0817748396869311,-0.03971920784793797,0.07441156407875721,-0.03971920784793797,-0.028674294435677143,0.0375951860378878,0.0007788079970183853,0.01550535921336615,0.022868634821540033,-0.05444575906428573,-0.006584467611155497,-0.05812739686837268,0.026550272625626974,0.01182372140927921,-0.006584467611155497,0.05232173725423556,0.022868634821540033,0.059685012862409445,-0.10230705051741597,0.1185912177278005,0.008142083605192267,0.13331776894414826,0.0375951860378878,0.030231910429713918,-0.02131101882750326,-0.01394774321932938,-0.024992656631590206,0.01550535921336615,-0.05812739686837268,0.1185912177278005,-0.07653558588880739,-0.010266105415242439,0.0044604458011053266,-0.024992656631590206,0.04127682384197474,-0.07285394808472044,-0.002902829807068556,-0.028674294435677143,0.026550272625626974,0.01550535921336615,0.05232173725423556,0.08545647749101803,-0.036037570043851025,0.05232173725423556,0.18117906039727852,0.030231910429713918,0.05232173725423556,-0.08021722369289432,0.059685012862409445,-0.01394774321932938,-0.002902829807068556,-0.05444575906428573,-0.07285394808472044,-0.01394774321932938,-0.010266105415242439,-0.01394774321932938,0.07072992627467027,-0.010266105415242439,0.05600337505832251,-0.006584467611155497,0.04127682384197474,-0.02131101882750326,-0.05444575906428573,0.01550535921336615,-0.05444575906428573,0.01182372140927921,0.05232173725423556,-0.02131101882750326,0.10018302870736581,-0.010266105415242439,0.04495846164606168,0.01550535921336615,-0.03971920784793797,0.09650139090327886,0.0375951860378878,0.06704828847058333,0.07809320188284416,-0.010266105415242439,0.06336665066649638,0.06336665066649638,0.07072992627467027,-0.04340084565202491,-0.04340084565202491,-0.03235593223976409,0.008142083605192267,-0.01394774321932938,0.030231910429713918,0.06336665066649638,0.05600337505832251,-0.036037570043851025,0.022868634821540033,-0.01394774321932938,0.008142083605192267,-0.05812739686837268,-0.07285394808472044,-0.05444575906428573,0.030231910429713918,0.06704828847058333,-0.002902829807068556,-0.04708248345611185,-0.024992656631590206,-0.04708248345611185,-0.02131101882750326,-0.04708248345611185,-0.03971920784793797,0.033913548233800855,-0.01762938102341632,-0.036037570043851025,-0.05444575906428573,-0.06180903467245962,0.022868634821540033,-0.036037570043851025,0.04127682384197474,0.07809320188284416,0.030231910429713918,-0.028674294435677143,-0.006584467611155497,0.01550535921336615,0.0007788079970183853,-0.002902829807068556,0.06336665066649638,-0.07285394808472044,0.04864009945014862,-0.006584467611155497,-0.02131101882750326,-0.028674294435677143,-0.04340084565202491,-0.08021722369289432,0.0044604458011053266,0.07441156407875721,-0.05812739686837268,0.01182372140927921,-0.04340084565202491,-0.028674294435677143,0.019186997017453092,-0.0691723102806335,-0.03235593223976409,0.05232173725423556,-0.06549067247654655,-0.01394774321932938,-0.002902829807068556,-0.002902829807068556,0.01182372140927921,-0.01394774321932938,-0.002902829807068556,-0.01394774321932938,0.0044604458011053266,-0.03971920784793797,-0.002902829807068556,-0.006584467611155497,0.10018302870736581,0.04864009945014862,-0.01394774321932938,-0.036037570043851025,-0.05812739686837268,-0.04708248345611185,0.059685012862409445,-0.01762938102341632,-0.01762938102341632,-0.010266105415242439,-0.03971920784793797,0.008142083605192267,0.008142083605192267,-0.06180903467245962,0.07072992627467027,-0.04340084565202491,-0.04708248345611185,0.033913548233800855,-0.03971920784793797,-0.010266105415242439,-0.03235593223976409,-0.06549067247654655,-0.0691723102806335,0.04864009945014862,0.04495846164606168,0.01182372140927921,-0.04708248345611185,-0.03235593223976409,0.033913548233800855,-0.03971920784793797,-0.010266105415242439,-0.03971920784793797,0.0375951860378878,-0.05444575906428573,-0.01394774321932938,0.0375951860378878,0.05600337505832251,0.0375951860378878,0.019186997017453092,-0.03971920784793797,-0.04708248345611185,0.0007788079970183853,-0.02131101882750326,0.026550272625626974,-0.028674294435677143,-0.07653558588880739,0.07072992627467027,0.0007788079970183853,0.07072992627467027,0.026550272625626974,0.10386466651145274,-0.04340084565202491,-0.0691723102806335,0.01550535921336615,-0.04340084565202491,0.008142083605192267,0.01182372140927921,-0.03235593223976409,-0.02131101882750326,0.01182372140927921,0.0007788079970183853,-0.0691723102806335,0.030231910429713918,0.07441156407875721,0.01182372140927921,0.04127682384197474,0.0007788079970183853,0.0044604458011053266,-0.03971920784793797,0.04864009945014862,0.008142083605192267,-0.06180903467245962,0.01550535921336615,0.04495846164606168,-0.07653558588880739,0.06336665066649638,-0.04340084565202491,0.008142083605192267,-0.01762938102341632,-0.010266105415242439,0.022868634821540033,0.030231910429713918,0.05600337505832251,0.07072992627467027,-0.024992656631590206,-0.01762938102341632,-0.03235593223976409,-0.05812739686837268,-0.04340084565202491,-0.01762938102341632,-0.036037570043851025,0.04127682384197474,-0.04708248345611185,0.05232173725423556,-0.0691723102806335,-0.026833475533633678,0.151725957964583,0.17749742259319157,-0.02131101882750326,0.0044604458011053266,-0.050764121260198795,0.008142083605192267,0.12227285553188745,0.0044604458011053266,-0.050764121260198795,0.15908923357275687,0.01550535921336615,-0.03971920784793797,-0.02131101882750326,-0.036037570043851025,-0.01394774321932938,-0.02131101882750326,0.06336665066649638,0.06704828847058333,-0.05444575906428573,0.01550535921336615,0.019186997017453092,-0.006584467611155497,0.01182372140927921,0.019186997017453092,-0.06180903467245962,-0.07653558588880739,0.14068104455232217,0.019186997017453092,0.0375951860378878,-0.04340084565202491,-0.05444575906428573,0.008142083605192267,0.07809320188284416,0.0007788079970183853,-0.03235593223976409,0.01182372140927921,0.033913548233800855,0.0044604458011053266,-0.03235593223976409,-0.01394774321932938,-0.01394774321932938,0.030231910429713918,-0.002902829807068556,0.022868634821540033,-0.03971920784793797,-0.06549067247654655,-0.006584467611155497,-0.028674294435677143,0.04495846164606168,0.033913548233800855,-0.01394774321932938,-0.02131101882750326,0.01550535921336615,-0.010266105415242439,-0.002902829807068556,0.05600337505832251,-0.03235593223976409,-0.006584467611155497,0.06336665066649638,0.06336665066649638,-0.01762938102341632,-0.07653558588880739,-0.09126213710515514,-0.05444575906428573,-0.04340084565202491,-0.04340084565202491,-0.03971920784793797,0.019186997017453092,-0.010266105415242439,0.019186997017453092,-0.06549067247654655,-0.03971920784793797,-0.05812739686837268,-0.05812739686837268,-0.006584467611155497,0.06336665066649638,-0.06180903467245962,-0.03971920784793797,-0.024992656631590206,0.033913548233800855,0.019186997017453092,-0.03235593223976409,-0.03235593223976409,0.0375951860378878,-0.01394774321932938,-0.010266105415242439,-0.02131101882750326,0.0044604458011053266,0.07809320188284416,-0.09862541271332903,-0.002902829807068556,-0.006584467611155497,0.1185912177278005,0.008142083605192267,0.0007788079970183853,-0.01394774321932938,0.01550535921336615,-0.01762938102341632,0.04127682384197474,-0.024992656631590206,-0.006584467611155497,0.05232173725423556,-0.024992656631590206,-0.06549067247654655,-0.03971920784793797,-0.006584467611155497,-0.04340084565202491,-0.02131101882750326,-0.024992656631590206,-0.04340084565202491,0.07441156407875721,-0.01394774321932938,0.026550272625626974,-0.002902829807068556,0.008142083605192267,0.026550272625626974,-0.024992656631590206,-0.06180903467245962,-0.050764121260198795,0.022868634821540033,-0.01394774321932938,-0.03235593223976409,-0.04340084565202491,0.008142083605192267,0.033913548233800855,0.0044604458011053266,0.05232173725423556,-0.028674294435677143,-0.02131101882750326,0.04864009945014862,-0.04708248345611185,0.019186997017453092,0.01182372140927921,0.01550535921336615,-0.0691723102806335,0.01182372140927921,0.019186997017453092,-0.01394774321932938,-0.002902829807068556,-0.01394774321932938,0.07072992627467027,0.07441156407875721,-0.06180903467245962,-0.02131101882750326,0.008142083605192267,-0.0691723102806335,0.033913548233800855,-0.028674294435677143,-0.01762938102341632,-0.03971920784793797,-0.028674294435677143,0.019186997017453092,0.01550535921336615,0.04864009945014862,-0.03235593223976409,-0.04340084565202491,-0.01762938102341632,0.0044604458011053266,0.07072992627467027,0.01182372140927921,-0.04340084565202491,-0.04340084565202491,0.026550272625626974,-0.07285394808472044,-0.04708248345611185,0.022868634821540033,-0.03235593223976409,-0.006584467611155497,-0.024992656631590206,0.05600337505832251,-0.028674294435677143,0.033913548233800855,-0.002902829807068556,0.12227285553188745,0.030231910429713918,-0.01762938102341632,0.09281975309919192,-0.028674294435677143,-0.028674294435677143,-0.024992656631590206,-0.028674294435677143,0.17381578478910462],\"xaxis\":\"x\",\"y\":[-0.01764612515980379,-0.092204049626824,-0.025930338989472702,-0.009361911330134878,-0.04664087356364498,-0.09634615654165846,-0.03835665973397607,0.0030644094143684884,0.0113486232440374,-0.013504018244969336,-0.03421455281914162,-0.05906719430814835,-0.042498766648810526,-0.013504018244969336,-0.07563562196748617,-0.042498766648810526,0.027917050903375224,-0.0010776975004659671,-0.01764612515980379,-0.05492508739331389,0.015490730158871856,-0.01764612515980379,-0.013504018244969336,0.13561183068907107,-0.05492508739331389,-0.03421455281914162,-0.005219804415300423,0.040343371647878594,-0.05492508739331389,0.05276969239238195,-0.009361911330134878,-0.042498766648810526,0.027917050903375224,0.0030644094143684884,-0.06735140813781726,0.019632837073706312,-0.025930338989472702,-0.005219804415300423,0.02377494398854077,0.0030644094143684884,0.09419076154072652,-0.009361911330134878,-0.03421455281914162,0.07348022696655424,-0.01764612515980379,-0.05078298047847944,-0.08806194271198954,-0.08391983579715509,-0.021788232074638245,-0.013504018244969336,0.007206516329202944,-0.021788232074638245,-0.013504018244969336,0.0486275854775475,0.007206516329202944,0.007206516329202944,-0.01764612515980379,-0.06735140813781726,-0.05078298047847944,0.019632837073706312,-0.03421455281914162,0.019632837073706312,-0.025930338989472702,-0.07149351505265171,0.0113486232440374,0.015490730158871856,0.019632837073706312,0.0030644094143684884,0.0030644094143684884,0.019632837073706312,0.040343371647878594,0.06105390622205087,-0.01764612515980379,-0.009361911330134878,0.07348022696655424,0.027917050903375224,0.015490730158871856,-0.0010776975004659671,-0.08391983579715509,-0.025930338989472702,-0.005219804415300423,-0.0010776975004659671,-0.07977772888232063,-0.042498766648810526,-0.1294830118603341,-0.07149351505265171,-0.03421455281914162,-0.03835665973397607,0.06933812005171978,0.019632837073706312,0.0113486232440374,0.019632837073706312,0.0113486232440374,-0.05492508739331389,-0.092204049626824,-0.005219804415300423,0.03205915781820968,0.07762233388138869,-0.06735140813781726,-0.05492508739331389,-0.0010776975004659671,0.036201264733044136,-0.0010776975004659671,-0.03007244590430716,-0.0632093012229828,0.019632837073706312,-0.08391983579715509,-0.005219804415300423,0.040343371647878594,0.1066170822852299,0.015490730158871856,-0.04664087356364498,0.0030644094143684884,0.09004865462589207,0.02377494398854077,0.0030644094143684884,0.027917050903375224,0.13561183068907107,0.05691179930721642,0.027917050903375224,-0.021788232074638245,0.0113486232440374,0.0486275854775475,0.07348022696655424,-0.013504018244969336,0.007206516329202944,-0.05492508739331389,-0.09634615654165846,-0.07149351505265171,0.11904340302973325,0.07348022696655424,-0.07977772888232063,0.02377494398854077,-0.03007244590430716,-0.04664087356364498,0.05691179930721642,-0.021788232074638245,-0.013504018244969336,0.07348022696655424,-0.005219804415300423,0.015490730158871856,0.13146972377423663,-0.0010776975004659671,-0.042498766648810526,0.007206516329202944,-0.05078298047847944,0.007206516329202944,0.040343371647878594,-0.0010776975004659671,-0.03835665973397607,-0.009361911330134878,-0.013504018244969336,0.07348022696655424,0.0113486232440374,0.0030644094143684884,0.0486275854775475,-0.03421455281914162,0.027917050903375224,-0.05078298047847944,-0.01764612515980379,-0.04664087356364498,0.0859065477110576,-0.0010776975004659671,0.06105390622205087,-0.013504018244969336,-0.013504018244969336,-0.10463037037132736,0.1066170822852299,0.12732761685940217,0.019632837073706312,-0.01764612515980379,-0.04664087356364498,0.0859065477110576,-0.05492508739331389,0.007206516329202944,0.0030644094143684884,0.019632837073706312,0.03205915781820968,-0.03007244590430716,-0.009361911330134878,-0.0010776975004659671,-0.0632093012229828,-0.009361911330134878,0.05691179930721642,0.03205915781820968,-0.01764612515980379,-0.03835665973397607,-0.10463037037132736,-0.009361911330134878,-0.025930338989472702,-0.005219804415300423,-0.009361911330134878,-0.05906719430814835,0.019632837073706312,0.02377494398854077,0.02377494398854077,0.0113486232440374,0.036201264733044136,-0.05906719430814835,0.007206516329202944,0.044485478562713045,0.027917050903375224,-0.03007244590430716,0.027917050903375224,0.07762233388138869,-0.025930338989472702,0.0030644094143684884,0.036201264733044136,0.11904340302973325,-0.013504018244969336,-0.05906719430814835,-0.021788232074638245,0.019632837073706312,0.007206516329202944,-0.05492508739331389,0.1066170822852299,0.0486275854775475,0.044485478562713045,-0.013504018244969336,-0.03007244590430716,-0.06735140813781726,-0.03835665973397607,0.019632837073706312,-0.05078298047847944,-0.009361911330134878,0.0030644094143684884,-0.05492508739331389,0.007206516329202944,-0.05078298047847944,0.0113486232440374,0.06933812005171978,0.0113486232440374,0.03205915781820968,-0.03835665973397607,0.05691179930721642,0.0486275854775475,0.0113486232440374,-0.0010776975004659671,-0.021788232074638245,0.0486275854775475,0.019632837073706312,0.05691179930721642,-0.07149351505265171,-0.042498766648810526,-0.005219804415300423,-0.1294830118603341,-0.05906719430814835,-0.092204049626824,0.040343371647878594,0.007206516329202944,0.036201264733044136,0.040343371647878594,-0.03007244590430716,0.06933812005171978,0.09004865462589207,0.007206516329202944,0.0113486232440374,-0.05078298047847944,0.05691179930721642,0.007206516329202944,-0.01764612515980379,0.015490730158871856,0.0030644094143684884,-0.01764612515980379,-0.021788232074638245,0.040343371647878594,0.0030644094143684884,0.027917050903375224,0.07348022696655424,-0.03835665973397607,0.015490730158871856,0.007206516329202944,-0.092204049626824,0.036201264733044136,0.015490730158871856,0.06933812005171978,-0.021788232074638245,0.015490730158871856,0.03205915781820968,-0.025930338989472702,-0.01764612515980379,0.0030644094143684884,0.027917050903375224,-0.03007244590430716,-0.05492508739331389,-0.021788232074638245,-0.005219804415300423,-0.005219804415300423,-0.01764612515980379,-0.03421455281914162,0.044485478562713045,-0.05906719430814835,-0.03835665973397607,-0.0010776975004659671,-0.03421455281914162,0.0030644094143684884,-0.05906719430814835,-0.05492508739331389,-0.013504018244969336,-0.0010776975004659671,0.044485478562713045,0.036201264733044136,0.027917050903375224,-0.021788232074638245,-0.013504018244969336,-0.06735140813781726,-0.013504018244969336,0.08176444079622315,-0.07977772888232063,0.08176444079622315,0.03205915781820968,0.02377494398854077,-0.03007244590430716,-0.0010776975004659671,-0.03835665973397607,-0.0010776975004659671,0.040343371647878594,0.06933812005171978,0.03205915781820968,0.06105390622205087,0.0030644094143684884,0.06105390622205087,0.08176444079622315,0.05691179930721642,0.019632837073706312,0.0486275854775475,0.027917050903375224,-0.005219804415300423,0.019632837073706312,0.044485478562713045,0.015490730158871856,-0.005219804415300423,0.036201264733044136,0.03205915781820968,-0.05492508739331389,-0.05906719430814835,0.05276969239238195,0.0030644094143684884,-0.05906719430814835,0.015490730158871856,-0.03007244590430716,-0.01764612515980379,0.02377494398854077,0.007206516329202944,-0.03007244590430716,-0.0010776975004659671,0.015490730158871856,-0.03007244590430716,-0.0010776975004659671,-0.07149351505265171,0.13561183068907107,-0.042498766648810526,-0.03835665973397607,0.0030644094143684884,0.06105390622205087,0.0113486232440374,-0.07563562196748617,-0.05906719430814835,-0.04664087356364498,0.06105390622205087,0.040343371647878594,0.02377494398854077,0.040343371647878594,0.0113486232440374,0.09833286845556097,0.09833286845556097,0.0486275854775475,0.03205915781820968,0.08176444079622315,0.027917050903375224,-0.07563562196748617,-0.01764612515980379,-0.021788232074638245,-0.0010776975004659671,-0.07977772888232063,0.019632837073706312,-0.0010776975004659671,-0.0632093012229828,-0.03835665973397607,0.02377494398854077,-0.025930338989472702,-0.05492508739331389,0.036201264733044136,0.007206516329202944,-0.03835665973397607,-0.013504018244969336,0.0030644094143684884,-0.07563562196748617,-0.03835665973397607,-0.08806194271198954,0.07348022696655424,-0.05078298047847944,0.06519601313688532,-0.021788232074638245,0.007206516329202944,-0.05492508739331389,-0.03421455281914162,0.02377494398854077,-0.06735140813781726,0.019632837073706312,-0.009361911330134878,0.040343371647878594,0.044485478562713045,0.040343371647878594,-0.009361911330134878,-0.03007244590430716,-0.13776722569000302,0.019632837073706312,0.040343371647878594,-0.005219804415300423,-0.042498766648810526,-0.025930338989472702,0.0859065477110576,0.019632837073706312,0.007206516329202944,0.0030644094143684884,0.036201264733044136,0.0030644094143684884,0.007206516329202944,-0.005219804415300423,0.06105390622205087,0.015490730158871856,-0.009361911330134878,-0.04664087356364498,0.02377494398854077,-0.05078298047847944,0.0859065477110576,0.03205915781820968,0.13146972377423663,-0.03835665973397607,-0.01764612515980379,-0.0010776975004659671,0.1066170822852299,-0.009361911330134878,0.03205915781820968,-0.03835665973397607,-0.04664087356364498,0.007206516329202944,0.044485478562713045,0.015490730158871856,-0.025930338989472702,0.0030644094143684884],\"yaxis\":\"y\",\"type\":\"scatter\"}],                        {\"template\":{\"data\":{\"histogram2dcontour\":[{\"type\":\"histogram2dcontour\",\"colorbar\":{\"outlinewidth\":0,\"ticks\":\"\"},\"colorscale\":[[0.0,\"#0d0887\"],[0.1111111111111111,\"#46039f\"],[0.2222222222222222,\"#7201a8\"],[0.3333333333333333,\"#9c179e\"],[0.4444444444444444,\"#bd3786\"],[0.5555555555555556,\"#d8576b\"],[0.6666666666666666,\"#ed7953\"],[0.7777777777777778,\"#fb9f3a\"],[0.8888888888888888,\"#fdca26\"],[1.0,\"#f0f921\"]]}],\"choropleth\":[{\"type\":\"choropleth\",\"colorbar\":{\"outlinewidth\":0,\"ticks\":\"\"}}],\"histogram2d\":[{\"type\":\"histogram2d\",\"colorbar\":{\"outlinewidth\":0,\"ticks\":\"\"},\"colorscale\":[[0.0,\"#0d0887\"],[0.1111111111111111,\"#46039f\"],[0.2222222222222222,\"#7201a8\"],[0.3333333333333333,\"#9c179e\"],[0.4444444444444444,\"#bd3786\"],[0.5555555555555556,\"#d8576b\"],[0.6666666666666666,\"#ed7953\"],[0.7777777777777778,\"#fb9f3a\"],[0.8888888888888888,\"#fdca26\"],[1.0,\"#f0f921\"]]}],\"heatmap\":[{\"type\":\"heatmap\",\"colorbar\":{\"outlinewidth\":0,\"ticks\":\"\"},\"colorscale\":[[0.0,\"#0d0887\"],[0.1111111111111111,\"#46039f\"],[0.2222222222222222,\"#7201a8\"],[0.3333333333333333,\"#9c179e\"],[0.4444444444444444,\"#bd3786\"],[0.5555555555555556,\"#d8576b\"],[0.6666666666666666,\"#ed7953\"],[0.7777777777777778,\"#fb9f3a\"],[0.8888888888888888,\"#fdca26\"],[1.0,\"#f0f921\"]]}],\"heatmapgl\":[{\"type\":\"heatmapgl\",\"colorbar\":{\"outlinewidth\":0,\"ticks\":\"\"},\"colorscale\":[[0.0,\"#0d0887\"],[0.1111111111111111,\"#46039f\"],[0.2222222222222222,\"#7201a8\"],[0.3333333333333333,\"#9c179e\"],[0.4444444444444444,\"#bd3786\"],[0.5555555555555556,\"#d8576b\"],[0.6666666666666666,\"#ed7953\"],[0.7777777777777778,\"#fb9f3a\"],[0.8888888888888888,\"#fdca26\"],[1.0,\"#f0f921\"]]}],\"contourcarpet\":[{\"type\":\"contourcarpet\",\"colorbar\":{\"outlinewidth\":0,\"ticks\":\"\"}}],\"contour\":[{\"type\":\"contour\",\"colorbar\":{\"outlinewidth\":0,\"ticks\":\"\"},\"colorscale\":[[0.0,\"#0d0887\"],[0.1111111111111111,\"#46039f\"],[0.2222222222222222,\"#7201a8\"],[0.3333333333333333,\"#9c179e\"],[0.4444444444444444,\"#bd3786\"],[0.5555555555555556,\"#d8576b\"],[0.6666666666666666,\"#ed7953\"],[0.7777777777777778,\"#fb9f3a\"],[0.8888888888888888,\"#fdca26\"],[1.0,\"#f0f921\"]]}],\"surface\":[{\"type\":\"surface\",\"colorbar\":{\"outlinewidth\":0,\"ticks\":\"\"},\"colorscale\":[[0.0,\"#0d0887\"],[0.1111111111111111,\"#46039f\"],[0.2222222222222222,\"#7201a8\"],[0.3333333333333333,\"#9c179e\"],[0.4444444444444444,\"#bd3786\"],[0.5555555555555556,\"#d8576b\"],[0.6666666666666666,\"#ed7953\"],[0.7777777777777778,\"#fb9f3a\"],[0.8888888888888888,\"#fdca26\"],[1.0,\"#f0f921\"]]}],\"mesh3d\":[{\"type\":\"mesh3d\",\"colorbar\":{\"outlinewidth\":0,\"ticks\":\"\"}}],\"scatter\":[{\"fillpattern\":{\"fillmode\":\"overlay\",\"size\":10,\"solidity\":0.2},\"type\":\"scatter\"}],\"parcoords\":[{\"type\":\"parcoords\",\"line\":{\"colorbar\":{\"outlinewidth\":0,\"ticks\":\"\"}}}],\"scatterpolargl\":[{\"type\":\"scatterpolargl\",\"marker\":{\"colorbar\":{\"outlinewidth\":0,\"ticks\":\"\"}}}],\"bar\":[{\"error_x\":{\"color\":\"#2a3f5f\"},\"error_y\":{\"color\":\"#2a3f5f\"},\"marker\":{\"line\":{\"color\":\"#E5ECF6\",\"width\":0.5},\"pattern\":{\"fillmode\":\"overlay\",\"size\":10,\"solidity\":0.2}},\"type\":\"bar\"}],\"scattergeo\":[{\"type\":\"scattergeo\",\"marker\":{\"colorbar\":{\"outlinewidth\":0,\"ticks\":\"\"}}}],\"scatterpolar\":[{\"type\":\"scatterpolar\",\"marker\":{\"colorbar\":{\"outlinewidth\":0,\"ticks\":\"\"}}}],\"histogram\":[{\"marker\":{\"pattern\":{\"fillmode\":\"overlay\",\"size\":10,\"solidity\":0.2}},\"type\":\"histogram\"}],\"scattergl\":[{\"type\":\"scattergl\",\"marker\":{\"colorbar\":{\"outlinewidth\":0,\"ticks\":\"\"}}}],\"scatter3d\":[{\"type\":\"scatter3d\",\"line\":{\"colorbar\":{\"outlinewidth\":0,\"ticks\":\"\"}},\"marker\":{\"colorbar\":{\"outlinewidth\":0,\"ticks\":\"\"}}}],\"scattermapbox\":[{\"type\":\"scattermapbox\",\"marker\":{\"colorbar\":{\"outlinewidth\":0,\"ticks\":\"\"}}}],\"scatterternary\":[{\"type\":\"scatterternary\",\"marker\":{\"colorbar\":{\"outlinewidth\":0,\"ticks\":\"\"}}}],\"scattercarpet\":[{\"type\":\"scattercarpet\",\"marker\":{\"colorbar\":{\"outlinewidth\":0,\"ticks\":\"\"}}}],\"carpet\":[{\"aaxis\":{\"endlinecolor\":\"#2a3f5f\",\"gridcolor\":\"white\",\"linecolor\":\"white\",\"minorgridcolor\":\"white\",\"startlinecolor\":\"#2a3f5f\"},\"baxis\":{\"endlinecolor\":\"#2a3f5f\",\"gridcolor\":\"white\",\"linecolor\":\"white\",\"minorgridcolor\":\"white\",\"startlinecolor\":\"#2a3f5f\"},\"type\":\"carpet\"}],\"table\":[{\"cells\":{\"fill\":{\"color\":\"#EBF0F8\"},\"line\":{\"color\":\"white\"}},\"header\":{\"fill\":{\"color\":\"#C8D4E3\"},\"line\":{\"color\":\"white\"}},\"type\":\"table\"}],\"barpolar\":[{\"marker\":{\"line\":{\"color\":\"#E5ECF6\",\"width\":0.5},\"pattern\":{\"fillmode\":\"overlay\",\"size\":10,\"solidity\":0.2}},\"type\":\"barpolar\"}],\"pie\":[{\"automargin\":true,\"type\":\"pie\"}]},\"layout\":{\"autotypenumbers\":\"strict\",\"colorway\":[\"#636efa\",\"#EF553B\",\"#00cc96\",\"#ab63fa\",\"#FFA15A\",\"#19d3f3\",\"#FF6692\",\"#B6E880\",\"#FF97FF\",\"#FECB52\"],\"font\":{\"color\":\"#2a3f5f\"},\"hovermode\":\"closest\",\"hoverlabel\":{\"align\":\"left\"},\"paper_bgcolor\":\"white\",\"plot_bgcolor\":\"#E5ECF6\",\"polar\":{\"bgcolor\":\"#E5ECF6\",\"angularaxis\":{\"gridcolor\":\"white\",\"linecolor\":\"white\",\"ticks\":\"\"},\"radialaxis\":{\"gridcolor\":\"white\",\"linecolor\":\"white\",\"ticks\":\"\"}},\"ternary\":{\"bgcolor\":\"#E5ECF6\",\"aaxis\":{\"gridcolor\":\"white\",\"linecolor\":\"white\",\"ticks\":\"\"},\"baxis\":{\"gridcolor\":\"white\",\"linecolor\":\"white\",\"ticks\":\"\"},\"caxis\":{\"gridcolor\":\"white\",\"linecolor\":\"white\",\"ticks\":\"\"}},\"coloraxis\":{\"colorbar\":{\"outlinewidth\":0,\"ticks\":\"\"}},\"colorscale\":{\"sequential\":[[0.0,\"#0d0887\"],[0.1111111111111111,\"#46039f\"],[0.2222222222222222,\"#7201a8\"],[0.3333333333333333,\"#9c179e\"],[0.4444444444444444,\"#bd3786\"],[0.5555555555555556,\"#d8576b\"],[0.6666666666666666,\"#ed7953\"],[0.7777777777777778,\"#fb9f3a\"],[0.8888888888888888,\"#fdca26\"],[1.0,\"#f0f921\"]],\"sequentialminus\":[[0.0,\"#0d0887\"],[0.1111111111111111,\"#46039f\"],[0.2222222222222222,\"#7201a8\"],[0.3333333333333333,\"#9c179e\"],[0.4444444444444444,\"#bd3786\"],[0.5555555555555556,\"#d8576b\"],[0.6666666666666666,\"#ed7953\"],[0.7777777777777778,\"#fb9f3a\"],[0.8888888888888888,\"#fdca26\"],[1.0,\"#f0f921\"]],\"diverging\":[[0,\"#8e0152\"],[0.1,\"#c51b7d\"],[0.2,\"#de77ae\"],[0.3,\"#f1b6da\"],[0.4,\"#fde0ef\"],[0.5,\"#f7f7f7\"],[0.6,\"#e6f5d0\"],[0.7,\"#b8e186\"],[0.8,\"#7fbc41\"],[0.9,\"#4d9221\"],[1,\"#276419\"]]},\"xaxis\":{\"gridcolor\":\"white\",\"linecolor\":\"white\",\"ticks\":\"\",\"title\":{\"standoff\":15},\"zerolinecolor\":\"white\",\"automargin\":true,\"zerolinewidth\":2},\"yaxis\":{\"gridcolor\":\"white\",\"linecolor\":\"white\",\"ticks\":\"\",\"title\":{\"standoff\":15},\"zerolinecolor\":\"white\",\"automargin\":true,\"zerolinewidth\":2},\"scene\":{\"xaxis\":{\"backgroundcolor\":\"#E5ECF6\",\"gridcolor\":\"white\",\"linecolor\":\"white\",\"showbackground\":true,\"ticks\":\"\",\"zerolinecolor\":\"white\",\"gridwidth\":2},\"yaxis\":{\"backgroundcolor\":\"#E5ECF6\",\"gridcolor\":\"white\",\"linecolor\":\"white\",\"showbackground\":true,\"ticks\":\"\",\"zerolinecolor\":\"white\",\"gridwidth\":2},\"zaxis\":{\"backgroundcolor\":\"#E5ECF6\",\"gridcolor\":\"white\",\"linecolor\":\"white\",\"showbackground\":true,\"ticks\":\"\",\"zerolinecolor\":\"white\",\"gridwidth\":2}},\"shapedefaults\":{\"line\":{\"color\":\"#2a3f5f\"}},\"annotationdefaults\":{\"arrowcolor\":\"#2a3f5f\",\"arrowhead\":0,\"arrowwidth\":1},\"geo\":{\"bgcolor\":\"white\",\"landcolor\":\"#E5ECF6\",\"subunitcolor\":\"white\",\"showland\":true,\"showlakes\":true,\"lakecolor\":\"white\"},\"title\":{\"x\":0.05},\"mapbox\":{\"style\":\"light\"}}},\"xaxis\":{\"anchor\":\"y\",\"domain\":[0.0,1.0],\"title\":{\"text\":\"x\"}},\"yaxis\":{\"anchor\":\"x\",\"domain\":[0.0,1.0],\"title\":{\"text\":\"y\"}},\"legend\":{\"tracegroupgap\":0},\"margin\":{\"t\":60}},                        {\"responsive\": true}                    ).then(function(){\n",
       "                            \n",
       "var gd = document.getElementById('7e695e72-12c6-46d3-a88c-a30b89086bbd');\n",
       "var x = new MutationObserver(function (mutations, observer) {{\n",
       "        var display = window.getComputedStyle(gd).display;\n",
       "        if (!display || display === 'none') {{\n",
       "            console.log([gd, 'removed!']);\n",
       "            Plotly.purge(gd);\n",
       "            observer.disconnect();\n",
       "        }}\n",
       "}});\n",
       "\n",
       "// Listen for the removal of the full notebook cells\n",
       "var notebookContainer = gd.closest('#notebook-container');\n",
       "if (notebookContainer) {{\n",
       "    x.observe(notebookContainer, {childList: true});\n",
       "}}\n",
       "\n",
       "// Listen for the clearing of the current output cell\n",
       "var outputEl = gd.closest('.output');\n",
       "if (outputEl) {{\n",
       "    x.observe(outputEl, {childList: true});\n",
       "}}\n",
       "\n",
       "                        })                };                });            </script>        </div>"
      ]
     },
     "metadata": {},
     "output_type": "display_data"
    }
   ],
   "source": [
    "fig = px.scatter(x=diabetes_data[:, 6], y=diabetes_data[:, 9])\n",
    "fig.show()"
   ]
  },
  {
   "cell_type": "code",
   "execution_count": 33,
   "metadata": {},
   "outputs": [
    {
     "data": {
      "application/vnd.plotly.v1+json": {
       "config": {
        "plotlyServerURL": "https://plot.ly"
       },
       "data": [
        {
         "hovertemplate": "x=%{x}<br>y=%{y}<extra></extra>",
         "legendgroup": "",
         "marker": {
          "color": "#636efa",
          "symbol": "circle"
         },
         "mode": "markers",
         "name": "",
         "orientation": "v",
         "showlegend": false,
         "type": "scatter",
         "x": [
          -0.04340084565202491,
          0.07441156407875721,
          -0.03235593223976409,
          -0.036037570043851025,
          0.008142083605192267,
          0.04127682384197474,
          0.0007788079970183853,
          0.022868634821540033,
          -0.028674294435677143,
          -0.024992656631590206,
          -0.01394774321932938,
          -0.06549067247654655,
          0.04495846164606168,
          -0.002902829807068556,
          0.0817748396869311,
          -0.03971920784793797,
          0.07441156407875721,
          -0.03971920784793797,
          -0.028674294435677143,
          0.0375951860378878,
          0.0007788079970183853,
          0.01550535921336615,
          0.022868634821540033,
          -0.05444575906428573,
          -0.006584467611155497,
          -0.05812739686837268,
          0.026550272625626974,
          0.01182372140927921,
          -0.006584467611155497,
          0.05232173725423556,
          0.022868634821540033,
          0.059685012862409445,
          -0.10230705051741597,
          0.1185912177278005,
          0.008142083605192267,
          0.13331776894414826,
          0.0375951860378878,
          0.030231910429713918,
          -0.02131101882750326,
          -0.01394774321932938,
          -0.024992656631590206,
          0.01550535921336615,
          -0.05812739686837268,
          0.1185912177278005,
          -0.07653558588880739,
          -0.010266105415242439,
          0.0044604458011053266,
          -0.024992656631590206,
          0.04127682384197474,
          -0.07285394808472044,
          -0.002902829807068556,
          -0.028674294435677143,
          0.026550272625626974,
          0.01550535921336615,
          0.05232173725423556,
          0.08545647749101803,
          -0.036037570043851025,
          0.05232173725423556,
          0.18117906039727852,
          0.030231910429713918,
          0.05232173725423556,
          -0.08021722369289432,
          0.059685012862409445,
          -0.01394774321932938,
          -0.002902829807068556,
          -0.05444575906428573,
          -0.07285394808472044,
          -0.01394774321932938,
          -0.010266105415242439,
          -0.01394774321932938,
          0.07072992627467027,
          -0.010266105415242439,
          0.05600337505832251,
          -0.006584467611155497,
          0.04127682384197474,
          -0.02131101882750326,
          -0.05444575906428573,
          0.01550535921336615,
          -0.05444575906428573,
          0.01182372140927921,
          0.05232173725423556,
          -0.02131101882750326,
          0.10018302870736581,
          -0.010266105415242439,
          0.04495846164606168,
          0.01550535921336615,
          -0.03971920784793797,
          0.09650139090327886,
          0.0375951860378878,
          0.06704828847058333,
          0.07809320188284416,
          -0.010266105415242439,
          0.06336665066649638,
          0.06336665066649638,
          0.07072992627467027,
          -0.04340084565202491,
          -0.04340084565202491,
          -0.03235593223976409,
          0.008142083605192267,
          -0.01394774321932938,
          0.030231910429713918,
          0.06336665066649638,
          0.05600337505832251,
          -0.036037570043851025,
          0.022868634821540033,
          -0.01394774321932938,
          0.008142083605192267,
          -0.05812739686837268,
          -0.07285394808472044,
          -0.05444575906428573,
          0.030231910429713918,
          0.06704828847058333,
          -0.002902829807068556,
          -0.04708248345611185,
          -0.024992656631590206,
          -0.04708248345611185,
          -0.02131101882750326,
          -0.04708248345611185,
          -0.03971920784793797,
          0.033913548233800855,
          -0.01762938102341632,
          -0.036037570043851025,
          -0.05444575906428573,
          -0.06180903467245962,
          0.022868634821540033,
          -0.036037570043851025,
          0.04127682384197474,
          0.07809320188284416,
          0.030231910429713918,
          -0.028674294435677143,
          -0.006584467611155497,
          0.01550535921336615,
          0.0007788079970183853,
          -0.002902829807068556,
          0.06336665066649638,
          -0.07285394808472044,
          0.04864009945014862,
          -0.006584467611155497,
          -0.02131101882750326,
          -0.028674294435677143,
          -0.04340084565202491,
          -0.08021722369289432,
          0.0044604458011053266,
          0.07441156407875721,
          -0.05812739686837268,
          0.01182372140927921,
          -0.04340084565202491,
          -0.028674294435677143,
          0.019186997017453092,
          -0.0691723102806335,
          -0.03235593223976409,
          0.05232173725423556,
          -0.06549067247654655,
          -0.01394774321932938,
          -0.002902829807068556,
          -0.002902829807068556,
          0.01182372140927921,
          -0.01394774321932938,
          -0.002902829807068556,
          -0.01394774321932938,
          0.0044604458011053266,
          -0.03971920784793797,
          -0.002902829807068556,
          -0.006584467611155497,
          0.10018302870736581,
          0.04864009945014862,
          -0.01394774321932938,
          -0.036037570043851025,
          -0.05812739686837268,
          -0.04708248345611185,
          0.059685012862409445,
          -0.01762938102341632,
          -0.01762938102341632,
          -0.010266105415242439,
          -0.03971920784793797,
          0.008142083605192267,
          0.008142083605192267,
          -0.06180903467245962,
          0.07072992627467027,
          -0.04340084565202491,
          -0.04708248345611185,
          0.033913548233800855,
          -0.03971920784793797,
          -0.010266105415242439,
          -0.03235593223976409,
          -0.06549067247654655,
          -0.0691723102806335,
          0.04864009945014862,
          0.04495846164606168,
          0.01182372140927921,
          -0.04708248345611185,
          -0.03235593223976409,
          0.033913548233800855,
          -0.03971920784793797,
          -0.010266105415242439,
          -0.03971920784793797,
          0.0375951860378878,
          -0.05444575906428573,
          -0.01394774321932938,
          0.0375951860378878,
          0.05600337505832251,
          0.0375951860378878,
          0.019186997017453092,
          -0.03971920784793797,
          -0.04708248345611185,
          0.0007788079970183853,
          -0.02131101882750326,
          0.026550272625626974,
          -0.028674294435677143,
          -0.07653558588880739,
          0.07072992627467027,
          0.0007788079970183853,
          0.07072992627467027,
          0.026550272625626974,
          0.10386466651145274,
          -0.04340084565202491,
          -0.0691723102806335,
          0.01550535921336615,
          -0.04340084565202491,
          0.008142083605192267,
          0.01182372140927921,
          -0.03235593223976409,
          -0.02131101882750326,
          0.01182372140927921,
          0.0007788079970183853,
          -0.0691723102806335,
          0.030231910429713918,
          0.07441156407875721,
          0.01182372140927921,
          0.04127682384197474,
          0.0007788079970183853,
          0.0044604458011053266,
          -0.03971920784793797,
          0.04864009945014862,
          0.008142083605192267,
          -0.06180903467245962,
          0.01550535921336615,
          0.04495846164606168,
          -0.07653558588880739,
          0.06336665066649638,
          -0.04340084565202491,
          0.008142083605192267,
          -0.01762938102341632,
          -0.010266105415242439,
          0.022868634821540033,
          0.030231910429713918,
          0.05600337505832251,
          0.07072992627467027,
          -0.024992656631590206,
          -0.01762938102341632,
          -0.03235593223976409,
          -0.05812739686837268,
          -0.04340084565202491,
          -0.01762938102341632,
          -0.036037570043851025,
          0.04127682384197474,
          -0.04708248345611185,
          0.05232173725423556,
          -0.0691723102806335,
          -0.026833475533633678,
          0.151725957964583,
          0.17749742259319157,
          -0.02131101882750326,
          0.0044604458011053266,
          -0.050764121260198795,
          0.008142083605192267,
          0.12227285553188745,
          0.0044604458011053266,
          -0.050764121260198795,
          0.15908923357275687,
          0.01550535921336615,
          -0.03971920784793797,
          -0.02131101882750326,
          -0.036037570043851025,
          -0.01394774321932938,
          -0.02131101882750326,
          0.06336665066649638,
          0.06704828847058333,
          -0.05444575906428573,
          0.01550535921336615,
          0.019186997017453092,
          -0.006584467611155497,
          0.01182372140927921,
          0.019186997017453092,
          -0.06180903467245962,
          -0.07653558588880739,
          0.14068104455232217,
          0.019186997017453092,
          0.0375951860378878,
          -0.04340084565202491,
          -0.05444575906428573,
          0.008142083605192267,
          0.07809320188284416,
          0.0007788079970183853,
          -0.03235593223976409,
          0.01182372140927921,
          0.033913548233800855,
          0.0044604458011053266,
          -0.03235593223976409,
          -0.01394774321932938,
          -0.01394774321932938,
          0.030231910429713918,
          -0.002902829807068556,
          0.022868634821540033,
          -0.03971920784793797,
          -0.06549067247654655,
          -0.006584467611155497,
          -0.028674294435677143,
          0.04495846164606168,
          0.033913548233800855,
          -0.01394774321932938,
          -0.02131101882750326,
          0.01550535921336615,
          -0.010266105415242439,
          -0.002902829807068556,
          0.05600337505832251,
          -0.03235593223976409,
          -0.006584467611155497,
          0.06336665066649638,
          0.06336665066649638,
          -0.01762938102341632,
          -0.07653558588880739,
          -0.09126213710515514,
          -0.05444575906428573,
          -0.04340084565202491,
          -0.04340084565202491,
          -0.03971920784793797,
          0.019186997017453092,
          -0.010266105415242439,
          0.019186997017453092,
          -0.06549067247654655,
          -0.03971920784793797,
          -0.05812739686837268,
          -0.05812739686837268,
          -0.006584467611155497,
          0.06336665066649638,
          -0.06180903467245962,
          -0.03971920784793797,
          -0.024992656631590206,
          0.033913548233800855,
          0.019186997017453092,
          -0.03235593223976409,
          -0.03235593223976409,
          0.0375951860378878,
          -0.01394774321932938,
          -0.010266105415242439,
          -0.02131101882750326,
          0.0044604458011053266,
          0.07809320188284416,
          -0.09862541271332903,
          -0.002902829807068556,
          -0.006584467611155497,
          0.1185912177278005,
          0.008142083605192267,
          0.0007788079970183853,
          -0.01394774321932938,
          0.01550535921336615,
          -0.01762938102341632,
          0.04127682384197474,
          -0.024992656631590206,
          -0.006584467611155497,
          0.05232173725423556,
          -0.024992656631590206,
          -0.06549067247654655,
          -0.03971920784793797,
          -0.006584467611155497,
          -0.04340084565202491,
          -0.02131101882750326,
          -0.024992656631590206,
          -0.04340084565202491,
          0.07441156407875721,
          -0.01394774321932938,
          0.026550272625626974,
          -0.002902829807068556,
          0.008142083605192267,
          0.026550272625626974,
          -0.024992656631590206,
          -0.06180903467245962,
          -0.050764121260198795,
          0.022868634821540033,
          -0.01394774321932938,
          -0.03235593223976409,
          -0.04340084565202491,
          0.008142083605192267,
          0.033913548233800855,
          0.0044604458011053266,
          0.05232173725423556,
          -0.028674294435677143,
          -0.02131101882750326,
          0.04864009945014862,
          -0.04708248345611185,
          0.019186997017453092,
          0.01182372140927921,
          0.01550535921336615,
          -0.0691723102806335,
          0.01182372140927921,
          0.019186997017453092,
          -0.01394774321932938,
          -0.002902829807068556,
          -0.01394774321932938,
          0.07072992627467027,
          0.07441156407875721,
          -0.06180903467245962,
          -0.02131101882750326,
          0.008142083605192267,
          -0.0691723102806335,
          0.033913548233800855,
          -0.028674294435677143,
          -0.01762938102341632,
          -0.03971920784793797,
          -0.028674294435677143,
          0.019186997017453092,
          0.01550535921336615,
          0.04864009945014862,
          -0.03235593223976409,
          -0.04340084565202491,
          -0.01762938102341632,
          0.0044604458011053266,
          0.07072992627467027,
          0.01182372140927921,
          -0.04340084565202491,
          -0.04340084565202491,
          0.026550272625626974,
          -0.07285394808472044,
          -0.04708248345611185,
          0.022868634821540033,
          -0.03235593223976409,
          -0.006584467611155497,
          -0.024992656631590206,
          0.05600337505832251,
          -0.028674294435677143,
          0.033913548233800855,
          -0.002902829807068556,
          0.12227285553188745,
          0.030231910429713918,
          -0.01762938102341632,
          0.09281975309919192,
          -0.028674294435677143,
          -0.028674294435677143,
          -0.024992656631590206,
          -0.028674294435677143,
          0.17381578478910462
         ],
         "xaxis": "x",
         "y": [
          0,
          0,
          0,
          0,
          0,
          0,
          0,
          0,
          0,
          0,
          0,
          0,
          0,
          0,
          0,
          0,
          0,
          0,
          0,
          0,
          0,
          0,
          0,
          0,
          0,
          0,
          0,
          0,
          0,
          0,
          0,
          0,
          0,
          0,
          0,
          0,
          0,
          0,
          0,
          0,
          0,
          0,
          0,
          0,
          0,
          0,
          0,
          0,
          0,
          0,
          0,
          0,
          0,
          0,
          0,
          0,
          0,
          0,
          0,
          0,
          0,
          0,
          0,
          0,
          0,
          0,
          0,
          0,
          0,
          0,
          0,
          0,
          0,
          0,
          0,
          0,
          0,
          0,
          0,
          0,
          0,
          0,
          0,
          0,
          0,
          0,
          0,
          0,
          0,
          0,
          0,
          0,
          0,
          0,
          0,
          0,
          0,
          0,
          0,
          0,
          0,
          0,
          0,
          0,
          0,
          0,
          0,
          0,
          0,
          0,
          0,
          0,
          0,
          0,
          0,
          0,
          0,
          0,
          0,
          0,
          0,
          0,
          0,
          0,
          0,
          0,
          0,
          0,
          0,
          0,
          0,
          0,
          0,
          0,
          0,
          0,
          0,
          0,
          0,
          0,
          0,
          0,
          0,
          0,
          0,
          0,
          0,
          0,
          0,
          0,
          0,
          0,
          0,
          0,
          0,
          0,
          0,
          0,
          0,
          0,
          0,
          0,
          0,
          0,
          0,
          0,
          0,
          0,
          0,
          0,
          0,
          0,
          0,
          0,
          0,
          0,
          0,
          0,
          0,
          0,
          0,
          0,
          0,
          0,
          0,
          0,
          0,
          0,
          0,
          0,
          0,
          0,
          0,
          0,
          0,
          0,
          0,
          0,
          0,
          0,
          0,
          0,
          0,
          0,
          0,
          0,
          0,
          0,
          0,
          0,
          0,
          0,
          0,
          0,
          0,
          0,
          0,
          0,
          0,
          0,
          0,
          0,
          0,
          0,
          0,
          0,
          0,
          0,
          0,
          0,
          0,
          0,
          0,
          0,
          0,
          0,
          0,
          0,
          0,
          0,
          0,
          0,
          0,
          0,
          0,
          0,
          0,
          0,
          0,
          0,
          0,
          0,
          0,
          0,
          0,
          0,
          0,
          0,
          0,
          0,
          0,
          0,
          0,
          0,
          0,
          0,
          0,
          0,
          0,
          0,
          0,
          0,
          0,
          0,
          0,
          0,
          0,
          0,
          0,
          0,
          0,
          0,
          0,
          0,
          0,
          0,
          0,
          0,
          0,
          0,
          0,
          0,
          0,
          0,
          0,
          0,
          0,
          0,
          0,
          0,
          0,
          0,
          0,
          0,
          0,
          0,
          0,
          0,
          0,
          0,
          0,
          0,
          0,
          0,
          0,
          0,
          0,
          0,
          0,
          0,
          0,
          0,
          0,
          0,
          0,
          0,
          0,
          0,
          0,
          0,
          0,
          0,
          0,
          0,
          0,
          0,
          0,
          0,
          0,
          0,
          0,
          0,
          0,
          0,
          0,
          0,
          0,
          0,
          0,
          0,
          0,
          0,
          0,
          0,
          0,
          0,
          0,
          0,
          0,
          0,
          0,
          0,
          0,
          0,
          0,
          0,
          0,
          0,
          0,
          0,
          0,
          0,
          0,
          0,
          0,
          0,
          0,
          0,
          0,
          0,
          0,
          0,
          0,
          0,
          0,
          0,
          0,
          0,
          0,
          0,
          0,
          0,
          0,
          0,
          0,
          0,
          0,
          0,
          0,
          0,
          0,
          0,
          0,
          0,
          0,
          0,
          0,
          0,
          0,
          0,
          0,
          0,
          0,
          0,
          0,
          0,
          0,
          0,
          0,
          0,
          0,
          0,
          0,
          0,
          0,
          0,
          0,
          0,
          0,
          0,
          0,
          0,
          0,
          0,
          0,
          0,
          0,
          0,
          0,
          0,
          0,
          0
         ],
         "yaxis": "y"
        }
       ],
       "layout": {
        "height": 200,
        "legend": {
         "tracegroupgap": 0
        },
        "margin": {
         "t": 60
        },
        "template": {
         "data": {
          "bar": [
           {
            "error_x": {
             "color": "#2a3f5f"
            },
            "error_y": {
             "color": "#2a3f5f"
            },
            "marker": {
             "line": {
              "color": "#E5ECF6",
              "width": 0.5
             },
             "pattern": {
              "fillmode": "overlay",
              "size": 10,
              "solidity": 0.2
             }
            },
            "type": "bar"
           }
          ],
          "barpolar": [
           {
            "marker": {
             "line": {
              "color": "#E5ECF6",
              "width": 0.5
             },
             "pattern": {
              "fillmode": "overlay",
              "size": 10,
              "solidity": 0.2
             }
            },
            "type": "barpolar"
           }
          ],
          "carpet": [
           {
            "aaxis": {
             "endlinecolor": "#2a3f5f",
             "gridcolor": "white",
             "linecolor": "white",
             "minorgridcolor": "white",
             "startlinecolor": "#2a3f5f"
            },
            "baxis": {
             "endlinecolor": "#2a3f5f",
             "gridcolor": "white",
             "linecolor": "white",
             "minorgridcolor": "white",
             "startlinecolor": "#2a3f5f"
            },
            "type": "carpet"
           }
          ],
          "choropleth": [
           {
            "colorbar": {
             "outlinewidth": 0,
             "ticks": ""
            },
            "type": "choropleth"
           }
          ],
          "contour": [
           {
            "colorbar": {
             "outlinewidth": 0,
             "ticks": ""
            },
            "colorscale": [
             [
              0,
              "#0d0887"
             ],
             [
              0.1111111111111111,
              "#46039f"
             ],
             [
              0.2222222222222222,
              "#7201a8"
             ],
             [
              0.3333333333333333,
              "#9c179e"
             ],
             [
              0.4444444444444444,
              "#bd3786"
             ],
             [
              0.5555555555555556,
              "#d8576b"
             ],
             [
              0.6666666666666666,
              "#ed7953"
             ],
             [
              0.7777777777777778,
              "#fb9f3a"
             ],
             [
              0.8888888888888888,
              "#fdca26"
             ],
             [
              1,
              "#f0f921"
             ]
            ],
            "type": "contour"
           }
          ],
          "contourcarpet": [
           {
            "colorbar": {
             "outlinewidth": 0,
             "ticks": ""
            },
            "type": "contourcarpet"
           }
          ],
          "heatmap": [
           {
            "colorbar": {
             "outlinewidth": 0,
             "ticks": ""
            },
            "colorscale": [
             [
              0,
              "#0d0887"
             ],
             [
              0.1111111111111111,
              "#46039f"
             ],
             [
              0.2222222222222222,
              "#7201a8"
             ],
             [
              0.3333333333333333,
              "#9c179e"
             ],
             [
              0.4444444444444444,
              "#bd3786"
             ],
             [
              0.5555555555555556,
              "#d8576b"
             ],
             [
              0.6666666666666666,
              "#ed7953"
             ],
             [
              0.7777777777777778,
              "#fb9f3a"
             ],
             [
              0.8888888888888888,
              "#fdca26"
             ],
             [
              1,
              "#f0f921"
             ]
            ],
            "type": "heatmap"
           }
          ],
          "heatmapgl": [
           {
            "colorbar": {
             "outlinewidth": 0,
             "ticks": ""
            },
            "colorscale": [
             [
              0,
              "#0d0887"
             ],
             [
              0.1111111111111111,
              "#46039f"
             ],
             [
              0.2222222222222222,
              "#7201a8"
             ],
             [
              0.3333333333333333,
              "#9c179e"
             ],
             [
              0.4444444444444444,
              "#bd3786"
             ],
             [
              0.5555555555555556,
              "#d8576b"
             ],
             [
              0.6666666666666666,
              "#ed7953"
             ],
             [
              0.7777777777777778,
              "#fb9f3a"
             ],
             [
              0.8888888888888888,
              "#fdca26"
             ],
             [
              1,
              "#f0f921"
             ]
            ],
            "type": "heatmapgl"
           }
          ],
          "histogram": [
           {
            "marker": {
             "pattern": {
              "fillmode": "overlay",
              "size": 10,
              "solidity": 0.2
             }
            },
            "type": "histogram"
           }
          ],
          "histogram2d": [
           {
            "colorbar": {
             "outlinewidth": 0,
             "ticks": ""
            },
            "colorscale": [
             [
              0,
              "#0d0887"
             ],
             [
              0.1111111111111111,
              "#46039f"
             ],
             [
              0.2222222222222222,
              "#7201a8"
             ],
             [
              0.3333333333333333,
              "#9c179e"
             ],
             [
              0.4444444444444444,
              "#bd3786"
             ],
             [
              0.5555555555555556,
              "#d8576b"
             ],
             [
              0.6666666666666666,
              "#ed7953"
             ],
             [
              0.7777777777777778,
              "#fb9f3a"
             ],
             [
              0.8888888888888888,
              "#fdca26"
             ],
             [
              1,
              "#f0f921"
             ]
            ],
            "type": "histogram2d"
           }
          ],
          "histogram2dcontour": [
           {
            "colorbar": {
             "outlinewidth": 0,
             "ticks": ""
            },
            "colorscale": [
             [
              0,
              "#0d0887"
             ],
             [
              0.1111111111111111,
              "#46039f"
             ],
             [
              0.2222222222222222,
              "#7201a8"
             ],
             [
              0.3333333333333333,
              "#9c179e"
             ],
             [
              0.4444444444444444,
              "#bd3786"
             ],
             [
              0.5555555555555556,
              "#d8576b"
             ],
             [
              0.6666666666666666,
              "#ed7953"
             ],
             [
              0.7777777777777778,
              "#fb9f3a"
             ],
             [
              0.8888888888888888,
              "#fdca26"
             ],
             [
              1,
              "#f0f921"
             ]
            ],
            "type": "histogram2dcontour"
           }
          ],
          "mesh3d": [
           {
            "colorbar": {
             "outlinewidth": 0,
             "ticks": ""
            },
            "type": "mesh3d"
           }
          ],
          "parcoords": [
           {
            "line": {
             "colorbar": {
              "outlinewidth": 0,
              "ticks": ""
             }
            },
            "type": "parcoords"
           }
          ],
          "pie": [
           {
            "automargin": true,
            "type": "pie"
           }
          ],
          "scatter": [
           {
            "fillpattern": {
             "fillmode": "overlay",
             "size": 10,
             "solidity": 0.2
            },
            "type": "scatter"
           }
          ],
          "scatter3d": [
           {
            "line": {
             "colorbar": {
              "outlinewidth": 0,
              "ticks": ""
             }
            },
            "marker": {
             "colorbar": {
              "outlinewidth": 0,
              "ticks": ""
             }
            },
            "type": "scatter3d"
           }
          ],
          "scattercarpet": [
           {
            "marker": {
             "colorbar": {
              "outlinewidth": 0,
              "ticks": ""
             }
            },
            "type": "scattercarpet"
           }
          ],
          "scattergeo": [
           {
            "marker": {
             "colorbar": {
              "outlinewidth": 0,
              "ticks": ""
             }
            },
            "type": "scattergeo"
           }
          ],
          "scattergl": [
           {
            "marker": {
             "colorbar": {
              "outlinewidth": 0,
              "ticks": ""
             }
            },
            "type": "scattergl"
           }
          ],
          "scattermapbox": [
           {
            "marker": {
             "colorbar": {
              "outlinewidth": 0,
              "ticks": ""
             }
            },
            "type": "scattermapbox"
           }
          ],
          "scatterpolar": [
           {
            "marker": {
             "colorbar": {
              "outlinewidth": 0,
              "ticks": ""
             }
            },
            "type": "scatterpolar"
           }
          ],
          "scatterpolargl": [
           {
            "marker": {
             "colorbar": {
              "outlinewidth": 0,
              "ticks": ""
             }
            },
            "type": "scatterpolargl"
           }
          ],
          "scatterternary": [
           {
            "marker": {
             "colorbar": {
              "outlinewidth": 0,
              "ticks": ""
             }
            },
            "type": "scatterternary"
           }
          ],
          "surface": [
           {
            "colorbar": {
             "outlinewidth": 0,
             "ticks": ""
            },
            "colorscale": [
             [
              0,
              "#0d0887"
             ],
             [
              0.1111111111111111,
              "#46039f"
             ],
             [
              0.2222222222222222,
              "#7201a8"
             ],
             [
              0.3333333333333333,
              "#9c179e"
             ],
             [
              0.4444444444444444,
              "#bd3786"
             ],
             [
              0.5555555555555556,
              "#d8576b"
             ],
             [
              0.6666666666666666,
              "#ed7953"
             ],
             [
              0.7777777777777778,
              "#fb9f3a"
             ],
             [
              0.8888888888888888,
              "#fdca26"
             ],
             [
              1,
              "#f0f921"
             ]
            ],
            "type": "surface"
           }
          ],
          "table": [
           {
            "cells": {
             "fill": {
              "color": "#EBF0F8"
             },
             "line": {
              "color": "white"
             }
            },
            "header": {
             "fill": {
              "color": "#C8D4E3"
             },
             "line": {
              "color": "white"
             }
            },
            "type": "table"
           }
          ]
         },
         "layout": {
          "annotationdefaults": {
           "arrowcolor": "#2a3f5f",
           "arrowhead": 0,
           "arrowwidth": 1
          },
          "autotypenumbers": "strict",
          "coloraxis": {
           "colorbar": {
            "outlinewidth": 0,
            "ticks": ""
           }
          },
          "colorscale": {
           "diverging": [
            [
             0,
             "#8e0152"
            ],
            [
             0.1,
             "#c51b7d"
            ],
            [
             0.2,
             "#de77ae"
            ],
            [
             0.3,
             "#f1b6da"
            ],
            [
             0.4,
             "#fde0ef"
            ],
            [
             0.5,
             "#f7f7f7"
            ],
            [
             0.6,
             "#e6f5d0"
            ],
            [
             0.7,
             "#b8e186"
            ],
            [
             0.8,
             "#7fbc41"
            ],
            [
             0.9,
             "#4d9221"
            ],
            [
             1,
             "#276419"
            ]
           ],
           "sequential": [
            [
             0,
             "#0d0887"
            ],
            [
             0.1111111111111111,
             "#46039f"
            ],
            [
             0.2222222222222222,
             "#7201a8"
            ],
            [
             0.3333333333333333,
             "#9c179e"
            ],
            [
             0.4444444444444444,
             "#bd3786"
            ],
            [
             0.5555555555555556,
             "#d8576b"
            ],
            [
             0.6666666666666666,
             "#ed7953"
            ],
            [
             0.7777777777777778,
             "#fb9f3a"
            ],
            [
             0.8888888888888888,
             "#fdca26"
            ],
            [
             1,
             "#f0f921"
            ]
           ],
           "sequentialminus": [
            [
             0,
             "#0d0887"
            ],
            [
             0.1111111111111111,
             "#46039f"
            ],
            [
             0.2222222222222222,
             "#7201a8"
            ],
            [
             0.3333333333333333,
             "#9c179e"
            ],
            [
             0.4444444444444444,
             "#bd3786"
            ],
            [
             0.5555555555555556,
             "#d8576b"
            ],
            [
             0.6666666666666666,
             "#ed7953"
            ],
            [
             0.7777777777777778,
             "#fb9f3a"
            ],
            [
             0.8888888888888888,
             "#fdca26"
            ],
            [
             1,
             "#f0f921"
            ]
           ]
          },
          "colorway": [
           "#636efa",
           "#EF553B",
           "#00cc96",
           "#ab63fa",
           "#FFA15A",
           "#19d3f3",
           "#FF6692",
           "#B6E880",
           "#FF97FF",
           "#FECB52"
          ],
          "font": {
           "color": "#2a3f5f"
          },
          "geo": {
           "bgcolor": "white",
           "lakecolor": "white",
           "landcolor": "#E5ECF6",
           "showlakes": true,
           "showland": true,
           "subunitcolor": "white"
          },
          "hoverlabel": {
           "align": "left"
          },
          "hovermode": "closest",
          "mapbox": {
           "style": "light"
          },
          "paper_bgcolor": "white",
          "plot_bgcolor": "#E5ECF6",
          "polar": {
           "angularaxis": {
            "gridcolor": "white",
            "linecolor": "white",
            "ticks": ""
           },
           "bgcolor": "#E5ECF6",
           "radialaxis": {
            "gridcolor": "white",
            "linecolor": "white",
            "ticks": ""
           }
          },
          "scene": {
           "xaxis": {
            "backgroundcolor": "#E5ECF6",
            "gridcolor": "white",
            "gridwidth": 2,
            "linecolor": "white",
            "showbackground": true,
            "ticks": "",
            "zerolinecolor": "white"
           },
           "yaxis": {
            "backgroundcolor": "#E5ECF6",
            "gridcolor": "white",
            "gridwidth": 2,
            "linecolor": "white",
            "showbackground": true,
            "ticks": "",
            "zerolinecolor": "white"
           },
           "zaxis": {
            "backgroundcolor": "#E5ECF6",
            "gridcolor": "white",
            "gridwidth": 2,
            "linecolor": "white",
            "showbackground": true,
            "ticks": "",
            "zerolinecolor": "white"
           }
          },
          "shapedefaults": {
           "line": {
            "color": "#2a3f5f"
           }
          },
          "ternary": {
           "aaxis": {
            "gridcolor": "white",
            "linecolor": "white",
            "ticks": ""
           },
           "baxis": {
            "gridcolor": "white",
            "linecolor": "white",
            "ticks": ""
           },
           "bgcolor": "#E5ECF6",
           "caxis": {
            "gridcolor": "white",
            "linecolor": "white",
            "ticks": ""
           }
          },
          "title": {
           "x": 0.05
          },
          "xaxis": {
           "automargin": true,
           "gridcolor": "white",
           "linecolor": "white",
           "ticks": "",
           "title": {
            "standoff": 15
           },
           "zerolinecolor": "white",
           "zerolinewidth": 2
          },
          "yaxis": {
           "automargin": true,
           "gridcolor": "white",
           "linecolor": "white",
           "ticks": "",
           "title": {
            "standoff": 15
           },
           "zerolinecolor": "white",
           "zerolinewidth": 2
          }
         }
        },
        "xaxis": {
         "anchor": "y",
         "domain": [
          0,
          1
         ],
         "title": {
          "text": "x"
         }
        },
        "yaxis": {
         "anchor": "x",
         "domain": [
          0,
          1
         ],
         "title": {
          "text": "y"
         }
        }
       }
      },
      "text/html": [
       "<div>                            <div id=\"afce0f81-7934-426a-9669-fbadccb13869\" class=\"plotly-graph-div\" style=\"height:200px; width:100%;\"></div>            <script type=\"text/javascript\">                require([\"plotly\"], function(Plotly) {                    window.PLOTLYENV=window.PLOTLYENV || {};                                    if (document.getElementById(\"afce0f81-7934-426a-9669-fbadccb13869\")) {                    Plotly.newPlot(                        \"afce0f81-7934-426a-9669-fbadccb13869\",                        [{\"hovertemplate\":\"x=%{x}<br>y=%{y}<extra></extra>\",\"legendgroup\":\"\",\"marker\":{\"color\":\"#636efa\",\"symbol\":\"circle\"},\"mode\":\"markers\",\"name\":\"\",\"orientation\":\"v\",\"showlegend\":false,\"x\":[-0.04340084565202491,0.07441156407875721,-0.03235593223976409,-0.036037570043851025,0.008142083605192267,0.04127682384197474,0.0007788079970183853,0.022868634821540033,-0.028674294435677143,-0.024992656631590206,-0.01394774321932938,-0.06549067247654655,0.04495846164606168,-0.002902829807068556,0.0817748396869311,-0.03971920784793797,0.07441156407875721,-0.03971920784793797,-0.028674294435677143,0.0375951860378878,0.0007788079970183853,0.01550535921336615,0.022868634821540033,-0.05444575906428573,-0.006584467611155497,-0.05812739686837268,0.026550272625626974,0.01182372140927921,-0.006584467611155497,0.05232173725423556,0.022868634821540033,0.059685012862409445,-0.10230705051741597,0.1185912177278005,0.008142083605192267,0.13331776894414826,0.0375951860378878,0.030231910429713918,-0.02131101882750326,-0.01394774321932938,-0.024992656631590206,0.01550535921336615,-0.05812739686837268,0.1185912177278005,-0.07653558588880739,-0.010266105415242439,0.0044604458011053266,-0.024992656631590206,0.04127682384197474,-0.07285394808472044,-0.002902829807068556,-0.028674294435677143,0.026550272625626974,0.01550535921336615,0.05232173725423556,0.08545647749101803,-0.036037570043851025,0.05232173725423556,0.18117906039727852,0.030231910429713918,0.05232173725423556,-0.08021722369289432,0.059685012862409445,-0.01394774321932938,-0.002902829807068556,-0.05444575906428573,-0.07285394808472044,-0.01394774321932938,-0.010266105415242439,-0.01394774321932938,0.07072992627467027,-0.010266105415242439,0.05600337505832251,-0.006584467611155497,0.04127682384197474,-0.02131101882750326,-0.05444575906428573,0.01550535921336615,-0.05444575906428573,0.01182372140927921,0.05232173725423556,-0.02131101882750326,0.10018302870736581,-0.010266105415242439,0.04495846164606168,0.01550535921336615,-0.03971920784793797,0.09650139090327886,0.0375951860378878,0.06704828847058333,0.07809320188284416,-0.010266105415242439,0.06336665066649638,0.06336665066649638,0.07072992627467027,-0.04340084565202491,-0.04340084565202491,-0.03235593223976409,0.008142083605192267,-0.01394774321932938,0.030231910429713918,0.06336665066649638,0.05600337505832251,-0.036037570043851025,0.022868634821540033,-0.01394774321932938,0.008142083605192267,-0.05812739686837268,-0.07285394808472044,-0.05444575906428573,0.030231910429713918,0.06704828847058333,-0.002902829807068556,-0.04708248345611185,-0.024992656631590206,-0.04708248345611185,-0.02131101882750326,-0.04708248345611185,-0.03971920784793797,0.033913548233800855,-0.01762938102341632,-0.036037570043851025,-0.05444575906428573,-0.06180903467245962,0.022868634821540033,-0.036037570043851025,0.04127682384197474,0.07809320188284416,0.030231910429713918,-0.028674294435677143,-0.006584467611155497,0.01550535921336615,0.0007788079970183853,-0.002902829807068556,0.06336665066649638,-0.07285394808472044,0.04864009945014862,-0.006584467611155497,-0.02131101882750326,-0.028674294435677143,-0.04340084565202491,-0.08021722369289432,0.0044604458011053266,0.07441156407875721,-0.05812739686837268,0.01182372140927921,-0.04340084565202491,-0.028674294435677143,0.019186997017453092,-0.0691723102806335,-0.03235593223976409,0.05232173725423556,-0.06549067247654655,-0.01394774321932938,-0.002902829807068556,-0.002902829807068556,0.01182372140927921,-0.01394774321932938,-0.002902829807068556,-0.01394774321932938,0.0044604458011053266,-0.03971920784793797,-0.002902829807068556,-0.006584467611155497,0.10018302870736581,0.04864009945014862,-0.01394774321932938,-0.036037570043851025,-0.05812739686837268,-0.04708248345611185,0.059685012862409445,-0.01762938102341632,-0.01762938102341632,-0.010266105415242439,-0.03971920784793797,0.008142083605192267,0.008142083605192267,-0.06180903467245962,0.07072992627467027,-0.04340084565202491,-0.04708248345611185,0.033913548233800855,-0.03971920784793797,-0.010266105415242439,-0.03235593223976409,-0.06549067247654655,-0.0691723102806335,0.04864009945014862,0.04495846164606168,0.01182372140927921,-0.04708248345611185,-0.03235593223976409,0.033913548233800855,-0.03971920784793797,-0.010266105415242439,-0.03971920784793797,0.0375951860378878,-0.05444575906428573,-0.01394774321932938,0.0375951860378878,0.05600337505832251,0.0375951860378878,0.019186997017453092,-0.03971920784793797,-0.04708248345611185,0.0007788079970183853,-0.02131101882750326,0.026550272625626974,-0.028674294435677143,-0.07653558588880739,0.07072992627467027,0.0007788079970183853,0.07072992627467027,0.026550272625626974,0.10386466651145274,-0.04340084565202491,-0.0691723102806335,0.01550535921336615,-0.04340084565202491,0.008142083605192267,0.01182372140927921,-0.03235593223976409,-0.02131101882750326,0.01182372140927921,0.0007788079970183853,-0.0691723102806335,0.030231910429713918,0.07441156407875721,0.01182372140927921,0.04127682384197474,0.0007788079970183853,0.0044604458011053266,-0.03971920784793797,0.04864009945014862,0.008142083605192267,-0.06180903467245962,0.01550535921336615,0.04495846164606168,-0.07653558588880739,0.06336665066649638,-0.04340084565202491,0.008142083605192267,-0.01762938102341632,-0.010266105415242439,0.022868634821540033,0.030231910429713918,0.05600337505832251,0.07072992627467027,-0.024992656631590206,-0.01762938102341632,-0.03235593223976409,-0.05812739686837268,-0.04340084565202491,-0.01762938102341632,-0.036037570043851025,0.04127682384197474,-0.04708248345611185,0.05232173725423556,-0.0691723102806335,-0.026833475533633678,0.151725957964583,0.17749742259319157,-0.02131101882750326,0.0044604458011053266,-0.050764121260198795,0.008142083605192267,0.12227285553188745,0.0044604458011053266,-0.050764121260198795,0.15908923357275687,0.01550535921336615,-0.03971920784793797,-0.02131101882750326,-0.036037570043851025,-0.01394774321932938,-0.02131101882750326,0.06336665066649638,0.06704828847058333,-0.05444575906428573,0.01550535921336615,0.019186997017453092,-0.006584467611155497,0.01182372140927921,0.019186997017453092,-0.06180903467245962,-0.07653558588880739,0.14068104455232217,0.019186997017453092,0.0375951860378878,-0.04340084565202491,-0.05444575906428573,0.008142083605192267,0.07809320188284416,0.0007788079970183853,-0.03235593223976409,0.01182372140927921,0.033913548233800855,0.0044604458011053266,-0.03235593223976409,-0.01394774321932938,-0.01394774321932938,0.030231910429713918,-0.002902829807068556,0.022868634821540033,-0.03971920784793797,-0.06549067247654655,-0.006584467611155497,-0.028674294435677143,0.04495846164606168,0.033913548233800855,-0.01394774321932938,-0.02131101882750326,0.01550535921336615,-0.010266105415242439,-0.002902829807068556,0.05600337505832251,-0.03235593223976409,-0.006584467611155497,0.06336665066649638,0.06336665066649638,-0.01762938102341632,-0.07653558588880739,-0.09126213710515514,-0.05444575906428573,-0.04340084565202491,-0.04340084565202491,-0.03971920784793797,0.019186997017453092,-0.010266105415242439,0.019186997017453092,-0.06549067247654655,-0.03971920784793797,-0.05812739686837268,-0.05812739686837268,-0.006584467611155497,0.06336665066649638,-0.06180903467245962,-0.03971920784793797,-0.024992656631590206,0.033913548233800855,0.019186997017453092,-0.03235593223976409,-0.03235593223976409,0.0375951860378878,-0.01394774321932938,-0.010266105415242439,-0.02131101882750326,0.0044604458011053266,0.07809320188284416,-0.09862541271332903,-0.002902829807068556,-0.006584467611155497,0.1185912177278005,0.008142083605192267,0.0007788079970183853,-0.01394774321932938,0.01550535921336615,-0.01762938102341632,0.04127682384197474,-0.024992656631590206,-0.006584467611155497,0.05232173725423556,-0.024992656631590206,-0.06549067247654655,-0.03971920784793797,-0.006584467611155497,-0.04340084565202491,-0.02131101882750326,-0.024992656631590206,-0.04340084565202491,0.07441156407875721,-0.01394774321932938,0.026550272625626974,-0.002902829807068556,0.008142083605192267,0.026550272625626974,-0.024992656631590206,-0.06180903467245962,-0.050764121260198795,0.022868634821540033,-0.01394774321932938,-0.03235593223976409,-0.04340084565202491,0.008142083605192267,0.033913548233800855,0.0044604458011053266,0.05232173725423556,-0.028674294435677143,-0.02131101882750326,0.04864009945014862,-0.04708248345611185,0.019186997017453092,0.01182372140927921,0.01550535921336615,-0.0691723102806335,0.01182372140927921,0.019186997017453092,-0.01394774321932938,-0.002902829807068556,-0.01394774321932938,0.07072992627467027,0.07441156407875721,-0.06180903467245962,-0.02131101882750326,0.008142083605192267,-0.0691723102806335,0.033913548233800855,-0.028674294435677143,-0.01762938102341632,-0.03971920784793797,-0.028674294435677143,0.019186997017453092,0.01550535921336615,0.04864009945014862,-0.03235593223976409,-0.04340084565202491,-0.01762938102341632,0.0044604458011053266,0.07072992627467027,0.01182372140927921,-0.04340084565202491,-0.04340084565202491,0.026550272625626974,-0.07285394808472044,-0.04708248345611185,0.022868634821540033,-0.03235593223976409,-0.006584467611155497,-0.024992656631590206,0.05600337505832251,-0.028674294435677143,0.033913548233800855,-0.002902829807068556,0.12227285553188745,0.030231910429713918,-0.01762938102341632,0.09281975309919192,-0.028674294435677143,-0.028674294435677143,-0.024992656631590206,-0.028674294435677143,0.17381578478910462],\"xaxis\":\"x\",\"y\":[0,0,0,0,0,0,0,0,0,0,0,0,0,0,0,0,0,0,0,0,0,0,0,0,0,0,0,0,0,0,0,0,0,0,0,0,0,0,0,0,0,0,0,0,0,0,0,0,0,0,0,0,0,0,0,0,0,0,0,0,0,0,0,0,0,0,0,0,0,0,0,0,0,0,0,0,0,0,0,0,0,0,0,0,0,0,0,0,0,0,0,0,0,0,0,0,0,0,0,0,0,0,0,0,0,0,0,0,0,0,0,0,0,0,0,0,0,0,0,0,0,0,0,0,0,0,0,0,0,0,0,0,0,0,0,0,0,0,0,0,0,0,0,0,0,0,0,0,0,0,0,0,0,0,0,0,0,0,0,0,0,0,0,0,0,0,0,0,0,0,0,0,0,0,0,0,0,0,0,0,0,0,0,0,0,0,0,0,0,0,0,0,0,0,0,0,0,0,0,0,0,0,0,0,0,0,0,0,0,0,0,0,0,0,0,0,0,0,0,0,0,0,0,0,0,0,0,0,0,0,0,0,0,0,0,0,0,0,0,0,0,0,0,0,0,0,0,0,0,0,0,0,0,0,0,0,0,0,0,0,0,0,0,0,0,0,0,0,0,0,0,0,0,0,0,0,0,0,0,0,0,0,0,0,0,0,0,0,0,0,0,0,0,0,0,0,0,0,0,0,0,0,0,0,0,0,0,0,0,0,0,0,0,0,0,0,0,0,0,0,0,0,0,0,0,0,0,0,0,0,0,0,0,0,0,0,0,0,0,0,0,0,0,0,0,0,0,0,0,0,0,0,0,0,0,0,0,0,0,0,0,0,0,0,0,0,0,0,0,0,0,0,0,0,0,0,0,0,0,0,0,0,0,0,0,0,0,0,0,0,0,0,0,0,0,0,0,0,0,0,0,0,0,0,0,0,0,0,0,0,0,0,0,0,0,0,0,0,0,0,0,0,0,0,0,0,0,0,0,0,0,0,0,0,0,0,0,0,0,0,0,0],\"yaxis\":\"y\",\"type\":\"scatter\"}],                        {\"template\":{\"data\":{\"histogram2dcontour\":[{\"type\":\"histogram2dcontour\",\"colorbar\":{\"outlinewidth\":0,\"ticks\":\"\"},\"colorscale\":[[0.0,\"#0d0887\"],[0.1111111111111111,\"#46039f\"],[0.2222222222222222,\"#7201a8\"],[0.3333333333333333,\"#9c179e\"],[0.4444444444444444,\"#bd3786\"],[0.5555555555555556,\"#d8576b\"],[0.6666666666666666,\"#ed7953\"],[0.7777777777777778,\"#fb9f3a\"],[0.8888888888888888,\"#fdca26\"],[1.0,\"#f0f921\"]]}],\"choropleth\":[{\"type\":\"choropleth\",\"colorbar\":{\"outlinewidth\":0,\"ticks\":\"\"}}],\"histogram2d\":[{\"type\":\"histogram2d\",\"colorbar\":{\"outlinewidth\":0,\"ticks\":\"\"},\"colorscale\":[[0.0,\"#0d0887\"],[0.1111111111111111,\"#46039f\"],[0.2222222222222222,\"#7201a8\"],[0.3333333333333333,\"#9c179e\"],[0.4444444444444444,\"#bd3786\"],[0.5555555555555556,\"#d8576b\"],[0.6666666666666666,\"#ed7953\"],[0.7777777777777778,\"#fb9f3a\"],[0.8888888888888888,\"#fdca26\"],[1.0,\"#f0f921\"]]}],\"heatmap\":[{\"type\":\"heatmap\",\"colorbar\":{\"outlinewidth\":0,\"ticks\":\"\"},\"colorscale\":[[0.0,\"#0d0887\"],[0.1111111111111111,\"#46039f\"],[0.2222222222222222,\"#7201a8\"],[0.3333333333333333,\"#9c179e\"],[0.4444444444444444,\"#bd3786\"],[0.5555555555555556,\"#d8576b\"],[0.6666666666666666,\"#ed7953\"],[0.7777777777777778,\"#fb9f3a\"],[0.8888888888888888,\"#fdca26\"],[1.0,\"#f0f921\"]]}],\"heatmapgl\":[{\"type\":\"heatmapgl\",\"colorbar\":{\"outlinewidth\":0,\"ticks\":\"\"},\"colorscale\":[[0.0,\"#0d0887\"],[0.1111111111111111,\"#46039f\"],[0.2222222222222222,\"#7201a8\"],[0.3333333333333333,\"#9c179e\"],[0.4444444444444444,\"#bd3786\"],[0.5555555555555556,\"#d8576b\"],[0.6666666666666666,\"#ed7953\"],[0.7777777777777778,\"#fb9f3a\"],[0.8888888888888888,\"#fdca26\"],[1.0,\"#f0f921\"]]}],\"contourcarpet\":[{\"type\":\"contourcarpet\",\"colorbar\":{\"outlinewidth\":0,\"ticks\":\"\"}}],\"contour\":[{\"type\":\"contour\",\"colorbar\":{\"outlinewidth\":0,\"ticks\":\"\"},\"colorscale\":[[0.0,\"#0d0887\"],[0.1111111111111111,\"#46039f\"],[0.2222222222222222,\"#7201a8\"],[0.3333333333333333,\"#9c179e\"],[0.4444444444444444,\"#bd3786\"],[0.5555555555555556,\"#d8576b\"],[0.6666666666666666,\"#ed7953\"],[0.7777777777777778,\"#fb9f3a\"],[0.8888888888888888,\"#fdca26\"],[1.0,\"#f0f921\"]]}],\"surface\":[{\"type\":\"surface\",\"colorbar\":{\"outlinewidth\":0,\"ticks\":\"\"},\"colorscale\":[[0.0,\"#0d0887\"],[0.1111111111111111,\"#46039f\"],[0.2222222222222222,\"#7201a8\"],[0.3333333333333333,\"#9c179e\"],[0.4444444444444444,\"#bd3786\"],[0.5555555555555556,\"#d8576b\"],[0.6666666666666666,\"#ed7953\"],[0.7777777777777778,\"#fb9f3a\"],[0.8888888888888888,\"#fdca26\"],[1.0,\"#f0f921\"]]}],\"mesh3d\":[{\"type\":\"mesh3d\",\"colorbar\":{\"outlinewidth\":0,\"ticks\":\"\"}}],\"scatter\":[{\"fillpattern\":{\"fillmode\":\"overlay\",\"size\":10,\"solidity\":0.2},\"type\":\"scatter\"}],\"parcoords\":[{\"type\":\"parcoords\",\"line\":{\"colorbar\":{\"outlinewidth\":0,\"ticks\":\"\"}}}],\"scatterpolargl\":[{\"type\":\"scatterpolargl\",\"marker\":{\"colorbar\":{\"outlinewidth\":0,\"ticks\":\"\"}}}],\"bar\":[{\"error_x\":{\"color\":\"#2a3f5f\"},\"error_y\":{\"color\":\"#2a3f5f\"},\"marker\":{\"line\":{\"color\":\"#E5ECF6\",\"width\":0.5},\"pattern\":{\"fillmode\":\"overlay\",\"size\":10,\"solidity\":0.2}},\"type\":\"bar\"}],\"scattergeo\":[{\"type\":\"scattergeo\",\"marker\":{\"colorbar\":{\"outlinewidth\":0,\"ticks\":\"\"}}}],\"scatterpolar\":[{\"type\":\"scatterpolar\",\"marker\":{\"colorbar\":{\"outlinewidth\":0,\"ticks\":\"\"}}}],\"histogram\":[{\"marker\":{\"pattern\":{\"fillmode\":\"overlay\",\"size\":10,\"solidity\":0.2}},\"type\":\"histogram\"}],\"scattergl\":[{\"type\":\"scattergl\",\"marker\":{\"colorbar\":{\"outlinewidth\":0,\"ticks\":\"\"}}}],\"scatter3d\":[{\"type\":\"scatter3d\",\"line\":{\"colorbar\":{\"outlinewidth\":0,\"ticks\":\"\"}},\"marker\":{\"colorbar\":{\"outlinewidth\":0,\"ticks\":\"\"}}}],\"scattermapbox\":[{\"type\":\"scattermapbox\",\"marker\":{\"colorbar\":{\"outlinewidth\":0,\"ticks\":\"\"}}}],\"scatterternary\":[{\"type\":\"scatterternary\",\"marker\":{\"colorbar\":{\"outlinewidth\":0,\"ticks\":\"\"}}}],\"scattercarpet\":[{\"type\":\"scattercarpet\",\"marker\":{\"colorbar\":{\"outlinewidth\":0,\"ticks\":\"\"}}}],\"carpet\":[{\"aaxis\":{\"endlinecolor\":\"#2a3f5f\",\"gridcolor\":\"white\",\"linecolor\":\"white\",\"minorgridcolor\":\"white\",\"startlinecolor\":\"#2a3f5f\"},\"baxis\":{\"endlinecolor\":\"#2a3f5f\",\"gridcolor\":\"white\",\"linecolor\":\"white\",\"minorgridcolor\":\"white\",\"startlinecolor\":\"#2a3f5f\"},\"type\":\"carpet\"}],\"table\":[{\"cells\":{\"fill\":{\"color\":\"#EBF0F8\"},\"line\":{\"color\":\"white\"}},\"header\":{\"fill\":{\"color\":\"#C8D4E3\"},\"line\":{\"color\":\"white\"}},\"type\":\"table\"}],\"barpolar\":[{\"marker\":{\"line\":{\"color\":\"#E5ECF6\",\"width\":0.5},\"pattern\":{\"fillmode\":\"overlay\",\"size\":10,\"solidity\":0.2}},\"type\":\"barpolar\"}],\"pie\":[{\"automargin\":true,\"type\":\"pie\"}]},\"layout\":{\"autotypenumbers\":\"strict\",\"colorway\":[\"#636efa\",\"#EF553B\",\"#00cc96\",\"#ab63fa\",\"#FFA15A\",\"#19d3f3\",\"#FF6692\",\"#B6E880\",\"#FF97FF\",\"#FECB52\"],\"font\":{\"color\":\"#2a3f5f\"},\"hovermode\":\"closest\",\"hoverlabel\":{\"align\":\"left\"},\"paper_bgcolor\":\"white\",\"plot_bgcolor\":\"#E5ECF6\",\"polar\":{\"bgcolor\":\"#E5ECF6\",\"angularaxis\":{\"gridcolor\":\"white\",\"linecolor\":\"white\",\"ticks\":\"\"},\"radialaxis\":{\"gridcolor\":\"white\",\"linecolor\":\"white\",\"ticks\":\"\"}},\"ternary\":{\"bgcolor\":\"#E5ECF6\",\"aaxis\":{\"gridcolor\":\"white\",\"linecolor\":\"white\",\"ticks\":\"\"},\"baxis\":{\"gridcolor\":\"white\",\"linecolor\":\"white\",\"ticks\":\"\"},\"caxis\":{\"gridcolor\":\"white\",\"linecolor\":\"white\",\"ticks\":\"\"}},\"coloraxis\":{\"colorbar\":{\"outlinewidth\":0,\"ticks\":\"\"}},\"colorscale\":{\"sequential\":[[0.0,\"#0d0887\"],[0.1111111111111111,\"#46039f\"],[0.2222222222222222,\"#7201a8\"],[0.3333333333333333,\"#9c179e\"],[0.4444444444444444,\"#bd3786\"],[0.5555555555555556,\"#d8576b\"],[0.6666666666666666,\"#ed7953\"],[0.7777777777777778,\"#fb9f3a\"],[0.8888888888888888,\"#fdca26\"],[1.0,\"#f0f921\"]],\"sequentialminus\":[[0.0,\"#0d0887\"],[0.1111111111111111,\"#46039f\"],[0.2222222222222222,\"#7201a8\"],[0.3333333333333333,\"#9c179e\"],[0.4444444444444444,\"#bd3786\"],[0.5555555555555556,\"#d8576b\"],[0.6666666666666666,\"#ed7953\"],[0.7777777777777778,\"#fb9f3a\"],[0.8888888888888888,\"#fdca26\"],[1.0,\"#f0f921\"]],\"diverging\":[[0,\"#8e0152\"],[0.1,\"#c51b7d\"],[0.2,\"#de77ae\"],[0.3,\"#f1b6da\"],[0.4,\"#fde0ef\"],[0.5,\"#f7f7f7\"],[0.6,\"#e6f5d0\"],[0.7,\"#b8e186\"],[0.8,\"#7fbc41\"],[0.9,\"#4d9221\"],[1,\"#276419\"]]},\"xaxis\":{\"gridcolor\":\"white\",\"linecolor\":\"white\",\"ticks\":\"\",\"title\":{\"standoff\":15},\"zerolinecolor\":\"white\",\"automargin\":true,\"zerolinewidth\":2},\"yaxis\":{\"gridcolor\":\"white\",\"linecolor\":\"white\",\"ticks\":\"\",\"title\":{\"standoff\":15},\"zerolinecolor\":\"white\",\"automargin\":true,\"zerolinewidth\":2},\"scene\":{\"xaxis\":{\"backgroundcolor\":\"#E5ECF6\",\"gridcolor\":\"white\",\"linecolor\":\"white\",\"showbackground\":true,\"ticks\":\"\",\"zerolinecolor\":\"white\",\"gridwidth\":2},\"yaxis\":{\"backgroundcolor\":\"#E5ECF6\",\"gridcolor\":\"white\",\"linecolor\":\"white\",\"showbackground\":true,\"ticks\":\"\",\"zerolinecolor\":\"white\",\"gridwidth\":2},\"zaxis\":{\"backgroundcolor\":\"#E5ECF6\",\"gridcolor\":\"white\",\"linecolor\":\"white\",\"showbackground\":true,\"ticks\":\"\",\"zerolinecolor\":\"white\",\"gridwidth\":2}},\"shapedefaults\":{\"line\":{\"color\":\"#2a3f5f\"}},\"annotationdefaults\":{\"arrowcolor\":\"#2a3f5f\",\"arrowhead\":0,\"arrowwidth\":1},\"geo\":{\"bgcolor\":\"white\",\"landcolor\":\"#E5ECF6\",\"subunitcolor\":\"white\",\"showland\":true,\"showlakes\":true,\"lakecolor\":\"white\"},\"title\":{\"x\":0.05},\"mapbox\":{\"style\":\"light\"}}},\"xaxis\":{\"anchor\":\"y\",\"domain\":[0.0,1.0],\"title\":{\"text\":\"x\"}},\"yaxis\":{\"anchor\":\"x\",\"domain\":[0.0,1.0],\"title\":{\"text\":\"y\"}},\"legend\":{\"tracegroupgap\":0},\"margin\":{\"t\":60},\"height\":200},                        {\"responsive\": true}                    ).then(function(){\n",
       "                            \n",
       "var gd = document.getElementById('afce0f81-7934-426a-9669-fbadccb13869');\n",
       "var x = new MutationObserver(function (mutations, observer) {{\n",
       "        var display = window.getComputedStyle(gd).display;\n",
       "        if (!display || display === 'none') {{\n",
       "            console.log([gd, 'removed!']);\n",
       "            Plotly.purge(gd);\n",
       "            observer.disconnect();\n",
       "        }}\n",
       "}});\n",
       "\n",
       "// Listen for the removal of the full notebook cells\n",
       "var notebookContainer = gd.closest('#notebook-container');\n",
       "if (notebookContainer) {{\n",
       "    x.observe(notebookContainer, {childList: true});\n",
       "}}\n",
       "\n",
       "// Listen for the clearing of the current output cell\n",
       "var outputEl = gd.closest('.output');\n",
       "if (outputEl) {{\n",
       "    x.observe(outputEl, {childList: true});\n",
       "}}\n",
       "\n",
       "                        })                };                });            </script>        </div>"
      ]
     },
     "metadata": {},
     "output_type": "display_data"
    }
   ],
   "source": [
    "fig = px.scatter(x=diabetes_data[:, 6], y=np.repeat(0, diabetes_data.shape[0]), height=200)\n",
    "fig.show()"
   ]
  },
  {
   "cell_type": "code",
   "execution_count": 27,
   "metadata": {},
   "outputs": [
    {
     "data": {
      "text/plain": [
       "array([151.,  75., 141., 206., 135.,  97., 138.,  63., 110., 310., 101.,\n",
       "        69., 179., 185., 118., 171., 166., 144.,  97., 168.,  68.,  49.,\n",
       "        68., 245., 184., 202., 137.,  85., 131., 283., 129.,  59., 341.,\n",
       "        87.,  65., 102., 265., 276., 252.,  90., 100.,  55.,  61.,  92.,\n",
       "       259.,  53., 190., 142.,  75., 142., 155., 225.,  59., 104., 182.,\n",
       "       128.,  52.,  37., 170., 170.,  61., 144.,  52., 128.,  71., 163.,\n",
       "       150.,  97., 160., 178.,  48., 270., 202., 111.,  85.,  42., 170.,\n",
       "       200., 252., 113., 143.,  51.,  52., 210.,  65., 141.,  55., 134.,\n",
       "        42., 111.,  98., 164.,  48.,  96.,  90., 162., 150., 279.,  92.,\n",
       "        83., 128., 102., 302., 198.,  95.,  53., 134., 144., 232.,  81.,\n",
       "       104.,  59., 246., 297., 258., 229., 275., 281., 179., 200., 200.,\n",
       "       173., 180.,  84., 121., 161.,  99., 109., 115., 268., 274., 158.,\n",
       "       107.,  83., 103., 272.,  85., 280., 336., 281., 118., 317., 235.,\n",
       "        60., 174., 259., 178., 128.,  96., 126., 288.,  88., 292.,  71.,\n",
       "       197., 186.,  25.,  84.,  96., 195.,  53., 217., 172., 131., 214.,\n",
       "        59.,  70., 220., 268., 152.,  47.,  74., 295., 101., 151., 127.,\n",
       "       237., 225.,  81., 151., 107.,  64., 138., 185., 265., 101., 137.,\n",
       "       143., 141.,  79., 292., 178.,  91., 116.,  86., 122.,  72., 129.,\n",
       "       142.,  90., 158.,  39., 196., 222., 277.,  99., 196., 202., 155.,\n",
       "        77., 191.,  70.,  73.,  49.,  65., 263., 248., 296., 214., 185.,\n",
       "        78.,  93., 252., 150.,  77., 208.,  77., 108., 160.,  53., 220.,\n",
       "       154., 259.,  90., 246., 124.,  67.,  72., 257., 262., 275., 177.,\n",
       "        71.,  47., 187., 125.,  78.,  51., 258., 215., 303., 243.,  91.,\n",
       "       150., 310., 153., 346.,  63.,  89.,  50.,  39., 103., 308., 116.,\n",
       "       145.,  74.,  45., 115., 264.,  87., 202., 127., 182., 241.,  66.,\n",
       "        94., 283.,  64., 102., 200., 265.,  94., 230., 181., 156., 233.,\n",
       "        60., 219.,  80.,  68., 332., 248.,  84., 200.,  55.,  85.,  89.,\n",
       "        31., 129.,  83., 275.,  65., 198., 236., 253., 124.,  44., 172.,\n",
       "       114., 142., 109., 180., 144., 163., 147.,  97., 220., 190., 109.,\n",
       "       191., 122., 230., 242., 248., 249., 192., 131., 237.,  78., 135.,\n",
       "       244., 199., 270., 164.,  72.,  96., 306.,  91., 214.,  95., 216.,\n",
       "       263., 178., 113., 200., 139., 139.,  88., 148.,  88., 243.,  71.,\n",
       "        77., 109., 272.,  60.,  54., 221.,  90., 311., 281., 182., 321.,\n",
       "        58., 262., 206., 233., 242., 123., 167.,  63., 197.,  71., 168.,\n",
       "       140., 217., 121., 235., 245.,  40.,  52., 104., 132.,  88.,  69.,\n",
       "       219.,  72., 201., 110.,  51., 277.,  63., 118.,  69., 273., 258.,\n",
       "        43., 198., 242., 232., 175.,  93., 168., 275., 293., 281.,  72.,\n",
       "       140., 189., 181., 209., 136., 261., 113., 131., 174., 257.,  55.,\n",
       "        84.,  42., 146., 212., 233.,  91., 111., 152., 120.,  67., 310.,\n",
       "        94., 183.,  66., 173.,  72.,  49.,  64.,  48., 178., 104., 132.,\n",
       "       220.,  57.])"
      ]
     },
     "execution_count": 27,
     "metadata": {},
     "output_type": "execute_result"
    }
   ],
   "source": [
    "diabetes_target"
   ]
  },
  {
   "cell_type": "code",
   "execution_count": null,
   "metadata": {},
   "outputs": [],
   "source": []
  }
 ],
 "metadata": {
  "kernelspec": {
   "display_name": "smote_clean",
   "language": "python",
   "name": "python3"
  },
  "language_info": {
   "codemirror_mode": {
    "name": "ipython",
    "version": 3
   },
   "file_extension": ".py",
   "mimetype": "text/x-python",
   "name": "python",
   "nbconvert_exporter": "python",
   "pygments_lexer": "ipython3",
   "version": "3.10.0"
  },
  "orig_nbformat": 4,
  "vscode": {
   "interpreter": {
    "hash": "499044d5ebe425087106556eea30a149e28227c692f9b3f42bc5fd0f94503385"
   }
  }
 },
 "nbformat": 4,
 "nbformat_minor": 2
}
