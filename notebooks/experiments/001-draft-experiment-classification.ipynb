{
 "cells": [
  {
   "cell_type": "code",
   "execution_count": 1,
   "metadata": {},
   "outputs": [],
   "source": [
    "import numpy as np\n",
    "import pandas as pd\n",
    "\n",
    "from scipy.stats import wilcoxon\n",
    "\n",
    "from sklearn.ensemble import RandomForestClassifier\n",
    "from sklearn.model_selection import RepeatedStratifiedKFold\n",
    "from sklearn.metrics import roc_auc_score\n",
    "\n",
    "from flipping_random_forest import FlippingRandomForestClassifier\n",
    "\n",
    "import common_datasets.binary_classification as binclas"
   ]
  },
  {
   "cell_type": "code",
   "execution_count": 2,
   "metadata": {},
   "outputs": [],
   "source": [
    "datasets = binclas.get_filtered_data_loaders(n_bounds=(1, 1000), n_minority_bounds=(5, 1000), n_from_phenotypes=1)\n",
    "names = [dataset()['name'] for dataset in datasets]"
   ]
  },
  {
   "cell_type": "code",
   "execution_count": 3,
   "metadata": {},
   "outputs": [],
   "source": [
    "summary = binclas.get_summary_pdf()\n",
    "summary = summary[summary['name'].isin(names)]"
   ]
  },
  {
   "cell_type": "code",
   "execution_count": 4,
   "metadata": {},
   "outputs": [],
   "source": [
    "tmp = summary[summary[['grid', 'n_feature_uniques']].apply(lambda x: np.sum(np.array(x['grid']) & (np.array(x['n_feature_uniques']) > 4)) > 0, axis=1)]\n",
    "data_loaders = tmp['data_loader_function']"
   ]
  },
  {
   "cell_type": "code",
   "execution_count": 5,
   "metadata": {},
   "outputs": [],
   "source": [
    "data_loaders = [dl for dl in data_loaders if not dl in [binclas.load_iris0, binclas.load_dermatology_6]]"
   ]
  },
  {
   "cell_type": "code",
   "execution_count": 6,
   "metadata": {},
   "outputs": [
    {
     "name": "stdout",
     "output_type": "stream",
     "text": [
      "          name  auc_orig  auc_baseline  auc_flipping_full  auc_flipping_coord  \\\n",
      "0  abalone9_18  0.848094      0.845158           0.845037             0.84487   \n",
      "\n",
      "     p_full   p_coord  \n",
      "0  0.459549  0.619868  \n",
      "          name  auc_orig  auc_baseline  auc_flipping_full  auc_flipping_coord  \\\n",
      "0  abalone9_18  0.848094      0.845158           0.845037            0.844870   \n",
      "1   australian  0.930104      0.929635           0.929667            0.929722   \n",
      "\n",
      "     p_full   p_coord  \n",
      "0  0.459549  0.619868  \n",
      "1  0.450165  0.221037  \n"
     ]
    },
    {
     "name": "stderr",
     "output_type": "stream",
     "text": [
      "/home/gykovacs/anaconda3/envs/smote_clean/lib/python3.10/site-packages/joblib/externals/loky/process_executor.py:700: UserWarning: A worker stopped while some jobs were given to the executor. This can be caused by a too short worker timeout or by a memory leak.\n",
      "  warnings.warn(\n"
     ]
    },
    {
     "name": "stdout",
     "output_type": "stream",
     "text": [
      "          name  auc_orig  auc_baseline  auc_flipping_full  auc_flipping_coord  \\\n",
      "0  abalone9_18  0.848094      0.845158           0.845037            0.844870   \n",
      "1   australian  0.930104      0.929635           0.929667            0.929722   \n",
      "2         bupa  0.770977      0.770142           0.768960            0.769385   \n",
      "\n",
      "     p_full   p_coord  \n",
      "0  0.459549  0.619868  \n",
      "1  0.450165  0.221037  \n",
      "2  0.997476  0.985387  \n",
      "               name  auc_orig  auc_baseline  auc_flipping_full  \\\n",
      "0       abalone9_18  0.848094      0.845158           0.845037   \n",
      "1        australian  0.930104      0.929635           0.929667   \n",
      "2              bupa  0.770977      0.770142           0.768960   \n",
      "3  cleveland-0_vs_4  0.974947      0.974863           0.975280   \n",
      "\n",
      "   auc_flipping_coord    p_full   p_coord  \n",
      "0            0.844870  0.459549  0.619868  \n",
      "1            0.929722  0.450165  0.221037  \n",
      "2            0.769385  0.997476  0.985387  \n",
      "3            0.975083  0.018174  0.031904  \n",
      "               name  auc_orig  auc_baseline  auc_flipping_full  \\\n",
      "0       abalone9_18  0.848094      0.845158           0.845037   \n",
      "1        australian  0.930104      0.929635           0.929667   \n",
      "2              bupa  0.770977      0.770142           0.768960   \n",
      "3  cleveland-0_vs_4  0.974947      0.974863           0.975280   \n",
      "4     dermatology-6  1.000000      1.000000           1.000000   \n",
      "\n",
      "   auc_flipping_coord    p_full   p_coord  \n",
      "0            0.844870  0.459549  0.619868  \n",
      "1            0.929722  0.450165  0.221037  \n",
      "2            0.769385  0.997476  0.985387  \n",
      "3            0.975083  0.018174  0.031904  \n",
      "4            0.999998  0.567610  0.650643  \n"
     ]
    }
   ],
   "source": [
    "results = []\n",
    "\n",
    "validator = RepeatedStratifiedKFold(n_splits=5, n_repeats=400, random_state=5)\n",
    "\n",
    "for data_loader in data_loaders:\n",
    "    dataset = data_loader()\n",
    "    X = dataset['data']\n",
    "    y = dataset['target']\n",
    "    \n",
    "    aucs_orig = []\n",
    "    aucs_flipped = []\n",
    "    aucs_baseline = []\n",
    "    aucs_baseline_flipped = []\n",
    "    aucs_flipping_full = []\n",
    "    aucs_flipping_coord = []\n",
    "    \n",
    "    for train, test in validator.split(X, y, y):\n",
    "        X_train = X[train]\n",
    "        X_test = X[test]\n",
    "        y_train = y[train]\n",
    "        y_test = y[test]\n",
    "        \n",
    "        try:\n",
    "            pred = RandomForestClassifier(n_jobs=4, min_samples_leaf=3).fit(X_train, y_train).predict_proba(X_test)[:, 1]\n",
    "            aucs_orig.append(roc_auc_score(y_test, pred))\n",
    "            \n",
    "            #pred = RandomForestClassifier(n_jobs=4).fit(-X_train, y_train).predict_proba(-X_test)[:, 1]\n",
    "            #aucs_flipped.append(roc_auc_score(y_test, pred))\n",
    "            aucs_flipped.append(0)\n",
    "            \n",
    "            pred = FlippingRandomForestClassifier(n_jobs=4, min_samples_leaf=3).fit(X_train, y_train).predict_proba(X_test)[:, 1]\n",
    "            aucs_baseline.append(roc_auc_score(y_test, pred))\n",
    "            \n",
    "            #pred = FlippingRandomForestClassifier(n_jobs=4).fit(-X_train, y_train).predict_proba(-X_test)[:, 1]\n",
    "            #aucs_baseline_flipped.append(roc_auc_score(y_test, pred))\n",
    "            aucs_baseline_flipped.append(0)\n",
    "            \n",
    "            pred = FlippingRandomForestClassifier(flipping='full', n_jobs=4, min_samples_leaf=3).fit(X_train, y_train).predict_proba(X_test)[:, 1]\n",
    "            aucs_flipping_full.append(roc_auc_score(y_test, pred))\n",
    "            \n",
    "            pred = FlippingRandomForestClassifier(flipping='coordinate', n_jobs=4, min_samples_leaf=3).fit(X_train, y_train).predict_proba(X_test)[:, 1]\n",
    "            aucs_flipping_coord.append(roc_auc_score(y_test, pred))\n",
    "        except:\n",
    "            pass\n",
    "    \n",
    "    tmp = [dataset['name'], np.mean(aucs_orig), np.mean(aucs_flipped), np.mean(aucs_baseline), \n",
    "                            np.mean(aucs_baseline_flipped), np.mean(aucs_flipping_full), np.mean(aucs_flipping_coord), \n",
    "                            aucs_orig, aucs_flipped, aucs_baseline, aucs_baseline_flipped, aucs_flipping_full, aucs_flipping_coord]\n",
    "    \n",
    "    tmp = tmp + [wilcoxon(aucs_baseline, aucs_flipping_full, alternative='less', zero_method='zsplit').pvalue,\n",
    "                wilcoxon(aucs_baseline, aucs_flipping_coord, alternative='less', zero_method='zsplit').pvalue]\n",
    "    \n",
    "    results.append(tmp)\n",
    "    \n",
    "    results_pdf = pd.DataFrame(results, columns=['name', 'auc_orig', 'auc_flipped', 'auc_baseline', 'auc_baseline_flipped', \n",
    "                                'auc_flipping_full', 'auc_flipping_coord', 'aucs_orig', 'aucs_flipped', 'aucs_baseline', \n",
    "                                'aucs_baseline_flipped', 'aucs_flipping_full', 'aucs_flipping_coord', 'p_full', 'p_coord'])\n",
    "    results_pdf['auc_baseline_min'] = results_pdf[['auc_baseline', 'auc_baseline_flipped']].apply(lambda x: min(x), axis=1)\n",
    "    results_pdf['auc_baseline_max'] = results_pdf[['auc_baseline', 'auc_baseline_flipped']].apply(lambda x: max(x), axis=1)\n",
    "    print(results_pdf[['name', \n",
    "                        'auc_orig', \n",
    "                        #'auc_flipped', \n",
    "                        'auc_baseline', \n",
    "                        #'auc_baseline_flipped', \n",
    "                        #'auc_baseline_min', \n",
    "                        #'auc_baseline_max', \n",
    "                        'auc_flipping_full', \n",
    "                        'auc_flipping_coord', 'p_full', 'p_coord']])\n",
    "        \n"
   ]
  },
  {
   "cell_type": "code",
   "execution_count": null,
   "metadata": {},
   "outputs": [],
   "source": []
  }
 ],
 "metadata": {
  "kernelspec": {
   "display_name": "smote_clean",
   "language": "python",
   "name": "python3"
  },
  "language_info": {
   "codemirror_mode": {
    "name": "ipython",
    "version": 3
   },
   "file_extension": ".py",
   "mimetype": "text/x-python",
   "name": "python",
   "nbconvert_exporter": "python",
   "pygments_lexer": "ipython3",
   "version": "3.10.0"
  },
  "orig_nbformat": 4,
  "vscode": {
   "interpreter": {
    "hash": "499044d5ebe425087106556eea30a149e28227c692f9b3f42bc5fd0f94503385"
   }
  }
 },
 "nbformat": 4,
 "nbformat_minor": 2
}
