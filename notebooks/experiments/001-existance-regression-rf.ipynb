{
 "cells": [
  {
   "cell_type": "code",
   "execution_count": 1,
   "metadata": {},
   "outputs": [
    {
     "name": "stderr",
     "output_type": "stream",
     "text": [
      "2023-02-16 20:28:16 INFO     querying the filtered classification datasets\n",
      "2023-02-16 20:28:16 INFO     ranking the datasets\n",
      "2023-02-16 20:28:16 INFO     binary classification datasets prepared\n",
      "2023-02-16 20:28:16 INFO     querying the filtered regression datasets\n",
      "2023-02-16 20:28:16 INFO     ranking the datasets\n",
      "2023-02-16 20:28:16 INFO     regression datasets prepared\n"
     ]
    }
   ],
   "source": [
    "import pandas as pd\n",
    "\n",
    "pd.set_option('display.width', 200)\n",
    "\n",
    "from sklearn.ensemble import RandomForestRegressor\n",
    "\n",
    "from flipping_random_forest import MirroredRandomForestRegressor, evaluate\n",
    "\n",
    "from datasets import regr_datasets"
   ]
  },
  {
   "cell_type": "code",
   "execution_count": 2,
   "metadata": {},
   "outputs": [],
   "source": [
    "data_loaders = regr_datasets['data_loader_function'].values.tolist()"
   ]
  },
  {
   "cell_type": "code",
   "execution_count": 3,
   "metadata": {},
   "outputs": [],
   "source": [
    "scenarios=[{'name': 'original',\n",
    "            'estimator': RandomForestRegressor,\n",
    "            'estimator_params': {'n_jobs': 2},\n",
    "            'multiplier': 1},\n",
    "            \n",
    "            {'name': 'mirrored',\n",
    "            'estimator': MirroredRandomForestRegressor,\n",
    "            'estimator_params': {'n_jobs': 2},\n",
    "            'multiplier': 1},\n",
    "            \n",
    "            {'name': 'inverted',\n",
    "            'estimator': RandomForestRegressor,\n",
    "            'estimator_params': {'n_jobs': 2},\n",
    "            'multiplier': -1}]\n",
    "            \n",
    "compare=[('original', 'mirrored'), \n",
    "            ('original', 'inverted')]\n",
    "\n",
    "validator_params = {'n_repeats': 200,\n",
    "                    'n_splits': 5,\n",
    "                    'random_state': 5}"
   ]
  },
  {
   "cell_type": "code",
   "execution_count": 4,
   "metadata": {},
   "outputs": [
    {
     "name": "stderr",
     "output_type": "stream",
     "text": [
      "1000it [15:57,  1.04it/s]\n"
     ]
    },
    {
     "name": "stdout",
     "output_type": "stream",
     "text": [
      "     name  r2_mean_original  r2_mean_mirrored  r2_mean_inverted  p_original_mirrored  p_original_inverted\n",
      "0  o-ring          0.158496          0.184483          0.184254             0.755789             0.751305\n"
     ]
    },
    {
     "name": "stderr",
     "output_type": "stream",
     "text": [
      "1000it [18:54,  1.13s/it]\n"
     ]
    },
    {
     "name": "stdout",
     "output_type": "stream",
     "text": [
      "                          name  r2_mean_original  r2_mean_mirrored  r2_mean_inverted  p_original_mirrored  p_original_inverted\n",
      "0  stock_portfolio_performance           0.99148          0.991341          0.991132                  1.0             0.985734\n"
     ]
    },
    {
     "name": "stderr",
     "output_type": "stream",
     "text": [
      "1000it [17:35,  1.06s/it]\n"
     ]
    },
    {
     "name": "stdout",
     "output_type": "stream",
     "text": [
      "      name  r2_mean_original  r2_mean_mirrored  r2_mean_inverted  p_original_mirrored  p_original_inverted\n",
      "0  wsn-ale          0.527776          0.529996           0.52632             0.000012             0.600319\n"
     ]
    },
    {
     "name": "stderr",
     "output_type": "stream",
     "text": [
      "1000it [18:22,  1.10s/it]\n"
     ]
    },
    {
     "name": "stdout",
     "output_type": "stream",
     "text": [
      "           name  r2_mean_original  r2_mean_mirrored  r2_mean_inverted  p_original_mirrored  p_original_inverted\n",
      "0  daily-demand          0.820165          0.820793          0.824637         6.113701e-18         2.408216e-09\n"
     ]
    },
    {
     "name": "stderr",
     "output_type": "stream",
     "text": [
      "1000it [18:24,  1.10s/it]\n"
     ]
    },
    {
     "name": "stdout",
     "output_type": "stream",
     "text": [
      "    name  r2_mean_original  r2_mean_mirrored  r2_mean_inverted  p_original_mirrored  p_original_inverted\n",
      "0  servo          0.632808          0.632844          0.633503         1.858152e-26             0.159041\n"
     ]
    },
    {
     "name": "stderr",
     "output_type": "stream",
     "text": [
      "1000it [20:41,  1.24s/it]\n"
     ]
    },
    {
     "name": "stdout",
     "output_type": "stream",
     "text": [
      "                  name  r2_mean_original  r2_mean_mirrored  r2_mean_inverted  p_original_mirrored  p_original_inverted\n",
      "0  yacht_hydrodynamics          0.994773           0.99478          0.994819         3.565401e-13         1.368704e-07\n"
     ]
    },
    {
     "name": "stderr",
     "output_type": "stream",
     "text": [
      "1000it [20:23,  1.22s/it]\n"
     ]
    },
    {
     "name": "stdout",
     "output_type": "stream",
     "text": [
      "       name  r2_mean_original  r2_mean_mirrored  r2_mean_inverted  p_original_mirrored  p_original_inverted\n",
      "0  autoMPG6          0.872051          0.871949           0.87183              0.93723             0.993645\n"
     ]
    },
    {
     "name": "stderr",
     "output_type": "stream",
     "text": [
      "1000it [20:28,  1.23s/it]\n"
     ]
    },
    {
     "name": "stdout",
     "output_type": "stream",
     "text": [
      "                 name  r2_mean_original  r2_mean_mirrored  r2_mean_inverted  p_original_mirrored  p_original_inverted\n",
      "0  excitation_current          0.999906          0.999912          0.999911         1.201031e-72         2.405857e-52\n"
     ]
    },
    {
     "name": "stderr",
     "output_type": "stream",
     "text": [
      "1000it [20:04,  1.20s/it]\n"
     ]
    },
    {
     "name": "stdout",
     "output_type": "stream",
     "text": [
      "                    name  r2_mean_original  r2_mean_mirrored  r2_mean_inverted  p_original_mirrored  p_original_inverted\n",
      "0  real_estate_valuation          0.693178          0.692343          0.693739                  1.0             0.342413\n"
     ]
    },
    {
     "name": "stderr",
     "output_type": "stream",
     "text": [
      "1000it [19:34,  1.17s/it]\n"
     ]
    },
    {
     "name": "stdout",
     "output_type": "stream",
     "text": [
      "      name  r2_mean_original  r2_mean_mirrored  r2_mean_inverted  p_original_mirrored  p_original_inverted\n",
      "0  wankara          0.987279          0.987323          0.987283         8.314341e-27             0.554676\n"
     ]
    },
    {
     "name": "stderr",
     "output_type": "stream",
     "text": [
      "1000it [24:53,  1.49s/it]\n"
     ]
    },
    {
     "name": "stdout",
     "output_type": "stream",
     "text": [
      "      name  r2_mean_original  r2_mean_mirrored  r2_mean_inverted  p_original_mirrored  p_original_inverted\n",
      "0  plastic          0.715212          0.710206          0.710184                  1.0                  1.0\n"
     ]
    },
    {
     "name": "stderr",
     "output_type": "stream",
     "text": [
      "1000it [25:42,  1.54s/it]\n"
     ]
    },
    {
     "name": "stdout",
     "output_type": "stream",
     "text": [
      "    name  r2_mean_original  r2_mean_mirrored  r2_mean_inverted  p_original_mirrored  p_original_inverted\n",
      "0  laser          0.963301          0.963472          0.963444             0.979349             0.799949\n"
     ]
    },
    {
     "name": "stderr",
     "output_type": "stream",
     "text": [
      "1000it [22:26,  1.35s/it]\n"
     ]
    },
    {
     "name": "stdout",
     "output_type": "stream",
     "text": [
      "                    name  r2_mean_original  r2_mean_mirrored  r2_mean_inverted  p_original_mirrored  p_original_inverted\n",
      "0  qsar-aquatic-toxicity          0.523587          0.523924          0.523708         4.052072e-12             0.271573\n"
     ]
    },
    {
     "name": "stderr",
     "output_type": "stream",
     "text": [
      "1000it [20:33,  1.23s/it]\n"
     ]
    },
    {
     "name": "stdout",
     "output_type": "stream",
     "text": [
      "       name  r2_mean_original  r2_mean_mirrored  r2_mean_inverted  p_original_mirrored  p_original_inverted\n",
      "0  baseball          0.668159          0.667043          0.667202                  1.0             0.997807\n"
     ]
    },
    {
     "name": "stderr",
     "output_type": "stream",
     "text": [
      "1000it [19:23,  1.16s/it]\n"
     ]
    },
    {
     "name": "stdout",
     "output_type": "stream",
     "text": [
      "                   name  r2_mean_original  r2_mean_mirrored  r2_mean_inverted  p_original_mirrored  p_original_inverted\n",
      "0  maternal_health_risk          0.751589          0.752713          0.752701         7.040152e-39         6.869716e-21\n"
     ]
    },
    {
     "name": "stderr",
     "output_type": "stream",
     "text": [
      "1000it [27:55,  1.68s/it]\n"
     ]
    },
    {
     "name": "stdout",
     "output_type": "stream",
     "text": [
      "           name  r2_mean_original  r2_mean_mirrored  r2_mean_inverted  p_original_mirrored  p_original_inverted\n",
      "0  medical_cost           0.69442          0.693818          0.693762                  1.0                  1.0\n"
     ]
    },
    {
     "name": "stderr",
     "output_type": "stream",
     "text": [
      "1000it [26:57,  1.62s/it]\n"
     ]
    },
    {
     "name": "stdout",
     "output_type": "stream",
     "text": [
      "         name  r2_mean_original  r2_mean_mirrored  r2_mean_inverted  p_original_mirrored  p_original_inverted\n",
      "0  boom_bikes          0.996104          0.996105          0.996104             0.299646             0.415615\n"
     ]
    },
    {
     "name": "stderr",
     "output_type": "stream",
     "text": [
      "1000it [35:46,  2.15s/it]\n"
     ]
    },
    {
     "name": "stdout",
     "output_type": "stream",
     "text": [
      "     name  r2_mean_original  r2_mean_mirrored  r2_mean_inverted  p_original_mirrored  p_original_inverted\n",
      "0  wizmir           0.99228          0.992283          0.992295             0.002258         1.932911e-08\n"
     ]
    },
    {
     "name": "stderr",
     "output_type": "stream",
     "text": [
      "1000it [17:00,  1.02s/it]\n"
     ]
    },
    {
     "name": "stdout",
     "output_type": "stream",
     "text": [
      "          name  r2_mean_original  r2_mean_mirrored  r2_mean_inverted  p_original_mirrored  p_original_inverted\n",
      "0  forestfires         -1.478334         -2.224986         -2.228358                  1.0                  1.0\n"
     ]
    },
    {
     "name": "stderr",
     "output_type": "stream",
     "text": [
      "1000it [24:12,  1.45s/it]"
     ]
    },
    {
     "name": "stdout",
     "output_type": "stream",
     "text": [
      "              name  r2_mean_original  r2_mean_mirrored  r2_mean_inverted  p_original_mirrored  p_original_inverted\n",
      "0  winequality_red          0.480025          0.479654          0.479361             0.999992             0.999969\n"
     ]
    },
    {
     "name": "stderr",
     "output_type": "stream",
     "text": [
      "\n"
     ]
    }
   ],
   "source": [
    "results_pdf = evaluate(scenarios=scenarios, \n",
    "                        compare=compare, \n",
    "                        data_loaders=data_loaders,\n",
    "                        validator_params=1000,\n",
    "                        score='r2',\n",
    "                        random_state=5)"
   ]
  },
  {
   "cell_type": "code",
   "execution_count": 5,
   "metadata": {},
   "outputs": [
    {
     "data": {
      "text/html": [
       "<div>\n",
       "<style scoped>\n",
       "    .dataframe tbody tr th:only-of-type {\n",
       "        vertical-align: middle;\n",
       "    }\n",
       "\n",
       "    .dataframe tbody tr th {\n",
       "        vertical-align: top;\n",
       "    }\n",
       "\n",
       "    .dataframe thead th {\n",
       "        text-align: right;\n",
       "    }\n",
       "</style>\n",
       "<table border=\"1\" class=\"dataframe\">\n",
       "  <thead>\n",
       "    <tr style=\"text-align: right;\">\n",
       "      <th></th>\n",
       "      <th>name</th>\n",
       "      <th>r2_mean_original</th>\n",
       "      <th>r2_mean_mirrored</th>\n",
       "      <th>r2_mean_inverted</th>\n",
       "      <th>p_original_mirrored</th>\n",
       "      <th>p_original_inverted</th>\n",
       "    </tr>\n",
       "  </thead>\n",
       "  <tbody>\n",
       "    <tr>\n",
       "      <th>0</th>\n",
       "      <td>o-ring</td>\n",
       "      <td>0.158496</td>\n",
       "      <td>0.184483</td>\n",
       "      <td>0.184254</td>\n",
       "      <td>7.557893e-01</td>\n",
       "      <td>7.513055e-01</td>\n",
       "    </tr>\n",
       "    <tr>\n",
       "      <th>1</th>\n",
       "      <td>stock_portfolio_performance</td>\n",
       "      <td>0.991480</td>\n",
       "      <td>0.991341</td>\n",
       "      <td>0.991132</td>\n",
       "      <td>9.999999e-01</td>\n",
       "      <td>9.857344e-01</td>\n",
       "    </tr>\n",
       "    <tr>\n",
       "      <th>2</th>\n",
       "      <td>wsn-ale</td>\n",
       "      <td>0.527776</td>\n",
       "      <td>0.529996</td>\n",
       "      <td>0.526320</td>\n",
       "      <td>1.198614e-05</td>\n",
       "      <td>6.003186e-01</td>\n",
       "    </tr>\n",
       "    <tr>\n",
       "      <th>3</th>\n",
       "      <td>daily-demand</td>\n",
       "      <td>0.820165</td>\n",
       "      <td>0.820793</td>\n",
       "      <td>0.824637</td>\n",
       "      <td>6.113701e-18</td>\n",
       "      <td>2.408216e-09</td>\n",
       "    </tr>\n",
       "    <tr>\n",
       "      <th>4</th>\n",
       "      <td>servo</td>\n",
       "      <td>0.632808</td>\n",
       "      <td>0.632844</td>\n",
       "      <td>0.633503</td>\n",
       "      <td>1.858152e-26</td>\n",
       "      <td>1.590411e-01</td>\n",
       "    </tr>\n",
       "    <tr>\n",
       "      <th>5</th>\n",
       "      <td>yacht_hydrodynamics</td>\n",
       "      <td>0.994773</td>\n",
       "      <td>0.994780</td>\n",
       "      <td>0.994819</td>\n",
       "      <td>3.565401e-13</td>\n",
       "      <td>1.368704e-07</td>\n",
       "    </tr>\n",
       "    <tr>\n",
       "      <th>6</th>\n",
       "      <td>autoMPG6</td>\n",
       "      <td>0.872051</td>\n",
       "      <td>0.871949</td>\n",
       "      <td>0.871830</td>\n",
       "      <td>9.372297e-01</td>\n",
       "      <td>9.936452e-01</td>\n",
       "    </tr>\n",
       "    <tr>\n",
       "      <th>7</th>\n",
       "      <td>excitation_current</td>\n",
       "      <td>0.999906</td>\n",
       "      <td>0.999912</td>\n",
       "      <td>0.999911</td>\n",
       "      <td>1.201031e-72</td>\n",
       "      <td>2.405857e-52</td>\n",
       "    </tr>\n",
       "    <tr>\n",
       "      <th>8</th>\n",
       "      <td>real_estate_valuation</td>\n",
       "      <td>0.693178</td>\n",
       "      <td>0.692343</td>\n",
       "      <td>0.693739</td>\n",
       "      <td>1.000000e+00</td>\n",
       "      <td>3.424129e-01</td>\n",
       "    </tr>\n",
       "    <tr>\n",
       "      <th>9</th>\n",
       "      <td>wankara</td>\n",
       "      <td>0.987279</td>\n",
       "      <td>0.987323</td>\n",
       "      <td>0.987283</td>\n",
       "      <td>8.314341e-27</td>\n",
       "      <td>5.546762e-01</td>\n",
       "    </tr>\n",
       "    <tr>\n",
       "      <th>10</th>\n",
       "      <td>plastic</td>\n",
       "      <td>0.715212</td>\n",
       "      <td>0.710206</td>\n",
       "      <td>0.710184</td>\n",
       "      <td>1.000000e+00</td>\n",
       "      <td>1.000000e+00</td>\n",
       "    </tr>\n",
       "    <tr>\n",
       "      <th>11</th>\n",
       "      <td>laser</td>\n",
       "      <td>0.963301</td>\n",
       "      <td>0.963472</td>\n",
       "      <td>0.963444</td>\n",
       "      <td>9.793492e-01</td>\n",
       "      <td>7.999486e-01</td>\n",
       "    </tr>\n",
       "    <tr>\n",
       "      <th>12</th>\n",
       "      <td>qsar-aquatic-toxicity</td>\n",
       "      <td>0.523587</td>\n",
       "      <td>0.523924</td>\n",
       "      <td>0.523708</td>\n",
       "      <td>4.052072e-12</td>\n",
       "      <td>2.715726e-01</td>\n",
       "    </tr>\n",
       "    <tr>\n",
       "      <th>13</th>\n",
       "      <td>baseball</td>\n",
       "      <td>0.668159</td>\n",
       "      <td>0.667043</td>\n",
       "      <td>0.667202</td>\n",
       "      <td>1.000000e+00</td>\n",
       "      <td>9.978070e-01</td>\n",
       "    </tr>\n",
       "    <tr>\n",
       "      <th>14</th>\n",
       "      <td>maternal_health_risk</td>\n",
       "      <td>0.751589</td>\n",
       "      <td>0.752713</td>\n",
       "      <td>0.752701</td>\n",
       "      <td>7.040152e-39</td>\n",
       "      <td>6.869716e-21</td>\n",
       "    </tr>\n",
       "    <tr>\n",
       "      <th>15</th>\n",
       "      <td>medical_cost</td>\n",
       "      <td>0.694420</td>\n",
       "      <td>0.693818</td>\n",
       "      <td>0.693762</td>\n",
       "      <td>1.000000e+00</td>\n",
       "      <td>1.000000e+00</td>\n",
       "    </tr>\n",
       "    <tr>\n",
       "      <th>16</th>\n",
       "      <td>boom_bikes</td>\n",
       "      <td>0.996104</td>\n",
       "      <td>0.996105</td>\n",
       "      <td>0.996104</td>\n",
       "      <td>2.996458e-01</td>\n",
       "      <td>4.156154e-01</td>\n",
       "    </tr>\n",
       "    <tr>\n",
       "      <th>17</th>\n",
       "      <td>wizmir</td>\n",
       "      <td>0.992280</td>\n",
       "      <td>0.992283</td>\n",
       "      <td>0.992295</td>\n",
       "      <td>2.257983e-03</td>\n",
       "      <td>1.932911e-08</td>\n",
       "    </tr>\n",
       "    <tr>\n",
       "      <th>18</th>\n",
       "      <td>forestfires</td>\n",
       "      <td>-1.478334</td>\n",
       "      <td>-2.224986</td>\n",
       "      <td>-2.228358</td>\n",
       "      <td>1.000000e+00</td>\n",
       "      <td>1.000000e+00</td>\n",
       "    </tr>\n",
       "    <tr>\n",
       "      <th>19</th>\n",
       "      <td>winequality_red</td>\n",
       "      <td>0.480025</td>\n",
       "      <td>0.479654</td>\n",
       "      <td>0.479361</td>\n",
       "      <td>9.999923e-01</td>\n",
       "      <td>9.999691e-01</td>\n",
       "    </tr>\n",
       "  </tbody>\n",
       "</table>\n",
       "</div>"
      ],
      "text/plain": [
       "                           name  r2_mean_original  r2_mean_mirrored  r2_mean_inverted  p_original_mirrored  p_original_inverted\n",
       "0                        o-ring          0.158496          0.184483          0.184254         7.557893e-01         7.513055e-01\n",
       "1   stock_portfolio_performance          0.991480          0.991341          0.991132         9.999999e-01         9.857344e-01\n",
       "2                       wsn-ale          0.527776          0.529996          0.526320         1.198614e-05         6.003186e-01\n",
       "3                  daily-demand          0.820165          0.820793          0.824637         6.113701e-18         2.408216e-09\n",
       "4                         servo          0.632808          0.632844          0.633503         1.858152e-26         1.590411e-01\n",
       "5           yacht_hydrodynamics          0.994773          0.994780          0.994819         3.565401e-13         1.368704e-07\n",
       "6                      autoMPG6          0.872051          0.871949          0.871830         9.372297e-01         9.936452e-01\n",
       "7            excitation_current          0.999906          0.999912          0.999911         1.201031e-72         2.405857e-52\n",
       "8         real_estate_valuation          0.693178          0.692343          0.693739         1.000000e+00         3.424129e-01\n",
       "9                       wankara          0.987279          0.987323          0.987283         8.314341e-27         5.546762e-01\n",
       "10                      plastic          0.715212          0.710206          0.710184         1.000000e+00         1.000000e+00\n",
       "11                        laser          0.963301          0.963472          0.963444         9.793492e-01         7.999486e-01\n",
       "12        qsar-aquatic-toxicity          0.523587          0.523924          0.523708         4.052072e-12         2.715726e-01\n",
       "13                     baseball          0.668159          0.667043          0.667202         1.000000e+00         9.978070e-01\n",
       "14         maternal_health_risk          0.751589          0.752713          0.752701         7.040152e-39         6.869716e-21\n",
       "15                 medical_cost          0.694420          0.693818          0.693762         1.000000e+00         1.000000e+00\n",
       "16                   boom_bikes          0.996104          0.996105          0.996104         2.996458e-01         4.156154e-01\n",
       "17                       wizmir          0.992280          0.992283          0.992295         2.257983e-03         1.932911e-08\n",
       "18                  forestfires         -1.478334         -2.224986         -2.228358         1.000000e+00         1.000000e+00\n",
       "19              winequality_red          0.480025          0.479654          0.479361         9.999923e-01         9.999691e-01"
      ]
     },
     "execution_count": 5,
     "metadata": {},
     "output_type": "execute_result"
    }
   ],
   "source": [
    "results_pdf[['name', 'r2_mean_original', 'r2_mean_mirrored', 'r2_mean_inverted', 'p_original_mirrored', 'p_original_inverted']]"
   ]
  },
  {
   "cell_type": "code",
   "execution_count": 6,
   "metadata": {},
   "outputs": [],
   "source": [
    "results_pdf.to_csv('existance-regression-rf.csv')"
   ]
  }
 ],
 "metadata": {
  "kernelspec": {
   "display_name": "smote_clean",
   "language": "python",
   "name": "python3"
  },
  "language_info": {
   "codemirror_mode": {
    "name": "ipython",
    "version": 3
   },
   "file_extension": ".py",
   "mimetype": "text/x-python",
   "name": "python",
   "nbconvert_exporter": "python",
   "pygments_lexer": "ipython3",
   "version": "3.10.0"
  },
  "orig_nbformat": 4,
  "vscode": {
   "interpreter": {
    "hash": "499044d5ebe425087106556eea30a149e28227c692f9b3f42bc5fd0f94503385"
   }
  }
 },
 "nbformat": 4,
 "nbformat_minor": 2
}
