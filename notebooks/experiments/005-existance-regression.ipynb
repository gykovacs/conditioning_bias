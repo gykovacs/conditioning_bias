{
 "cells": [
  {
   "cell_type": "code",
   "execution_count": 8,
   "metadata": {},
   "outputs": [],
   "source": [
    "import numpy as np\n",
    "import pandas as pd\n",
    "\n",
    "import tqdm\n",
    "\n",
    "from scipy.stats import wilcoxon\n",
    "\n",
    "from sklearn.model_selection import RepeatedKFold\n",
    "from sklearn.metrics import r2_score\n",
    "from sklearn.tree import DecisionTreeRegressor\n",
    "\n",
    "from datasets import regr_datasets"
   ]
  },
  {
   "cell_type": "code",
   "execution_count": 9,
   "metadata": {},
   "outputs": [],
   "source": [
    "data_loaders = regr_datasets['data_loader_function'].values.tolist()"
   ]
  },
  {
   "cell_type": "code",
   "execution_count": 10,
   "metadata": {},
   "outputs": [
    {
     "name": "stderr",
     "output_type": "stream",
     "text": [
      "2000it [00:02, 923.40it/s] \n"
     ]
    },
    {
     "name": "stdout",
     "output_type": "stream",
     "text": [
      "     name   r2_orig  r2_flipped        p_full\n",
      "0  o-ring  0.111189    0.252839  4.755020e-28\n"
     ]
    },
    {
     "name": "stderr",
     "output_type": "stream",
     "text": [
      "2000it [00:03, 614.21it/s]\n"
     ]
    },
    {
     "name": "stdout",
     "output_type": "stream",
     "text": [
      "                          name   r2_orig  r2_flipped        p_full\n",
      "0                       o-ring  0.111189    0.252839  4.755020e-28\n",
      "1  stock_portfolio_performance  0.986904    0.986716  4.985757e-01\n"
     ]
    },
    {
     "name": "stderr",
     "output_type": "stream",
     "text": [
      "2000it [00:04, 477.04it/s]\n"
     ]
    },
    {
     "name": "stdout",
     "output_type": "stream",
     "text": [
      "                          name   r2_orig  r2_flipped        p_full\n",
      "0                       o-ring  0.111189    0.252839  4.755020e-28\n",
      "1  stock_portfolio_performance  0.986904    0.986716  4.985757e-01\n",
      "2                      wsn-ale -0.065874   -0.108504  8.774297e-01\n"
     ]
    },
    {
     "name": "stderr",
     "output_type": "stream",
     "text": [
      "2000it [00:03, 605.32it/s]\n"
     ]
    },
    {
     "name": "stdout",
     "output_type": "stream",
     "text": [
      "                          name   r2_orig  r2_flipped        p_full\n",
      "0                       o-ring  0.111189    0.252839  4.755020e-28\n",
      "1  stock_portfolio_performance  0.986904    0.986716  4.985757e-01\n",
      "2                      wsn-ale -0.065874   -0.108504  8.774297e-01\n",
      "3                 daily-demand  0.660793    0.679240  2.668946e-04\n"
     ]
    },
    {
     "name": "stderr",
     "output_type": "stream",
     "text": [
      "2000it [00:03, 642.38it/s]\n"
     ]
    },
    {
     "name": "stdout",
     "output_type": "stream",
     "text": [
      "                          name   r2_orig  r2_flipped        p_full\n",
      "0                       o-ring  0.111189    0.252839  4.755020e-28\n",
      "1  stock_portfolio_performance  0.986904    0.986716  4.985757e-01\n",
      "2                      wsn-ale -0.065874   -0.108504  8.774297e-01\n",
      "3                 daily-demand  0.660793    0.679240  2.668946e-04\n",
      "4                        servo  0.469595    0.469226  9.999939e-01\n"
     ]
    },
    {
     "name": "stderr",
     "output_type": "stream",
     "text": [
      "2000it [00:08, 244.46it/s]\n"
     ]
    },
    {
     "name": "stdout",
     "output_type": "stream",
     "text": [
      "                          name   r2_orig  r2_flipped        p_full\n",
      "0                       o-ring  0.111189    0.252839  4.755020e-28\n",
      "1  stock_portfolio_performance  0.986904    0.986716  4.985757e-01\n",
      "2                      wsn-ale -0.065874   -0.108504  8.774297e-01\n",
      "3                 daily-demand  0.660793    0.679240  2.668946e-04\n",
      "4                        servo  0.469595    0.469226  9.999939e-01\n",
      "5          yacht_hydrodynamics  0.992119    0.992220  5.855707e-02\n"
     ]
    },
    {
     "name": "stderr",
     "output_type": "stream",
     "text": [
      "2000it [00:08, 239.30it/s]\n"
     ]
    },
    {
     "name": "stdout",
     "output_type": "stream",
     "text": [
      "                          name   r2_orig  r2_flipped        p_full\n",
      "0                       o-ring  0.111189    0.252839  4.755020e-28\n",
      "1  stock_portfolio_performance  0.986904    0.986716  4.985757e-01\n",
      "2                      wsn-ale -0.065874   -0.108504  8.774297e-01\n",
      "3                 daily-demand  0.660793    0.679240  2.668946e-04\n",
      "4                        servo  0.469595    0.469226  9.999939e-01\n",
      "5          yacht_hydrodynamics  0.992119    0.992220  5.855707e-02\n",
      "6                     autoMPG6  0.765681    0.765952  3.578707e-01\n"
     ]
    },
    {
     "name": "stderr",
     "output_type": "stream",
     "text": [
      "2000it [00:05, 337.06it/s]\n"
     ]
    },
    {
     "name": "stdout",
     "output_type": "stream",
     "text": [
      "                          name   r2_orig  r2_flipped        p_full\n",
      "0                       o-ring  0.111189    0.252839  4.755020e-28\n",
      "1  stock_portfolio_performance  0.986904    0.986716  4.985757e-01\n",
      "2                      wsn-ale -0.065874   -0.108504  8.774297e-01\n",
      "3                 daily-demand  0.660793    0.679240  2.668946e-04\n",
      "4                        servo  0.469595    0.469226  9.999939e-01\n",
      "5          yacht_hydrodynamics  0.992119    0.992220  5.855707e-02\n",
      "6                     autoMPG6  0.765681    0.765952  3.578707e-01\n",
      "7           excitation_current  0.999820    0.999821  1.581973e-01\n"
     ]
    },
    {
     "name": "stderr",
     "output_type": "stream",
     "text": [
      "2000it [00:08, 234.16it/s]\n"
     ]
    },
    {
     "name": "stdout",
     "output_type": "stream",
     "text": [
      "                          name   r2_orig  r2_flipped        p_full\n",
      "0                       o-ring  0.111189    0.252839  4.755020e-28\n",
      "1  stock_portfolio_performance  0.986904    0.986716  4.985757e-01\n",
      "2                      wsn-ale -0.065874   -0.108504  8.774297e-01\n",
      "3                 daily-demand  0.660793    0.679240  2.668946e-04\n",
      "4                        servo  0.469595    0.469226  9.999939e-01\n",
      "5          yacht_hydrodynamics  0.992119    0.992220  5.855707e-02\n",
      "6                     autoMPG6  0.765681    0.765952  3.578707e-01\n",
      "7           excitation_current  0.999820    0.999821  1.581973e-01\n",
      "8        real_estate_valuation  0.459408    0.474642  5.347367e-06\n"
     ]
    },
    {
     "name": "stderr",
     "output_type": "stream",
     "text": [
      "2000it [00:09, 215.95it/s]\n"
     ]
    },
    {
     "name": "stdout",
     "output_type": "stream",
     "text": [
      "                          name   r2_orig  r2_flipped        p_full\n",
      "0                       o-ring  0.111189    0.252839  4.755020e-28\n",
      "1  stock_portfolio_performance  0.986904    0.986716  4.985757e-01\n",
      "2                      wsn-ale -0.065874   -0.108504  8.774297e-01\n",
      "3                 daily-demand  0.660793    0.679240  2.668946e-04\n",
      "4                        servo  0.469595    0.469226  9.999939e-01\n",
      "5          yacht_hydrodynamics  0.992119    0.992220  5.855707e-02\n",
      "6                     autoMPG6  0.765681    0.765952  3.578707e-01\n",
      "7           excitation_current  0.999820    0.999821  1.581973e-01\n",
      "8        real_estate_valuation  0.459408    0.474642  5.347367e-06\n",
      "9                      wankara  0.969560    0.969572  4.522653e-01\n"
     ]
    },
    {
     "name": "stderr",
     "output_type": "stream",
     "text": [
      "2000it [00:09, 201.92it/s]\n"
     ]
    },
    {
     "name": "stdout",
     "output_type": "stream",
     "text": [
      "                           name   r2_orig  r2_flipped        p_full\n",
      "0                        o-ring  0.111189    0.252839  4.755020e-28\n",
      "1   stock_portfolio_performance  0.986904    0.986716  4.985757e-01\n",
      "2                       wsn-ale -0.065874   -0.108504  8.774297e-01\n",
      "3                  daily-demand  0.660793    0.679240  2.668946e-04\n",
      "4                         servo  0.469595    0.469226  9.999939e-01\n",
      "5           yacht_hydrodynamics  0.992119    0.992220  5.855707e-02\n",
      "6                      autoMPG6  0.765681    0.765952  3.578707e-01\n",
      "7            excitation_current  0.999820    0.999821  1.581973e-01\n",
      "8         real_estate_valuation  0.459408    0.474642  5.347367e-06\n",
      "9                       wankara  0.969560    0.969572  4.522653e-01\n",
      "10                      plastic  0.648509    0.631937  1.000000e+00\n"
     ]
    },
    {
     "name": "stderr",
     "output_type": "stream",
     "text": [
      "2000it [00:11, 170.21it/s]\n"
     ]
    },
    {
     "name": "stdout",
     "output_type": "stream",
     "text": [
      "                           name   r2_orig  r2_flipped        p_full\n",
      "0                        o-ring  0.111189    0.252839  4.755020e-28\n",
      "1   stock_portfolio_performance  0.986904    0.986716  4.985757e-01\n",
      "2                       wsn-ale -0.065874   -0.108504  8.774297e-01\n",
      "3                  daily-demand  0.660793    0.679240  2.668946e-04\n",
      "4                         servo  0.469595    0.469226  9.999939e-01\n",
      "5           yacht_hydrodynamics  0.992119    0.992220  5.855707e-02\n",
      "6                      autoMPG6  0.765681    0.765952  3.578707e-01\n",
      "7            excitation_current  0.999820    0.999821  1.581973e-01\n",
      "8         real_estate_valuation  0.459408    0.474642  5.347367e-06\n",
      "9                       wankara  0.969560    0.969572  4.522653e-01\n",
      "10                      plastic  0.648509    0.631937  1.000000e+00\n",
      "11                        laser  0.921516    0.923284  4.018644e-04\n"
     ]
    },
    {
     "name": "stderr",
     "output_type": "stream",
     "text": [
      "2000it [00:10, 196.38it/s]\n"
     ]
    },
    {
     "name": "stdout",
     "output_type": "stream",
     "text": [
      "                           name   r2_orig  r2_flipped        p_full\n",
      "0                        o-ring  0.111189    0.252839  4.755020e-28\n",
      "1   stock_portfolio_performance  0.986904    0.986716  4.985757e-01\n",
      "2                       wsn-ale -0.065874   -0.108504  8.774297e-01\n",
      "3                  daily-demand  0.660793    0.679240  2.668946e-04\n",
      "4                         servo  0.469595    0.469226  9.999939e-01\n",
      "5           yacht_hydrodynamics  0.992119    0.992220  5.855707e-02\n",
      "6                      autoMPG6  0.765681    0.765952  3.578707e-01\n",
      "7            excitation_current  0.999820    0.999821  1.581973e-01\n",
      "8         real_estate_valuation  0.459408    0.474642  5.347367e-06\n",
      "9                       wankara  0.969560    0.969572  4.522653e-01\n",
      "10                      plastic  0.648509    0.631937  1.000000e+00\n",
      "11                        laser  0.921516    0.923284  4.018644e-04\n",
      "12        qsar-aquatic-toxicity  0.120081    0.126027  1.161612e-03\n"
     ]
    },
    {
     "name": "stderr",
     "output_type": "stream",
     "text": [
      "2000it [00:08, 238.97it/s]\n"
     ]
    },
    {
     "name": "stdout",
     "output_type": "stream",
     "text": [
      "                           name   r2_orig  r2_flipped        p_full\n",
      "0                        o-ring  0.111189    0.252839  4.755020e-28\n",
      "1   stock_portfolio_performance  0.986904    0.986716  4.985757e-01\n",
      "2                       wsn-ale -0.065874   -0.108504  8.774297e-01\n",
      "3                  daily-demand  0.660793    0.679240  2.668946e-04\n",
      "4                         servo  0.469595    0.469226  9.999939e-01\n",
      "5           yacht_hydrodynamics  0.992119    0.992220  5.855707e-02\n",
      "6                      autoMPG6  0.765681    0.765952  3.578707e-01\n",
      "7            excitation_current  0.999820    0.999821  1.581973e-01\n",
      "8         real_estate_valuation  0.459408    0.474642  5.347367e-06\n",
      "9                       wankara  0.969560    0.969572  4.522653e-01\n",
      "10                      plastic  0.648509    0.631937  1.000000e+00\n",
      "11                        laser  0.921516    0.923284  4.018644e-04\n",
      "12        qsar-aquatic-toxicity  0.120081    0.126027  1.161612e-03\n",
      "13                     baseball  0.400659    0.397444  9.083025e-01\n"
     ]
    },
    {
     "name": "stderr",
     "output_type": "stream",
     "text": [
      "2000it [00:06, 316.17it/s]\n"
     ]
    },
    {
     "name": "stdout",
     "output_type": "stream",
     "text": [
      "                           name   r2_orig  r2_flipped        p_full\n",
      "0                        o-ring  0.111189    0.252839  4.755020e-28\n",
      "1   stock_portfolio_performance  0.986904    0.986716  4.985757e-01\n",
      "2                       wsn-ale -0.065874   -0.108504  8.774297e-01\n",
      "3                  daily-demand  0.660793    0.679240  2.668946e-04\n",
      "4                         servo  0.469595    0.469226  9.999939e-01\n",
      "5           yacht_hydrodynamics  0.992119    0.992220  5.855707e-02\n",
      "6                      autoMPG6  0.765681    0.765952  3.578707e-01\n",
      "7            excitation_current  0.999820    0.999821  1.581973e-01\n",
      "8         real_estate_valuation  0.459408    0.474642  5.347367e-06\n",
      "9                       wankara  0.969560    0.969572  4.522653e-01\n",
      "10                      plastic  0.648509    0.631937  1.000000e+00\n",
      "11                        laser  0.921516    0.923284  4.018644e-04\n",
      "12        qsar-aquatic-toxicity  0.120081    0.126027  1.161612e-03\n",
      "13                     baseball  0.400659    0.397444  9.083025e-01\n",
      "14         maternal_health_risk  0.714289    0.713506  9.740449e-01\n"
     ]
    },
    {
     "name": "stderr",
     "output_type": "stream",
     "text": [
      "2000it [00:10, 199.26it/s]\n"
     ]
    },
    {
     "name": "stdout",
     "output_type": "stream",
     "text": [
      "                           name   r2_orig  r2_flipped        p_full\n",
      "0                        o-ring  0.111189    0.252839  4.755020e-28\n",
      "1   stock_portfolio_performance  0.986904    0.986716  4.985757e-01\n",
      "2                       wsn-ale -0.065874   -0.108504  8.774297e-01\n",
      "3                  daily-demand  0.660793    0.679240  2.668946e-04\n",
      "4                         servo  0.469595    0.469226  9.999939e-01\n",
      "5           yacht_hydrodynamics  0.992119    0.992220  5.855707e-02\n",
      "6                      autoMPG6  0.765681    0.765952  3.578707e-01\n",
      "7            excitation_current  0.999820    0.999821  1.581973e-01\n",
      "8         real_estate_valuation  0.459408    0.474642  5.347367e-06\n",
      "9                       wankara  0.969560    0.969572  4.522653e-01\n",
      "10                      plastic  0.648509    0.631937  1.000000e+00\n",
      "11                        laser  0.921516    0.923284  4.018644e-04\n",
      "12        qsar-aquatic-toxicity  0.120081    0.126027  1.161612e-03\n",
      "13                     baseball  0.400659    0.397444  9.083025e-01\n",
      "14         maternal_health_risk  0.714289    0.713506  9.740449e-01\n",
      "15                 medical_cost  0.528055    0.527985  5.693206e-01\n"
     ]
    },
    {
     "name": "stderr",
     "output_type": "stream",
     "text": [
      "2000it [00:13, 146.49it/s]\n"
     ]
    },
    {
     "name": "stdout",
     "output_type": "stream",
     "text": [
      "                           name   r2_orig  r2_flipped        p_full\n",
      "0                        o-ring  0.111189    0.252839  4.755020e-28\n",
      "1   stock_portfolio_performance  0.986904    0.986716  4.985757e-01\n",
      "2                       wsn-ale -0.065874   -0.108504  8.774297e-01\n",
      "3                  daily-demand  0.660793    0.679240  2.668946e-04\n",
      "4                         servo  0.469595    0.469226  9.999939e-01\n",
      "5           yacht_hydrodynamics  0.992119    0.992220  5.855707e-02\n",
      "6                      autoMPG6  0.765681    0.765952  3.578707e-01\n",
      "7            excitation_current  0.999820    0.999821  1.581973e-01\n",
      "8         real_estate_valuation  0.459408    0.474642  5.347367e-06\n",
      "9                       wankara  0.969560    0.969572  4.522653e-01\n",
      "10                      plastic  0.648509    0.631937  1.000000e+00\n",
      "11                        laser  0.921516    0.923284  4.018644e-04\n",
      "12        qsar-aquatic-toxicity  0.120081    0.126027  1.161612e-03\n",
      "13                     baseball  0.400659    0.397444  9.083025e-01\n",
      "14         maternal_health_risk  0.714289    0.713506  9.740449e-01\n",
      "15                 medical_cost  0.528055    0.527985  5.693206e-01\n",
      "16                   boom_bikes  0.987153    0.987138  6.211281e-01\n"
     ]
    },
    {
     "name": "stderr",
     "output_type": "stream",
     "text": [
      "2000it [00:21, 94.16it/s]\n"
     ]
    },
    {
     "name": "stdout",
     "output_type": "stream",
     "text": [
      "                           name   r2_orig  r2_flipped        p_full\n",
      "0                        o-ring  0.111189    0.252839  4.755020e-28\n",
      "1   stock_portfolio_performance  0.986904    0.986716  4.985757e-01\n",
      "2                       wsn-ale -0.065874   -0.108504  8.774297e-01\n",
      "3                  daily-demand  0.660793    0.679240  2.668946e-04\n",
      "4                         servo  0.469595    0.469226  9.999939e-01\n",
      "5           yacht_hydrodynamics  0.992119    0.992220  5.855707e-02\n",
      "6                      autoMPG6  0.765681    0.765952  3.578707e-01\n",
      "7            excitation_current  0.999820    0.999821  1.581973e-01\n",
      "8         real_estate_valuation  0.459408    0.474642  5.347367e-06\n",
      "9                       wankara  0.969560    0.969572  4.522653e-01\n",
      "10                      plastic  0.648509    0.631937  1.000000e+00\n",
      "11                        laser  0.921516    0.923284  4.018644e-04\n",
      "12        qsar-aquatic-toxicity  0.120081    0.126027  1.161612e-03\n",
      "13                     baseball  0.400659    0.397444  9.083025e-01\n",
      "14         maternal_health_risk  0.714289    0.713506  9.740449e-01\n",
      "15                 medical_cost  0.528055    0.527985  5.693206e-01\n",
      "16                   boom_bikes  0.987153    0.987138  6.211281e-01\n",
      "17                       wizmir  0.984328    0.984385  1.015171e-02\n"
     ]
    },
    {
     "name": "stderr",
     "output_type": "stream",
     "text": [
      "2000it [00:13, 149.36it/s]\n"
     ]
    },
    {
     "name": "stdout",
     "output_type": "stream",
     "text": [
      "                           name   r2_orig  r2_flipped        p_full\n",
      "0                        o-ring  0.111189    0.252839  4.755020e-28\n",
      "1   stock_portfolio_performance  0.986904    0.986716  4.985757e-01\n",
      "2                       wsn-ale -0.065874   -0.108504  8.774297e-01\n",
      "3                  daily-demand  0.660793    0.679240  2.668946e-04\n",
      "4                         servo  0.469595    0.469226  9.999939e-01\n",
      "5           yacht_hydrodynamics  0.992119    0.992220  5.855707e-02\n",
      "6                      autoMPG6  0.765681    0.765952  3.578707e-01\n",
      "7            excitation_current  0.999820    0.999821  1.581973e-01\n",
      "8         real_estate_valuation  0.459408    0.474642  5.347367e-06\n",
      "9                       wankara  0.969560    0.969572  4.522653e-01\n",
      "10                      plastic  0.648509    0.631937  1.000000e+00\n",
      "11                        laser  0.921516    0.923284  4.018644e-04\n",
      "12        qsar-aquatic-toxicity  0.120081    0.126027  1.161612e-03\n",
      "13                     baseball  0.400659    0.397444  9.083025e-01\n",
      "14         maternal_health_risk  0.714289    0.713506  9.740449e-01\n",
      "15                 medical_cost  0.528055    0.527985  5.693206e-01\n",
      "16                   boom_bikes  0.987153    0.987138  6.211281e-01\n",
      "17                       wizmir  0.984328    0.984385  1.015171e-02\n",
      "18                  forestfires -6.265522   -9.714732  1.000000e+00\n"
     ]
    },
    {
     "name": "stderr",
     "output_type": "stream",
     "text": [
      "2000it [00:31, 63.40it/s]"
     ]
    },
    {
     "name": "stdout",
     "output_type": "stream",
     "text": [
      "                           name   r2_orig  r2_flipped        p_full\n",
      "0                        o-ring  0.111189    0.252839  4.755020e-28\n",
      "1   stock_portfolio_performance  0.986904    0.986716  4.985757e-01\n",
      "2                       wsn-ale -0.065874   -0.108504  8.774297e-01\n",
      "3                  daily-demand  0.660793    0.679240  2.668946e-04\n",
      "4                         servo  0.469595    0.469226  9.999939e-01\n",
      "5           yacht_hydrodynamics  0.992119    0.992220  5.855707e-02\n",
      "6                      autoMPG6  0.765681    0.765952  3.578707e-01\n",
      "7            excitation_current  0.999820    0.999821  1.581973e-01\n",
      "8         real_estate_valuation  0.459408    0.474642  5.347367e-06\n",
      "9                       wankara  0.969560    0.969572  4.522653e-01\n",
      "10                      plastic  0.648509    0.631937  1.000000e+00\n",
      "11                        laser  0.921516    0.923284  4.018644e-04\n",
      "12        qsar-aquatic-toxicity  0.120081    0.126027  1.161612e-03\n",
      "13                     baseball  0.400659    0.397444  9.083025e-01\n",
      "14         maternal_health_risk  0.714289    0.713506  9.740449e-01\n",
      "15                 medical_cost  0.528055    0.527985  5.693206e-01\n",
      "16                   boom_bikes  0.987153    0.987138  6.211281e-01\n",
      "17                       wizmir  0.984328    0.984385  1.015171e-02\n",
      "18                  forestfires -6.265522   -9.714732  1.000000e+00\n",
      "19              winequality_red  0.034704    0.036168  1.230098e-01\n"
     ]
    },
    {
     "name": "stderr",
     "output_type": "stream",
     "text": [
      "\n"
     ]
    }
   ],
   "source": [
    "results = []\n",
    "\n",
    "validator = RepeatedKFold(n_splits=5, n_repeats=400, random_state=5)\n",
    "\n",
    "for data_loader in data_loaders:\n",
    "    dataset = data_loader()\n",
    "    X = dataset['data']\n",
    "    y = dataset['target']\n",
    "    \n",
    "    r2s_orig = []\n",
    "    r2s_flipped = []\n",
    "    \n",
    "    for train, test in tqdm.tqdm(validator.split(X, y, y)):\n",
    "        X_train = X[train]\n",
    "        X_test = X[test]\n",
    "        y_train = y[train]\n",
    "        y_test = y[test]\n",
    "        \n",
    "        min_samples_leaf = 1\n",
    "        max_depth = None\n",
    "        \n",
    "        params = {'min_samples_leaf': min_samples_leaf,\n",
    "                  'max_depth': max_depth}\n",
    "        \n",
    "        try:\n",
    "            pred = DecisionTreeRegressor(**params).fit(X_train, y_train).predict(X_test)\n",
    "            r2s_orig.append(r2_score(y_test, pred))\n",
    "            \n",
    "            pred = DecisionTreeRegressor(**params).fit(-X_train, y_train).predict(-X_test)\n",
    "            r2s_flipped.append(r2_score(y_test, pred))\n",
    "            \n",
    "        except:\n",
    "            pass\n",
    "    \n",
    "    tmp = [dataset['name'], np.mean(r2s_orig), np.mean(r2s_flipped),  \n",
    "                            r2s_orig, r2s_flipped]\n",
    "    \n",
    "    tmp = tmp + [wilcoxon(r2s_orig, r2s_flipped, alternative='less', zero_method='zsplit').pvalue]\n",
    "    \n",
    "    results.append(tmp)\n",
    "    \n",
    "    results_pdf = pd.DataFrame(results, columns=['name', 'r2_orig', 'r2_flipped', 'r2s_orig', 'r2s_flipped', 'p_full'])\n",
    "    \n",
    "    print(results_pdf[['name', \n",
    "                        'r2_orig', \n",
    "                        'r2_flipped', \n",
    "                        'p_full']])\n",
    "        \n"
   ]
  },
  {
   "cell_type": "code",
   "execution_count": 11,
   "metadata": {},
   "outputs": [],
   "source": [
    "results_pdf.to_csv('existance-regression-dt.csv')"
   ]
  },
  {
   "cell_type": "code",
   "execution_count": null,
   "metadata": {},
   "outputs": [],
   "source": []
  }
 ],
 "metadata": {
  "kernelspec": {
   "display_name": "smote_clean",
   "language": "python",
   "name": "python3"
  },
  "language_info": {
   "codemirror_mode": {
    "name": "ipython",
    "version": 3
   },
   "file_extension": ".py",
   "mimetype": "text/x-python",
   "name": "python",
   "nbconvert_exporter": "python",
   "pygments_lexer": "ipython3",
   "version": "3.10.0"
  },
  "orig_nbformat": 4,
  "vscode": {
   "interpreter": {
    "hash": "499044d5ebe425087106556eea30a149e28227c692f9b3f42bc5fd0f94503385"
   }
  }
 },
 "nbformat": 4,
 "nbformat_minor": 2
}
