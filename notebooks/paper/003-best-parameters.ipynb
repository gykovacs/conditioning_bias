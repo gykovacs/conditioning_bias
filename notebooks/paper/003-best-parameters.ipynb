{
 "cells": [
  {
   "cell_type": "code",
   "execution_count": 26,
   "metadata": {},
   "outputs": [],
   "source": [
    "import numpy as np\n",
    "import pandas as pd\n",
    "\n",
    "from config import dataset_map"
   ]
  },
  {
   "cell_type": "code",
   "execution_count": 27,
   "metadata": {},
   "outputs": [],
   "source": [
    "inverse_map = {value: key for key, value in dataset_map.items()}"
   ]
  },
  {
   "cell_type": "code",
   "execution_count": 28,
   "metadata": {},
   "outputs": [],
   "source": [
    "labels = ['dtc']\n",
    "\n",
    "for label in labels:\n",
    "    data = pd.concat([pd.read_csv(f'boostrap_{label}_bs_md.csv'), pd.read_csv(f'boostrap_{label}_bs_msl.csv')])\n",
    "    grouped = data.groupby(['name', 'estimator', 'params']).agg({'auc': 'mean'}).reset_index(drop=False)\n",
    "    best_params = grouped.groupby(['name']).apply(lambda pdf: pdf.sort_values('auc').iloc[-1]).reset_index(drop=True)\n",
    "    best_params['name'] = best_params['name'].apply(lambda x: inverse_map.get(x, x))\n",
    "    best_params = best_params[['name', 'params', 'auc']]\n",
    "    best_params.to_csv(f'params_{label}.csv', index=False)"
   ]
  },
  {
   "cell_type": "code",
   "execution_count": null,
   "metadata": {},
   "outputs": [],
   "source": []
  }
 ],
 "metadata": {
  "kernelspec": {
   "display_name": "splitting-bias",
   "language": "python",
   "name": "python3"
  },
  "language_info": {
   "codemirror_mode": {
    "name": "ipython",
    "version": 3
   },
   "file_extension": ".py",
   "mimetype": "text/x-python",
   "name": "python",
   "nbconvert_exporter": "python",
   "pygments_lexer": "ipython3",
   "version": "3.10.13"
  }
 },
 "nbformat": 4,
 "nbformat_minor": 2
}
