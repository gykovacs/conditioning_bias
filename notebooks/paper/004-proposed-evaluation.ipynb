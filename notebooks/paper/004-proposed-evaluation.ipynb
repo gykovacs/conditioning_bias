{
 "cells": [
  {
   "cell_type": "code",
   "execution_count": 5,
   "metadata": {},
   "outputs": [],
   "source": [
    "from flipping_random_forest import (AveragedDecisionTreeClassifier,\n",
    "                                    AveragedRandomForestClassifier,\n",
    "                                    AveragedDecisionTreeRegressor,\n",
    "                                    AveragedRandomForestRegressor,\n",
    "                                    FlippingDecisionTreeClassifier,\n",
    "                                    FlippingDecisionTreeRegressor,\n",
    "                                    FlippingRandomForestClassifier,\n",
    "                                    FlippingRandomForestRegressor)\n",
    "from evaluation import evaluate_classification, evaluate_regression\n",
    "from config import n_splits, n_repeats, dataset_map"
   ]
  },
  {
   "cell_type": "code",
   "execution_count": 6,
   "metadata": {},
   "outputs": [],
   "source": [
    "from datasets import binclas_datasets\n",
    "from datasets import regr_datasets"
   ]
  },
  {
   "cell_type": "code",
   "execution_count": 7,
   "metadata": {},
   "outputs": [],
   "source": [
    "n_splits = 5\n",
    "n_repeats = 100"
   ]
  },
  {
   "cell_type": "code",
   "execution_count": 8,
   "metadata": {},
   "outputs": [
    {
     "name": "stdout",
     "output_type": "stream",
     "text": [
      "2023-11-19 23:26:22.170335 appendicitis\n",
      "2023-11-19 23:26:22.232223 haberman\n",
      "2023-11-19 23:26:22.309300 new_thyroid1\n",
      "2023-11-19 23:26:22.415777 glass0\n",
      "2023-11-19 23:26:22.502527 shuttle-6_vs_2-3\n",
      "2023-11-19 23:26:22.573981 bupa\n",
      "2023-11-19 23:26:22.684539 cleveland-0_vs_4\n",
      "2023-11-19 23:26:22.782078 ecoli1\n",
      "2023-11-19 23:26:22.895720 poker-9_vs_7\n",
      "2023-11-19 23:26:22.978255 monk-2\n",
      "2023-11-19 23:26:23.082679 hepatitis\n",
      "2023-11-19 23:26:23.167723 yeast-0-3-5-9_vs_7-8\n",
      "2023-11-19 23:26:23.236080 mammographic\n",
      "2023-11-19 23:26:23.324897 saheart\n",
      "2023-11-19 23:26:23.442630 page-blocks-1-3_vs_4\n",
      "2023-11-19 23:26:23.601031 lymphography-normal-fibrosis\n",
      "2023-11-19 23:26:23.696431 pima\n",
      "2023-11-19 23:26:23.799674 wisconsin\n",
      "2023-11-19 23:26:23.884325 abalone9_18\n",
      "2023-11-19 23:26:23.992522 winequality-red-3_vs_5\n"
     ]
    }
   ],
   "source": [
    "results = evaluate_classification(\n",
    "    datasets=binclas_datasets,\n",
    "    estimator=AveragedDecisionTreeClassifier,\n",
    "    params=[\n",
    "        {'random_state': 5},\n",
    "        {'random_state': 5, 'min_samples_leaf': 0.01},\n",
    "        {'random_state': 5, 'min_samples_leaf': 0.1}\n",
    "    ],\n",
    "    validator_params={'n_splits': n_splits, 'n_repeats': n_repeats, 'random_state': 5},\n",
    "    random_state=5\n",
    ")\n",
    "results['name'] = results['name'].apply(lambda x: dataset_map.get(x, x))\n",
    "results.to_csv('proposed_adtc.csv')"
   ]
  },
  {
   "cell_type": "code",
   "execution_count": 9,
   "metadata": {},
   "outputs": [
    {
     "name": "stdout",
     "output_type": "stream",
     "text": [
      "2023-11-19 23:26:24.088988 appendicitis\n",
      "2023-11-19 23:26:27.405418 haberman\n",
      "2023-11-19 23:26:30.643653 new_thyroid1\n",
      "2023-11-19 23:26:33.323567 glass0\n",
      "2023-11-19 23:26:36.400786 shuttle-6_vs_2-3\n",
      "2023-11-19 23:26:39.225971 bupa\n",
      "2023-11-19 23:26:43.233375 cleveland-0_vs_4\n",
      "2023-11-19 23:26:46.391928 ecoli1\n",
      "2023-11-19 23:26:49.804131 poker-9_vs_7\n",
      "2023-11-19 23:26:52.863416 monk-2\n",
      "2023-11-19 23:26:56.359161 hepatitis\n",
      "2023-11-19 23:26:59.554803 yeast-0-3-5-9_vs_7-8\n",
      "2023-11-19 23:27:03.565895 mammographic\n",
      "2023-11-19 23:27:07.463478 saheart\n",
      "2023-11-19 23:27:11.666037 page-blocks-1-3_vs_4\n",
      "2023-11-19 23:27:15.247256 lymphography-normal-fibrosis\n",
      "2023-11-19 23:27:18.229704 pima\n",
      "2023-11-19 23:27:22.543168 wisconsin\n",
      "2023-11-19 23:27:26.026366 abalone9_18\n",
      "2023-11-19 23:27:30.661823 winequality-red-3_vs_5\n"
     ]
    }
   ],
   "source": [
    "results = evaluate_classification(\n",
    "    datasets=binclas_datasets,\n",
    "    estimator=AveragedRandomForestClassifier,\n",
    "    params=[\n",
    "        {'random_state': 5, 'mode': 'full'},\n",
    "        {'random_state': 5, 'min_samples_leaf': 0.01, 'mode': 'full'},\n",
    "        {'random_state': 5, 'min_samples_leaf': 0.1, 'mode': 'full'},\n",
    "        {'random_state': 5, 'mode': 'half'},\n",
    "        {'random_state': 5, 'min_samples_leaf': 0.01, 'mode': 'half'},\n",
    "        {'random_state': 5, 'min_samples_leaf': 0.1, 'mode': 'half'},\n",
    "    ],\n",
    "    validator_params={'n_splits': n_splits, 'n_repeats': n_repeats, 'random_state': 5},\n",
    "    random_state=5\n",
    ")\n",
    "results['name'] = results['name'].apply(lambda x: dataset_map.get(x, x))\n",
    "results.to_csv('proposed_arfc.csv')"
   ]
  },
  {
   "cell_type": "code",
   "execution_count": 10,
   "metadata": {},
   "outputs": [
    {
     "name": "stdout",
     "output_type": "stream",
     "text": [
      "2023-11-19 23:27:34.392321 diabetes\n",
      "2023-11-19 23:27:34.444176 o-ring\n",
      "2023-11-19 23:27:34.825211 stock_portfolio_performance\n",
      "2023-11-19 23:27:34.880620 wsn-ale\n",
      "2023-11-19 23:27:34.958710 daily-demand\n",
      "2023-11-19 23:27:35.009883 slump_test\n",
      "2023-11-19 23:27:35.063951 servo\n",
      "2023-11-19 23:27:35.120967 yacht_hydrodynamics\n",
      "2023-11-19 23:27:35.186416 autoMPG6\n",
      "2023-11-19 23:27:35.248017 excitation_current\n",
      "2023-11-19 23:27:35.393465 real_estate_valuation\n",
      "2023-11-19 23:27:35.472501 wankara\n",
      "2023-11-19 23:27:35.560299 plastic\n",
      "2023-11-19 23:27:35.661582 laser\n",
      "2023-11-19 23:27:35.771208 qsar-aquatic-toxicity\n",
      "2023-11-19 23:27:35.891837 baseball\n",
      "2023-11-19 23:27:35.990050 maternal_health_risk\n",
      "2023-11-19 23:27:36.101772 cpu_performance\n",
      "2023-11-19 23:27:36.182575 airfoil\n",
      "2023-11-19 23:27:36.282164 medical_cost\n"
     ]
    }
   ],
   "source": [
    "results = evaluate_regression(\n",
    "    datasets=regr_datasets,\n",
    "    estimator=AveragedDecisionTreeRegressor,\n",
    "    params=[\n",
    "        {'random_state': 5},\n",
    "        {'random_state': 5, 'min_samples_leaf': 0.01},\n",
    "        {'random_state': 5, 'min_samples_leaf': 0.1}\n",
    "    ],\n",
    "    validator_params={'n_splits': n_splits, 'n_repeats': n_repeats, 'random_state': 5},\n",
    "    random_state=5\n",
    ")\n",
    "results['name'] = results['name'].apply(lambda x: dataset_map.get(x, x))\n",
    "results.to_csv('proposed_adtr.csv')"
   ]
  },
  {
   "cell_type": "code",
   "execution_count": 11,
   "metadata": {},
   "outputs": [
    {
     "name": "stdout",
     "output_type": "stream",
     "text": [
      "2023-11-19 23:27:36.366582 diabetes\n",
      "2023-11-19 23:27:39.103276 o-ring\n",
      "2023-11-19 23:27:41.297399 stock_portfolio_performance\n",
      "2023-11-19 23:27:43.962714 wsn-ale\n",
      "2023-11-19 23:27:47.316586 daily-demand\n",
      "2023-11-19 23:27:50.155395 slump_test\n",
      "2023-11-19 23:27:53.279462 servo\n",
      "2023-11-19 23:27:56.014195 yacht_hydrodynamics\n",
      "2023-11-19 23:27:59.412538 autoMPG6\n",
      "2023-11-19 23:28:03.034940 excitation_current\n",
      "2023-11-19 23:28:06.760346 real_estate_valuation\n",
      "2023-11-19 23:28:10.908900 wankara\n",
      "2023-11-19 23:28:14.884135 plastic\n",
      "2023-11-19 23:28:19.471451 laser\n",
      "2023-11-19 23:28:24.667324 qsar-aquatic-toxicity\n",
      "2023-11-19 23:28:29.709368 baseball\n",
      "2023-11-19 23:28:34.718491 maternal_health_risk\n",
      "2023-11-19 23:28:38.927935 cpu_performance\n",
      "2023-11-19 23:28:42.559594 airfoil\n",
      "2023-11-19 23:28:48.108007 medical_cost\n"
     ]
    }
   ],
   "source": [
    "results = evaluate_regression(\n",
    "    datasets=regr_datasets,\n",
    "    estimator=AveragedRandomForestRegressor,\n",
    "    params=[\n",
    "        {'random_state': 5, 'mode': 'full'},\n",
    "        {'random_state': 5, 'min_samples_leaf': 0.01, 'mode': 'full'},\n",
    "        {'random_state': 5, 'min_samples_leaf': 0.1, 'mode': 'full'},\n",
    "        {'random_state': 5, 'mode': 'half'},\n",
    "        {'random_state': 5, 'min_samples_leaf': 0.01, 'mode': 'half'},\n",
    "        {'random_state': 5, 'min_samples_leaf': 0.1, 'mode': 'half'},\n",
    "    ],\n",
    "    validator_params={'n_splits': n_splits, 'n_repeats': n_repeats, 'random_state': 5},\n",
    "    random_state=5\n",
    ")\n",
    "results['name'] = results['name'].apply(lambda x: dataset_map.get(x, x))\n",
    "results.to_csv('proposed_arfr.csv')"
   ]
  },
  {
   "cell_type": "code",
   "execution_count": 12,
   "metadata": {},
   "outputs": [
    {
     "name": "stdout",
     "output_type": "stream",
     "text": [
      "2023-11-19 23:28:53.405551 appendicitis\n",
      "2023-11-19 23:28:53.483718 haberman\n",
      "2023-11-19 23:28:53.551243 new_thyroid1\n",
      "2023-11-19 23:28:53.636350 glass0\n",
      "2023-11-19 23:28:53.740350 shuttle-6_vs_2-3\n",
      "2023-11-19 23:28:53.838438 bupa\n",
      "2023-11-19 23:28:54.035596 cleveland-0_vs_4\n",
      "2023-11-19 23:28:54.171551 ecoli1\n",
      "2023-11-19 23:28:54.313016 poker-9_vs_7\n",
      "2023-11-19 23:28:54.424416 monk-2\n",
      "2023-11-19 23:28:54.580678 hepatitis\n",
      "2023-11-19 23:28:54.723828 yeast-0-3-5-9_vs_7-8\n",
      "2023-11-19 23:28:54.880911 mammographic\n",
      "2023-11-19 23:28:55.021161 saheart\n",
      "2023-11-19 23:28:55.185302 page-blocks-1-3_vs_4\n",
      "2023-11-19 23:28:55.346537 lymphography-normal-fibrosis\n",
      "2023-11-19 23:28:55.453045 pima\n",
      "2023-11-19 23:28:55.612939 wisconsin\n",
      "2023-11-19 23:28:55.761430 abalone9_18\n",
      "2023-11-19 23:28:55.986786 winequality-red-3_vs_5\n"
     ]
    }
   ],
   "source": [
    "results = evaluate_classification(\n",
    "    datasets=binclas_datasets,\n",
    "    estimator=FlippingDecisionTreeClassifier,\n",
    "    params=[\n",
    "        {'random_state': 5},\n",
    "        {'random_state': 5, 'min_samples_leaf': 0.01},\n",
    "        {'random_state': 5, 'min_samples_leaf': 0.1}\n",
    "    ],\n",
    "    validator_params={'n_splits': n_splits, 'n_repeats': n_repeats, 'random_state': 5},\n",
    "    random_state=5\n",
    ")\n",
    "results['name'] = results['name'].apply(lambda x: dataset_map.get(x, x))\n",
    "results.to_csv('proposed_fdtc.csv')"
   ]
  },
  {
   "cell_type": "code",
   "execution_count": 13,
   "metadata": {},
   "outputs": [
    {
     "name": "stdout",
     "output_type": "stream",
     "text": [
      "2023-11-19 23:28:56.218780 appendicitis\n",
      "2023-11-19 23:28:59.798508 haberman\n",
      "2023-11-19 23:29:03.365227 new_thyroid1\n",
      "2023-11-19 23:29:06.922213 glass0\n",
      "2023-11-19 23:29:10.301909 shuttle-6_vs_2-3\n",
      "2023-11-19 23:29:13.442937 bupa\n",
      "2023-11-19 23:29:18.445124 cleveland-0_vs_4\n",
      "2023-11-19 23:29:22.453853 ecoli1\n",
      "2023-11-19 23:29:26.979214 poker-9_vs_7\n",
      "2023-11-19 23:29:30.267760 monk-2\n",
      "2023-11-19 23:29:33.754960 hepatitis\n",
      "2023-11-19 23:29:36.809874 yeast-0-3-5-9_vs_7-8\n",
      "2023-11-19 23:29:43.414043 mammographic\n",
      "2023-11-19 23:29:48.775246 saheart\n",
      "2023-11-19 23:29:53.511107 page-blocks-1-3_vs_4\n",
      "2023-11-19 23:29:57.026367 lymphography-normal-fibrosis\n",
      "2023-11-19 23:30:00.052053 pima\n",
      "2023-11-19 23:30:04.040256 wisconsin\n",
      "2023-11-19 23:30:07.421472 abalone9_18\n",
      "2023-11-19 23:30:11.552214 winequality-red-3_vs_5\n"
     ]
    }
   ],
   "source": [
    "results = evaluate_classification(\n",
    "    datasets=binclas_datasets,\n",
    "    estimator=FlippingRandomForestClassifier,\n",
    "    params=[\n",
    "        {'random_state': 5, 'mode': 'full'},\n",
    "        {'random_state': 5, 'min_samples_leaf': 0.01, 'mode': 'full'},\n",
    "        {'random_state': 5, 'min_samples_leaf': 0.1, 'mode': 'full'},\n",
    "        {'random_state': 5, 'mode': 'half'},\n",
    "        {'random_state': 5, 'min_samples_leaf': 0.01, 'mode': 'half'},\n",
    "        {'random_state': 5, 'min_samples_leaf': 0.1, 'mode': 'half'},\n",
    "    ],\n",
    "    validator_params={'n_splits': n_splits, 'n_repeats': n_repeats, 'random_state': 5},\n",
    "    random_state=5\n",
    ")\n",
    "results['name'] = results['name'].apply(lambda x: dataset_map.get(x, x))\n",
    "results.to_csv('proposed_frfc.csv')"
   ]
  },
  {
   "cell_type": "code",
   "execution_count": 14,
   "metadata": {},
   "outputs": [
    {
     "name": "stdout",
     "output_type": "stream",
     "text": [
      "2023-11-19 23:30:15.223329 diabetes\n",
      "2023-11-19 23:30:15.285155 o-ring\n",
      "2023-11-19 23:30:15.386461 stock_portfolio_performance\n",
      "2023-11-19 23:30:15.454334 wsn-ale\n",
      "2023-11-19 23:30:15.549522 daily-demand\n",
      "2023-11-19 23:30:15.615667 slump_test\n",
      "2023-11-19 23:30:15.692413 servo\n",
      "2023-11-19 23:30:15.755788 yacht_hydrodynamics\n",
      "2023-11-19 23:30:15.821986 autoMPG6\n",
      "2023-11-19 23:30:15.896763 excitation_current\n",
      "2023-11-19 23:30:16.063493 real_estate_valuation\n",
      "2023-11-19 23:30:16.163924 wankara\n",
      "2023-11-19 23:30:16.253265 plastic\n",
      "2023-11-19 23:30:16.339093 laser\n",
      "2023-11-19 23:30:16.467287 qsar-aquatic-toxicity\n",
      "2023-11-19 23:30:16.644391 baseball\n",
      "2023-11-19 23:30:16.830523 maternal_health_risk\n",
      "2023-11-19 23:30:17.030369 cpu_performance\n",
      "2023-11-19 23:30:17.171596 airfoil\n",
      "2023-11-19 23:30:17.328993 medical_cost\n"
     ]
    }
   ],
   "source": [
    "results = evaluate_regression(\n",
    "    datasets=regr_datasets,\n",
    "    estimator=FlippingDecisionTreeRegressor,\n",
    "    params=[\n",
    "        {'random_state': 5},\n",
    "        {'random_state': 5, 'min_samples_leaf': 0.01},\n",
    "        {'random_state': 5, 'min_samples_leaf': 0.1}\n",
    "    ],\n",
    "    validator_params={'n_splits': n_splits, 'n_repeats': n_repeats, 'random_state': 5},\n",
    "    random_state=5\n",
    ")\n",
    "results['name'] = results['name'].apply(lambda x: dataset_map.get(x, x))\n",
    "results.to_csv('proposed_fdtr.csv')"
   ]
  },
  {
   "cell_type": "code",
   "execution_count": 15,
   "metadata": {},
   "outputs": [
    {
     "name": "stdout",
     "output_type": "stream",
     "text": [
      "2023-11-19 23:30:17.460779 diabetes\n",
      "2023-11-19 23:30:19.063022 o-ring\n",
      "2023-11-19 23:30:20.253293 stock_portfolio_performance\n",
      "2023-11-19 23:30:21.526678 wsn-ale\n",
      "2023-11-19 23:30:22.902462 daily-demand\n",
      "2023-11-19 23:30:24.468811 slump_test\n",
      "2023-11-19 23:30:26.015261 servo\n",
      "2023-11-19 23:30:27.411869 yacht_hydrodynamics\n",
      "2023-11-19 23:30:28.925282 autoMPG6\n",
      "2023-11-19 23:30:31.204993 excitation_current\n",
      "2023-11-19 23:30:33.471611 real_estate_valuation\n",
      "2023-11-19 23:30:35.501768 wankara\n",
      "2023-11-19 23:30:37.379886 plastic\n",
      "2023-11-19 23:30:39.525159 laser\n",
      "2023-11-19 23:30:43.789258 qsar-aquatic-toxicity\n",
      "2023-11-19 23:30:46.665736 baseball\n",
      "2023-11-19 23:30:49.207191 maternal_health_risk\n",
      "2023-11-19 23:30:51.387100 cpu_performance\n",
      "2023-11-19 23:30:53.262527 airfoil\n",
      "2023-11-19 23:30:56.317655 medical_cost\n"
     ]
    }
   ],
   "source": [
    "results = evaluate_regression(\n",
    "    datasets=regr_datasets,\n",
    "    estimator=FlippingRandomForestRegressor,\n",
    "    params=[\n",
    "        {'random_state': 5, 'mode': 'full'},\n",
    "        {'random_state': 5, 'min_samples_leaf': 0.01, 'mode': 'full'},\n",
    "        {'random_state': 5, 'min_samples_leaf': 0.1, 'mode': 'full'},\n",
    "        #{'random_state': 5, 'mode': 'half'},\n",
    "        #{'random_state': 5, 'min_samples_leaf': 0.01, 'mode': 'half'},\n",
    "        #{'random_state': 5, 'min_samples_leaf': 0.1, 'mode': 'half'},\n",
    "    ],\n",
    "    validator_params={'n_splits': n_splits, 'n_repeats': n_repeats, 'random_state': 5},\n",
    "    random_state=5\n",
    ")\n",
    "results['name'] = results['name'].apply(lambda x: dataset_map.get(x, x))\n",
    "results.to_csv('proposed_frfr.csv')"
   ]
  }
 ],
 "metadata": {
  "kernelspec": {
   "display_name": "splitting-bias",
   "language": "python",
   "name": "python3"
  },
  "language_info": {
   "codemirror_mode": {
    "name": "ipython",
    "version": 3
   },
   "file_extension": ".py",
   "mimetype": "text/x-python",
   "name": "python",
   "nbconvert_exporter": "python",
   "pygments_lexer": "ipython3",
   "version": "3.10.13"
  }
 },
 "nbformat": 4,
 "nbformat_minor": 2
}
