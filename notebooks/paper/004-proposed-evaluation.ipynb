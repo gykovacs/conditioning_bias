{
 "cells": [
  {
   "cell_type": "code",
   "execution_count": 1,
   "metadata": {},
   "outputs": [],
   "source": [
    "from flipping_random_forest import (AveragedDecisionTreeClassifier,\n",
    "                                    AveragedRandomForestClassifier,\n",
    "                                    AveragedDecisionTreeRegressor,\n",
    "                                    AveragedRandomForestRegressor,\n",
    "                                    FlippingDecisionTreeClassifier,\n",
    "                                    FlippingDecisionTreeRegressor,\n",
    "                                    FlippingRandomForestClassifier,\n",
    "                                    FlippingRandomForestRegressor)\n",
    "from evaluation import evaluate_classification, evaluate_regression\n",
    "from config import n_splits, n_repeats, dataset_map"
   ]
  },
  {
   "cell_type": "code",
   "execution_count": 2,
   "metadata": {},
   "outputs": [
    {
     "name": "stderr",
     "output_type": "stream",
     "text": [
      "2023-11-20 20:17:18 INFO     querying the filtered classification datasets\n"
     ]
    },
    {
     "name": "stderr",
     "output_type": "stream",
     "text": [
      "2023-11-20 20:17:18 INFO     ranking the datasets\n",
      "2023-11-20 20:17:18 INFO     binary classification datasets prepared\n",
      "2023-11-20 20:17:18 INFO     querying the filtered regression datasets\n",
      "2023-11-20 20:17:18 INFO     ranking the datasets\n",
      "2023-11-20 20:17:18 INFO     regression datasets prepared\n"
     ]
    }
   ],
   "source": [
    "from datasets import binclas_datasets\n",
    "from datasets import regr_datasets"
   ]
  },
  {
   "cell_type": "code",
   "execution_count": 3,
   "metadata": {},
   "outputs": [
    {
     "name": "stdout",
     "output_type": "stream",
     "text": [
      "2023-11-20 20:17:18.658078 appendicitis\n",
      "2023-11-20 20:17:27.277955 haberman\n",
      "2023-11-20 20:17:36.311477 new_thyroid1\n",
      "2023-11-20 20:17:44.483905 glass0\n",
      "2023-11-20 20:17:57.424371 shuttle-6_vs_2-3\n",
      "2023-11-20 20:18:04.221850 bupa\n",
      "2023-11-20 20:18:16.082897 cleveland-0_vs_4\n",
      "2023-11-20 20:18:23.879623 ecoli1\n",
      "2023-11-20 20:18:32.774012 poker-9_vs_7\n",
      "2023-11-20 20:18:40.292522 monk-2\n",
      "2023-11-20 20:18:48.354335 hepatitis\n",
      "2023-11-20 20:18:57.693459 yeast-0-3-5-9_vs_7-8\n",
      "2023-11-20 20:19:08.630522 mammographic\n",
      "2023-11-20 20:19:20.344649 saheart\n",
      "2023-11-20 20:19:33.500273 page-blocks-1-3_vs_4\n",
      "2023-11-20 20:19:42.491797 lymphography-normal-fibrosis\n",
      "2023-11-20 20:19:49.604990 pima\n",
      "2023-11-20 20:20:04.191879 wisconsin\n",
      "2023-11-20 20:20:13.611974 abalone9_18\n",
      "2023-11-20 20:20:27.542455 winequality-red-3_vs_5\n"
     ]
    }
   ],
   "source": [
    "results = evaluate_classification(\n",
    "    datasets=binclas_datasets,\n",
    "    estimator=AveragedDecisionTreeClassifier,\n",
    "    params=[\n",
    "        {'random_state': 5},\n",
    "        {'random_state': 5, 'min_samples_leaf': 0.01},\n",
    "        {'random_state': 5, 'min_samples_leaf': 0.1},\n",
    "        {'random_state': 5, 'mode': 'random'},\n",
    "        {'random_state': 5, 'min_samples_leaf': 0.01, 'mode': 'random'},\n",
    "        {'random_state': 5, 'min_samples_leaf': 0.1, 'mode': 'random'},\n",
    "    ],\n",
    "    validator_params={'n_splits': n_splits, 'n_repeats': n_repeats, 'random_state': 5},\n",
    "    random_state=5\n",
    ")\n",
    "results['name'] = results['name'].apply(lambda x: dataset_map.get(x, x))\n",
    "results.to_csv('proposed_adtc.csv')"
   ]
  },
  {
   "cell_type": "code",
   "execution_count": 23,
   "metadata": {},
   "outputs": [
    {
     "name": "stdout",
     "output_type": "stream",
     "text": [
      "2023-11-19 23:34:13.572892 appendicitis\n",
      "2023-11-19 23:39:20.802534 haberman\n",
      "2023-11-19 23:44:57.907817 new_thyroid1\n",
      "2023-11-19 23:50:03.386832 glass0\n",
      "2023-11-19 23:55:42.188145 shuttle-6_vs_2-3\n",
      "2023-11-20 00:01:06.432267 bupa\n",
      "2023-11-20 00:07:11.495738 cleveland-0_vs_4\n",
      "2023-11-20 00:12:14.295230 ecoli1\n",
      "2023-11-20 00:17:48.571505 poker-9_vs_7\n",
      "2023-11-20 00:22:49.337136 monk-2\n",
      "2023-11-20 00:28:06.843670 hepatitis\n",
      "2023-11-20 00:33:17.686464 yeast-0-3-5-9_vs_7-8\n",
      "2023-11-20 00:39:16.799923 mammographic\n",
      "2023-11-20 00:45:32.468908 saheart\n",
      "2023-11-20 00:52:22.492169 page-blocks-1-3_vs_4\n",
      "2023-11-20 00:58:07.302572 lymphography-normal-fibrosis\n",
      "2023-11-20 01:02:52.095852 pima\n",
      "2023-11-20 01:09:59.998127 wisconsin\n",
      "2023-11-20 01:15:41.925368 abalone9_18\n",
      "2023-11-20 01:22:44.963574 winequality-red-3_vs_5\n"
     ]
    }
   ],
   "source": [
    "results = evaluate_classification(\n",
    "    datasets=binclas_datasets,\n",
    "    estimator=AveragedRandomForestClassifier,\n",
    "    params=[\n",
    "        {'random_state': 5, 'mode': 'full'},\n",
    "        {'random_state': 5, 'min_samples_leaf': 0.01, 'mode': 'full'},\n",
    "        {'random_state': 5, 'min_samples_leaf': 0.1, 'mode': 'full'},\n",
    "        {'random_state': 5, 'mode': 'half'},\n",
    "        {'random_state': 5, 'min_samples_leaf': 0.01, 'mode': 'half'},\n",
    "        {'random_state': 5, 'min_samples_leaf': 0.1, 'mode': 'half'},\n",
    "    ],\n",
    "    validator_params={'n_splits': n_splits, 'n_repeats': n_repeats, 'random_state': 5},\n",
    "    random_state=5\n",
    ")\n",
    "results['name'] = results['name'].apply(lambda x: dataset_map.get(x, x))\n",
    "results.to_csv('proposed_arfc.csv')"
   ]
  },
  {
   "cell_type": "code",
   "execution_count": 4,
   "metadata": {},
   "outputs": [
    {
     "name": "stdout",
     "output_type": "stream",
     "text": [
      "2023-11-20 20:20:39.176930 diabetes\n",
      "2023-11-20 20:20:45.383787 o-ring\n",
      "2023-11-20 20:20:50.191142 stock_portfolio_performance\n",
      "2023-11-20 20:20:55.585859 wsn-ale\n",
      "2023-11-20 20:21:02.509094 daily-demand\n",
      "2023-11-20 20:21:10.625061 slump_test\n",
      "2023-11-20 20:21:17.420978 servo\n",
      "2023-11-20 20:21:24.049402 yacht_hydrodynamics\n",
      "2023-11-20 20:21:32.635032 autoMPG6\n",
      "2023-11-20 20:21:42.009197 excitation_current\n",
      "2023-11-20 20:21:53.503138 real_estate_valuation\n",
      "2023-11-20 20:22:05.639684 wankara\n",
      "2023-11-20 20:22:14.952309 plastic\n",
      "2023-11-20 20:22:28.416140 laser\n",
      "2023-11-20 20:22:43.268563 qsar-aquatic-toxicity\n",
      "2023-11-20 20:22:55.882481 baseball\n",
      "2023-11-20 20:23:06.517499 maternal_health_risk\n",
      "2023-11-20 20:23:16.764189 cpu_performance\n",
      "2023-11-20 20:23:25.135594 airfoil\n",
      "2023-11-20 20:23:38.333693 medical_cost\n"
     ]
    }
   ],
   "source": [
    "results = evaluate_regression(\n",
    "    datasets=regr_datasets,\n",
    "    estimator=AveragedDecisionTreeRegressor,\n",
    "    params=[\n",
    "        {'random_state': 5},\n",
    "        {'random_state': 5, 'min_samples_leaf': 0.01},\n",
    "        {'random_state': 5, 'min_samples_leaf': 0.1},\n",
    "        {'random_state': 5, 'mode': 'random'},\n",
    "        {'random_state': 5, 'min_samples_leaf': 0.01, 'mode': 'random'},\n",
    "        {'random_state': 5, 'min_samples_leaf': 0.1, 'mode': 'random'},\n",
    "    ],\n",
    "    validator_params={'n_splits': n_splits, 'n_repeats': n_repeats, 'random_state': 5},\n",
    "    random_state=5\n",
    ")\n",
    "results['name'] = results['name'].apply(lambda x: dataset_map.get(x, x))\n",
    "results.to_csv('proposed_adtr.csv')"
   ]
  },
  {
   "cell_type": "code",
   "execution_count": 25,
   "metadata": {},
   "outputs": [
    {
     "name": "stdout",
     "output_type": "stream",
     "text": [
      "2023-11-20 01:29:47.699656 diabetes\n",
      "2023-11-20 01:33:46.598271 o-ring\n",
      "2023-11-20 01:37:26.804508 stock_portfolio_performance\n",
      "2023-11-20 01:41:25.040527 wsn-ale\n",
      "2023-11-20 01:45:47.065178 daily-demand\n",
      "2023-11-20 01:50:17.559347 slump_test\n",
      "2023-11-20 01:55:10.421812 servo\n",
      "2023-11-20 01:59:34.504939 yacht_hydrodynamics\n",
      "2023-11-20 02:04:47.487035 autoMPG6\n",
      "2023-11-20 02:10:40.998100 excitation_current\n",
      "2023-11-20 02:16:29.965975 real_estate_valuation\n",
      "2023-11-20 02:23:10.989388 wankara\n",
      "2023-11-20 02:29:44.438047 plastic\n",
      "2023-11-20 02:36:50.878737 laser\n",
      "2023-11-20 02:45:21.621817 qsar-aquatic-toxicity\n",
      "2023-11-20 02:53:32.503568 baseball\n",
      "2023-11-20 03:01:23.346711 maternal_health_risk\n",
      "2023-11-20 03:07:54.558757 cpu_performance\n",
      "2023-11-20 03:13:29.737327 airfoil\n",
      "2023-11-20 03:22:15.016409 medical_cost\n"
     ]
    }
   ],
   "source": [
    "results = evaluate_regression(\n",
    "    datasets=regr_datasets,\n",
    "    estimator=AveragedRandomForestRegressor,\n",
    "    params=[\n",
    "        {'random_state': 5, 'mode': 'full'},\n",
    "        {'random_state': 5, 'min_samples_leaf': 0.01, 'mode': 'full'},\n",
    "        {'random_state': 5, 'min_samples_leaf': 0.1, 'mode': 'full'},\n",
    "        {'random_state': 5, 'mode': 'half'},\n",
    "        {'random_state': 5, 'min_samples_leaf': 0.01, 'mode': 'half'},\n",
    "        {'random_state': 5, 'min_samples_leaf': 0.1, 'mode': 'half'},\n",
    "    ],\n",
    "    validator_params={'n_splits': n_splits, 'n_repeats': n_repeats, 'random_state': 5},\n",
    "    random_state=5\n",
    ")\n",
    "results['name'] = results['name'].apply(lambda x: dataset_map.get(x, x))\n",
    "results.to_csv('proposed_arfr.csv')"
   ]
  },
  {
   "cell_type": "code",
   "execution_count": 26,
   "metadata": {},
   "outputs": [
    {
     "name": "stdout",
     "output_type": "stream",
     "text": [
      "2023-11-20 03:30:40.439762 appendicitis\n",
      "2023-11-20 03:30:44.904809 haberman\n",
      "2023-11-20 03:30:49.339185 new_thyroid1\n",
      "2023-11-20 03:30:53.479267 glass0\n",
      "2023-11-20 03:30:58.429935 shuttle-6_vs_2-3\n",
      "2023-11-20 03:31:02.272080 bupa\n",
      "2023-11-20 03:31:07.627676 cleveland-0_vs_4\n",
      "2023-11-20 03:31:11.794442 ecoli1\n",
      "2023-11-20 03:31:16.386361 poker-9_vs_7\n",
      "2023-11-20 03:31:20.459957 monk-2\n",
      "2023-11-20 03:31:24.359517 hepatitis\n",
      "2023-11-20 03:31:28.853757 yeast-0-3-5-9_vs_7-8\n",
      "2023-11-20 03:31:34.500703 mammographic\n",
      "2023-11-20 03:31:39.816447 saheart\n",
      "2023-11-20 03:31:47.387365 page-blocks-1-3_vs_4\n",
      "2023-11-20 03:31:52.996824 lymphography-normal-fibrosis\n",
      "2023-11-20 03:31:56.908669 pima\n",
      "2023-11-20 03:32:05.494575 wisconsin\n",
      "2023-11-20 03:32:10.423857 abalone9_18\n",
      "2023-11-20 03:32:19.122158 winequality-red-3_vs_5\n"
     ]
    }
   ],
   "source": [
    "results = evaluate_classification(\n",
    "    datasets=binclas_datasets,\n",
    "    estimator=FlippingDecisionTreeClassifier,\n",
    "    params=[\n",
    "        {'random_state': 5},\n",
    "        {'random_state': 5, 'min_samples_leaf': 0.01},\n",
    "        {'random_state': 5, 'min_samples_leaf': 0.1}\n",
    "    ],\n",
    "    validator_params={'n_splits': n_splits, 'n_repeats': n_repeats, 'random_state': 5},\n",
    "    random_state=5\n",
    ")\n",
    "results['name'] = results['name'].apply(lambda x: dataset_map.get(x, x))\n",
    "results.to_csv('proposed_fdtc.csv')"
   ]
  },
  {
   "cell_type": "code",
   "execution_count": 3,
   "metadata": {},
   "outputs": [
    {
     "name": "stdout",
     "output_type": "stream",
     "text": [
      "2023-11-20 09:49:41.434567 appendicitis\n",
      "2023-11-20 09:59:40.316494 haberman\n",
      "2023-11-20 10:07:59.374912 new_thyroid1\n",
      "2023-11-20 10:16:14.907233 glass0\n",
      "2023-11-20 10:25:22.057816 shuttle-6_vs_2-3\n",
      "2023-11-20 10:32:46.366423 bupa\n",
      "2023-11-20 10:41:52.938379 cleveland-0_vs_4\n",
      "2023-11-20 10:49:11.882334 ecoli1\n",
      "2023-11-20 10:56:44.165256 poker-9_vs_7\n",
      "2023-11-20 11:03:59.968168 monk-2\n",
      "2023-11-20 11:11:12.803332 hepatitis\n",
      "2023-11-20 11:18:56.598175 yeast-0-3-5-9_vs_7-8\n",
      "2023-11-20 11:26:51.782076 mammographic\n",
      "2023-11-20 11:35:04.047815 saheart\n",
      "2023-11-20 11:44:15.551225 page-blocks-1-3_vs_4\n",
      "2023-11-20 11:52:39.164157 lymphography-normal-fibrosis\n",
      "2023-11-20 12:00:24.663884 pima\n",
      "2023-11-20 12:10:21.566058 wisconsin\n",
      "2023-11-20 17:09:17.485146 abalone9_18\n",
      "2023-11-20 17:19:21.167225 winequality-red-3_vs_5\n"
     ]
    }
   ],
   "source": [
    "results = evaluate_classification(\n",
    "    datasets=binclas_datasets,\n",
    "    estimator=FlippingRandomForestClassifier,\n",
    "    params=[\n",
    "        {'random_state': 5, 'mode': 'random'},\n",
    "        {'random_state': 5, 'min_samples_leaf': 0.01, 'mode': 'random'},\n",
    "        {'random_state': 5, 'min_samples_leaf': 0.1, 'mode': 'random'},\n",
    "        {'random_state': 5, 'mode': 'full'},\n",
    "        {'random_state': 5, 'min_samples_leaf': 0.01, 'mode': 'full'},\n",
    "        {'random_state': 5, 'min_samples_leaf': 0.1, 'mode': 'full'}\n",
    "    ],\n",
    "    validator_params={'n_splits': n_splits, 'n_repeats': n_repeats, 'random_state': 5},\n",
    "    random_state=5\n",
    ")\n",
    "results['name'] = results['name'].apply(lambda x: dataset_map.get(x, x))\n",
    "results.to_csv('proposed_frfc.csv')"
   ]
  },
  {
   "cell_type": "code",
   "execution_count": 28,
   "metadata": {},
   "outputs": [
    {
     "name": "stdout",
     "output_type": "stream",
     "text": [
      "2023-11-20 05:18:57.898785 diabetes\n",
      "2023-11-20 05:19:00.383870 o-ring\n",
      "2023-11-20 05:19:02.565983 stock_portfolio_performance\n",
      "2023-11-20 05:19:04.898966 wsn-ale\n",
      "2023-11-20 05:19:07.551928 daily-demand\n",
      "2023-11-20 05:19:10.448643 slump_test\n",
      "2023-11-20 05:19:13.534258 servo\n",
      "2023-11-20 05:19:16.151902 yacht_hydrodynamics\n",
      "2023-11-20 05:19:19.440438 autoMPG6\n",
      "2023-11-20 05:19:23.369956 excitation_current\n",
      "2023-11-20 05:19:27.437130 real_estate_valuation\n",
      "2023-11-20 05:19:31.868701 wankara\n",
      "2023-11-20 05:19:36.344182 plastic\n",
      "2023-11-20 05:19:40.879432 laser\n",
      "2023-11-20 05:19:46.918537 qsar-aquatic-toxicity\n",
      "2023-11-20 05:19:52.840781 baseball\n",
      "2023-11-20 05:19:58.598093 maternal_health_risk\n",
      "2023-11-20 05:20:03.079424 cpu_performance\n",
      "2023-11-20 05:20:06.675317 airfoil\n",
      "2023-11-20 05:20:12.722035 medical_cost\n"
     ]
    }
   ],
   "source": [
    "results = evaluate_regression(\n",
    "    datasets=regr_datasets,\n",
    "    estimator=FlippingDecisionTreeRegressor,\n",
    "    params=[\n",
    "        {'random_state': 5},\n",
    "        {'random_state': 5, 'min_samples_leaf': 0.01},\n",
    "        {'random_state': 5, 'min_samples_leaf': 0.1}\n",
    "    ],\n",
    "    validator_params={'n_splits': n_splits, 'n_repeats': n_repeats, 'random_state': 5},\n",
    "    random_state=5\n",
    ")\n",
    "results['name'] = results['name'].apply(lambda x: dataset_map.get(x, x))\n",
    "results.to_csv('proposed_fdtr.csv')"
   ]
  },
  {
   "cell_type": "code",
   "execution_count": 4,
   "metadata": {},
   "outputs": [
    {
     "name": "stdout",
     "output_type": "stream",
     "text": [
      "2023-11-20 17:30:22.127516 diabetes\n",
      "2023-11-20 17:36:27.481739 o-ring\n",
      "2023-11-20 17:42:39.542693 stock_portfolio_performance\n",
      "2023-11-20 17:48:30.897342 wsn-ale\n",
      "2023-11-20 17:54:43.983368 daily-demand\n",
      "2023-11-20 18:01:43.776689 slump_test\n",
      "2023-11-20 18:08:44.906533 servo\n",
      "2023-11-20 18:15:10.073885 yacht_hydrodynamics\n",
      "2023-11-20 18:22:11.554659 autoMPG6\n",
      "2023-11-20 18:29:42.917985 excitation_current\n",
      "2023-11-20 18:37:06.073356 real_estate_valuation\n",
      "2023-11-20 18:46:20.471372 wankara\n",
      "2023-11-20 18:56:20.541995 plastic\n",
      "2023-11-20 19:07:26.898375 laser\n",
      "2023-11-20 19:19:03.464088 qsar-aquatic-toxicity\n",
      "2023-11-20 19:29:36.086739 baseball\n",
      "2023-11-20 19:38:58.040232 maternal_health_risk\n",
      "2023-11-20 19:46:29.867227 cpu_performance\n",
      "2023-11-20 19:53:17.432071 airfoil\n",
      "2023-11-20 20:03:01.294484 medical_cost\n"
     ]
    }
   ],
   "source": [
    "results = evaluate_regression(\n",
    "    datasets=regr_datasets,\n",
    "    estimator=FlippingRandomForestRegressor,\n",
    "    params=[\n",
    "        {'random_state': 5, 'mode': 'random'},\n",
    "        {'random_state': 5, 'min_samples_leaf': 0.01, 'mode': 'random'},\n",
    "        {'random_state': 5, 'min_samples_leaf': 0.1, 'mode': 'random'},\n",
    "        {'random_state': 5, 'mode': 'full'},\n",
    "        {'random_state': 5, 'min_samples_leaf': 0.01, 'mode': 'full'},\n",
    "        {'random_state': 5, 'min_samples_leaf': 0.1, 'mode': 'full'},\n",
    "    ],\n",
    "    validator_params={'n_splits': n_splits, 'n_repeats': n_repeats, 'random_state': 5},\n",
    "    random_state=5\n",
    ")\n",
    "results['name'] = results['name'].apply(lambda x: dataset_map.get(x, x))\n",
    "results.to_csv('proposed_frfr.csv')"
   ]
  },
  {
   "cell_type": "code",
   "execution_count": null,
   "metadata": {},
   "outputs": [],
   "source": []
  }
 ],
 "metadata": {
  "kernelspec": {
   "display_name": "splitting-bias",
   "language": "python",
   "name": "python3"
  },
  "language_info": {
   "codemirror_mode": {
    "name": "ipython",
    "version": 3
   },
   "file_extension": ".py",
   "mimetype": "text/x-python",
   "name": "python",
   "nbconvert_exporter": "python",
   "pygments_lexer": "ipython3",
   "version": "3.10.13"
  }
 },
 "nbformat": 4,
 "nbformat_minor": 2
}
