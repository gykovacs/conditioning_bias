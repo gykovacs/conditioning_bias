{
 "cells": [
  {
   "cell_type": "code",
   "execution_count": 1,
   "metadata": {},
   "outputs": [
    {
     "name": "stderr",
     "output_type": "stream",
     "text": [
      "2023-11-25 11:54:45 INFO     querying the filtered classification datasets\n",
      "2023-11-25 11:54:45 INFO     ranking the datasets\n",
      "2023-11-25 11:54:45 INFO     binary classification datasets prepared\n",
      "2023-11-25 11:54:45 INFO     querying the filtered regression datasets\n",
      "2023-11-25 11:54:45 INFO     ranking the datasets\n",
      "2023-11-25 11:54:45 INFO     regression datasets prepared\n"
     ]
    }
   ],
   "source": [
    "import copy\n",
    "\n",
    "import numpy as np\n",
    "import pandas as pd\n",
    "\n",
    "from flipping_random_forest import (OperatorDecisionTreeClassifier,\n",
    "                                    OperatorDecisionTreeRegressor,\n",
    "                                    OperatorRandomForestClassifier,\n",
    "                                    OperatorRandomForestRegressor)\n",
    "\n",
    "from datasets import binclas_datasets, regr_datasets\n",
    "from evaluation import evaluate_classification, evaluate_regression\n",
    "from config import n_repeats, n_splits, dataset_map"
   ]
  },
  {
   "cell_type": "code",
   "execution_count": 2,
   "metadata": {},
   "outputs": [],
   "source": [
    "labels = ['dtc', 'dtr', 'rfc', 'rfr']\n",
    "params = {}\n",
    "postfix = ''"
   ]
  },
  {
   "cell_type": "code",
   "execution_count": 3,
   "metadata": {},
   "outputs": [],
   "source": [
    "for label in labels:\n",
    "    params[label] = {}\n",
    "    best_params = pd.read_csv(f'params_{label}.csv')\n",
    "    for idx, row in best_params.iterrows():\n",
    "        params[label][row['name']] = eval(row['params'])"
   ]
  },
  {
   "cell_type": "code",
   "execution_count": 4,
   "metadata": {},
   "outputs": [],
   "source": [
    "configurations = {\n",
    "    'dtc': {\n",
    "        'datasets': binclas_datasets,\n",
    "        'estimator': OperatorDecisionTreeClassifier,\n",
    "        'function': evaluate_classification,\n",
    "        'label': 'dtc',\n",
    "        'modes': OperatorDecisionTreeClassifier().get_modes()\n",
    "        },\n",
    "    'rfc': {\n",
    "        'datasets': binclas_datasets,\n",
    "        'estimator': OperatorRandomForestClassifier,\n",
    "        'function': evaluate_classification,\n",
    "        'label': 'rfc',\n",
    "        'modes': OperatorRandomForestClassifier().get_modes()\n",
    "        },\n",
    "    'dtr': {\n",
    "        'datasets': regr_datasets,\n",
    "        'estimator': OperatorDecisionTreeRegressor,\n",
    "        'function': evaluate_regression,\n",
    "        'label': 'dtr',\n",
    "        'modes': OperatorDecisionTreeRegressor().get_modes()\n",
    "        },\n",
    "    'rfr': {\n",
    "        'datasets': regr_datasets,\n",
    "        'estimator': OperatorRandomForestRegressor,\n",
    "        'function': evaluate_regression,\n",
    "        'label': 'rfr',\n",
    "        'modes': OperatorRandomForestRegressor().get_modes()\n",
    "        },\n",
    "}"
   ]
  },
  {
   "cell_type": "code",
   "execution_count": 6,
   "metadata": {},
   "outputs": [
    {
     "name": "stdout",
     "output_type": "stream",
     "text": [
      "dtc {'datasets':                             name citation_key  n_col    n  n_minority  n_grid  \\\n",
      "0                   appendicitis         keel      7  106          21       7   \n",
      "1                       haberman         keel      3  306          81       3   \n",
      "2                   new_thyroid1         keel      5  215          35       5   \n",
      "3                         glass0         keel      9  214          70       9   \n",
      "4               shuttle-6_vs_2-3         keel      9  230          10       9   \n",
      "5                           bupa         keel      6  345         145       6   \n",
      "6               cleveland-0_vs_4         keel     13  177          13      10   \n",
      "7                         ecoli1         keel      7  336          77       5   \n",
      "8                   poker-9_vs_7         keel     10  244           8      10   \n",
      "9                         monk-2         keel      6  432         204       4   \n",
      "10                     hepatitis         krnn     19  155          32       6   \n",
      "11          yeast-0-3-5-9_vs_7-8         keel      8  506          50       6   \n",
      "12                  mammographic         keel      5  830         403       5   \n",
      "13                       saheart         keel      9  462         160       8   \n",
      "14          page-blocks-1-3_vs_4         keel     10  472          28      10   \n",
      "15  lymphography-normal-fibrosis         keel     32  148           6       3   \n",
      "16                          pima         keel      8  768         268       8   \n",
      "17                     wisconsin         keel      9  683         239       9   \n",
      "18                   abalone9_18         keel      9  731          42       7   \n",
      "19        winequality-red-3_vs_5         keel     11  691          10      11   \n",
      "\n",
      "                                 data_loader_function  \n",
      "0      <function load_appendicitis at 0x7f264d86ec20>  \n",
      "1          <function load_haberman at 0x7f264d86e7a0>  \n",
      "2      <function load_new_thyroid1 at 0x7f264d86e8c0>  \n",
      "3            <function load_glass0 at 0x7f264d86c310>  \n",
      "4   <function load_shuttle_6_vs_2_3 at 0x7f264d86d...  \n",
      "5              <function load_bupa at 0x7f264d86ef80>  \n",
      "6   <function load_cleveland_0_vs_4 at 0x7f264d86e...  \n",
      "7            <function load_ecoli1 at 0x7f264d847b50>  \n",
      "8      <function load_poker_9_vs_7 at 0x7f264d86db40>  \n",
      "9            <function load_monk_2 at 0x7f264d86edd0>  \n",
      "10        <function load_hepatitis at 0x7f264d86f370>  \n",
      "11  <function load_yeast_0_3_5_9_vs_7_8 at 0x7f264...  \n",
      "12     <function load_mammographic at 0x7f264d86eb90>  \n",
      "13          <function load_saheart at 0x7f264d86ecb0>  \n",
      "14  <function load_page_blocks_1_3_vs_4 at 0x7f264...  \n",
      "15  <function load_lymphography_normal_fibrosis at...  \n",
      "16             <function load_pima at 0x7f264d86e9e0>  \n",
      "17        <function load_wisconsin at 0x7f264d86eb00>  \n",
      "18      <function load_abalone9_18 at 0x7f264d8471c0>  \n",
      "19  <function load_winequality_red_3_vs_5 at 0x7f2...  , 'estimator': <class 'flipping_random_forest._classifiers.OperatorDecisionTreeClassifier'>, 'function': <function evaluate_classification at 0x7f268054c3a0>, 'label': 'dtc', 'modes': ['<', '<=', 'avg_full', 'avg_rand', 'specific']}\n",
      "2023-11-25 11:55:58.173261 appendicitis\n",
      "2023-11-25 11:56:16.712081 haberman\n",
      "2023-11-25 11:56:33.414293 new_thyroid1\n",
      "2023-11-25 11:56:48.173966 glass0\n",
      "2023-11-25 11:57:09.567970 shuttle-6_vs_2-3\n",
      "2023-11-25 11:57:31.581577 bupa\n",
      "2023-11-25 11:57:59.588701 cleveland-0_vs_4\n",
      "2023-11-25 11:58:37.785880 ecoli1\n"
     ]
    }
   ],
   "source": [
    "for key, conf in configurations.items():\n",
    "    print(key, conf)\n",
    "\n",
    "    results = conf['function'](\n",
    "        datasets=conf['datasets'],\n",
    "        estimator=conf['estimator'],\n",
    "        params=params[key],\n",
    "        modes=conf['modes'],\n",
    "        validator_params={'n_splits': n_splits, 'n_repeats': n_repeats, 'random_state': 5},\n",
    "        random_state=5\n",
    "    )\n",
    "\n",
    "\n",
    "    results['name'] = results['name'].apply(lambda x: dataset_map.get(x, x))\n",
    "\n",
    "    results.to_csv(f'evaluation_{key}{postfix}.csv')"
   ]
  },
  {
   "cell_type": "code",
   "execution_count": null,
   "metadata": {},
   "outputs": [],
   "source": []
  }
 ],
 "metadata": {
  "kernelspec": {
   "display_name": "splitting-bias",
   "language": "python",
   "name": "python3"
  },
  "language_info": {
   "codemirror_mode": {
    "name": "ipython",
    "version": 3
   },
   "file_extension": ".py",
   "mimetype": "text/x-python",
   "name": "python",
   "nbconvert_exporter": "python",
   "pygments_lexer": "ipython3",
   "version": "3.10.13"
  }
 },
 "nbformat": 4,
 "nbformat_minor": 2
}
