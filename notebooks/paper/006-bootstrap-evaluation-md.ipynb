{
 "cells": [
  {
   "cell_type": "code",
   "execution_count": 1,
   "metadata": {},
   "outputs": [],
   "source": [
    "import numpy as np\n",
    "\n",
    "from flipping_random_forest import (OperatorDecisionTreeClassifier,\n",
    "                                    OperatorDecisionTreeRegressor,\n",
    "                                    OperatorRandomForestClassifier,\n",
    "                                    OperatorRandomForestRegressor)\n",
    "\n",
    "from datasets import binclas_datasets, regr_datasets\n",
    "\n",
    "from evaluation import evaluate_classification, evaluate_regression\n",
    "from config import dataset_map"
   ]
  },
  {
   "cell_type": "code",
   "execution_count": null,
   "metadata": {},
   "outputs": [],
   "source": [
    "n_repeats = 20\n",
    "n_splits = 5\n",
    "\n",
    "max_depth = [None] + list(range(2, 16))\n",
    "\n",
    "postfix = '_bs_md'"
   ]
  },
  {
   "cell_type": "code",
   "execution_count": null,
   "metadata": {},
   "outputs": [],
   "source": [
    "configurations = [\n",
    "    {\n",
    "        'datasets': binclas_datasets,\n",
    "        'estimator': OperatorDecisionTreeClassifier,\n",
    "        'function': evaluate_classification,\n",
    "        'label': 'dtc'\n",
    "    },\n",
    "    {\n",
    "        'datasets': binclas_datasets,\n",
    "        'estimator': OperatorRandomForestClassifier,\n",
    "        'function': evaluate_classification,\n",
    "        'label': 'rfc'\n",
    "    },\n",
    "    {\n",
    "        'datasets': regr_datasets,\n",
    "        'estimator': OperatorDecisionTreeRegressor,\n",
    "        'function': evaluate_regression,\n",
    "        'label': 'dtr'\n",
    "    },\n",
    "    {\n",
    "        'datasets': regr_datasets,\n",
    "        'estimator': OperatorRandomForestRegressor,\n",
    "        'function': evaluate_regression,\n",
    "        'label': 'rfr'\n",
    "    }\n",
    "]"
   ]
  },
  {
   "cell_type": "code",
   "execution_count": null,
   "metadata": {},
   "outputs": [],
   "source": [
    "for conf in configurations:\n",
    "    results = conf['function'](\n",
    "        datasets=conf['datasets'],\n",
    "        estimator=conf['estimator'],\n",
    "        params=[{'random_state': 5, 'operator': '<=', 'max_depth': md} for md in max_depth],\n",
    "        validator_params={'n_splits': n_splits, 'n_repeats': n_repeats, 'random_state': 5},\n",
    "        random_state=5\n",
    "    )\n",
    "    results['name'] = results['name'].apply(lambda x: dataset_map.get(x, x))\n",
    "    results.to_csv(f'boostrap_{label}{postfix}.csv')"
   ]
  }
 ],
 "metadata": {
  "kernelspec": {
   "display_name": "splitting-bias",
   "language": "python",
   "name": "python3"
  },
  "language_info": {
   "codemirror_mode": {
    "name": "ipython",
    "version": 3
   },
   "file_extension": ".py",
   "mimetype": "text/x-python",
   "name": "python",
   "nbconvert_exporter": "python",
   "pygments_lexer": "ipython3",
   "version": "3.10.13"
  }
 },
 "nbformat": 4,
 "nbformat_minor": 2
}
