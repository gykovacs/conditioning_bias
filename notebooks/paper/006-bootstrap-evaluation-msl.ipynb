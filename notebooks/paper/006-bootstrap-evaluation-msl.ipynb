{
 "cells": [
  {
   "cell_type": "code",
   "execution_count": 1,
   "metadata": {},
   "outputs": [
    {
     "name": "stderr",
     "output_type": "stream",
     "text": [
      "2023-11-19 15:09:49 INFO     querying the filtered classification datasets\n",
      "2023-11-19 15:09:49 INFO     ranking the datasets\n",
      "2023-11-19 15:09:49 INFO     binary classification datasets prepared\n",
      "2023-11-19 15:09:49 INFO     querying the filtered regression datasets\n",
      "2023-11-19 15:09:49 INFO     ranking the datasets\n",
      "2023-11-19 15:09:49 INFO     regression datasets prepared\n"
     ]
    }
   ],
   "source": [
    "from flipping_random_forest import (OperatorDecisionTreeClassifier,\n",
    "                                    OperatorDecisionTreeRegressor,\n",
    "                                    OperatorRandomForestClassifier,\n",
    "                                    OperatorRandomForestRegressor)\n",
    "\n",
    "from datasets import binclas_datasets, regr_datasets\n",
    "\n",
    "from evaluation import evaluate_classification, evaluate_regression\n",
    "from config import n_splits, n_repeats, dataset_map"
   ]
  },
  {
   "cell_type": "code",
   "execution_count": 2,
   "metadata": {},
   "outputs": [
    {
     "name": "stdout",
     "output_type": "stream",
     "text": [
      "2023-11-19 15:09:49.361573 appendicitis\n",
      "2023-11-19 15:09:52.172292 haberman\n",
      "2023-11-19 15:09:54.505764 new_thyroid1\n",
      "2023-11-19 15:09:56.799394 glass0\n",
      "2023-11-19 15:09:59.332134 shuttle-6_vs_2-3\n",
      "2023-11-19 15:10:01.285494 bupa\n",
      "2023-11-19 15:10:04.219634 cleveland-0_vs_4\n",
      "2023-11-19 15:10:06.749696 ecoli1\n",
      "2023-11-19 15:10:09.122625 poker-9_vs_7\n",
      "2023-11-19 15:10:11.538224 monk-2\n",
      "2023-11-19 15:10:13.713071 hepatitis\n",
      "2023-11-19 15:10:16.254664 yeast-0-3-5-9_vs_7-8\n",
      "2023-11-19 15:10:19.601716 mammographic\n",
      "2023-11-19 15:10:23.124968 saheart\n",
      "2023-11-19 15:10:27.817331 page-blocks-1-3_vs_4\n",
      "2023-11-19 15:10:30.456911 lymphography-normal-fibrosis\n",
      "2023-11-19 15:10:32.067286 pima\n",
      "2023-11-19 15:10:36.900558 wisconsin\n",
      "2023-11-19 15:10:39.784563 abalone9_18\n",
      "2023-11-19 15:10:44.830656 winequality-red-3_vs_5\n"
     ]
    }
   ],
   "source": [
    "results = evaluate_classification(\n",
    "    datasets=binclas_datasets,\n",
    "    estimator=OperatorDecisionTreeClassifier,\n",
    "    params=[{'random_state': 5, 'operator': '<'}, {'random_state': 5, 'operator': '<='}],\n",
    "    validator_params={'n_splits': n_splits, 'n_repeats': n_repeats, 'random_state': 5},\n",
    "    random_state=5\n",
    ")\n",
    "results['name'] = results['name'].apply(lambda x: dataset_map.get(x, x))\n",
    "results.to_csv('effect_presence_dtc.csv')"
   ]
  },
  {
   "cell_type": "code",
   "execution_count": 3,
   "metadata": {},
   "outputs": [
    {
     "name": "stdout",
     "output_type": "stream",
     "text": [
      "2023-11-19 15:10:49.846597 diabetes\n",
      "2023-11-19 15:10:51.319294 o-ring\n",
      "2023-11-19 15:10:52.901072 stock_portfolio_performance\n",
      "2023-11-19 15:10:53.983711 wsn-ale\n",
      "2023-11-19 15:10:55.347594 daily-demand\n",
      "2023-11-19 15:10:56.795266 slump_test\n",
      "2023-11-19 15:10:58.397724 servo\n",
      "2023-11-19 15:11:00.090934 yacht_hydrodynamics\n",
      "2023-11-19 15:11:01.939909 autoMPG6\n",
      "2023-11-19 15:11:03.978903 excitation_current\n",
      "2023-11-19 15:11:06.163984 real_estate_valuation\n",
      "2023-11-19 15:11:08.851420 wankara\n",
      "2023-11-19 15:11:12.294596 plastic\n",
      "2023-11-19 15:11:15.281498 laser\n",
      "2023-11-19 15:11:20.341809 qsar-aquatic-toxicity\n",
      "2023-11-19 15:11:23.766907 baseball\n",
      "2023-11-19 15:11:26.944106 maternal_health_risk\n",
      "2023-11-19 15:11:29.317200 cpu_performance\n",
      "2023-11-19 15:11:31.168315 airfoil\n",
      "2023-11-19 15:11:35.608161 medical_cost\n"
     ]
    }
   ],
   "source": [
    "results = evaluate_regression(\n",
    "    datasets=regr_datasets,\n",
    "    estimator=OperatorDecisionTreeRegressor,\n",
    "    params=[{'random_state': 5, 'operator': '<'}, {'random_state': 5, 'operator': '<='}],\n",
    "    validator_params={'n_splits': n_splits, 'n_repeats': n_repeats, 'random_state': 5},\n",
    "    random_state=5\n",
    ")\n",
    "results['name'] = results['name'].apply(lambda x: dataset_map.get(x, x))\n",
    "results.to_csv('effect_presence_dtr.csv')"
   ]
  },
  {
   "cell_type": "code",
   "execution_count": 4,
   "metadata": {},
   "outputs": [
    {
     "name": "stdout",
     "output_type": "stream",
     "text": [
      "2023-11-19 15:11:39.236825 appendicitis\n",
      "2023-11-19 15:13:46.262789 haberman\n",
      "2023-11-19 15:16:05.140863 new_thyroid1\n",
      "2023-11-19 15:18:05.316924 glass0\n",
      "2023-11-19 15:20:37.593518 shuttle-6_vs_2-3\n",
      "2023-11-19 15:22:40.486158 bupa\n",
      "2023-11-19 15:25:20.654194 cleveland-0_vs_4\n",
      "2023-11-19 15:26:59.758380 ecoli1\n",
      "2023-11-19 15:29:06.829056 poker-9_vs_7\n",
      "2023-11-19 15:31:06.434689 monk-2\n",
      "2023-11-19 15:32:55.675629 hepatitis\n",
      "2023-11-19 15:34:48.583314 yeast-0-3-5-9_vs_7-8\n",
      "2023-11-19 15:37:00.159981 mammographic\n",
      "2023-11-19 15:39:30.427676 saheart\n",
      "2023-11-19 15:42:06.719473 page-blocks-1-3_vs_4\n",
      "2023-11-19 15:44:05.629263 lymphography-normal-fibrosis\n",
      "2023-11-19 15:45:40.914924 pima\n",
      "2023-11-19 15:48:29.481163 wisconsin\n",
      "2023-11-19 15:50:30.175089 abalone9_18\n",
      "2023-11-19 15:53:09.417993 winequality-red-3_vs_5\n"
     ]
    }
   ],
   "source": [
    "results = evaluate_classification(\n",
    "    datasets=binclas_datasets,\n",
    "    estimator=OperatorRandomForestClassifier,\n",
    "    params=[{'random_state': 5, 'operator': '<'}, {'random_state': 5, 'operator': '<='}],\n",
    "    validator_params={'n_splits': n_splits, 'n_repeats': n_repeats, 'random_state': 5},\n",
    "    random_state=5\n",
    ")\n",
    "results['name'] = results['name'].apply(lambda x: dataset_map.get(x, x))\n",
    "results.to_csv('effect_presence_rfc.csv')"
   ]
  },
  {
   "cell_type": "code",
   "execution_count": 5,
   "metadata": {},
   "outputs": [
    {
     "name": "stdout",
     "output_type": "stream",
     "text": [
      "2023-11-19 15:55:17.580444 diabetes\n",
      "2023-11-19 15:56:45.015628 o-ring\n",
      "2023-11-19 15:58:02.033977 stock_portfolio_performance\n",
      "2023-11-19 15:59:24.678492 wsn-ale\n",
      "2023-11-19 16:01:00.706606 daily-demand\n",
      "2023-11-19 16:02:40.326743 slump_test\n",
      "2023-11-19 16:04:28.850427 servo\n",
      "2023-11-19 16:06:08.220504 yacht_hydrodynamics\n",
      "2023-11-19 16:08:17.471678 autoMPG6\n",
      "2023-11-19 16:10:46.525048 excitation_current\n",
      "2023-11-19 16:13:15.772544 real_estate_valuation\n",
      "2023-11-19 16:16:12.546639 wankara\n",
      "2023-11-19 16:19:08.009690 plastic\n",
      "2023-11-19 16:22:50.876184 laser\n",
      "2023-11-19 16:28:17.605999 qsar-aquatic-toxicity\n",
      "2023-11-19 16:34:14.078292 baseball\n",
      "2023-11-19 16:38:36.625860 maternal_health_risk\n",
      "2023-11-19 16:41:41.342123 cpu_performance\n",
      "2023-11-19 16:44:00.238540 airfoil\n",
      "2023-11-19 16:48:38.994181 medical_cost\n"
     ]
    }
   ],
   "source": [
    "results = evaluate_regression(\n",
    "    datasets=regr_datasets,\n",
    "    estimator=OperatorRandomForestRegressor,\n",
    "    params=[{'random_state': 5, 'operator': '<'}, {'random_state': 5, 'operator': '<='}],\n",
    "    validator_params={'n_splits': n_splits, 'n_repeats': n_repeats, 'random_state': 5},\n",
    "    random_state=5\n",
    ")\n",
    "results['name'] = results['name'].apply(lambda x: dataset_map.get(x, x))\n",
    "results.to_csv('effect_presence_rfr.csv')"
   ]
  }
 ],
 "metadata": {
  "kernelspec": {
   "display_name": "splitting-bias",
   "language": "python",
   "name": "python3"
  },
  "language_info": {
   "codemirror_mode": {
    "name": "ipython",
    "version": 3
   },
   "file_extension": ".py",
   "mimetype": "text/x-python",
   "name": "python",
   "nbconvert_exporter": "python",
   "pygments_lexer": "ipython3",
   "version": "3.10.13"
  }
 },
 "nbformat": 4,
 "nbformat_minor": 2
}
