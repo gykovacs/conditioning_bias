{
 "cells": [
  {
   "cell_type": "code",
   "execution_count": 1,
   "metadata": {},
   "outputs": [
    {
     "name": "stderr",
     "output_type": "stream",
     "text": [
      "2023-11-19 12:12:42 INFO     querying the filtered classification datasets\n",
      "2023-11-19 12:12:42 INFO     ranking the datasets\n",
      "2023-11-19 12:12:42 INFO     binary classification datasets prepared\n",
      "2023-11-19 12:12:42 INFO     querying the filtered regression datasets\n",
      "2023-11-19 12:12:42 INFO     ranking the datasets\n",
      "2023-11-19 12:12:42 INFO     regression datasets prepared\n"
     ]
    }
   ],
   "source": [
    "import datetime\n",
    "import json\n",
    "\n",
    "import numpy as np\n",
    "import pandas as pd\n",
    "\n",
    "from flipping_random_forest import (OperatorDecisionTreeClassifier,\n",
    "                                    OperatorDecisionTreeRegressor,\n",
    "                                    OperatorRandomForestClassifier,\n",
    "                                    OperatorRandomForestRegressor)\n",
    "\n",
    "from datasets import binclas_datasets, regr_datasets\n",
    "\n",
    "from evaluation import evaluate_classification, evaluate_regression\n",
    "from config import n_splits, n_repeats\n",
    "\n",
    "from scipy.stats import wilcoxon"
   ]
  },
  {
   "cell_type": "code",
   "execution_count": 2,
   "metadata": {},
   "outputs": [
    {
     "name": "stdout",
     "output_type": "stream",
     "text": [
      "2023-11-19 12:12:42.826973 appendicitis\n",
      "2023-11-19 12:12:42.877119 haberman\n",
      "2023-11-19 12:12:42.923216 new_thyroid1\n",
      "2023-11-19 12:12:42.965672 glass0\n",
      "2023-11-19 12:12:43.009166 shuttle-6_vs_2-3\n",
      "2023-11-19 12:12:43.052019 bupa\n",
      "2023-11-19 12:12:43.126179 cleveland-0_vs_4\n",
      "2023-11-19 12:12:43.175346 ecoli1\n",
      "2023-11-19 12:12:43.223508 poker-9_vs_7\n",
      "2023-11-19 12:12:43.264717 monk-2\n",
      "2023-11-19 12:12:43.336579 hepatitis\n",
      "2023-11-19 12:12:43.401131 yeast-0-3-5-9_vs_7-8\n",
      "2023-11-19 12:12:43.455408 mammographic\n",
      "2023-11-19 12:12:43.525204 saheart\n",
      "2023-11-19 12:12:43.594714 page-blocks-1-3_vs_4\n",
      "2023-11-19 12:12:43.707136 lymphography-normal-fibrosis\n",
      "2023-11-19 12:12:43.768479 pima\n",
      "2023-11-19 12:12:43.860134 wisconsin\n",
      "2023-11-19 12:12:43.921856 abalone9_18\n",
      "2023-11-19 12:12:44.019836 winequality-red-3_vs_5\n"
     ]
    }
   ],
   "source": [
    "results = evaluate_classification(\n",
    "    datasets=binclas_datasets,\n",
    "    estimator=OperatorDecisionTreeClassifier,\n",
    "    params=[{'random_state': 5, 'operator': '<'}, {'random_state': 5, 'operator': '<='}],\n",
    "    validator_params={'n_splits': n_splits, 'n_repeats': n_repeats, 'random_state': 5},\n",
    "    random_state=5\n",
    ")\n",
    "results.to_csv('effect_presence_dtc.csv')"
   ]
  },
  {
   "cell_type": "code",
   "execution_count": 3,
   "metadata": {},
   "outputs": [
    {
     "name": "stdout",
     "output_type": "stream",
     "text": [
      "2023-11-19 12:12:44.084864 diabetes\n",
      "2023-11-19 12:12:44.132267 o-ring\n",
      "2023-11-19 12:12:44.455253 stock_portfolio_performance\n",
      "2023-11-19 12:12:44.492354 wsn-ale\n",
      "2023-11-19 12:12:44.549519 daily-demand\n",
      "2023-11-19 12:12:44.596373 slump_test\n",
      "2023-11-19 12:12:44.647100 servo\n",
      "2023-11-19 12:12:44.693089 yacht_hydrodynamics\n",
      "2023-11-19 12:12:44.739984 autoMPG6\n",
      "2023-11-19 12:12:44.780500 excitation_current\n",
      "2023-11-19 12:12:44.885580 real_estate_valuation\n",
      "2023-11-19 12:12:44.962705 wankara\n",
      "2023-11-19 12:12:45.011466 plastic\n",
      "2023-11-19 12:12:45.063468 laser\n",
      "2023-11-19 12:12:45.136423 qsar-aquatic-toxicity\n",
      "2023-11-19 12:12:45.228953 baseball\n",
      "2023-11-19 12:12:45.317655 maternal_health_risk\n",
      "2023-11-19 12:12:45.423750 cpu_performance\n",
      "2023-11-19 12:12:45.506005 airfoil\n",
      "2023-11-19 12:12:45.593667 medical_cost\n"
     ]
    }
   ],
   "source": [
    "results = evaluate_regression(\n",
    "    datasets=regr_datasets,\n",
    "    estimator=OperatorDecisionTreeRegressor,\n",
    "    params=[{'random_state': 5, 'operator': '<'}, {'random_state': 5, 'operator': '<='}],\n",
    "    validator_params={'n_splits': n_splits, 'n_repeats': n_repeats, 'random_state': 5},\n",
    "    random_state=5\n",
    ")\n",
    "results.to_csv('effect_presence_dtr.csv')"
   ]
  },
  {
   "cell_type": "code",
   "execution_count": 4,
   "metadata": {},
   "outputs": [
    {
     "name": "stdout",
     "output_type": "stream",
     "text": [
      "2023-11-19 12:12:45.679120 appendicitis\n",
      "2023-11-19 12:12:46.761406 haberman\n",
      "2023-11-19 12:12:48.267388 new_thyroid1\n",
      "2023-11-19 12:12:49.356106 glass0\n",
      "2023-11-19 12:12:50.690502 shuttle-6_vs_2-3\n",
      "2023-11-19 12:12:51.670916 bupa\n",
      "2023-11-19 12:12:52.830258 cleveland-0_vs_4\n",
      "2023-11-19 12:12:53.723970 ecoli1\n",
      "2023-11-19 12:12:54.795828 poker-9_vs_7\n",
      "2023-11-19 12:12:55.653225 monk-2\n",
      "2023-11-19 12:12:56.691131 hepatitis\n",
      "2023-11-19 12:12:57.721338 yeast-0-3-5-9_vs_7-8\n",
      "2023-11-19 12:12:58.989299 mammographic\n",
      "2023-11-19 12:13:00.617156 saheart\n",
      "2023-11-19 12:13:02.212790 page-blocks-1-3_vs_4\n",
      "2023-11-19 12:13:03.522015 lymphography-normal-fibrosis\n",
      "2023-11-19 12:13:04.542882 pima\n",
      "2023-11-19 12:13:06.300598 wisconsin\n",
      "2023-11-19 12:13:07.504918 abalone9_18\n",
      "2023-11-19 12:13:09.027432 winequality-red-3_vs_5\n"
     ]
    }
   ],
   "source": [
    "results = evaluate_classification(\n",
    "    datasets=binclas_datasets,\n",
    "    estimator=OperatorRandomForestClassifier,\n",
    "    params=[{'random_state': 5, 'operator': '<'}, {'random_state': 5, 'operator': '<='}],\n",
    "    validator_params={'n_splits': n_splits, 'n_repeats': n_repeats, 'random_state': 5},\n",
    "    random_state=5\n",
    ")\n",
    "results.to_csv('effect_presence_rfc.csv')"
   ]
  },
  {
   "cell_type": "code",
   "execution_count": 5,
   "metadata": {},
   "outputs": [
    {
     "name": "stdout",
     "output_type": "stream",
     "text": [
      "2023-11-19 12:13:10.843799 diabetes\n",
      "2023-11-19 12:13:11.733517 o-ring\n",
      "2023-11-19 12:13:13.658832 stock_portfolio_performance\n",
      "2023-11-19 12:13:14.561124 wsn-ale\n",
      "2023-11-19 12:13:15.631763 daily-demand\n",
      "2023-11-19 12:13:16.543776 slump_test\n",
      "2023-11-19 12:13:17.584782 servo\n",
      "2023-11-19 12:13:18.528835 yacht_hydrodynamics\n",
      "2023-11-19 12:13:19.806896 autoMPG6\n",
      "2023-11-19 12:13:21.344635 excitation_current\n",
      "2023-11-19 12:13:22.918849 real_estate_valuation\n",
      "2023-11-19 12:13:24.748180 wankara\n",
      "2023-11-19 12:13:26.796870 plastic\n",
      "2023-11-19 12:13:29.622746 laser\n",
      "2023-11-19 12:13:32.339170 qsar-aquatic-toxicity\n",
      "2023-11-19 12:13:34.712605 baseball\n",
      "2023-11-19 12:13:37.209113 maternal_health_risk\n",
      "2023-11-19 12:13:39.435479 cpu_performance\n",
      "2023-11-19 12:13:40.724789 airfoil\n",
      "2023-11-19 12:13:43.594598 medical_cost\n"
     ]
    }
   ],
   "source": [
    "results = evaluate_regression(\n",
    "    datasets=regr_datasets,\n",
    "    estimator=OperatorRandomForestRegressor,\n",
    "    params=[{'random_state': 5, 'operator': '<'}, {'random_state': 5, 'operator': '<='}],\n",
    "    validator_params={'n_splits': n_splits, 'n_repeats': n_repeats, 'random_state': 5},\n",
    "    random_state=5\n",
    ")\n",
    "results.to_csv('effect_presence_rfr.csv')"
   ]
  }
 ],
 "metadata": {
  "kernelspec": {
   "display_name": "splitting-bias",
   "language": "python",
   "name": "python3"
  },
  "language_info": {
   "codemirror_mode": {
    "name": "ipython",
    "version": 3
   },
   "file_extension": ".py",
   "mimetype": "text/x-python",
   "name": "python",
   "nbconvert_exporter": "python",
   "pygments_lexer": "ipython3",
   "version": "3.10.13"
  }
 },
 "nbformat": 4,
 "nbformat_minor": 2
}
